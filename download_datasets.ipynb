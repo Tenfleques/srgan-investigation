{
 "cells": [
  {
   "cell_type": "code",
   "execution_count": 1,
   "metadata": {},
   "outputs": [],
   "source": [
    "import os"
   ]
  },
  {
   "cell_type": "code",
   "execution_count": 2,
   "metadata": {},
   "outputs": [],
   "source": [
    "from modelarts.session import Session\n",
    "session = Session() "
   ]
  },
  {
   "cell_type": "code",
   "execution_count": 4,
   "metadata": {},
   "outputs": [],
   "source": [
    "!mkdir DIV2"
   ]
  },
  {
   "cell_type": "code",
   "execution_count": 5,
   "metadata": {},
   "outputs": [
    {
     "name": "stdout",
     "output_type": "stream",
     "text": [
      "Successfully download file cv-course-public/coding 3/datasets/high resolution images/DIV2K_valid_HR.zip from OBS to local ./DIV2/DIV2K_valid_HR.zip\n",
      "Successfully download file cv-course-public/coding 3/datasets/high resolution images/DIV2K_train_HR.zip from OBS to local ./DIV2/DIV2K_train_HR.zip\n"
     ]
    }
   ],
   "source": [
    "bucket_path=\"cv-course-public/coding 3/datasets/high resolution images/DIV2K_valid_HR.zip\" \n",
    "session.download_data(bucket_path=bucket_path, path=\"./DIV2/DIV2K_valid_HR.zip\")\n",
    "\n",
    "bucket_path=\"cv-course-public/coding 3/datasets/high resolution images/DIV2K_train_HR.zip\" \n",
    "session.download_data(bucket_path=bucket_path, path=\"./DIV2/DIV2K_train_HR.zip\")\n",
    "\n",
    "\n",
    "\n"
   ]
  },
  {
   "cell_type": "code",
   "execution_count": 6,
   "metadata": {},
   "outputs": [
    {
     "name": "stdout",
     "output_type": "stream",
     "text": [
      "Successfully download file cv-course-public/coding 3/datasets/ntire 2008-low res images/DIV2K_valid_LR_wild.zip from OBS to local ./DIV2/DIV2K_valid_LR_wild.zip\n",
      "Successfully download file cv-course-public/coding 3/datasets/ntire 2008-low res images/DIV2K_valid_LR_mild.zip from OBS to local ./DIV2/DIV2K_valid_LR_mild.zip\n",
      "Successfully download file cv-course-public/coding 3/datasets/ntire 2008-low res images/DIV2K_valid_LR_difficult.zip from OBS to local ./DIV2/DIV2K_valid_LR_difficult.zip\n"
     ]
    }
   ],
   "source": [
    "bucket_path=\"cv-course-public/coding 3/datasets/ntire 2008-low res images/DIV2K_valid_LR_wild.zip\" \n",
    "session.download_data(bucket_path=bucket_path, path=\"./DIV2/DIV2K_valid_LR_wild.zip\")\n",
    "\n",
    "bucket_path=\"cv-course-public/coding 3/datasets/ntire 2008-low res images/DIV2K_valid_LR_mild.zip\" \n",
    "session.download_data(bucket_path=bucket_path, path=\"./DIV2/DIV2K_valid_LR_mild.zip\")\n",
    "\n",
    "bucket_path=\"cv-course-public/coding 3/datasets/ntire 2008-low res images/DIV2K_valid_LR_difficult.zip\" \n",
    "session.download_data(bucket_path=bucket_path, path=\"./DIV2/DIV2K_valid_LR_difficult.zip\")"
   ]
  },
  {
   "cell_type": "code",
   "execution_count": null,
   "metadata": {},
   "outputs": [],
   "source": [
    "os.chdir(\"DIV2K\")\n",
    "\n",
    "!unzip DIV2K_train_HR.zip\n",
    "!unzip DIV2K_valid_HR.zip\n",
    "\n",
    "os.chdir(\"../\")"
   ]
  }
 ],
 "metadata": {
  "kernelspec": {
   "display_name": "TensorFlow-1.8",
   "language": "python",
   "name": "tensorflow-1.8"
  },
  "language_info": {
   "codemirror_mode": {
    "name": "ipython",
    "version": 3
   },
   "file_extension": ".py",
   "mimetype": "text/x-python",
   "name": "python",
   "nbconvert_exporter": "python",
   "pygments_lexer": "ipython3",
   "version": "3.6.4"
  }
 },
 "nbformat": 4,
 "nbformat_minor": 2
}
