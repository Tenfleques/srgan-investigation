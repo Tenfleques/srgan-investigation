{
 "cells": [
  {
   "cell_type": "markdown",
   "metadata": {
    "scrolled": true
   },
   "source": [
    "!pip install -r requirements.txt"
   ]
  },
  {
   "cell_type": "markdown",
   "metadata": {},
   "source": [
    "!pip install --upgrade pip "
   ]
  },
  {
   "cell_type": "markdown",
   "metadata": {},
   "source": [
    "!pip uninstall -y PyWavelets\n",
    "!pip install PyWavelets"
   ]
  },
  {
   "cell_type": "markdown",
   "metadata": {},
   "source": [
    "!pip uninstall -y Pillow\n",
    "!pip install Pillow"
   ]
  },
  {
   "cell_type": "code",
   "execution_count": 1,
   "metadata": {},
   "outputs": [],
   "source": [
    "import os\n",
    "import time\n",
    "import random\n",
    "import numpy as np\n",
    "import scipy, multiprocessing\n",
    "import tensorflow as tf\n",
    "import tensorlayer as tl\n",
    "from model import get_G, get_D\n",
    "from config import config\n",
    "from PIL import Image\n",
    "\n",
    "import math\n",
    "from random import randrange\n",
    "\n",
    "import pandas as pd\n",
    "\n",
    "import matplotlib.pyplot as plt\n",
    "\n",
    "from skimage import img_as_float\n",
    "from skimage.measure import compare_ssim as ssim, compare_psnr as psnr\n",
    "\n",
    "import json"
   ]
  },
  {
   "cell_type": "markdown",
   "metadata": {},
   "source": [
    "def evaluate(checkpoint_dir, model, valid_lr_img, valid_hr_img, image_name, G = None, save_dir = \"validation-samples\"):\n",
    "\n",
    "    os.makedirs(save_dir, exist_ok=True)\n",
    "    \n",
    "    valid_lr_img = (valid_lr_img / 127.5) - 1  # rescale to ［－1, 1]\n",
    "\n",
    "    if not G:\n",
    "        G = get_G([1, None, None, 3])\n",
    "        G.load_weights(os.path.join(checkpoint_dir, model))\n",
    "        G.eval()\n",
    "\n",
    "    valid_lr_img = np.asarray(valid_lr_img, dtype=np.float32)\n",
    "    valid_lr_img = valid_lr_img[np.newaxis,:,:,:]\n",
    "    size = [valid_lr_img.shape[1], valid_lr_img.shape[2]]\n",
    "\n",
    "    out = G(valid_lr_img).numpy()\n",
    "    \n",
    "    model_num = model.replace(\".h5\",\"\").split(\"-\")[1]\n",
    "\n",
    "    print(\"LR size: %s /  generated HR size: %s\" % (size, out.shape))  # LR size: (339, 510, 3) /  gen HR size: (1, 1356, 2040, 3)\n",
    "    \n",
    "    if not os.path.isfile('sr-' + model_num + \"-\" + image_name):\n",
    "        tl.vis.save_image(out[0], os.path.join(save_dir, 'sr-' + model_num + \"-\" + image_name))\n",
    "\n",
    "        out_bicu = scipy.misc.imresize(valid_lr_img[0], [size[0] * 4, size[1] * 4], interp='bicubic', mode=None)\n",
    "        tl.vis.save_image(out_bicu, os.path.join(save_dir, 'bic-' + model_num + \"-\" + image_name))\n",
    "\n",
    "    sr_smaller = tf.image.resize(out[0], size=size)\n",
    "    hr_smaller = tf.image.resize(valid_hr_img, size=size)\n",
    "\n",
    "    validate = {\n",
    "        \"sr\" : out[0],\n",
    "        \"sr_resized\" : sr_smaller.numpy(),\n",
    "        \n",
    "        \"lr\" : valid_lr_img[0],\n",
    "        \"bic\" : out_bicu,\n",
    "        \n",
    "        \"hr\" : valid_hr_img, \n",
    "        \"hr_resized\" : hr_smaller.numpy(),\n",
    "    }\n",
    "    \n",
    "    data = {\n",
    "        \"G\" : G,\n",
    "        \n",
    "        \"model\" : model,\n",
    "\n",
    "        \"psnr_lr\" : psnr( validate.get(\"lr\"),  validate.get(\"sr_resized\")),\n",
    "        \"ssim_lr\" : ssim(validate.get(\"lr\"),  validate.get(\"sr_resized\"), multichannel=True),\n",
    "\n",
    "        \"psnr_hr_4\" : psnr( validate.get(\"hr_resized\"),  validate.get(\"sr_resized\"), data_range = 255),\n",
    "        \"ssim_hr_4\" : ssim(validate.get(\"hr_resized\"),  validate.get(\"sr_resized\"), multichannel=True),\n",
    "        \n",
    "        \"psnr_hr\" : psnr( validate.get(\"hr\"),  validate.get(\"sr\")),\n",
    "        \"ssim_hr\" : ssim(validate.get(\"hr\"),  validate.get(\"sr\"), multichannel=True),\n",
    "\n",
    "        \"psnr_bic_hr\" : psnr( validate.get(\"hr\"),  validate.get(\"bic\")),\n",
    "        \"ssim_bic_hr\" : ssim( validate.get(\"hr\"),  validate.get(\"bic\"), multichannel=True),\n",
    "    }\n",
    "    return data\n",
    "       "
   ]
  },
  {
   "cell_type": "code",
   "execution_count": 2,
   "metadata": {},
   "outputs": [],
   "source": [
    "def evaluate_downsample(checkpoint_dir, model, valid_hr_img, image_name, G = None, save_dir = \"validation-ds-samples\"):\n",
    "\n",
    "    os.makedirs(save_dir, exist_ok=True)\n",
    "    \n",
    "    size = [int(valid_hr_img.shape[0]/4), int(valid_hr_img.shape[1]/4)]\n",
    "    \n",
    "    hr_smaller = tf.image.resize(valid_hr_img, size=size)\n",
    "    \n",
    "    valid_lr_img = (hr_smaller / 127.5) - 1  # rescale to ［－1, 1]\n",
    "\n",
    "    if not G:\n",
    "        G = get_G([1, None, None, 3])\n",
    "        G.load_weights(os.path.join(checkpoint_dir, model))\n",
    "        G.eval()\n",
    "\n",
    "    valid_lr_img = np.asarray(valid_lr_img, dtype=np.float32)\n",
    "    valid_lr_img = valid_lr_img[np.newaxis,:,:,:]\n",
    "    \n",
    "\n",
    "    out = G(valid_lr_img).numpy()\n",
    "    \n",
    "    model_num = model.replace(\".h5\",\"\").split(\"-\")[1]\n",
    "\n",
    "    print(\"LR size: %s /  generated HR size: %s\" % (size, out.shape))  # LR size: (339, 510, 3) /  gen HR size: (1, 1356, 2040, 3)\n",
    "    \n",
    "    if not os.path.isfile('sr-' + model_num + \"-\" + image_name):\n",
    "        tl.vis.save_image(out[0], os.path.join(save_dir, 'sr-' + model_num + \"-\" + image_name))\n",
    "\n",
    "        out_bicu = scipy.misc.imresize(valid_lr_img[0], [size[0] * 4, size[1] * 4], interp='bicubic', mode=None)\n",
    "        tl.vis.save_image(out_bicu, os.path.join(save_dir, 'bic-' + model_num + \"-\" + image_name))\n",
    "\n",
    "    sr_smaller = tf.image.resize(out[0], size=size)\n",
    "    \n",
    "\n",
    "    validate = {\n",
    "        \"sr\" : out[0],\n",
    "        \"sr_resized\" : sr_smaller.numpy(),\n",
    "        \n",
    "        \"lr\" : valid_lr_img[0],\n",
    "        \"bic\" : out_bicu,\n",
    "        \n",
    "        \"hr\" : valid_hr_img, \n",
    "        \"hr_resized\" : hr_smaller.numpy(),\n",
    "    }\n",
    "    \n",
    "    data = {\n",
    "        \"G\" : G,\n",
    "        \n",
    "        \"model\" : model,\n",
    "\n",
    "        \"psnr_lr\" : psnr( validate.get(\"lr\"),  validate.get(\"sr_resized\")),\n",
    "        \"ssim_lr\" : ssim(validate.get(\"lr\"),  validate.get(\"sr_resized\"), multichannel=True),\n",
    "\n",
    "        \"psnr_hr_4\" : psnr( validate.get(\"hr_resized\"),  validate.get(\"sr_resized\"), data_range = 255),\n",
    "        \"ssim_hr_4\" : ssim(validate.get(\"hr_resized\"),  validate.get(\"sr_resized\"), multichannel=True),\n",
    "        \n",
    "        \"psnr_hr\" : psnr( validate.get(\"hr\"),  validate.get(\"sr\")),\n",
    "        \"ssim_hr\" : ssim(validate.get(\"hr\"),  validate.get(\"sr\"), multichannel=True),\n",
    "\n",
    "        \"psnr_bic_hr\" : psnr( validate.get(\"hr\"),  validate.get(\"bic\")),\n",
    "        \"ssim_bic_hr\" : ssim( validate.get(\"hr\"),  validate.get(\"bic\"), multichannel=True),\n",
    "    }\n",
    "    return data\n",
    "       "
   ]
  },
  {
   "cell_type": "code",
   "execution_count": 3,
   "metadata": {},
   "outputs": [
    {
     "name": "stdout",
     "output_type": "stream",
     "text": [
      "[TL] read 32 from DIV2K/DIV2K_valid_LR_difficult/\n",
      "[TL] read 64 from DIV2K/DIV2K_valid_LR_difficult/\n",
      "[TL] read 96 from DIV2K/DIV2K_valid_LR_difficult/\n",
      "[TL] read 100 from DIV2K/DIV2K_valid_LR_difficult/\n",
      "[TL] read 32 from DIV2K/DIV2K_valid_HR/\n",
      "[TL] read 64 from DIV2K/DIV2K_valid_HR/\n",
      "[TL] read 96 from DIV2K/DIV2K_valid_HR/\n",
      "[TL] read 100 from DIV2K/DIV2K_valid_HR/\n"
     ]
    }
   ],
   "source": [
    "###====================== PRE-LOAD DATA ===========================###\n",
    "valid_hr_img_list = sorted(tl.files.load_file_list(path=config.VALID.hr_img_path, regx='.*.png', printable=False))\n",
    "valid_lr_img_list = sorted(tl.files.load_file_list(path=config.VALID.lr_img_path, regx='.*.png', printable=False))\n",
    "\n",
    "valid_lr_imgs = tl.vis.read_images(valid_lr_img_list, path=config.VALID.lr_img_path, n_threads=32)\n",
    "\n",
    "valid_hr_imgs = tl.vis.read_images(valid_hr_img_list, path=config.VALID.hr_img_path, n_threads=32)"
   ]
  },
  {
   "cell_type": "code",
   "execution_count": 4,
   "metadata": {},
   "outputs": [],
   "source": [
    "def createPyPlot(validate_data, resized = True):\n",
    "\n",
    "\n",
    "    label = 'SSIM: {:.2f}, sk_psnr:{:.2f} PSNR: {:.2f}'\n",
    "\n",
    "    if resized: # show the images at size == the size of the input LR image\n",
    "        fig, axes = plt.subplots(nrows=1, ncols=4, figsize=(17, 12),\n",
    "                             sharex=True, sharey=True)\n",
    "        ax = axes.ravel()\n",
    "        \n",
    "        ax[0].imshow(validate_data.get(\"images\").get(\"lr\"))\n",
    "        ax[0].set_xlabel(label.format(1.00, 100.0, 100.0))\n",
    "        ax[0].set_title('valid LR image')\n",
    "        \n",
    "        ax[1].imshow(validate_data.get(\"images\").get(\"sr_resized\"))\n",
    "        ax[1].set_xlabel(label.format(validate_data.get(\"ssim_lr\"), validate_data.get(\"psnr_lr\"), validate_data.get(\"PSNR_lr\")))\n",
    "        ax[1].set_title('generated image resized *-4 vs LR image')\n",
    "        \n",
    "        ax[2].imshow(validate_data.get(\"images\").get(\"hr_resized\"))\n",
    "        ax[2].set_xlabel(label.format(1.00, 100.0, 100.0))\n",
    "        ax[2].set_title('valid HR resized *-4')      \n",
    "        \n",
    "        ax[3].imshow(validate_data.get(\"images\").get(\"sr_resized\"))\n",
    "        ax[3].set_xlabel(label.format(validate_data.get(\"ssim_hr_4\"), validate_data.get(\"psnr_hr_4\"), validate_data.get(\"PSNR_hr_4\")))\n",
    "        ax[3].set_title('generated image resized *-4 vs HR resized')\n",
    "        \n",
    "    else: \n",
    "        \n",
    "        fig, axes = plt.subplots(nrows=1, ncols=3, figsize=(17, 12),\n",
    "                             sharex=True, sharey=True)\n",
    "        ax = axes.ravel()\n",
    "    \n",
    "        ax[0].imshow(validate_data.get(\"images\").get(\"hr\"))\n",
    "        ax[0].set_xlabel(label.format(1.00, 100.0, 100.0))\n",
    "        ax[0].set_title('valid HR image')\n",
    "\n",
    "        ax[1].imshow(validate_data.get(\"images\").get(\"bic\"))\n",
    "        ax[1].set_xlabel(label.format(validate_data.get(\"ssim_bic_hr\"), validate_data.get(\"psnr_bic_hr\"), validate_data.get(\"PSNR_bic_hr\")))\n",
    "        ax[1].set_title('bicubic interpolation *4 vs HR')\n",
    "\n",
    "        ax[2].imshow(validate_data.get(\"images\").get(\"sr\"))\n",
    "        ax[2].set_xlabel(label.format(validate_data.get(\"ssim_hr\"), validate_data.get(\"psnr_hr\"), validate_data.get(\"PSNR_bic_hr\")))\n",
    "        ax[2].set_title('generated image vs HR')\n",
    "    \n",
    "    plt.tight_layout()\n",
    "    plt.show()"
   ]
  },
  {
   "cell_type": "code",
   "execution_count": 5,
   "metadata": {},
   "outputs": [],
   "source": [
    "def compare_models_names(a):\n",
    "    return int(a.replace(\".h5\",\"\").split(\"-\")[1])"
   ]
  },
  {
   "cell_type": "code",
   "execution_count": 6,
   "metadata": {},
   "outputs": [
    {
     "data": {
      "text/plain": [
       "[97, 18, 51]"
      ]
     },
     "execution_count": 6,
     "metadata": {},
     "output_type": "execute_result"
    }
   ],
   "source": [
    "def rand_three(l):\n",
    "    return [i for i in set((randrange(l), randrange(l), randrange(l), randrange(l), randrange(l)))][:3]\n",
    "\n",
    "rand_three(100)"
   ]
  },
  {
   "cell_type": "code",
   "execution_count": 7,
   "metadata": {},
   "outputs": [
    {
     "data": {
      "text/html": [
       "<div>\n",
       "<style scoped>\n",
       "    .dataframe tbody tr th:only-of-type {\n",
       "        vertical-align: middle;\n",
       "    }\n",
       "\n",
       "    .dataframe tbody tr th {\n",
       "        vertical-align: top;\n",
       "    }\n",
       "\n",
       "    .dataframe thead th {\n",
       "        text-align: right;\n",
       "    }\n",
       "</style>\n",
       "<table border=\"1\" class=\"dataframe\">\n",
       "  <thead>\n",
       "    <tr style=\"text-align: right;\">\n",
       "      <th></th>\n",
       "      <th>0</th>\n",
       "    </tr>\n",
       "  </thead>\n",
       "  <tbody>\n",
       "    <tr>\n",
       "      <th>0</th>\n",
       "      <td>g-10.h5</td>\n",
       "    </tr>\n",
       "    <tr>\n",
       "      <th>1</th>\n",
       "      <td>g-20.h5</td>\n",
       "    </tr>\n",
       "    <tr>\n",
       "      <th>2</th>\n",
       "      <td>g-30.h5</td>\n",
       "    </tr>\n",
       "    <tr>\n",
       "      <th>3</th>\n",
       "      <td>g-40.h5</td>\n",
       "    </tr>\n",
       "    <tr>\n",
       "      <th>4</th>\n",
       "      <td>g-50.h5</td>\n",
       "    </tr>\n",
       "  </tbody>\n",
       "</table>\n",
       "</div>"
      ],
      "text/plain": [
       "         0\n",
       "0  g-10.h5\n",
       "1  g-20.h5\n",
       "2  g-30.h5\n",
       "3  g-40.h5\n",
       "4  g-50.h5"
      ]
     },
     "execution_count": 7,
     "metadata": {},
     "output_type": "execute_result"
    }
   ],
   "source": [
    "models = sorted(tl.files.load_file_list(path=\"checkpoint\", regx='g-[0-9]+\\.(h5)', printable=False), key=compare_models_names)\n",
    "pd.DataFrame(models).head()"
   ]
  },
  {
   "cell_type": "code",
   "execution_count": 8,
   "metadata": {},
   "outputs": [],
   "source": [
    "G = None"
   ]
  },
  {
   "cell_type": "markdown",
   "metadata": {
    "scrolled": true
   },
   "source": [
    "l = len(valid_hr_img_list)\n",
    "\n",
    "for image in rand_three(l):\n",
    "    validate_array = []\n",
    "    for model in models:\n",
    "        valid_lr_img = valid_lr_imgs[image]\n",
    "        valid_hr_img = valid_hr_imgs[image]\n",
    "        image_name = valid_hr_img_list[image]\n",
    "        \n",
    "        ev = evaluate(\"checkpoint\", model, valid_lr_img, valid_hr_img, image_name, G = G)\n",
    "        \n",
    "        G = ev.pop(\"G\", G)\n",
    "        validate_array.append(ev) \n",
    "        \n",
    "    with open(\"logs/\" + image_name + \".json\", mode='w', encoding='utf-8') as f:\n",
    "        json.dump(validate_array, f)\n",
    "    "
   ]
  },
  {
   "cell_type": "code",
   "execution_count": 9,
   "metadata": {},
   "outputs": [
    {
     "name": "stdout",
     "output_type": "stream",
     "text": [
      "[TL] Input  _inputlayer_1: [1, None, None, 3]\n",
      "[TL] Conv2d conv2d_1: n_filter: 64 filter_size: (3, 3) strides: (1, 1) pad: SAME act: relu\n",
      "[TL] Conv2d conv2d_2: n_filter: 64 filter_size: (3, 3) strides: (1, 1) pad: SAME act: No Activation\n",
      "[TL] BatchNorm batchnorm2d_1: decay: 0.900000 epsilon: 0.000010 act: relu is_train: False\n",
      "[TL] Conv2d conv2d_3: n_filter: 64 filter_size: (3, 3) strides: (1, 1) pad: SAME act: No Activation\n",
      "[TL] BatchNorm batchnorm2d_2: decay: 0.900000 epsilon: 0.000010 act: No Activation is_train: False\n",
      "[TL] Elementwise elementwise_1: fn: add act: No Activation\n",
      "[TL] Conv2d conv2d_4: n_filter: 64 filter_size: (3, 3) strides: (1, 1) pad: SAME act: No Activation\n",
      "[TL] BatchNorm batchnorm2d_3: decay: 0.900000 epsilon: 0.000010 act: relu is_train: False\n",
      "[TL] Conv2d conv2d_5: n_filter: 64 filter_size: (3, 3) strides: (1, 1) pad: SAME act: No Activation\n",
      "[TL] BatchNorm batchnorm2d_4: decay: 0.900000 epsilon: 0.000010 act: No Activation is_train: False\n",
      "[TL] Elementwise elementwise_2: fn: add act: No Activation\n",
      "[TL] Conv2d conv2d_6: n_filter: 64 filter_size: (3, 3) strides: (1, 1) pad: SAME act: No Activation\n",
      "[TL] BatchNorm batchnorm2d_5: decay: 0.900000 epsilon: 0.000010 act: relu is_train: False\n",
      "[TL] Conv2d conv2d_7: n_filter: 64 filter_size: (3, 3) strides: (1, 1) pad: SAME act: No Activation\n",
      "[TL] BatchNorm batchnorm2d_6: decay: 0.900000 epsilon: 0.000010 act: No Activation is_train: False\n",
      "[TL] Elementwise elementwise_3: fn: add act: No Activation\n",
      "[TL] Conv2d conv2d_8: n_filter: 64 filter_size: (3, 3) strides: (1, 1) pad: SAME act: No Activation\n",
      "[TL] BatchNorm batchnorm2d_7: decay: 0.900000 epsilon: 0.000010 act: relu is_train: False\n",
      "[TL] Conv2d conv2d_9: n_filter: 64 filter_size: (3, 3) strides: (1, 1) pad: SAME act: No Activation\n",
      "[TL] BatchNorm batchnorm2d_8: decay: 0.900000 epsilon: 0.000010 act: No Activation is_train: False\n",
      "[TL] Elementwise elementwise_4: fn: add act: No Activation\n",
      "[TL] Conv2d conv2d_10: n_filter: 64 filter_size: (3, 3) strides: (1, 1) pad: SAME act: No Activation\n",
      "[TL] BatchNorm batchnorm2d_9: decay: 0.900000 epsilon: 0.000010 act: relu is_train: False\n",
      "[TL] Conv2d conv2d_11: n_filter: 64 filter_size: (3, 3) strides: (1, 1) pad: SAME act: No Activation\n",
      "[TL] BatchNorm batchnorm2d_10: decay: 0.900000 epsilon: 0.000010 act: No Activation is_train: False\n",
      "[TL] Elementwise elementwise_5: fn: add act: No Activation\n",
      "[TL] Conv2d conv2d_12: n_filter: 64 filter_size: (3, 3) strides: (1, 1) pad: SAME act: No Activation\n",
      "[TL] BatchNorm batchnorm2d_11: decay: 0.900000 epsilon: 0.000010 act: relu is_train: False\n",
      "[TL] Conv2d conv2d_13: n_filter: 64 filter_size: (3, 3) strides: (1, 1) pad: SAME act: No Activation\n",
      "[TL] BatchNorm batchnorm2d_12: decay: 0.900000 epsilon: 0.000010 act: No Activation is_train: False\n",
      "[TL] Elementwise elementwise_6: fn: add act: No Activation\n",
      "[TL] Conv2d conv2d_14: n_filter: 64 filter_size: (3, 3) strides: (1, 1) pad: SAME act: No Activation\n",
      "[TL] BatchNorm batchnorm2d_13: decay: 0.900000 epsilon: 0.000010 act: relu is_train: False\n",
      "[TL] Conv2d conv2d_15: n_filter: 64 filter_size: (3, 3) strides: (1, 1) pad: SAME act: No Activation\n",
      "[TL] BatchNorm batchnorm2d_14: decay: 0.900000 epsilon: 0.000010 act: No Activation is_train: False\n",
      "[TL] Elementwise elementwise_7: fn: add act: No Activation\n",
      "[TL] Conv2d conv2d_16: n_filter: 64 filter_size: (3, 3) strides: (1, 1) pad: SAME act: No Activation\n",
      "[TL] BatchNorm batchnorm2d_15: decay: 0.900000 epsilon: 0.000010 act: relu is_train: False\n",
      "[TL] Conv2d conv2d_17: n_filter: 64 filter_size: (3, 3) strides: (1, 1) pad: SAME act: No Activation\n",
      "[TL] BatchNorm batchnorm2d_16: decay: 0.900000 epsilon: 0.000010 act: No Activation is_train: False\n",
      "[TL] Elementwise elementwise_8: fn: add act: No Activation\n",
      "[TL] Conv2d conv2d_18: n_filter: 64 filter_size: (3, 3) strides: (1, 1) pad: SAME act: No Activation\n",
      "[TL] BatchNorm batchnorm2d_17: decay: 0.900000 epsilon: 0.000010 act: relu is_train: False\n",
      "[TL] Conv2d conv2d_19: n_filter: 64 filter_size: (3, 3) strides: (1, 1) pad: SAME act: No Activation\n",
      "[TL] BatchNorm batchnorm2d_18: decay: 0.900000 epsilon: 0.000010 act: No Activation is_train: False\n",
      "[TL] Elementwise elementwise_9: fn: add act: No Activation\n",
      "[TL] Conv2d conv2d_20: n_filter: 64 filter_size: (3, 3) strides: (1, 1) pad: SAME act: No Activation\n",
      "[TL] BatchNorm batchnorm2d_19: decay: 0.900000 epsilon: 0.000010 act: relu is_train: False\n",
      "[TL] Conv2d conv2d_21: n_filter: 64 filter_size: (3, 3) strides: (1, 1) pad: SAME act: No Activation\n",
      "[TL] BatchNorm batchnorm2d_20: decay: 0.900000 epsilon: 0.000010 act: No Activation is_train: False\n",
      "[TL] Elementwise elementwise_10: fn: add act: No Activation\n",
      "[TL] Conv2d conv2d_22: n_filter: 64 filter_size: (3, 3) strides: (1, 1) pad: SAME act: No Activation\n",
      "[TL] BatchNorm batchnorm2d_21: decay: 0.900000 epsilon: 0.000010 act: relu is_train: False\n",
      "[TL] Conv2d conv2d_23: n_filter: 64 filter_size: (3, 3) strides: (1, 1) pad: SAME act: No Activation\n",
      "[TL] BatchNorm batchnorm2d_22: decay: 0.900000 epsilon: 0.000010 act: No Activation is_train: False\n",
      "[TL] Elementwise elementwise_11: fn: add act: No Activation\n",
      "[TL] Conv2d conv2d_24: n_filter: 64 filter_size: (3, 3) strides: (1, 1) pad: SAME act: No Activation\n",
      "[TL] BatchNorm batchnorm2d_23: decay: 0.900000 epsilon: 0.000010 act: relu is_train: False\n",
      "[TL] Conv2d conv2d_25: n_filter: 64 filter_size: (3, 3) strides: (1, 1) pad: SAME act: No Activation\n",
      "[TL] BatchNorm batchnorm2d_24: decay: 0.900000 epsilon: 0.000010 act: No Activation is_train: False\n",
      "[TL] Elementwise elementwise_12: fn: add act: No Activation\n",
      "[TL] Conv2d conv2d_26: n_filter: 64 filter_size: (3, 3) strides: (1, 1) pad: SAME act: No Activation\n",
      "[TL] BatchNorm batchnorm2d_25: decay: 0.900000 epsilon: 0.000010 act: relu is_train: False\n",
      "[TL] Conv2d conv2d_27: n_filter: 64 filter_size: (3, 3) strides: (1, 1) pad: SAME act: No Activation\n",
      "[TL] BatchNorm batchnorm2d_26: decay: 0.900000 epsilon: 0.000010 act: No Activation is_train: False\n",
      "[TL] Elementwise elementwise_13: fn: add act: No Activation\n",
      "[TL] Conv2d conv2d_28: n_filter: 64 filter_size: (3, 3) strides: (1, 1) pad: SAME act: No Activation\n",
      "[TL] BatchNorm batchnorm2d_27: decay: 0.900000 epsilon: 0.000010 act: relu is_train: False\n",
      "[TL] Conv2d conv2d_29: n_filter: 64 filter_size: (3, 3) strides: (1, 1) pad: SAME act: No Activation\n",
      "[TL] BatchNorm batchnorm2d_28: decay: 0.900000 epsilon: 0.000010 act: No Activation is_train: False\n",
      "[TL] Elementwise elementwise_14: fn: add act: No Activation\n",
      "[TL] Conv2d conv2d_30: n_filter: 64 filter_size: (3, 3) strides: (1, 1) pad: SAME act: No Activation\n",
      "[TL] BatchNorm batchnorm2d_29: decay: 0.900000 epsilon: 0.000010 act: relu is_train: False\n",
      "[TL] Conv2d conv2d_31: n_filter: 64 filter_size: (3, 3) strides: (1, 1) pad: SAME act: No Activation\n",
      "[TL] BatchNorm batchnorm2d_30: decay: 0.900000 epsilon: 0.000010 act: No Activation is_train: False\n",
      "[TL] Elementwise elementwise_15: fn: add act: No Activation\n",
      "[TL] Conv2d conv2d_32: n_filter: 64 filter_size: (3, 3) strides: (1, 1) pad: SAME act: No Activation\n",
      "[TL] BatchNorm batchnorm2d_31: decay: 0.900000 epsilon: 0.000010 act: relu is_train: False\n",
      "[TL] Conv2d conv2d_33: n_filter: 64 filter_size: (3, 3) strides: (1, 1) pad: SAME act: No Activation\n",
      "[TL] BatchNorm batchnorm2d_32: decay: 0.900000 epsilon: 0.000010 act: No Activation is_train: False\n",
      "[TL] Elementwise elementwise_16: fn: add act: No Activation\n",
      "[TL] Conv2d conv2d_34: n_filter: 64 filter_size: (3, 3) strides: (1, 1) pad: SAME act: No Activation\n",
      "[TL] BatchNorm batchnorm2d_33: decay: 0.900000 epsilon: 0.000010 act: No Activation is_train: False\n",
      "[TL] Elementwise elementwise_17: fn: add act: No Activation\n",
      "[TL] Conv2d conv2d_35: n_filter: 256 filter_size: (3, 3) strides: (1, 1) pad: SAME act: No Activation\n",
      "[TL] SubpixelConv2d  subpixelconv2d_1: scale: 2 act: relu\n",
      "[TL] Conv2d conv2d_36: n_filter: 256 filter_size: (3, 3) strides: (1, 1) pad: SAME act: No Activation\n",
      "[TL] SubpixelConv2d  subpixelconv2d_2: scale: 2 act: relu\n",
      "[TL] Conv2d conv2d_37: n_filter: 3 filter_size: (1, 1) strides: (1, 1) pad: SAME act: tanh\n",
      "[TL] [*] Load checkpoint/g-10.h5 SUCCESS!\n"
     ]
    },
    {
     "name": "stderr",
     "output_type": "stream",
     "text": [
      "Lossy conversion from float32 to uint8. Range [-0.9263733625411987, 0.9781520366668701]. Convert image to uint8 prior to saving to suppress this warning.\n"
     ]
    },
    {
     "name": "stdout",
     "output_type": "stream",
     "text": [
      "LR size: [339, 510] /  generated HR size: (1, 1356, 2040, 3)\n"
     ]
    },
    {
     "name": "stderr",
     "output_type": "stream",
     "text": [
      "/home/ma-user/anaconda3/lib/python3.6/site-packages/ipykernel/__main__.py:29: DeprecationWarning: `imresize` is deprecated!\n",
      "`imresize` is deprecated in SciPy 1.0.0, and will be removed in 1.3.0.\n",
      "Use Pillow instead: ``numpy.array(Image.fromarray(arr).resize())``.\n",
      "/home/ma-user/anaconda3/lib/python3.6/site-packages/skimage/measure/simple_metrics.py:127: UserWarning: Inputs have mismatched dtype.  Setting data_range based on im_true.\n",
      "  warn(\"Inputs have mismatched dtype.  Setting data_range based on \"\n",
      "/home/ma-user/anaconda3/lib/python3.6/site-packages/skimage/measure/_structural_similarity.py:155: UserWarning: Inputs have mismatched dtype.  Setting data_range based on X.dtype.\n",
      "  warn(\"Inputs have mismatched dtype.  Setting data_range based on \"\n",
      "Lossy conversion from float32 to uint8. Range [-0.9263733625411987, 0.9781520366668701]. Convert image to uint8 prior to saving to suppress this warning.\n"
     ]
    },
    {
     "name": "stdout",
     "output_type": "stream",
     "text": [
      "LR size: [339, 510] /  generated HR size: (1, 1356, 2040, 3)\n"
     ]
    },
    {
     "name": "stderr",
     "output_type": "stream",
     "text": [
      "Lossy conversion from float32 to uint8. Range [-0.9263733625411987, 0.9781520366668701]. Convert image to uint8 prior to saving to suppress this warning.\n"
     ]
    },
    {
     "name": "stdout",
     "output_type": "stream",
     "text": [
      "LR size: [339, 510] /  generated HR size: (1, 1356, 2040, 3)\n"
     ]
    },
    {
     "name": "stderr",
     "output_type": "stream",
     "text": [
      "Lossy conversion from float32 to uint8. Range [-0.9263733625411987, 0.9781520366668701]. Convert image to uint8 prior to saving to suppress this warning.\n"
     ]
    },
    {
     "name": "stdout",
     "output_type": "stream",
     "text": [
      "LR size: [339, 510] /  generated HR size: (1, 1356, 2040, 3)\n"
     ]
    },
    {
     "name": "stderr",
     "output_type": "stream",
     "text": [
      "Lossy conversion from float32 to uint8. Range [-0.9263733625411987, 0.9781520366668701]. Convert image to uint8 prior to saving to suppress this warning.\n"
     ]
    },
    {
     "name": "stdout",
     "output_type": "stream",
     "text": [
      "LR size: [339, 510] /  generated HR size: (1, 1356, 2040, 3)\n"
     ]
    },
    {
     "name": "stderr",
     "output_type": "stream",
     "text": [
      "Lossy conversion from float32 to uint8. Range [-0.9263733625411987, 0.9781520366668701]. Convert image to uint8 prior to saving to suppress this warning.\n"
     ]
    },
    {
     "name": "stdout",
     "output_type": "stream",
     "text": [
      "LR size: [339, 510] /  generated HR size: (1, 1356, 2040, 3)\n"
     ]
    },
    {
     "name": "stderr",
     "output_type": "stream",
     "text": [
      "Lossy conversion from float32 to uint8. Range [-0.9263733625411987, 0.9781520366668701]. Convert image to uint8 prior to saving to suppress this warning.\n"
     ]
    },
    {
     "name": "stdout",
     "output_type": "stream",
     "text": [
      "LR size: [339, 510] /  generated HR size: (1, 1356, 2040, 3)\n"
     ]
    },
    {
     "name": "stderr",
     "output_type": "stream",
     "text": [
      "Lossy conversion from float32 to uint8. Range [-0.9263733625411987, 0.9781520366668701]. Convert image to uint8 prior to saving to suppress this warning.\n"
     ]
    },
    {
     "name": "stdout",
     "output_type": "stream",
     "text": [
      "LR size: [339, 510] /  generated HR size: (1, 1356, 2040, 3)\n"
     ]
    },
    {
     "name": "stderr",
     "output_type": "stream",
     "text": [
      "Lossy conversion from float32 to uint8. Range [-0.9263733625411987, 0.9781520366668701]. Convert image to uint8 prior to saving to suppress this warning.\n"
     ]
    },
    {
     "name": "stdout",
     "output_type": "stream",
     "text": [
      "LR size: [339, 510] /  generated HR size: (1, 1356, 2040, 3)\n"
     ]
    },
    {
     "name": "stderr",
     "output_type": "stream",
     "text": [
      "Lossy conversion from float32 to uint8. Range [-0.9263733625411987, 0.9781520366668701]. Convert image to uint8 prior to saving to suppress this warning.\n"
     ]
    },
    {
     "name": "stdout",
     "output_type": "stream",
     "text": [
      "LR size: [339, 510] /  generated HR size: (1, 1356, 2040, 3)\n"
     ]
    },
    {
     "name": "stderr",
     "output_type": "stream",
     "text": [
      "Lossy conversion from float32 to uint8. Range [-0.9263733625411987, 0.9781520366668701]. Convert image to uint8 prior to saving to suppress this warning.\n"
     ]
    },
    {
     "name": "stdout",
     "output_type": "stream",
     "text": [
      "LR size: [339, 510] /  generated HR size: (1, 1356, 2040, 3)\n"
     ]
    },
    {
     "name": "stderr",
     "output_type": "stream",
     "text": [
      "Lossy conversion from float32 to uint8. Range [-0.9263733625411987, 0.9781520366668701]. Convert image to uint8 prior to saving to suppress this warning.\n"
     ]
    },
    {
     "name": "stdout",
     "output_type": "stream",
     "text": [
      "LR size: [339, 510] /  generated HR size: (1, 1356, 2040, 3)\n"
     ]
    },
    {
     "name": "stderr",
     "output_type": "stream",
     "text": [
      "Lossy conversion from float32 to uint8. Range [-0.9263733625411987, 0.9781520366668701]. Convert image to uint8 prior to saving to suppress this warning.\n"
     ]
    },
    {
     "name": "stdout",
     "output_type": "stream",
     "text": [
      "LR size: [339, 510] /  generated HR size: (1, 1356, 2040, 3)\n"
     ]
    },
    {
     "name": "stderr",
     "output_type": "stream",
     "text": [
      "Lossy conversion from float32 to uint8. Range [-0.9263733625411987, 0.9781520366668701]. Convert image to uint8 prior to saving to suppress this warning.\n"
     ]
    },
    {
     "name": "stdout",
     "output_type": "stream",
     "text": [
      "LR size: [339, 510] /  generated HR size: (1, 1356, 2040, 3)\n"
     ]
    },
    {
     "name": "stderr",
     "output_type": "stream",
     "text": [
      "Lossy conversion from float32 to uint8. Range [-0.9263733625411987, 0.9781520366668701]. Convert image to uint8 prior to saving to suppress this warning.\n"
     ]
    },
    {
     "name": "stdout",
     "output_type": "stream",
     "text": [
      "LR size: [339, 510] /  generated HR size: (1, 1356, 2040, 3)\n"
     ]
    },
    {
     "name": "stderr",
     "output_type": "stream",
     "text": [
      "Lossy conversion from float32 to uint8. Range [-0.9263733625411987, 0.9781520366668701]. Convert image to uint8 prior to saving to suppress this warning.\n"
     ]
    },
    {
     "name": "stdout",
     "output_type": "stream",
     "text": [
      "LR size: [339, 510] /  generated HR size: (1, 1356, 2040, 3)\n"
     ]
    },
    {
     "name": "stderr",
     "output_type": "stream",
     "text": [
      "Lossy conversion from float32 to uint8. Range [-0.9263733625411987, 0.9781520366668701]. Convert image to uint8 prior to saving to suppress this warning.\n"
     ]
    },
    {
     "name": "stdout",
     "output_type": "stream",
     "text": [
      "LR size: [339, 510] /  generated HR size: (1, 1356, 2040, 3)\n"
     ]
    },
    {
     "name": "stderr",
     "output_type": "stream",
     "text": [
      "Lossy conversion from float32 to uint8. Range [-0.9263733625411987, 0.9781520366668701]. Convert image to uint8 prior to saving to suppress this warning.\n"
     ]
    },
    {
     "name": "stdout",
     "output_type": "stream",
     "text": [
      "LR size: [339, 510] /  generated HR size: (1, 1356, 2040, 3)\n"
     ]
    },
    {
     "name": "stderr",
     "output_type": "stream",
     "text": [
      "Lossy conversion from float32 to uint8. Range [-0.9263733625411987, 0.9781520366668701]. Convert image to uint8 prior to saving to suppress this warning.\n"
     ]
    },
    {
     "name": "stdout",
     "output_type": "stream",
     "text": [
      "LR size: [339, 510] /  generated HR size: (1, 1356, 2040, 3)\n"
     ]
    },
    {
     "name": "stderr",
     "output_type": "stream",
     "text": [
      "Lossy conversion from float32 to uint8. Range [-0.9263733625411987, 0.9781520366668701]. Convert image to uint8 prior to saving to suppress this warning.\n"
     ]
    },
    {
     "name": "stdout",
     "output_type": "stream",
     "text": [
      "LR size: [339, 510] /  generated HR size: (1, 1356, 2040, 3)\n"
     ]
    },
    {
     "name": "stderr",
     "output_type": "stream",
     "text": [
      "Lossy conversion from float32 to uint8. Range [-0.9263733625411987, 0.9781520366668701]. Convert image to uint8 prior to saving to suppress this warning.\n"
     ]
    },
    {
     "name": "stdout",
     "output_type": "stream",
     "text": [
      "LR size: [339, 510] /  generated HR size: (1, 1356, 2040, 3)\n"
     ]
    },
    {
     "name": "stderr",
     "output_type": "stream",
     "text": [
      "Lossy conversion from float32 to uint8. Range [-0.9263733625411987, 0.9781520366668701]. Convert image to uint8 prior to saving to suppress this warning.\n"
     ]
    },
    {
     "name": "stdout",
     "output_type": "stream",
     "text": [
      "LR size: [339, 510] /  generated HR size: (1, 1356, 2040, 3)\n"
     ]
    },
    {
     "name": "stderr",
     "output_type": "stream",
     "text": [
      "Lossy conversion from float32 to uint8. Range [-0.9263733625411987, 0.9781520366668701]. Convert image to uint8 prior to saving to suppress this warning.\n"
     ]
    },
    {
     "name": "stdout",
     "output_type": "stream",
     "text": [
      "LR size: [339, 510] /  generated HR size: (1, 1356, 2040, 3)\n"
     ]
    },
    {
     "name": "stderr",
     "output_type": "stream",
     "text": [
      "Lossy conversion from float32 to uint8. Range [-0.9263733625411987, 0.9781520366668701]. Convert image to uint8 prior to saving to suppress this warning.\n"
     ]
    },
    {
     "name": "stdout",
     "output_type": "stream",
     "text": [
      "LR size: [339, 510] /  generated HR size: (1, 1356, 2040, 3)\n"
     ]
    },
    {
     "name": "stderr",
     "output_type": "stream",
     "text": [
      "Lossy conversion from float32 to uint8. Range [-0.9263733625411987, 0.9781520366668701]. Convert image to uint8 prior to saving to suppress this warning.\n"
     ]
    },
    {
     "name": "stdout",
     "output_type": "stream",
     "text": [
      "LR size: [339, 510] /  generated HR size: (1, 1356, 2040, 3)\n"
     ]
    },
    {
     "name": "stderr",
     "output_type": "stream",
     "text": [
      "Lossy conversion from float32 to uint8. Range [-0.9263733625411987, 0.9781520366668701]. Convert image to uint8 prior to saving to suppress this warning.\n"
     ]
    },
    {
     "name": "stdout",
     "output_type": "stream",
     "text": [
      "LR size: [339, 510] /  generated HR size: (1, 1356, 2040, 3)\n"
     ]
    },
    {
     "name": "stderr",
     "output_type": "stream",
     "text": [
      "Lossy conversion from float32 to uint8. Range [-0.9263733625411987, 0.9781520366668701]. Convert image to uint8 prior to saving to suppress this warning.\n"
     ]
    },
    {
     "name": "stdout",
     "output_type": "stream",
     "text": [
      "LR size: [339, 510] /  generated HR size: (1, 1356, 2040, 3)\n"
     ]
    },
    {
     "name": "stderr",
     "output_type": "stream",
     "text": [
      "Lossy conversion from float32 to uint8. Range [-0.9263733625411987, 0.9781520366668701]. Convert image to uint8 prior to saving to suppress this warning.\n"
     ]
    },
    {
     "name": "stdout",
     "output_type": "stream",
     "text": [
      "LR size: [339, 510] /  generated HR size: (1, 1356, 2040, 3)\n"
     ]
    },
    {
     "name": "stderr",
     "output_type": "stream",
     "text": [
      "Lossy conversion from float32 to uint8. Range [-0.9263733625411987, 0.9781520366668701]. Convert image to uint8 prior to saving to suppress this warning.\n"
     ]
    },
    {
     "name": "stdout",
     "output_type": "stream",
     "text": [
      "LR size: [339, 510] /  generated HR size: (1, 1356, 2040, 3)\n"
     ]
    },
    {
     "name": "stderr",
     "output_type": "stream",
     "text": [
      "Lossy conversion from float32 to uint8. Range [-0.9263733625411987, 0.9781520366668701]. Convert image to uint8 prior to saving to suppress this warning.\n"
     ]
    },
    {
     "name": "stdout",
     "output_type": "stream",
     "text": [
      "LR size: [339, 510] /  generated HR size: (1, 1356, 2040, 3)\n"
     ]
    },
    {
     "name": "stderr",
     "output_type": "stream",
     "text": [
      "Lossy conversion from float32 to uint8. Range [-0.9263733625411987, 0.9781520366668701]. Convert image to uint8 prior to saving to suppress this warning.\n"
     ]
    },
    {
     "name": "stdout",
     "output_type": "stream",
     "text": [
      "LR size: [339, 510] /  generated HR size: (1, 1356, 2040, 3)\n"
     ]
    },
    {
     "name": "stderr",
     "output_type": "stream",
     "text": [
      "Lossy conversion from float32 to uint8. Range [-0.9263733625411987, 0.9781520366668701]. Convert image to uint8 prior to saving to suppress this warning.\n"
     ]
    },
    {
     "name": "stdout",
     "output_type": "stream",
     "text": [
      "LR size: [339, 510] /  generated HR size: (1, 1356, 2040, 3)\n"
     ]
    },
    {
     "name": "stderr",
     "output_type": "stream",
     "text": [
      "Lossy conversion from float32 to uint8. Range [-0.9263733625411987, 0.9781520366668701]. Convert image to uint8 prior to saving to suppress this warning.\n"
     ]
    },
    {
     "name": "stdout",
     "output_type": "stream",
     "text": [
      "LR size: [339, 510] /  generated HR size: (1, 1356, 2040, 3)\n"
     ]
    },
    {
     "name": "stderr",
     "output_type": "stream",
     "text": [
      "Lossy conversion from float32 to uint8. Range [-0.9263733625411987, 0.9781520366668701]. Convert image to uint8 prior to saving to suppress this warning.\n"
     ]
    },
    {
     "name": "stdout",
     "output_type": "stream",
     "text": [
      "LR size: [339, 510] /  generated HR size: (1, 1356, 2040, 3)\n"
     ]
    },
    {
     "name": "stderr",
     "output_type": "stream",
     "text": [
      "Lossy conversion from float32 to uint8. Range [-0.9263733625411987, 0.9781520366668701]. Convert image to uint8 prior to saving to suppress this warning.\n"
     ]
    },
    {
     "name": "stdout",
     "output_type": "stream",
     "text": [
      "LR size: [339, 510] /  generated HR size: (1, 1356, 2040, 3)\n"
     ]
    },
    {
     "name": "stderr",
     "output_type": "stream",
     "text": [
      "Lossy conversion from float32 to uint8. Range [-0.9263733625411987, 0.9781520366668701]. Convert image to uint8 prior to saving to suppress this warning.\n"
     ]
    },
    {
     "name": "stdout",
     "output_type": "stream",
     "text": [
      "LR size: [339, 510] /  generated HR size: (1, 1356, 2040, 3)\n"
     ]
    },
    {
     "name": "stderr",
     "output_type": "stream",
     "text": [
      "Lossy conversion from float32 to uint8. Range [-0.9263733625411987, 0.9781520366668701]. Convert image to uint8 prior to saving to suppress this warning.\n"
     ]
    },
    {
     "name": "stdout",
     "output_type": "stream",
     "text": [
      "LR size: [339, 510] /  generated HR size: (1, 1356, 2040, 3)\n"
     ]
    },
    {
     "name": "stderr",
     "output_type": "stream",
     "text": [
      "Lossy conversion from float32 to uint8. Range [-0.9263733625411987, 0.9781520366668701]. Convert image to uint8 prior to saving to suppress this warning.\n"
     ]
    },
    {
     "name": "stdout",
     "output_type": "stream",
     "text": [
      "LR size: [339, 510] /  generated HR size: (1, 1356, 2040, 3)\n"
     ]
    },
    {
     "name": "stderr",
     "output_type": "stream",
     "text": [
      "Lossy conversion from float32 to uint8. Range [-0.9263733625411987, 0.9781520366668701]. Convert image to uint8 prior to saving to suppress this warning.\n"
     ]
    },
    {
     "name": "stdout",
     "output_type": "stream",
     "text": [
      "LR size: [339, 510] /  generated HR size: (1, 1356, 2040, 3)\n"
     ]
    },
    {
     "name": "stderr",
     "output_type": "stream",
     "text": [
      "Lossy conversion from float32 to uint8. Range [-0.9263733625411987, 0.9781520366668701]. Convert image to uint8 prior to saving to suppress this warning.\n"
     ]
    },
    {
     "name": "stdout",
     "output_type": "stream",
     "text": [
      "LR size: [339, 510] /  generated HR size: (1, 1356, 2040, 3)\n"
     ]
    },
    {
     "name": "stderr",
     "output_type": "stream",
     "text": [
      "Lossy conversion from float32 to uint8. Range [-0.9263733625411987, 0.9781520366668701]. Convert image to uint8 prior to saving to suppress this warning.\n"
     ]
    },
    {
     "name": "stdout",
     "output_type": "stream",
     "text": [
      "LR size: [339, 510] /  generated HR size: (1, 1356, 2040, 3)\n"
     ]
    },
    {
     "name": "stderr",
     "output_type": "stream",
     "text": [
      "Lossy conversion from float32 to uint8. Range [-0.9263733625411987, 0.9781520366668701]. Convert image to uint8 prior to saving to suppress this warning.\n"
     ]
    },
    {
     "name": "stdout",
     "output_type": "stream",
     "text": [
      "LR size: [339, 510] /  generated HR size: (1, 1356, 2040, 3)\n"
     ]
    },
    {
     "name": "stderr",
     "output_type": "stream",
     "text": [
      "Lossy conversion from float32 to uint8. Range [-0.9263733625411987, 0.9781520366668701]. Convert image to uint8 prior to saving to suppress this warning.\n"
     ]
    },
    {
     "name": "stdout",
     "output_type": "stream",
     "text": [
      "LR size: [339, 510] /  generated HR size: (1, 1356, 2040, 3)\n"
     ]
    },
    {
     "name": "stderr",
     "output_type": "stream",
     "text": [
      "Lossy conversion from float32 to uint8. Range [-0.9263733625411987, 0.9781520366668701]. Convert image to uint8 prior to saving to suppress this warning.\n"
     ]
    },
    {
     "name": "stdout",
     "output_type": "stream",
     "text": [
      "LR size: [339, 510] /  generated HR size: (1, 1356, 2040, 3)\n"
     ]
    },
    {
     "name": "stderr",
     "output_type": "stream",
     "text": [
      "Lossy conversion from float32 to uint8. Range [-0.9263733625411987, 0.9781520366668701]. Convert image to uint8 prior to saving to suppress this warning.\n"
     ]
    },
    {
     "name": "stdout",
     "output_type": "stream",
     "text": [
      "LR size: [339, 510] /  generated HR size: (1, 1356, 2040, 3)\n"
     ]
    },
    {
     "name": "stderr",
     "output_type": "stream",
     "text": [
      "Lossy conversion from float32 to uint8. Range [-0.9263733625411987, 0.9781520366668701]. Convert image to uint8 prior to saving to suppress this warning.\n"
     ]
    },
    {
     "name": "stdout",
     "output_type": "stream",
     "text": [
      "LR size: [339, 510] /  generated HR size: (1, 1356, 2040, 3)\n"
     ]
    },
    {
     "name": "stderr",
     "output_type": "stream",
     "text": [
      "Lossy conversion from float32 to uint8. Range [-0.9263733625411987, 0.9781520366668701]. Convert image to uint8 prior to saving to suppress this warning.\n"
     ]
    },
    {
     "name": "stdout",
     "output_type": "stream",
     "text": [
      "LR size: [339, 510] /  generated HR size: (1, 1356, 2040, 3)\n"
     ]
    },
    {
     "name": "stderr",
     "output_type": "stream",
     "text": [
      "Lossy conversion from float32 to uint8. Range [-0.9263733625411987, 0.9781520366668701]. Convert image to uint8 prior to saving to suppress this warning.\n"
     ]
    },
    {
     "name": "stdout",
     "output_type": "stream",
     "text": [
      "LR size: [339, 510] /  generated HR size: (1, 1356, 2040, 3)\n"
     ]
    },
    {
     "name": "stderr",
     "output_type": "stream",
     "text": [
      "Lossy conversion from float32 to uint8. Range [-0.9263733625411987, 0.9781520366668701]. Convert image to uint8 prior to saving to suppress this warning.\n"
     ]
    },
    {
     "name": "stdout",
     "output_type": "stream",
     "text": [
      "LR size: [339, 510] /  generated HR size: (1, 1356, 2040, 3)\n"
     ]
    },
    {
     "name": "stderr",
     "output_type": "stream",
     "text": [
      "Lossy conversion from float32 to uint8. Range [-0.9263733625411987, 0.9781520366668701]. Convert image to uint8 prior to saving to suppress this warning.\n"
     ]
    },
    {
     "name": "stdout",
     "output_type": "stream",
     "text": [
      "LR size: [339, 510] /  generated HR size: (1, 1356, 2040, 3)\n"
     ]
    },
    {
     "name": "stderr",
     "output_type": "stream",
     "text": [
      "Lossy conversion from float32 to uint8. Range [-0.9263733625411987, 0.9781520366668701]. Convert image to uint8 prior to saving to suppress this warning.\n"
     ]
    },
    {
     "name": "stdout",
     "output_type": "stream",
     "text": [
      "LR size: [339, 510] /  generated HR size: (1, 1356, 2040, 3)\n"
     ]
    },
    {
     "name": "stderr",
     "output_type": "stream",
     "text": [
      "Lossy conversion from float32 to uint8. Range [-0.9263733625411987, 0.9781520366668701]. Convert image to uint8 prior to saving to suppress this warning.\n"
     ]
    },
    {
     "name": "stdout",
     "output_type": "stream",
     "text": [
      "LR size: [339, 510] /  generated HR size: (1, 1356, 2040, 3)\n"
     ]
    },
    {
     "name": "stderr",
     "output_type": "stream",
     "text": [
      "Lossy conversion from float32 to uint8. Range [-0.9263733625411987, 0.9781520366668701]. Convert image to uint8 prior to saving to suppress this warning.\n"
     ]
    },
    {
     "name": "stdout",
     "output_type": "stream",
     "text": [
      "LR size: [339, 510] /  generated HR size: (1, 1356, 2040, 3)\n"
     ]
    },
    {
     "name": "stderr",
     "output_type": "stream",
     "text": [
      "Lossy conversion from float32 to uint8. Range [-0.9263733625411987, 0.9781520366668701]. Convert image to uint8 prior to saving to suppress this warning.\n"
     ]
    },
    {
     "name": "stdout",
     "output_type": "stream",
     "text": [
      "LR size: [339, 510] /  generated HR size: (1, 1356, 2040, 3)\n"
     ]
    },
    {
     "name": "stderr",
     "output_type": "stream",
     "text": [
      "Lossy conversion from float32 to uint8. Range [-0.9263733625411987, 0.9781520366668701]. Convert image to uint8 prior to saving to suppress this warning.\n"
     ]
    },
    {
     "name": "stdout",
     "output_type": "stream",
     "text": [
      "LR size: [339, 510] /  generated HR size: (1, 1356, 2040, 3)\n"
     ]
    },
    {
     "name": "stderr",
     "output_type": "stream",
     "text": [
      "Lossy conversion from float32 to uint8. Range [-0.9263733625411987, 0.9781520366668701]. Convert image to uint8 prior to saving to suppress this warning.\n"
     ]
    },
    {
     "name": "stdout",
     "output_type": "stream",
     "text": [
      "LR size: [339, 510] /  generated HR size: (1, 1356, 2040, 3)\n"
     ]
    },
    {
     "name": "stderr",
     "output_type": "stream",
     "text": [
      "Lossy conversion from float32 to uint8. Range [-0.9263733625411987, 0.9781520366668701]. Convert image to uint8 prior to saving to suppress this warning.\n"
     ]
    },
    {
     "name": "stdout",
     "output_type": "stream",
     "text": [
      "LR size: [339, 510] /  generated HR size: (1, 1356, 2040, 3)\n"
     ]
    },
    {
     "name": "stderr",
     "output_type": "stream",
     "text": [
      "Lossy conversion from float32 to uint8. Range [-0.9263733625411987, 0.9781520366668701]. Convert image to uint8 prior to saving to suppress this warning.\n"
     ]
    },
    {
     "name": "stdout",
     "output_type": "stream",
     "text": [
      "LR size: [339, 510] /  generated HR size: (1, 1356, 2040, 3)\n"
     ]
    },
    {
     "name": "stderr",
     "output_type": "stream",
     "text": [
      "Lossy conversion from float32 to uint8. Range [-0.9263733625411987, 0.9781520366668701]. Convert image to uint8 prior to saving to suppress this warning.\n"
     ]
    },
    {
     "name": "stdout",
     "output_type": "stream",
     "text": [
      "LR size: [339, 510] /  generated HR size: (1, 1356, 2040, 3)\n"
     ]
    },
    {
     "name": "stderr",
     "output_type": "stream",
     "text": [
      "Lossy conversion from float32 to uint8. Range [-0.9263733625411987, 0.9781520366668701]. Convert image to uint8 prior to saving to suppress this warning.\n"
     ]
    },
    {
     "name": "stdout",
     "output_type": "stream",
     "text": [
      "LR size: [339, 510] /  generated HR size: (1, 1356, 2040, 3)\n"
     ]
    },
    {
     "name": "stderr",
     "output_type": "stream",
     "text": [
      "Lossy conversion from float32 to uint8. Range [-0.9263733625411987, 0.9781520366668701]. Convert image to uint8 prior to saving to suppress this warning.\n"
     ]
    },
    {
     "name": "stdout",
     "output_type": "stream",
     "text": [
      "LR size: [339, 510] /  generated HR size: (1, 1356, 2040, 3)\n"
     ]
    },
    {
     "name": "stderr",
     "output_type": "stream",
     "text": [
      "Lossy conversion from float32 to uint8. Range [-0.9263733625411987, 0.9781520366668701]. Convert image to uint8 prior to saving to suppress this warning.\n"
     ]
    },
    {
     "name": "stdout",
     "output_type": "stream",
     "text": [
      "LR size: [339, 510] /  generated HR size: (1, 1356, 2040, 3)\n"
     ]
    },
    {
     "name": "stderr",
     "output_type": "stream",
     "text": [
      "Lossy conversion from float32 to uint8. Range [-0.9263733625411987, 0.9781520366668701]. Convert image to uint8 prior to saving to suppress this warning.\n"
     ]
    },
    {
     "name": "stdout",
     "output_type": "stream",
     "text": [
      "LR size: [339, 510] /  generated HR size: (1, 1356, 2040, 3)\n"
     ]
    },
    {
     "name": "stderr",
     "output_type": "stream",
     "text": [
      "Lossy conversion from float32 to uint8. Range [-0.9263733625411987, 0.9781520366668701]. Convert image to uint8 prior to saving to suppress this warning.\n"
     ]
    },
    {
     "name": "stdout",
     "output_type": "stream",
     "text": [
      "LR size: [339, 510] /  generated HR size: (1, 1356, 2040, 3)\n"
     ]
    },
    {
     "name": "stderr",
     "output_type": "stream",
     "text": [
      "Lossy conversion from float32 to uint8. Range [-0.9263733625411987, 0.9781520366668701]. Convert image to uint8 prior to saving to suppress this warning.\n",
      "Lossy conversion from float32 to uint8. Range [-0.9263733625411987, 0.9781520366668701]. Convert image to uint8 prior to saving to suppress this warning.\n"
     ]
    },
    {
     "name": "stdout",
     "output_type": "stream",
     "text": [
      "LR size: [339, 510] /  generated HR size: (1, 1356, 2040, 3)\n"
     ]
    },
    {
     "name": "stderr",
     "output_type": "stream",
     "text": [
      "Lossy conversion from float32 to uint8. Range [-0.9263733625411987, 0.9781520366668701]. Convert image to uint8 prior to saving to suppress this warning.\n"
     ]
    },
    {
     "name": "stdout",
     "output_type": "stream",
     "text": [
      "LR size: [339, 510] /  generated HR size: (1, 1356, 2040, 3)\n"
     ]
    },
    {
     "name": "stderr",
     "output_type": "stream",
     "text": [
      "Lossy conversion from float32 to uint8. Range [-0.9263733625411987, 0.9781520366668701]. Convert image to uint8 prior to saving to suppress this warning.\n"
     ]
    },
    {
     "name": "stdout",
     "output_type": "stream",
     "text": [
      "LR size: [339, 510] /  generated HR size: (1, 1356, 2040, 3)\n"
     ]
    },
    {
     "name": "stderr",
     "output_type": "stream",
     "text": [
      "Lossy conversion from float32 to uint8. Range [-0.9263733625411987, 0.9781520366668701]. Convert image to uint8 prior to saving to suppress this warning.\n"
     ]
    },
    {
     "name": "stdout",
     "output_type": "stream",
     "text": [
      "LR size: [339, 510] /  generated HR size: (1, 1356, 2040, 3)\n"
     ]
    },
    {
     "name": "stderr",
     "output_type": "stream",
     "text": [
      "Lossy conversion from float32 to uint8. Range [-0.9263733625411987, 0.9781520366668701]. Convert image to uint8 prior to saving to suppress this warning.\n"
     ]
    },
    {
     "name": "stdout",
     "output_type": "stream",
     "text": [
      "LR size: [339, 510] /  generated HR size: (1, 1356, 2040, 3)\n"
     ]
    },
    {
     "name": "stderr",
     "output_type": "stream",
     "text": [
      "Lossy conversion from float32 to uint8. Range [-0.9263733625411987, 0.9781520366668701]. Convert image to uint8 prior to saving to suppress this warning.\n"
     ]
    },
    {
     "name": "stdout",
     "output_type": "stream",
     "text": [
      "LR size: [339, 510] /  generated HR size: (1, 1356, 2040, 3)\n"
     ]
    },
    {
     "name": "stderr",
     "output_type": "stream",
     "text": [
      "Lossy conversion from float32 to uint8. Range [-0.9263733625411987, 0.9781520366668701]. Convert image to uint8 prior to saving to suppress this warning.\n"
     ]
    },
    {
     "name": "stdout",
     "output_type": "stream",
     "text": [
      "LR size: [339, 510] /  generated HR size: (1, 1356, 2040, 3)\n"
     ]
    },
    {
     "name": "stderr",
     "output_type": "stream",
     "text": [
      "Lossy conversion from float32 to uint8. Range [-0.9263733625411987, 0.9781520366668701]. Convert image to uint8 prior to saving to suppress this warning.\n"
     ]
    },
    {
     "name": "stdout",
     "output_type": "stream",
     "text": [
      "LR size: [339, 510] /  generated HR size: (1, 1356, 2040, 3)\n"
     ]
    },
    {
     "name": "stderr",
     "output_type": "stream",
     "text": [
      "Lossy conversion from float32 to uint8. Range [-0.9263733625411987, 0.9781520366668701]. Convert image to uint8 prior to saving to suppress this warning.\n"
     ]
    },
    {
     "name": "stdout",
     "output_type": "stream",
     "text": [
      "LR size: [339, 510] /  generated HR size: (1, 1356, 2040, 3)\n"
     ]
    },
    {
     "name": "stderr",
     "output_type": "stream",
     "text": [
      "Lossy conversion from float32 to uint8. Range [-0.9263733625411987, 0.9781520366668701]. Convert image to uint8 prior to saving to suppress this warning.\n"
     ]
    },
    {
     "name": "stdout",
     "output_type": "stream",
     "text": [
      "LR size: [339, 510] /  generated HR size: (1, 1356, 2040, 3)\n"
     ]
    },
    {
     "name": "stderr",
     "output_type": "stream",
     "text": [
      "Lossy conversion from float32 to uint8. Range [-0.9263733625411987, 0.9781520366668701]. Convert image to uint8 prior to saving to suppress this warning.\n"
     ]
    },
    {
     "name": "stdout",
     "output_type": "stream",
     "text": [
      "LR size: [339, 510] /  generated HR size: (1, 1356, 2040, 3)\n"
     ]
    },
    {
     "name": "stderr",
     "output_type": "stream",
     "text": [
      "Lossy conversion from float32 to uint8. Range [-0.9263733625411987, 0.9781520366668701]. Convert image to uint8 prior to saving to suppress this warning.\n"
     ]
    },
    {
     "name": "stdout",
     "output_type": "stream",
     "text": [
      "LR size: [339, 510] /  generated HR size: (1, 1356, 2040, 3)\n"
     ]
    },
    {
     "name": "stderr",
     "output_type": "stream",
     "text": [
      "Lossy conversion from float32 to uint8. Range [-0.9263733625411987, 0.9781520366668701]. Convert image to uint8 prior to saving to suppress this warning.\n"
     ]
    },
    {
     "name": "stdout",
     "output_type": "stream",
     "text": [
      "LR size: [339, 510] /  generated HR size: (1, 1356, 2040, 3)\n"
     ]
    },
    {
     "name": "stderr",
     "output_type": "stream",
     "text": [
      "Lossy conversion from float32 to uint8. Range [-0.9263733625411987, 0.9781520366668701]. Convert image to uint8 prior to saving to suppress this warning.\n"
     ]
    },
    {
     "name": "stdout",
     "output_type": "stream",
     "text": [
      "LR size: [339, 510] /  generated HR size: (1, 1356, 2040, 3)\n"
     ]
    },
    {
     "name": "stderr",
     "output_type": "stream",
     "text": [
      "Lossy conversion from float32 to uint8. Range [-0.9263733625411987, 0.9781520366668701]. Convert image to uint8 prior to saving to suppress this warning.\n"
     ]
    },
    {
     "name": "stdout",
     "output_type": "stream",
     "text": [
      "LR size: [339, 510] /  generated HR size: (1, 1356, 2040, 3)\n"
     ]
    },
    {
     "name": "stderr",
     "output_type": "stream",
     "text": [
      "Lossy conversion from float32 to uint8. Range [-0.9831674695014954, 0.905754566192627]. Convert image to uint8 prior to saving to suppress this warning.\n"
     ]
    },
    {
     "name": "stdout",
     "output_type": "stream",
     "text": [
      "LR size: [384, 510] /  generated HR size: (1, 1536, 2040, 3)\n"
     ]
    },
    {
     "name": "stderr",
     "output_type": "stream",
     "text": [
      "Lossy conversion from float32 to uint8. Range [-0.9831674695014954, 0.905754566192627]. Convert image to uint8 prior to saving to suppress this warning.\n"
     ]
    },
    {
     "name": "stdout",
     "output_type": "stream",
     "text": [
      "LR size: [384, 510] /  generated HR size: (1, 1536, 2040, 3)\n"
     ]
    },
    {
     "name": "stderr",
     "output_type": "stream",
     "text": [
      "Lossy conversion from float32 to uint8. Range [-0.9831674695014954, 0.905754566192627]. Convert image to uint8 prior to saving to suppress this warning.\n"
     ]
    },
    {
     "name": "stdout",
     "output_type": "stream",
     "text": [
      "LR size: [384, 510] /  generated HR size: (1, 1536, 2040, 3)\n"
     ]
    },
    {
     "name": "stderr",
     "output_type": "stream",
     "text": [
      "Lossy conversion from float32 to uint8. Range [-0.9831674695014954, 0.905754566192627]. Convert image to uint8 prior to saving to suppress this warning.\n"
     ]
    },
    {
     "name": "stdout",
     "output_type": "stream",
     "text": [
      "LR size: [384, 510] /  generated HR size: (1, 1536, 2040, 3)\n"
     ]
    },
    {
     "name": "stderr",
     "output_type": "stream",
     "text": [
      "Lossy conversion from float32 to uint8. Range [-0.9831674695014954, 0.905754566192627]. Convert image to uint8 prior to saving to suppress this warning.\n"
     ]
    },
    {
     "name": "stdout",
     "output_type": "stream",
     "text": [
      "LR size: [384, 510] /  generated HR size: (1, 1536, 2040, 3)\n"
     ]
    },
    {
     "name": "stderr",
     "output_type": "stream",
     "text": [
      "Lossy conversion from float32 to uint8. Range [-0.9831674695014954, 0.905754566192627]. Convert image to uint8 prior to saving to suppress this warning.\n"
     ]
    },
    {
     "name": "stdout",
     "output_type": "stream",
     "text": [
      "LR size: [384, 510] /  generated HR size: (1, 1536, 2040, 3)\n"
     ]
    },
    {
     "name": "stderr",
     "output_type": "stream",
     "text": [
      "Lossy conversion from float32 to uint8. Range [-0.9831674695014954, 0.905754566192627]. Convert image to uint8 prior to saving to suppress this warning.\n"
     ]
    },
    {
     "name": "stdout",
     "output_type": "stream",
     "text": [
      "LR size: [384, 510] /  generated HR size: (1, 1536, 2040, 3)\n"
     ]
    },
    {
     "name": "stderr",
     "output_type": "stream",
     "text": [
      "Lossy conversion from float32 to uint8. Range [-0.9831674695014954, 0.905754566192627]. Convert image to uint8 prior to saving to suppress this warning.\n"
     ]
    },
    {
     "name": "stdout",
     "output_type": "stream",
     "text": [
      "LR size: [384, 510] /  generated HR size: (1, 1536, 2040, 3)\n"
     ]
    },
    {
     "name": "stderr",
     "output_type": "stream",
     "text": [
      "Lossy conversion from float32 to uint8. Range [-0.9831674695014954, 0.905754566192627]. Convert image to uint8 prior to saving to suppress this warning.\n"
     ]
    },
    {
     "name": "stdout",
     "output_type": "stream",
     "text": [
      "LR size: [384, 510] /  generated HR size: (1, 1536, 2040, 3)\n"
     ]
    },
    {
     "name": "stderr",
     "output_type": "stream",
     "text": [
      "Lossy conversion from float32 to uint8. Range [-0.9831674695014954, 0.905754566192627]. Convert image to uint8 prior to saving to suppress this warning.\n"
     ]
    },
    {
     "name": "stdout",
     "output_type": "stream",
     "text": [
      "LR size: [384, 510] /  generated HR size: (1, 1536, 2040, 3)\n"
     ]
    },
    {
     "name": "stderr",
     "output_type": "stream",
     "text": [
      "Lossy conversion from float32 to uint8. Range [-0.9831674695014954, 0.905754566192627]. Convert image to uint8 prior to saving to suppress this warning.\n"
     ]
    },
    {
     "name": "stdout",
     "output_type": "stream",
     "text": [
      "LR size: [384, 510] /  generated HR size: (1, 1536, 2040, 3)\n"
     ]
    },
    {
     "name": "stderr",
     "output_type": "stream",
     "text": [
      "Lossy conversion from float32 to uint8. Range [-0.9831674695014954, 0.905754566192627]. Convert image to uint8 prior to saving to suppress this warning.\n"
     ]
    },
    {
     "name": "stdout",
     "output_type": "stream",
     "text": [
      "LR size: [384, 510] /  generated HR size: (1, 1536, 2040, 3)\n"
     ]
    },
    {
     "name": "stderr",
     "output_type": "stream",
     "text": [
      "Lossy conversion from float32 to uint8. Range [-0.9831674695014954, 0.905754566192627]. Convert image to uint8 prior to saving to suppress this warning.\n"
     ]
    },
    {
     "name": "stdout",
     "output_type": "stream",
     "text": [
      "LR size: [384, 510] /  generated HR size: (1, 1536, 2040, 3)\n"
     ]
    },
    {
     "name": "stderr",
     "output_type": "stream",
     "text": [
      "Lossy conversion from float32 to uint8. Range [-0.9831674695014954, 0.905754566192627]. Convert image to uint8 prior to saving to suppress this warning.\n"
     ]
    },
    {
     "name": "stdout",
     "output_type": "stream",
     "text": [
      "LR size: [384, 510] /  generated HR size: (1, 1536, 2040, 3)\n"
     ]
    },
    {
     "name": "stderr",
     "output_type": "stream",
     "text": [
      "Lossy conversion from float32 to uint8. Range [-0.9831674695014954, 0.905754566192627]. Convert image to uint8 prior to saving to suppress this warning.\n"
     ]
    },
    {
     "name": "stdout",
     "output_type": "stream",
     "text": [
      "LR size: [384, 510] /  generated HR size: (1, 1536, 2040, 3)\n"
     ]
    },
    {
     "name": "stderr",
     "output_type": "stream",
     "text": [
      "Lossy conversion from float32 to uint8. Range [-0.9831674695014954, 0.905754566192627]. Convert image to uint8 prior to saving to suppress this warning.\n"
     ]
    },
    {
     "name": "stdout",
     "output_type": "stream",
     "text": [
      "LR size: [384, 510] /  generated HR size: (1, 1536, 2040, 3)\n"
     ]
    },
    {
     "name": "stderr",
     "output_type": "stream",
     "text": [
      "Lossy conversion from float32 to uint8. Range [-0.9831674695014954, 0.905754566192627]. Convert image to uint8 prior to saving to suppress this warning.\n"
     ]
    },
    {
     "name": "stdout",
     "output_type": "stream",
     "text": [
      "LR size: [384, 510] /  generated HR size: (1, 1536, 2040, 3)\n"
     ]
    },
    {
     "name": "stderr",
     "output_type": "stream",
     "text": [
      "Lossy conversion from float32 to uint8. Range [-0.9831674695014954, 0.905754566192627]. Convert image to uint8 prior to saving to suppress this warning.\n"
     ]
    },
    {
     "name": "stdout",
     "output_type": "stream",
     "text": [
      "LR size: [384, 510] /  generated HR size: (1, 1536, 2040, 3)\n"
     ]
    },
    {
     "name": "stderr",
     "output_type": "stream",
     "text": [
      "Lossy conversion from float32 to uint8. Range [-0.9831674695014954, 0.905754566192627]. Convert image to uint8 prior to saving to suppress this warning.\n"
     ]
    },
    {
     "name": "stdout",
     "output_type": "stream",
     "text": [
      "LR size: [384, 510] /  generated HR size: (1, 1536, 2040, 3)\n"
     ]
    },
    {
     "name": "stderr",
     "output_type": "stream",
     "text": [
      "Lossy conversion from float32 to uint8. Range [-0.9831674695014954, 0.905754566192627]. Convert image to uint8 prior to saving to suppress this warning.\n"
     ]
    },
    {
     "name": "stdout",
     "output_type": "stream",
     "text": [
      "LR size: [384, 510] /  generated HR size: (1, 1536, 2040, 3)\n"
     ]
    },
    {
     "name": "stderr",
     "output_type": "stream",
     "text": [
      "Lossy conversion from float32 to uint8. Range [-0.9831674695014954, 0.905754566192627]. Convert image to uint8 prior to saving to suppress this warning.\n"
     ]
    },
    {
     "name": "stdout",
     "output_type": "stream",
     "text": [
      "LR size: [384, 510] /  generated HR size: (1, 1536, 2040, 3)\n"
     ]
    },
    {
     "name": "stderr",
     "output_type": "stream",
     "text": [
      "Lossy conversion from float32 to uint8. Range [-0.9831674695014954, 0.905754566192627]. Convert image to uint8 prior to saving to suppress this warning.\n"
     ]
    },
    {
     "name": "stdout",
     "output_type": "stream",
     "text": [
      "LR size: [384, 510] /  generated HR size: (1, 1536, 2040, 3)\n"
     ]
    },
    {
     "name": "stderr",
     "output_type": "stream",
     "text": [
      "Lossy conversion from float32 to uint8. Range [-0.9831674695014954, 0.905754566192627]. Convert image to uint8 prior to saving to suppress this warning.\n"
     ]
    },
    {
     "name": "stdout",
     "output_type": "stream",
     "text": [
      "LR size: [384, 510] /  generated HR size: (1, 1536, 2040, 3)\n"
     ]
    },
    {
     "name": "stderr",
     "output_type": "stream",
     "text": [
      "Lossy conversion from float32 to uint8. Range [-0.9831674695014954, 0.905754566192627]. Convert image to uint8 prior to saving to suppress this warning.\n"
     ]
    },
    {
     "name": "stdout",
     "output_type": "stream",
     "text": [
      "LR size: [384, 510] /  generated HR size: (1, 1536, 2040, 3)\n"
     ]
    },
    {
     "name": "stderr",
     "output_type": "stream",
     "text": [
      "Lossy conversion from float32 to uint8. Range [-0.9831674695014954, 0.905754566192627]. Convert image to uint8 prior to saving to suppress this warning.\n"
     ]
    },
    {
     "name": "stdout",
     "output_type": "stream",
     "text": [
      "LR size: [384, 510] /  generated HR size: (1, 1536, 2040, 3)\n"
     ]
    },
    {
     "name": "stderr",
     "output_type": "stream",
     "text": [
      "Lossy conversion from float32 to uint8. Range [-0.9831674695014954, 0.905754566192627]. Convert image to uint8 prior to saving to suppress this warning.\n"
     ]
    },
    {
     "name": "stdout",
     "output_type": "stream",
     "text": [
      "LR size: [384, 510] /  generated HR size: (1, 1536, 2040, 3)\n"
     ]
    },
    {
     "name": "stderr",
     "output_type": "stream",
     "text": [
      "Lossy conversion from float32 to uint8. Range [-0.9831674695014954, 0.905754566192627]. Convert image to uint8 prior to saving to suppress this warning.\n"
     ]
    },
    {
     "name": "stdout",
     "output_type": "stream",
     "text": [
      "LR size: [384, 510] /  generated HR size: (1, 1536, 2040, 3)\n"
     ]
    },
    {
     "name": "stderr",
     "output_type": "stream",
     "text": [
      "Lossy conversion from float32 to uint8. Range [-0.9831674695014954, 0.905754566192627]. Convert image to uint8 prior to saving to suppress this warning.\n"
     ]
    },
    {
     "name": "stdout",
     "output_type": "stream",
     "text": [
      "LR size: [384, 510] /  generated HR size: (1, 1536, 2040, 3)\n"
     ]
    },
    {
     "name": "stderr",
     "output_type": "stream",
     "text": [
      "Lossy conversion from float32 to uint8. Range [-0.9831674695014954, 0.905754566192627]. Convert image to uint8 prior to saving to suppress this warning.\n"
     ]
    },
    {
     "name": "stdout",
     "output_type": "stream",
     "text": [
      "LR size: [384, 510] /  generated HR size: (1, 1536, 2040, 3)\n"
     ]
    },
    {
     "name": "stderr",
     "output_type": "stream",
     "text": [
      "Lossy conversion from float32 to uint8. Range [-0.9831674695014954, 0.905754566192627]. Convert image to uint8 prior to saving to suppress this warning.\n"
     ]
    },
    {
     "name": "stdout",
     "output_type": "stream",
     "text": [
      "LR size: [384, 510] /  generated HR size: (1, 1536, 2040, 3)\n"
     ]
    },
    {
     "name": "stderr",
     "output_type": "stream",
     "text": [
      "Lossy conversion from float32 to uint8. Range [-0.9831674695014954, 0.905754566192627]. Convert image to uint8 prior to saving to suppress this warning.\n"
     ]
    },
    {
     "name": "stdout",
     "output_type": "stream",
     "text": [
      "LR size: [384, 510] /  generated HR size: (1, 1536, 2040, 3)\n"
     ]
    },
    {
     "name": "stderr",
     "output_type": "stream",
     "text": [
      "Lossy conversion from float32 to uint8. Range [-0.9831674695014954, 0.905754566192627]. Convert image to uint8 prior to saving to suppress this warning.\n"
     ]
    },
    {
     "name": "stdout",
     "output_type": "stream",
     "text": [
      "LR size: [384, 510] /  generated HR size: (1, 1536, 2040, 3)\n"
     ]
    },
    {
     "name": "stderr",
     "output_type": "stream",
     "text": [
      "Lossy conversion from float32 to uint8. Range [-0.9831674695014954, 0.905754566192627]. Convert image to uint8 prior to saving to suppress this warning.\n"
     ]
    },
    {
     "name": "stdout",
     "output_type": "stream",
     "text": [
      "LR size: [384, 510] /  generated HR size: (1, 1536, 2040, 3)\n"
     ]
    },
    {
     "name": "stderr",
     "output_type": "stream",
     "text": [
      "Lossy conversion from float32 to uint8. Range [-0.9831674695014954, 0.905754566192627]. Convert image to uint8 prior to saving to suppress this warning.\n"
     ]
    },
    {
     "name": "stdout",
     "output_type": "stream",
     "text": [
      "LR size: [384, 510] /  generated HR size: (1, 1536, 2040, 3)\n"
     ]
    },
    {
     "name": "stderr",
     "output_type": "stream",
     "text": [
      "Lossy conversion from float32 to uint8. Range [-0.9831674695014954, 0.905754566192627]. Convert image to uint8 prior to saving to suppress this warning.\n"
     ]
    },
    {
     "name": "stdout",
     "output_type": "stream",
     "text": [
      "LR size: [384, 510] /  generated HR size: (1, 1536, 2040, 3)\n"
     ]
    },
    {
     "name": "stderr",
     "output_type": "stream",
     "text": [
      "Lossy conversion from float32 to uint8. Range [-0.9831674695014954, 0.905754566192627]. Convert image to uint8 prior to saving to suppress this warning.\n"
     ]
    },
    {
     "name": "stdout",
     "output_type": "stream",
     "text": [
      "LR size: [384, 510] /  generated HR size: (1, 1536, 2040, 3)\n"
     ]
    },
    {
     "name": "stderr",
     "output_type": "stream",
     "text": [
      "Lossy conversion from float32 to uint8. Range [-0.9831674695014954, 0.905754566192627]. Convert image to uint8 prior to saving to suppress this warning.\n"
     ]
    },
    {
     "name": "stdout",
     "output_type": "stream",
     "text": [
      "LR size: [384, 510] /  generated HR size: (1, 1536, 2040, 3)\n"
     ]
    },
    {
     "name": "stderr",
     "output_type": "stream",
     "text": [
      "Lossy conversion from float32 to uint8. Range [-0.9831674695014954, 0.905754566192627]. Convert image to uint8 prior to saving to suppress this warning.\n"
     ]
    },
    {
     "name": "stdout",
     "output_type": "stream",
     "text": [
      "LR size: [384, 510] /  generated HR size: (1, 1536, 2040, 3)\n"
     ]
    },
    {
     "name": "stderr",
     "output_type": "stream",
     "text": [
      "Lossy conversion from float32 to uint8. Range [-0.9831674695014954, 0.905754566192627]. Convert image to uint8 prior to saving to suppress this warning.\n"
     ]
    },
    {
     "name": "stdout",
     "output_type": "stream",
     "text": [
      "LR size: [384, 510] /  generated HR size: (1, 1536, 2040, 3)\n"
     ]
    },
    {
     "name": "stderr",
     "output_type": "stream",
     "text": [
      "Lossy conversion from float32 to uint8. Range [-0.9831674695014954, 0.905754566192627]. Convert image to uint8 prior to saving to suppress this warning.\n"
     ]
    },
    {
     "name": "stdout",
     "output_type": "stream",
     "text": [
      "LR size: [384, 510] /  generated HR size: (1, 1536, 2040, 3)\n"
     ]
    },
    {
     "name": "stderr",
     "output_type": "stream",
     "text": [
      "Lossy conversion from float32 to uint8. Range [-0.9831674695014954, 0.905754566192627]. Convert image to uint8 prior to saving to suppress this warning.\n"
     ]
    },
    {
     "name": "stdout",
     "output_type": "stream",
     "text": [
      "LR size: [384, 510] /  generated HR size: (1, 1536, 2040, 3)\n"
     ]
    },
    {
     "name": "stderr",
     "output_type": "stream",
     "text": [
      "Lossy conversion from float32 to uint8. Range [-0.9831674695014954, 0.905754566192627]. Convert image to uint8 prior to saving to suppress this warning.\n"
     ]
    },
    {
     "name": "stdout",
     "output_type": "stream",
     "text": [
      "LR size: [384, 510] /  generated HR size: (1, 1536, 2040, 3)\n"
     ]
    },
    {
     "name": "stderr",
     "output_type": "stream",
     "text": [
      "Lossy conversion from float32 to uint8. Range [-0.9831674695014954, 0.905754566192627]. Convert image to uint8 prior to saving to suppress this warning.\n"
     ]
    },
    {
     "name": "stdout",
     "output_type": "stream",
     "text": [
      "LR size: [384, 510] /  generated HR size: (1, 1536, 2040, 3)\n"
     ]
    },
    {
     "name": "stderr",
     "output_type": "stream",
     "text": [
      "Lossy conversion from float32 to uint8. Range [-0.9831674695014954, 0.905754566192627]. Convert image to uint8 prior to saving to suppress this warning.\n"
     ]
    },
    {
     "name": "stdout",
     "output_type": "stream",
     "text": [
      "LR size: [384, 510] /  generated HR size: (1, 1536, 2040, 3)\n"
     ]
    },
    {
     "name": "stderr",
     "output_type": "stream",
     "text": [
      "Lossy conversion from float32 to uint8. Range [-0.9831674695014954, 0.905754566192627]. Convert image to uint8 prior to saving to suppress this warning.\n"
     ]
    },
    {
     "name": "stdout",
     "output_type": "stream",
     "text": [
      "LR size: [384, 510] /  generated HR size: (1, 1536, 2040, 3)\n"
     ]
    },
    {
     "name": "stderr",
     "output_type": "stream",
     "text": [
      "Lossy conversion from float32 to uint8. Range [-0.9831674695014954, 0.905754566192627]. Convert image to uint8 prior to saving to suppress this warning.\n"
     ]
    },
    {
     "name": "stdout",
     "output_type": "stream",
     "text": [
      "LR size: [384, 510] /  generated HR size: (1, 1536, 2040, 3)\n"
     ]
    },
    {
     "name": "stderr",
     "output_type": "stream",
     "text": [
      "Lossy conversion from float32 to uint8. Range [-0.9831674695014954, 0.905754566192627]. Convert image to uint8 prior to saving to suppress this warning.\n"
     ]
    },
    {
     "name": "stdout",
     "output_type": "stream",
     "text": [
      "LR size: [384, 510] /  generated HR size: (1, 1536, 2040, 3)\n"
     ]
    },
    {
     "name": "stderr",
     "output_type": "stream",
     "text": [
      "Lossy conversion from float32 to uint8. Range [-0.9831674695014954, 0.905754566192627]. Convert image to uint8 prior to saving to suppress this warning.\n"
     ]
    },
    {
     "name": "stdout",
     "output_type": "stream",
     "text": [
      "LR size: [384, 510] /  generated HR size: (1, 1536, 2040, 3)\n"
     ]
    },
    {
     "name": "stderr",
     "output_type": "stream",
     "text": [
      "Lossy conversion from float32 to uint8. Range [-0.9831674695014954, 0.905754566192627]. Convert image to uint8 prior to saving to suppress this warning.\n"
     ]
    },
    {
     "name": "stdout",
     "output_type": "stream",
     "text": [
      "LR size: [384, 510] /  generated HR size: (1, 1536, 2040, 3)\n"
     ]
    },
    {
     "name": "stderr",
     "output_type": "stream",
     "text": [
      "Lossy conversion from float32 to uint8. Range [-0.9831674695014954, 0.905754566192627]. Convert image to uint8 prior to saving to suppress this warning.\n"
     ]
    },
    {
     "name": "stdout",
     "output_type": "stream",
     "text": [
      "LR size: [384, 510] /  generated HR size: (1, 1536, 2040, 3)\n"
     ]
    },
    {
     "name": "stderr",
     "output_type": "stream",
     "text": [
      "Lossy conversion from float32 to uint8. Range [-0.9831674695014954, 0.905754566192627]. Convert image to uint8 prior to saving to suppress this warning.\n"
     ]
    },
    {
     "name": "stdout",
     "output_type": "stream",
     "text": [
      "LR size: [384, 510] /  generated HR size: (1, 1536, 2040, 3)\n"
     ]
    },
    {
     "name": "stderr",
     "output_type": "stream",
     "text": [
      "Lossy conversion from float32 to uint8. Range [-0.9831674695014954, 0.905754566192627]. Convert image to uint8 prior to saving to suppress this warning.\n"
     ]
    },
    {
     "name": "stdout",
     "output_type": "stream",
     "text": [
      "LR size: [384, 510] /  generated HR size: (1, 1536, 2040, 3)\n"
     ]
    },
    {
     "name": "stderr",
     "output_type": "stream",
     "text": [
      "Lossy conversion from float32 to uint8. Range [-0.9831674695014954, 0.905754566192627]. Convert image to uint8 prior to saving to suppress this warning.\n"
     ]
    },
    {
     "name": "stdout",
     "output_type": "stream",
     "text": [
      "LR size: [384, 510] /  generated HR size: (1, 1536, 2040, 3)\n"
     ]
    },
    {
     "name": "stderr",
     "output_type": "stream",
     "text": [
      "Lossy conversion from float32 to uint8. Range [-0.9831674695014954, 0.905754566192627]. Convert image to uint8 prior to saving to suppress this warning.\n"
     ]
    },
    {
     "name": "stdout",
     "output_type": "stream",
     "text": [
      "LR size: [384, 510] /  generated HR size: (1, 1536, 2040, 3)\n"
     ]
    },
    {
     "name": "stderr",
     "output_type": "stream",
     "text": [
      "Lossy conversion from float32 to uint8. Range [-0.9831674695014954, 0.905754566192627]. Convert image to uint8 prior to saving to suppress this warning.\n"
     ]
    },
    {
     "name": "stdout",
     "output_type": "stream",
     "text": [
      "LR size: [384, 510] /  generated HR size: (1, 1536, 2040, 3)\n"
     ]
    },
    {
     "name": "stderr",
     "output_type": "stream",
     "text": [
      "Lossy conversion from float32 to uint8. Range [-0.9831674695014954, 0.905754566192627]. Convert image to uint8 prior to saving to suppress this warning.\n"
     ]
    },
    {
     "name": "stdout",
     "output_type": "stream",
     "text": [
      "LR size: [384, 510] /  generated HR size: (1, 1536, 2040, 3)\n"
     ]
    },
    {
     "name": "stderr",
     "output_type": "stream",
     "text": [
      "Lossy conversion from float32 to uint8. Range [-0.9831674695014954, 0.905754566192627]. Convert image to uint8 prior to saving to suppress this warning.\n"
     ]
    },
    {
     "name": "stdout",
     "output_type": "stream",
     "text": [
      "LR size: [384, 510] /  generated HR size: (1, 1536, 2040, 3)\n"
     ]
    },
    {
     "name": "stderr",
     "output_type": "stream",
     "text": [
      "Lossy conversion from float32 to uint8. Range [-0.9831674695014954, 0.905754566192627]. Convert image to uint8 prior to saving to suppress this warning.\n"
     ]
    },
    {
     "name": "stdout",
     "output_type": "stream",
     "text": [
      "LR size: [384, 510] /  generated HR size: (1, 1536, 2040, 3)\n"
     ]
    },
    {
     "name": "stderr",
     "output_type": "stream",
     "text": [
      "Lossy conversion from float32 to uint8. Range [-0.9831674695014954, 0.905754566192627]. Convert image to uint8 prior to saving to suppress this warning.\n"
     ]
    },
    {
     "name": "stdout",
     "output_type": "stream",
     "text": [
      "LR size: [384, 510] /  generated HR size: (1, 1536, 2040, 3)\n"
     ]
    },
    {
     "name": "stderr",
     "output_type": "stream",
     "text": [
      "Lossy conversion from float32 to uint8. Range [-0.9831674695014954, 0.905754566192627]. Convert image to uint8 prior to saving to suppress this warning.\n"
     ]
    },
    {
     "name": "stdout",
     "output_type": "stream",
     "text": [
      "LR size: [384, 510] /  generated HR size: (1, 1536, 2040, 3)\n"
     ]
    },
    {
     "name": "stderr",
     "output_type": "stream",
     "text": [
      "Lossy conversion from float32 to uint8. Range [-0.9831674695014954, 0.905754566192627]. Convert image to uint8 prior to saving to suppress this warning.\n"
     ]
    },
    {
     "name": "stdout",
     "output_type": "stream",
     "text": [
      "LR size: [384, 510] /  generated HR size: (1, 1536, 2040, 3)\n"
     ]
    },
    {
     "name": "stderr",
     "output_type": "stream",
     "text": [
      "Lossy conversion from float32 to uint8. Range [-0.9831674695014954, 0.905754566192627]. Convert image to uint8 prior to saving to suppress this warning.\n"
     ]
    },
    {
     "name": "stdout",
     "output_type": "stream",
     "text": [
      "LR size: [384, 510] /  generated HR size: (1, 1536, 2040, 3)\n"
     ]
    },
    {
     "name": "stderr",
     "output_type": "stream",
     "text": [
      "Lossy conversion from float32 to uint8. Range [-0.9831674695014954, 0.905754566192627]. Convert image to uint8 prior to saving to suppress this warning.\n"
     ]
    },
    {
     "name": "stdout",
     "output_type": "stream",
     "text": [
      "LR size: [384, 510] /  generated HR size: (1, 1536, 2040, 3)\n"
     ]
    },
    {
     "name": "stderr",
     "output_type": "stream",
     "text": [
      "Lossy conversion from float32 to uint8. Range [-0.9831674695014954, 0.905754566192627]. Convert image to uint8 prior to saving to suppress this warning.\n"
     ]
    },
    {
     "name": "stdout",
     "output_type": "stream",
     "text": [
      "LR size: [384, 510] /  generated HR size: (1, 1536, 2040, 3)\n"
     ]
    },
    {
     "name": "stderr",
     "output_type": "stream",
     "text": [
      "Lossy conversion from float32 to uint8. Range [-0.9831674695014954, 0.905754566192627]. Convert image to uint8 prior to saving to suppress this warning.\n"
     ]
    },
    {
     "name": "stdout",
     "output_type": "stream",
     "text": [
      "LR size: [384, 510] /  generated HR size: (1, 1536, 2040, 3)\n"
     ]
    },
    {
     "name": "stderr",
     "output_type": "stream",
     "text": [
      "Lossy conversion from float32 to uint8. Range [-0.9831674695014954, 0.905754566192627]. Convert image to uint8 prior to saving to suppress this warning.\n"
     ]
    },
    {
     "name": "stdout",
     "output_type": "stream",
     "text": [
      "LR size: [384, 510] /  generated HR size: (1, 1536, 2040, 3)\n"
     ]
    },
    {
     "name": "stderr",
     "output_type": "stream",
     "text": [
      "Lossy conversion from float32 to uint8. Range [-0.9831674695014954, 0.905754566192627]. Convert image to uint8 prior to saving to suppress this warning.\n"
     ]
    },
    {
     "name": "stdout",
     "output_type": "stream",
     "text": [
      "LR size: [384, 510] /  generated HR size: (1, 1536, 2040, 3)\n"
     ]
    },
    {
     "name": "stderr",
     "output_type": "stream",
     "text": [
      "Lossy conversion from float32 to uint8. Range [-0.9831674695014954, 0.905754566192627]. Convert image to uint8 prior to saving to suppress this warning.\n"
     ]
    },
    {
     "name": "stdout",
     "output_type": "stream",
     "text": [
      "LR size: [384, 510] /  generated HR size: (1, 1536, 2040, 3)\n"
     ]
    },
    {
     "name": "stderr",
     "output_type": "stream",
     "text": [
      "Lossy conversion from float32 to uint8. Range [-0.9831674695014954, 0.905754566192627]. Convert image to uint8 prior to saving to suppress this warning.\n"
     ]
    },
    {
     "name": "stdout",
     "output_type": "stream",
     "text": [
      "LR size: [384, 510] /  generated HR size: (1, 1536, 2040, 3)\n"
     ]
    },
    {
     "name": "stderr",
     "output_type": "stream",
     "text": [
      "Lossy conversion from float32 to uint8. Range [-0.9831674695014954, 0.905754566192627]. Convert image to uint8 prior to saving to suppress this warning.\n"
     ]
    },
    {
     "name": "stdout",
     "output_type": "stream",
     "text": [
      "LR size: [384, 510] /  generated HR size: (1, 1536, 2040, 3)\n"
     ]
    },
    {
     "name": "stderr",
     "output_type": "stream",
     "text": [
      "Lossy conversion from float32 to uint8. Range [-0.9831674695014954, 0.905754566192627]. Convert image to uint8 prior to saving to suppress this warning.\n"
     ]
    },
    {
     "name": "stdout",
     "output_type": "stream",
     "text": [
      "LR size: [384, 510] /  generated HR size: (1, 1536, 2040, 3)\n"
     ]
    },
    {
     "name": "stderr",
     "output_type": "stream",
     "text": [
      "Lossy conversion from float32 to uint8. Range [-0.9831674695014954, 0.905754566192627]. Convert image to uint8 prior to saving to suppress this warning.\n"
     ]
    },
    {
     "name": "stdout",
     "output_type": "stream",
     "text": [
      "LR size: [384, 510] /  generated HR size: (1, 1536, 2040, 3)\n"
     ]
    },
    {
     "name": "stderr",
     "output_type": "stream",
     "text": [
      "Lossy conversion from float32 to uint8. Range [-0.9831674695014954, 0.905754566192627]. Convert image to uint8 prior to saving to suppress this warning.\n"
     ]
    },
    {
     "name": "stdout",
     "output_type": "stream",
     "text": [
      "LR size: [384, 510] /  generated HR size: (1, 1536, 2040, 3)\n"
     ]
    },
    {
     "name": "stderr",
     "output_type": "stream",
     "text": [
      "Lossy conversion from float32 to uint8. Range [-0.9831674695014954, 0.905754566192627]. Convert image to uint8 prior to saving to suppress this warning.\n"
     ]
    },
    {
     "name": "stdout",
     "output_type": "stream",
     "text": [
      "LR size: [384, 510] /  generated HR size: (1, 1536, 2040, 3)\n"
     ]
    },
    {
     "name": "stderr",
     "output_type": "stream",
     "text": [
      "Lossy conversion from float32 to uint8. Range [-0.9831674695014954, 0.905754566192627]. Convert image to uint8 prior to saving to suppress this warning.\n"
     ]
    },
    {
     "name": "stdout",
     "output_type": "stream",
     "text": [
      "LR size: [384, 510] /  generated HR size: (1, 1536, 2040, 3)\n"
     ]
    },
    {
     "name": "stderr",
     "output_type": "stream",
     "text": [
      "Lossy conversion from float32 to uint8. Range [-0.9831674695014954, 0.905754566192627]. Convert image to uint8 prior to saving to suppress this warning.\n"
     ]
    },
    {
     "name": "stdout",
     "output_type": "stream",
     "text": [
      "LR size: [384, 510] /  generated HR size: (1, 1536, 2040, 3)\n"
     ]
    },
    {
     "name": "stderr",
     "output_type": "stream",
     "text": [
      "Lossy conversion from float32 to uint8. Range [-0.9831674695014954, 0.905754566192627]. Convert image to uint8 prior to saving to suppress this warning.\n"
     ]
    },
    {
     "name": "stdout",
     "output_type": "stream",
     "text": [
      "LR size: [384, 510] /  generated HR size: (1, 1536, 2040, 3)\n"
     ]
    },
    {
     "name": "stderr",
     "output_type": "stream",
     "text": [
      "Lossy conversion from float32 to uint8. Range [-0.9831674695014954, 0.905754566192627]. Convert image to uint8 prior to saving to suppress this warning.\n"
     ]
    },
    {
     "name": "stdout",
     "output_type": "stream",
     "text": [
      "LR size: [384, 510] /  generated HR size: (1, 1536, 2040, 3)\n"
     ]
    },
    {
     "name": "stderr",
     "output_type": "stream",
     "text": [
      "Lossy conversion from float32 to uint8. Range [-0.9831674695014954, 0.905754566192627]. Convert image to uint8 prior to saving to suppress this warning.\n"
     ]
    },
    {
     "name": "stdout",
     "output_type": "stream",
     "text": [
      "LR size: [384, 510] /  generated HR size: (1, 1536, 2040, 3)\n"
     ]
    },
    {
     "name": "stderr",
     "output_type": "stream",
     "text": [
      "Lossy conversion from float32 to uint8. Range [-0.9831674695014954, 0.905754566192627]. Convert image to uint8 prior to saving to suppress this warning.\n"
     ]
    },
    {
     "name": "stdout",
     "output_type": "stream",
     "text": [
      "LR size: [384, 510] /  generated HR size: (1, 1536, 2040, 3)\n"
     ]
    },
    {
     "name": "stderr",
     "output_type": "stream",
     "text": [
      "Lossy conversion from float32 to uint8. Range [-0.9831674695014954, 0.905754566192627]. Convert image to uint8 prior to saving to suppress this warning.\n"
     ]
    },
    {
     "name": "stdout",
     "output_type": "stream",
     "text": [
      "LR size: [384, 510] /  generated HR size: (1, 1536, 2040, 3)\n"
     ]
    },
    {
     "name": "stderr",
     "output_type": "stream",
     "text": [
      "Lossy conversion from float32 to uint8. Range [-0.9831674695014954, 0.905754566192627]. Convert image to uint8 prior to saving to suppress this warning.\n"
     ]
    },
    {
     "name": "stdout",
     "output_type": "stream",
     "text": [
      "LR size: [384, 510] /  generated HR size: (1, 1536, 2040, 3)\n"
     ]
    },
    {
     "name": "stderr",
     "output_type": "stream",
     "text": [
      "Lossy conversion from float32 to uint8. Range [-0.9831674695014954, 0.905754566192627]. Convert image to uint8 prior to saving to suppress this warning.\n"
     ]
    },
    {
     "name": "stdout",
     "output_type": "stream",
     "text": [
      "LR size: [384, 510] /  generated HR size: (1, 1536, 2040, 3)\n"
     ]
    },
    {
     "name": "stderr",
     "output_type": "stream",
     "text": [
      "Lossy conversion from float32 to uint8. Range [-0.9866302013397217, 0.9825499057769775]. Convert image to uint8 prior to saving to suppress this warning.\n"
     ]
    },
    {
     "name": "stdout",
     "output_type": "stream",
     "text": [
      "LR size: [339, 510] /  generated HR size: (1, 1356, 2040, 3)\n"
     ]
    },
    {
     "name": "stderr",
     "output_type": "stream",
     "text": [
      "Lossy conversion from float32 to uint8. Range [-0.9866302013397217, 0.9825499057769775]. Convert image to uint8 prior to saving to suppress this warning.\n"
     ]
    },
    {
     "name": "stdout",
     "output_type": "stream",
     "text": [
      "LR size: [339, 510] /  generated HR size: (1, 1356, 2040, 3)\n"
     ]
    },
    {
     "name": "stderr",
     "output_type": "stream",
     "text": [
      "Lossy conversion from float32 to uint8. Range [-0.9866302013397217, 0.9825499057769775]. Convert image to uint8 prior to saving to suppress this warning.\n"
     ]
    },
    {
     "name": "stdout",
     "output_type": "stream",
     "text": [
      "LR size: [339, 510] /  generated HR size: (1, 1356, 2040, 3)\n"
     ]
    },
    {
     "name": "stderr",
     "output_type": "stream",
     "text": [
      "Lossy conversion from float32 to uint8. Range [-0.9866302013397217, 0.9825499057769775]. Convert image to uint8 prior to saving to suppress this warning.\n"
     ]
    },
    {
     "name": "stdout",
     "output_type": "stream",
     "text": [
      "LR size: [339, 510] /  generated HR size: (1, 1356, 2040, 3)\n"
     ]
    },
    {
     "name": "stderr",
     "output_type": "stream",
     "text": [
      "Lossy conversion from float32 to uint8. Range [-0.9866302013397217, 0.9825499057769775]. Convert image to uint8 prior to saving to suppress this warning.\n"
     ]
    },
    {
     "name": "stdout",
     "output_type": "stream",
     "text": [
      "LR size: [339, 510] /  generated HR size: (1, 1356, 2040, 3)\n"
     ]
    },
    {
     "name": "stderr",
     "output_type": "stream",
     "text": [
      "Lossy conversion from float32 to uint8. Range [-0.9866302013397217, 0.9825499057769775]. Convert image to uint8 prior to saving to suppress this warning.\n"
     ]
    },
    {
     "name": "stdout",
     "output_type": "stream",
     "text": [
      "LR size: [339, 510] /  generated HR size: (1, 1356, 2040, 3)\n"
     ]
    },
    {
     "name": "stderr",
     "output_type": "stream",
     "text": [
      "Lossy conversion from float32 to uint8. Range [-0.9866302013397217, 0.9825499057769775]. Convert image to uint8 prior to saving to suppress this warning.\n"
     ]
    },
    {
     "name": "stdout",
     "output_type": "stream",
     "text": [
      "LR size: [339, 510] /  generated HR size: (1, 1356, 2040, 3)\n"
     ]
    },
    {
     "name": "stderr",
     "output_type": "stream",
     "text": [
      "Lossy conversion from float32 to uint8. Range [-0.9866302013397217, 0.9825499057769775]. Convert image to uint8 prior to saving to suppress this warning.\n"
     ]
    },
    {
     "name": "stdout",
     "output_type": "stream",
     "text": [
      "LR size: [339, 510] /  generated HR size: (1, 1356, 2040, 3)\n"
     ]
    },
    {
     "name": "stderr",
     "output_type": "stream",
     "text": [
      "Lossy conversion from float32 to uint8. Range [-0.9866302013397217, 0.9825499057769775]. Convert image to uint8 prior to saving to suppress this warning.\n"
     ]
    },
    {
     "name": "stdout",
     "output_type": "stream",
     "text": [
      "LR size: [339, 510] /  generated HR size: (1, 1356, 2040, 3)\n"
     ]
    },
    {
     "name": "stderr",
     "output_type": "stream",
     "text": [
      "Lossy conversion from float32 to uint8. Range [-0.9866302013397217, 0.9825499057769775]. Convert image to uint8 prior to saving to suppress this warning.\n"
     ]
    },
    {
     "name": "stdout",
     "output_type": "stream",
     "text": [
      "LR size: [339, 510] /  generated HR size: (1, 1356, 2040, 3)\n"
     ]
    },
    {
     "name": "stderr",
     "output_type": "stream",
     "text": [
      "Lossy conversion from float32 to uint8. Range [-0.9866302013397217, 0.9825499057769775]. Convert image to uint8 prior to saving to suppress this warning.\n"
     ]
    },
    {
     "name": "stdout",
     "output_type": "stream",
     "text": [
      "LR size: [339, 510] /  generated HR size: (1, 1356, 2040, 3)\n"
     ]
    },
    {
     "name": "stderr",
     "output_type": "stream",
     "text": [
      "Lossy conversion from float32 to uint8. Range [-0.9866302013397217, 0.9825499057769775]. Convert image to uint8 prior to saving to suppress this warning.\n"
     ]
    },
    {
     "name": "stdout",
     "output_type": "stream",
     "text": [
      "LR size: [339, 510] /  generated HR size: (1, 1356, 2040, 3)\n"
     ]
    },
    {
     "name": "stderr",
     "output_type": "stream",
     "text": [
      "Lossy conversion from float32 to uint8. Range [-0.9866302013397217, 0.9825499057769775]. Convert image to uint8 prior to saving to suppress this warning.\n"
     ]
    },
    {
     "name": "stdout",
     "output_type": "stream",
     "text": [
      "LR size: [339, 510] /  generated HR size: (1, 1356, 2040, 3)\n"
     ]
    },
    {
     "name": "stderr",
     "output_type": "stream",
     "text": [
      "Lossy conversion from float32 to uint8. Range [-0.9866302013397217, 0.9825499057769775]. Convert image to uint8 prior to saving to suppress this warning.\n"
     ]
    },
    {
     "name": "stdout",
     "output_type": "stream",
     "text": [
      "LR size: [339, 510] /  generated HR size: (1, 1356, 2040, 3)\n"
     ]
    },
    {
     "name": "stderr",
     "output_type": "stream",
     "text": [
      "Lossy conversion from float32 to uint8. Range [-0.9866302013397217, 0.9825499057769775]. Convert image to uint8 prior to saving to suppress this warning.\n"
     ]
    },
    {
     "name": "stdout",
     "output_type": "stream",
     "text": [
      "LR size: [339, 510] /  generated HR size: (1, 1356, 2040, 3)\n"
     ]
    },
    {
     "name": "stderr",
     "output_type": "stream",
     "text": [
      "Lossy conversion from float32 to uint8. Range [-0.9866302013397217, 0.9825499057769775]. Convert image to uint8 prior to saving to suppress this warning.\n"
     ]
    },
    {
     "name": "stdout",
     "output_type": "stream",
     "text": [
      "LR size: [339, 510] /  generated HR size: (1, 1356, 2040, 3)\n"
     ]
    },
    {
     "name": "stderr",
     "output_type": "stream",
     "text": [
      "Lossy conversion from float32 to uint8. Range [-0.9866302013397217, 0.9825499057769775]. Convert image to uint8 prior to saving to suppress this warning.\n"
     ]
    },
    {
     "name": "stdout",
     "output_type": "stream",
     "text": [
      "LR size: [339, 510] /  generated HR size: (1, 1356, 2040, 3)\n"
     ]
    },
    {
     "name": "stderr",
     "output_type": "stream",
     "text": [
      "Lossy conversion from float32 to uint8. Range [-0.9866302013397217, 0.9825499057769775]. Convert image to uint8 prior to saving to suppress this warning.\n"
     ]
    },
    {
     "name": "stdout",
     "output_type": "stream",
     "text": [
      "LR size: [339, 510] /  generated HR size: (1, 1356, 2040, 3)\n"
     ]
    },
    {
     "name": "stderr",
     "output_type": "stream",
     "text": [
      "Lossy conversion from float32 to uint8. Range [-0.9866302013397217, 0.9825499057769775]. Convert image to uint8 prior to saving to suppress this warning.\n"
     ]
    },
    {
     "name": "stdout",
     "output_type": "stream",
     "text": [
      "LR size: [339, 510] /  generated HR size: (1, 1356, 2040, 3)\n"
     ]
    },
    {
     "name": "stderr",
     "output_type": "stream",
     "text": [
      "Lossy conversion from float32 to uint8. Range [-0.9866302013397217, 0.9825499057769775]. Convert image to uint8 prior to saving to suppress this warning.\n"
     ]
    },
    {
     "name": "stdout",
     "output_type": "stream",
     "text": [
      "LR size: [339, 510] /  generated HR size: (1, 1356, 2040, 3)\n"
     ]
    },
    {
     "name": "stderr",
     "output_type": "stream",
     "text": [
      "Lossy conversion from float32 to uint8. Range [-0.9866302013397217, 0.9825499057769775]. Convert image to uint8 prior to saving to suppress this warning.\n"
     ]
    },
    {
     "name": "stdout",
     "output_type": "stream",
     "text": [
      "LR size: [339, 510] /  generated HR size: (1, 1356, 2040, 3)\n"
     ]
    },
    {
     "name": "stderr",
     "output_type": "stream",
     "text": [
      "Lossy conversion from float32 to uint8. Range [-0.9866302013397217, 0.9825499057769775]. Convert image to uint8 prior to saving to suppress this warning.\n"
     ]
    },
    {
     "name": "stdout",
     "output_type": "stream",
     "text": [
      "LR size: [339, 510] /  generated HR size: (1, 1356, 2040, 3)\n"
     ]
    },
    {
     "name": "stderr",
     "output_type": "stream",
     "text": [
      "Lossy conversion from float32 to uint8. Range [-0.9866302013397217, 0.9825499057769775]. Convert image to uint8 prior to saving to suppress this warning.\n"
     ]
    },
    {
     "name": "stdout",
     "output_type": "stream",
     "text": [
      "LR size: [339, 510] /  generated HR size: (1, 1356, 2040, 3)\n"
     ]
    },
    {
     "name": "stderr",
     "output_type": "stream",
     "text": [
      "Lossy conversion from float32 to uint8. Range [-0.9866302013397217, 0.9825499057769775]. Convert image to uint8 prior to saving to suppress this warning.\n"
     ]
    },
    {
     "name": "stdout",
     "output_type": "stream",
     "text": [
      "LR size: [339, 510] /  generated HR size: (1, 1356, 2040, 3)\n"
     ]
    },
    {
     "name": "stderr",
     "output_type": "stream",
     "text": [
      "Lossy conversion from float32 to uint8. Range [-0.9866302013397217, 0.9825499057769775]. Convert image to uint8 prior to saving to suppress this warning.\n"
     ]
    },
    {
     "name": "stdout",
     "output_type": "stream",
     "text": [
      "LR size: [339, 510] /  generated HR size: (1, 1356, 2040, 3)\n"
     ]
    },
    {
     "name": "stderr",
     "output_type": "stream",
     "text": [
      "Lossy conversion from float32 to uint8. Range [-0.9866302013397217, 0.9825499057769775]. Convert image to uint8 prior to saving to suppress this warning.\n"
     ]
    },
    {
     "name": "stdout",
     "output_type": "stream",
     "text": [
      "LR size: [339, 510] /  generated HR size: (1, 1356, 2040, 3)\n"
     ]
    },
    {
     "name": "stderr",
     "output_type": "stream",
     "text": [
      "Lossy conversion from float32 to uint8. Range [-0.9866302013397217, 0.9825499057769775]. Convert image to uint8 prior to saving to suppress this warning.\n"
     ]
    },
    {
     "name": "stdout",
     "output_type": "stream",
     "text": [
      "LR size: [339, 510] /  generated HR size: (1, 1356, 2040, 3)\n"
     ]
    },
    {
     "name": "stderr",
     "output_type": "stream",
     "text": [
      "Lossy conversion from float32 to uint8. Range [-0.9866302013397217, 0.9825499057769775]. Convert image to uint8 prior to saving to suppress this warning.\n"
     ]
    },
    {
     "name": "stdout",
     "output_type": "stream",
     "text": [
      "LR size: [339, 510] /  generated HR size: (1, 1356, 2040, 3)\n"
     ]
    },
    {
     "name": "stderr",
     "output_type": "stream",
     "text": [
      "Lossy conversion from float32 to uint8. Range [-0.9866302013397217, 0.9825499057769775]. Convert image to uint8 prior to saving to suppress this warning.\n"
     ]
    },
    {
     "name": "stdout",
     "output_type": "stream",
     "text": [
      "LR size: [339, 510] /  generated HR size: (1, 1356, 2040, 3)\n"
     ]
    },
    {
     "name": "stderr",
     "output_type": "stream",
     "text": [
      "Lossy conversion from float32 to uint8. Range [-0.9866302013397217, 0.9825499057769775]. Convert image to uint8 prior to saving to suppress this warning.\n"
     ]
    },
    {
     "name": "stdout",
     "output_type": "stream",
     "text": [
      "LR size: [339, 510] /  generated HR size: (1, 1356, 2040, 3)\n"
     ]
    },
    {
     "name": "stderr",
     "output_type": "stream",
     "text": [
      "Lossy conversion from float32 to uint8. Range [-0.9866302013397217, 0.9825499057769775]. Convert image to uint8 prior to saving to suppress this warning.\n"
     ]
    },
    {
     "name": "stdout",
     "output_type": "stream",
     "text": [
      "LR size: [339, 510] /  generated HR size: (1, 1356, 2040, 3)\n"
     ]
    },
    {
     "name": "stderr",
     "output_type": "stream",
     "text": [
      "Lossy conversion from float32 to uint8. Range [-0.9866302013397217, 0.9825499057769775]. Convert image to uint8 prior to saving to suppress this warning.\n"
     ]
    },
    {
     "name": "stdout",
     "output_type": "stream",
     "text": [
      "LR size: [339, 510] /  generated HR size: (1, 1356, 2040, 3)\n"
     ]
    },
    {
     "name": "stderr",
     "output_type": "stream",
     "text": [
      "Lossy conversion from float32 to uint8. Range [-0.9866302013397217, 0.9825499057769775]. Convert image to uint8 prior to saving to suppress this warning.\n"
     ]
    },
    {
     "name": "stdout",
     "output_type": "stream",
     "text": [
      "LR size: [339, 510] /  generated HR size: (1, 1356, 2040, 3)\n"
     ]
    },
    {
     "name": "stderr",
     "output_type": "stream",
     "text": [
      "Lossy conversion from float32 to uint8. Range [-0.9866302013397217, 0.9825499057769775]. Convert image to uint8 prior to saving to suppress this warning.\n"
     ]
    },
    {
     "name": "stdout",
     "output_type": "stream",
     "text": [
      "LR size: [339, 510] /  generated HR size: (1, 1356, 2040, 3)\n"
     ]
    },
    {
     "name": "stderr",
     "output_type": "stream",
     "text": [
      "Lossy conversion from float32 to uint8. Range [-0.9866302013397217, 0.9825499057769775]. Convert image to uint8 prior to saving to suppress this warning.\n"
     ]
    },
    {
     "name": "stdout",
     "output_type": "stream",
     "text": [
      "LR size: [339, 510] /  generated HR size: (1, 1356, 2040, 3)\n"
     ]
    },
    {
     "name": "stderr",
     "output_type": "stream",
     "text": [
      "Lossy conversion from float32 to uint8. Range [-0.9866302013397217, 0.9825499057769775]. Convert image to uint8 prior to saving to suppress this warning.\n"
     ]
    },
    {
     "name": "stdout",
     "output_type": "stream",
     "text": [
      "LR size: [339, 510] /  generated HR size: (1, 1356, 2040, 3)\n"
     ]
    },
    {
     "name": "stderr",
     "output_type": "stream",
     "text": [
      "Lossy conversion from float32 to uint8. Range [-0.9866302013397217, 0.9825499057769775]. Convert image to uint8 prior to saving to suppress this warning.\n"
     ]
    },
    {
     "name": "stdout",
     "output_type": "stream",
     "text": [
      "LR size: [339, 510] /  generated HR size: (1, 1356, 2040, 3)\n"
     ]
    },
    {
     "name": "stderr",
     "output_type": "stream",
     "text": [
      "Lossy conversion from float32 to uint8. Range [-0.9866302013397217, 0.9825499057769775]. Convert image to uint8 prior to saving to suppress this warning.\n"
     ]
    },
    {
     "name": "stdout",
     "output_type": "stream",
     "text": [
      "LR size: [339, 510] /  generated HR size: (1, 1356, 2040, 3)\n"
     ]
    },
    {
     "name": "stderr",
     "output_type": "stream",
     "text": [
      "Lossy conversion from float32 to uint8. Range [-0.9866302013397217, 0.9825499057769775]. Convert image to uint8 prior to saving to suppress this warning.\n"
     ]
    },
    {
     "name": "stdout",
     "output_type": "stream",
     "text": [
      "LR size: [339, 510] /  generated HR size: (1, 1356, 2040, 3)\n"
     ]
    },
    {
     "name": "stderr",
     "output_type": "stream",
     "text": [
      "Lossy conversion from float32 to uint8. Range [-0.9866302013397217, 0.9825499057769775]. Convert image to uint8 prior to saving to suppress this warning.\n"
     ]
    },
    {
     "name": "stdout",
     "output_type": "stream",
     "text": [
      "LR size: [339, 510] /  generated HR size: (1, 1356, 2040, 3)\n"
     ]
    },
    {
     "name": "stderr",
     "output_type": "stream",
     "text": [
      "Lossy conversion from float32 to uint8. Range [-0.9866302013397217, 0.9825499057769775]. Convert image to uint8 prior to saving to suppress this warning.\n"
     ]
    },
    {
     "name": "stdout",
     "output_type": "stream",
     "text": [
      "LR size: [339, 510] /  generated HR size: (1, 1356, 2040, 3)\n"
     ]
    },
    {
     "name": "stderr",
     "output_type": "stream",
     "text": [
      "Lossy conversion from float32 to uint8. Range [-0.9866302013397217, 0.9825499057769775]. Convert image to uint8 prior to saving to suppress this warning.\n"
     ]
    },
    {
     "name": "stdout",
     "output_type": "stream",
     "text": [
      "LR size: [339, 510] /  generated HR size: (1, 1356, 2040, 3)\n"
     ]
    },
    {
     "name": "stderr",
     "output_type": "stream",
     "text": [
      "Lossy conversion from float32 to uint8. Range [-0.9866302013397217, 0.9825499057769775]. Convert image to uint8 prior to saving to suppress this warning.\n"
     ]
    },
    {
     "name": "stdout",
     "output_type": "stream",
     "text": [
      "LR size: [339, 510] /  generated HR size: (1, 1356, 2040, 3)\n"
     ]
    },
    {
     "name": "stderr",
     "output_type": "stream",
     "text": [
      "Lossy conversion from float32 to uint8. Range [-0.9866302013397217, 0.9825499057769775]. Convert image to uint8 prior to saving to suppress this warning.\n"
     ]
    },
    {
     "name": "stdout",
     "output_type": "stream",
     "text": [
      "LR size: [339, 510] /  generated HR size: (1, 1356, 2040, 3)\n"
     ]
    },
    {
     "name": "stderr",
     "output_type": "stream",
     "text": [
      "Lossy conversion from float32 to uint8. Range [-0.9866302013397217, 0.9825499057769775]. Convert image to uint8 prior to saving to suppress this warning.\n"
     ]
    },
    {
     "name": "stdout",
     "output_type": "stream",
     "text": [
      "LR size: [339, 510] /  generated HR size: (1, 1356, 2040, 3)\n"
     ]
    },
    {
     "name": "stderr",
     "output_type": "stream",
     "text": [
      "Lossy conversion from float32 to uint8. Range [-0.9866302013397217, 0.9825499057769775]. Convert image to uint8 prior to saving to suppress this warning.\n"
     ]
    },
    {
     "name": "stdout",
     "output_type": "stream",
     "text": [
      "LR size: [339, 510] /  generated HR size: (1, 1356, 2040, 3)\n"
     ]
    },
    {
     "name": "stderr",
     "output_type": "stream",
     "text": [
      "Lossy conversion from float32 to uint8. Range [-0.9866302013397217, 0.9825499057769775]. Convert image to uint8 prior to saving to suppress this warning.\n"
     ]
    },
    {
     "name": "stdout",
     "output_type": "stream",
     "text": [
      "LR size: [339, 510] /  generated HR size: (1, 1356, 2040, 3)\n"
     ]
    },
    {
     "name": "stderr",
     "output_type": "stream",
     "text": [
      "Lossy conversion from float32 to uint8. Range [-0.9866302013397217, 0.9825499057769775]. Convert image to uint8 prior to saving to suppress this warning.\n"
     ]
    },
    {
     "name": "stdout",
     "output_type": "stream",
     "text": [
      "LR size: [339, 510] /  generated HR size: (1, 1356, 2040, 3)\n"
     ]
    },
    {
     "name": "stderr",
     "output_type": "stream",
     "text": [
      "Lossy conversion from float32 to uint8. Range [-0.9866302013397217, 0.9825499057769775]. Convert image to uint8 prior to saving to suppress this warning.\n"
     ]
    },
    {
     "name": "stdout",
     "output_type": "stream",
     "text": [
      "LR size: [339, 510] /  generated HR size: (1, 1356, 2040, 3)\n"
     ]
    },
    {
     "name": "stderr",
     "output_type": "stream",
     "text": [
      "Lossy conversion from float32 to uint8. Range [-0.9866302013397217, 0.9825499057769775]. Convert image to uint8 prior to saving to suppress this warning.\n"
     ]
    },
    {
     "name": "stdout",
     "output_type": "stream",
     "text": [
      "LR size: [339, 510] /  generated HR size: (1, 1356, 2040, 3)\n"
     ]
    },
    {
     "name": "stderr",
     "output_type": "stream",
     "text": [
      "Lossy conversion from float32 to uint8. Range [-0.9866302013397217, 0.9825499057769775]. Convert image to uint8 prior to saving to suppress this warning.\n"
     ]
    },
    {
     "name": "stdout",
     "output_type": "stream",
     "text": [
      "LR size: [339, 510] /  generated HR size: (1, 1356, 2040, 3)\n"
     ]
    },
    {
     "name": "stderr",
     "output_type": "stream",
     "text": [
      "Lossy conversion from float32 to uint8. Range [-0.9866302013397217, 0.9825499057769775]. Convert image to uint8 prior to saving to suppress this warning.\n"
     ]
    },
    {
     "name": "stdout",
     "output_type": "stream",
     "text": [
      "LR size: [339, 510] /  generated HR size: (1, 1356, 2040, 3)\n"
     ]
    },
    {
     "name": "stderr",
     "output_type": "stream",
     "text": [
      "Lossy conversion from float32 to uint8. Range [-0.9866302013397217, 0.9825499057769775]. Convert image to uint8 prior to saving to suppress this warning.\n"
     ]
    },
    {
     "name": "stdout",
     "output_type": "stream",
     "text": [
      "LR size: [339, 510] /  generated HR size: (1, 1356, 2040, 3)\n"
     ]
    },
    {
     "name": "stderr",
     "output_type": "stream",
     "text": [
      "Lossy conversion from float32 to uint8. Range [-0.9866302013397217, 0.9825499057769775]. Convert image to uint8 prior to saving to suppress this warning.\n"
     ]
    },
    {
     "name": "stdout",
     "output_type": "stream",
     "text": [
      "LR size: [339, 510] /  generated HR size: (1, 1356, 2040, 3)\n"
     ]
    },
    {
     "name": "stderr",
     "output_type": "stream",
     "text": [
      "Lossy conversion from float32 to uint8. Range [-0.9866302013397217, 0.9825499057769775]. Convert image to uint8 prior to saving to suppress this warning.\n"
     ]
    },
    {
     "name": "stdout",
     "output_type": "stream",
     "text": [
      "LR size: [339, 510] /  generated HR size: (1, 1356, 2040, 3)\n"
     ]
    },
    {
     "name": "stderr",
     "output_type": "stream",
     "text": [
      "Lossy conversion from float32 to uint8. Range [-0.9866302013397217, 0.9825499057769775]. Convert image to uint8 prior to saving to suppress this warning.\n"
     ]
    },
    {
     "name": "stdout",
     "output_type": "stream",
     "text": [
      "LR size: [339, 510] /  generated HR size: (1, 1356, 2040, 3)\n"
     ]
    },
    {
     "name": "stderr",
     "output_type": "stream",
     "text": [
      "Lossy conversion from float32 to uint8. Range [-0.9866302013397217, 0.9825499057769775]. Convert image to uint8 prior to saving to suppress this warning.\n"
     ]
    },
    {
     "name": "stdout",
     "output_type": "stream",
     "text": [
      "LR size: [339, 510] /  generated HR size: (1, 1356, 2040, 3)\n"
     ]
    },
    {
     "name": "stderr",
     "output_type": "stream",
     "text": [
      "Lossy conversion from float32 to uint8. Range [-0.9866302013397217, 0.9825499057769775]. Convert image to uint8 prior to saving to suppress this warning.\n"
     ]
    },
    {
     "name": "stdout",
     "output_type": "stream",
     "text": [
      "LR size: [339, 510] /  generated HR size: (1, 1356, 2040, 3)\n"
     ]
    },
    {
     "name": "stderr",
     "output_type": "stream",
     "text": [
      "Lossy conversion from float32 to uint8. Range [-0.9866302013397217, 0.9825499057769775]. Convert image to uint8 prior to saving to suppress this warning.\n"
     ]
    },
    {
     "name": "stdout",
     "output_type": "stream",
     "text": [
      "LR size: [339, 510] /  generated HR size: (1, 1356, 2040, 3)\n"
     ]
    },
    {
     "name": "stderr",
     "output_type": "stream",
     "text": [
      "Lossy conversion from float32 to uint8. Range [-0.9866302013397217, 0.9825499057769775]. Convert image to uint8 prior to saving to suppress this warning.\n"
     ]
    },
    {
     "name": "stdout",
     "output_type": "stream",
     "text": [
      "LR size: [339, 510] /  generated HR size: (1, 1356, 2040, 3)\n"
     ]
    },
    {
     "name": "stderr",
     "output_type": "stream",
     "text": [
      "Lossy conversion from float32 to uint8. Range [-0.9866302013397217, 0.9825499057769775]. Convert image to uint8 prior to saving to suppress this warning.\n"
     ]
    },
    {
     "name": "stdout",
     "output_type": "stream",
     "text": [
      "LR size: [339, 510] /  generated HR size: (1, 1356, 2040, 3)\n"
     ]
    },
    {
     "name": "stderr",
     "output_type": "stream",
     "text": [
      "Lossy conversion from float32 to uint8. Range [-0.9866302013397217, 0.9825499057769775]. Convert image to uint8 prior to saving to suppress this warning.\n"
     ]
    },
    {
     "name": "stdout",
     "output_type": "stream",
     "text": [
      "LR size: [339, 510] /  generated HR size: (1, 1356, 2040, 3)\n"
     ]
    },
    {
     "name": "stderr",
     "output_type": "stream",
     "text": [
      "Lossy conversion from float32 to uint8. Range [-0.9866302013397217, 0.9825499057769775]. Convert image to uint8 prior to saving to suppress this warning.\n"
     ]
    },
    {
     "name": "stdout",
     "output_type": "stream",
     "text": [
      "LR size: [339, 510] /  generated HR size: (1, 1356, 2040, 3)\n"
     ]
    },
    {
     "name": "stderr",
     "output_type": "stream",
     "text": [
      "Lossy conversion from float32 to uint8. Range [-0.9866302013397217, 0.9825499057769775]. Convert image to uint8 prior to saving to suppress this warning.\n"
     ]
    },
    {
     "name": "stdout",
     "output_type": "stream",
     "text": [
      "LR size: [339, 510] /  generated HR size: (1, 1356, 2040, 3)\n"
     ]
    },
    {
     "name": "stderr",
     "output_type": "stream",
     "text": [
      "Lossy conversion from float32 to uint8. Range [-0.9866302013397217, 0.9825499057769775]. Convert image to uint8 prior to saving to suppress this warning.\n"
     ]
    },
    {
     "name": "stdout",
     "output_type": "stream",
     "text": [
      "LR size: [339, 510] /  generated HR size: (1, 1356, 2040, 3)\n"
     ]
    },
    {
     "name": "stderr",
     "output_type": "stream",
     "text": [
      "Lossy conversion from float32 to uint8. Range [-0.9866302013397217, 0.9825499057769775]. Convert image to uint8 prior to saving to suppress this warning.\n"
     ]
    },
    {
     "name": "stdout",
     "output_type": "stream",
     "text": [
      "LR size: [339, 510] /  generated HR size: (1, 1356, 2040, 3)\n"
     ]
    },
    {
     "name": "stderr",
     "output_type": "stream",
     "text": [
      "Lossy conversion from float32 to uint8. Range [-0.9866302013397217, 0.9825499057769775]. Convert image to uint8 prior to saving to suppress this warning.\n"
     ]
    },
    {
     "name": "stdout",
     "output_type": "stream",
     "text": [
      "LR size: [339, 510] /  generated HR size: (1, 1356, 2040, 3)\n"
     ]
    },
    {
     "name": "stderr",
     "output_type": "stream",
     "text": [
      "Lossy conversion from float32 to uint8. Range [-0.9866302013397217, 0.9825499057769775]. Convert image to uint8 prior to saving to suppress this warning.\n"
     ]
    },
    {
     "name": "stdout",
     "output_type": "stream",
     "text": [
      "LR size: [339, 510] /  generated HR size: (1, 1356, 2040, 3)\n"
     ]
    },
    {
     "name": "stderr",
     "output_type": "stream",
     "text": [
      "Lossy conversion from float32 to uint8. Range [-0.9866302013397217, 0.9825499057769775]. Convert image to uint8 prior to saving to suppress this warning.\n"
     ]
    },
    {
     "name": "stdout",
     "output_type": "stream",
     "text": [
      "LR size: [339, 510] /  generated HR size: (1, 1356, 2040, 3)\n"
     ]
    },
    {
     "name": "stderr",
     "output_type": "stream",
     "text": [
      "Lossy conversion from float32 to uint8. Range [-0.9866302013397217, 0.9825499057769775]. Convert image to uint8 prior to saving to suppress this warning.\n"
     ]
    },
    {
     "name": "stdout",
     "output_type": "stream",
     "text": [
      "LR size: [339, 510] /  generated HR size: (1, 1356, 2040, 3)\n"
     ]
    },
    {
     "name": "stderr",
     "output_type": "stream",
     "text": [
      "Lossy conversion from float32 to uint8. Range [-0.9866302013397217, 0.9825499057769775]. Convert image to uint8 prior to saving to suppress this warning.\n"
     ]
    },
    {
     "name": "stdout",
     "output_type": "stream",
     "text": [
      "LR size: [339, 510] /  generated HR size: (1, 1356, 2040, 3)\n"
     ]
    },
    {
     "name": "stderr",
     "output_type": "stream",
     "text": [
      "Lossy conversion from float32 to uint8. Range [-0.9866302013397217, 0.9825499057769775]. Convert image to uint8 prior to saving to suppress this warning.\n"
     ]
    },
    {
     "name": "stdout",
     "output_type": "stream",
     "text": [
      "LR size: [339, 510] /  generated HR size: (1, 1356, 2040, 3)\n"
     ]
    },
    {
     "name": "stderr",
     "output_type": "stream",
     "text": [
      "Lossy conversion from float32 to uint8. Range [-0.9866302013397217, 0.9825499057769775]. Convert image to uint8 prior to saving to suppress this warning.\n"
     ]
    },
    {
     "name": "stdout",
     "output_type": "stream",
     "text": [
      "LR size: [339, 510] /  generated HR size: (1, 1356, 2040, 3)\n"
     ]
    },
    {
     "name": "stderr",
     "output_type": "stream",
     "text": [
      "Lossy conversion from float32 to uint8. Range [-0.9866302013397217, 0.9825499057769775]. Convert image to uint8 prior to saving to suppress this warning.\n"
     ]
    },
    {
     "name": "stdout",
     "output_type": "stream",
     "text": [
      "LR size: [339, 510] /  generated HR size: (1, 1356, 2040, 3)\n"
     ]
    },
    {
     "name": "stderr",
     "output_type": "stream",
     "text": [
      "Lossy conversion from float32 to uint8. Range [-0.9866302013397217, 0.9825499057769775]. Convert image to uint8 prior to saving to suppress this warning.\n"
     ]
    },
    {
     "name": "stdout",
     "output_type": "stream",
     "text": [
      "LR size: [339, 510] /  generated HR size: (1, 1356, 2040, 3)\n"
     ]
    },
    {
     "name": "stderr",
     "output_type": "stream",
     "text": [
      "Lossy conversion from float32 to uint8. Range [-0.9866302013397217, 0.9825499057769775]. Convert image to uint8 prior to saving to suppress this warning.\n"
     ]
    },
    {
     "name": "stdout",
     "output_type": "stream",
     "text": [
      "LR size: [339, 510] /  generated HR size: (1, 1356, 2040, 3)\n"
     ]
    },
    {
     "name": "stderr",
     "output_type": "stream",
     "text": [
      "Lossy conversion from float32 to uint8. Range [-0.9866302013397217, 0.9825499057769775]. Convert image to uint8 prior to saving to suppress this warning.\n"
     ]
    },
    {
     "name": "stdout",
     "output_type": "stream",
     "text": [
      "LR size: [339, 510] /  generated HR size: (1, 1356, 2040, 3)\n"
     ]
    },
    {
     "name": "stderr",
     "output_type": "stream",
     "text": [
      "Lossy conversion from float32 to uint8. Range [-0.9866302013397217, 0.9825499057769775]. Convert image to uint8 prior to saving to suppress this warning.\n"
     ]
    },
    {
     "name": "stdout",
     "output_type": "stream",
     "text": [
      "LR size: [339, 510] /  generated HR size: (1, 1356, 2040, 3)\n"
     ]
    },
    {
     "name": "stderr",
     "output_type": "stream",
     "text": [
      "Lossy conversion from float32 to uint8. Range [-0.9866302013397217, 0.9825499057769775]. Convert image to uint8 prior to saving to suppress this warning.\n"
     ]
    },
    {
     "name": "stdout",
     "output_type": "stream",
     "text": [
      "LR size: [339, 510] /  generated HR size: (1, 1356, 2040, 3)\n"
     ]
    },
    {
     "name": "stderr",
     "output_type": "stream",
     "text": [
      "Lossy conversion from float32 to uint8. Range [-0.9866302013397217, 0.9825499057769775]. Convert image to uint8 prior to saving to suppress this warning.\n"
     ]
    },
    {
     "name": "stdout",
     "output_type": "stream",
     "text": [
      "LR size: [339, 510] /  generated HR size: (1, 1356, 2040, 3)\n"
     ]
    },
    {
     "name": "stderr",
     "output_type": "stream",
     "text": [
      "Lossy conversion from float32 to uint8. Range [-0.9866302013397217, 0.9825499057769775]. Convert image to uint8 prior to saving to suppress this warning.\n"
     ]
    },
    {
     "name": "stdout",
     "output_type": "stream",
     "text": [
      "LR size: [339, 510] /  generated HR size: (1, 1356, 2040, 3)\n"
     ]
    },
    {
     "name": "stderr",
     "output_type": "stream",
     "text": [
      "Lossy conversion from float32 to uint8. Range [-0.9866302013397217, 0.9825499057769775]. Convert image to uint8 prior to saving to suppress this warning.\n"
     ]
    },
    {
     "name": "stdout",
     "output_type": "stream",
     "text": [
      "LR size: [339, 510] /  generated HR size: (1, 1356, 2040, 3)\n"
     ]
    },
    {
     "name": "stderr",
     "output_type": "stream",
     "text": [
      "Lossy conversion from float32 to uint8. Range [-0.9866302013397217, 0.9825499057769775]. Convert image to uint8 prior to saving to suppress this warning.\n"
     ]
    },
    {
     "name": "stdout",
     "output_type": "stream",
     "text": [
      "LR size: [339, 510] /  generated HR size: (1, 1356, 2040, 3)\n"
     ]
    }
   ],
   "source": [
    "l = len(valid_hr_img_list)\n",
    "\n",
    "for image in rand_three(l):\n",
    "    validate_ds_array = []\n",
    "    for model in models:\n",
    "        valid_hr_img = valid_hr_imgs[image]\n",
    "        image_name = valid_hr_img_list[image]\n",
    "        \n",
    "        ev = evaluate_downsample(\"checkpoint\", model, valid_hr_img, image_name, G = G)\n",
    "        \n",
    "        G = ev.pop(\"G\", G)\n",
    "        validate_ds_array.append(ev) \n",
    "        \n",
    "    with open(\"logs/\" + image_name + \"-ds.json\", mode='w', encoding='utf-8') as f:\n",
    "        json.dump(validate_ds_array, f)\n",
    "    "
   ]
  },
  {
   "cell_type": "code",
   "execution_count": 10,
   "metadata": {},
   "outputs": [
    {
     "data": {
      "text/html": [
       "<div>\n",
       "<style scoped>\n",
       "    .dataframe tbody tr th:only-of-type {\n",
       "        vertical-align: middle;\n",
       "    }\n",
       "\n",
       "    .dataframe tbody tr th {\n",
       "        vertical-align: top;\n",
       "    }\n",
       "\n",
       "    .dataframe thead th {\n",
       "        text-align: right;\n",
       "    }\n",
       "</style>\n",
       "<table border=\"1\" class=\"dataframe\">\n",
       "  <thead>\n",
       "    <tr style=\"text-align: right;\">\n",
       "      <th></th>\n",
       "      <th>model</th>\n",
       "      <th>psnr_bic_hr</th>\n",
       "      <th>psnr_hr</th>\n",
       "      <th>psnr_hr_4</th>\n",
       "      <th>psnr_lr</th>\n",
       "      <th>ssim_bic_hr</th>\n",
       "      <th>ssim_hr</th>\n",
       "      <th>ssim_hr_4</th>\n",
       "      <th>ssim_lr</th>\n",
       "    </tr>\n",
       "  </thead>\n",
       "  <tbody>\n",
       "    <tr>\n",
       "      <th>0</th>\n",
       "      <td>g-10.h5</td>\n",
       "      <td>23.534203</td>\n",
       "      <td>7.166701</td>\n",
       "      <td>7.215063</td>\n",
       "      <td>32.277465</td>\n",
       "      <td>0.674386</td>\n",
       "      <td>-0.001445</td>\n",
       "      <td>-0.000265</td>\n",
       "      <td>0.965981</td>\n",
       "    </tr>\n",
       "    <tr>\n",
       "      <th>1</th>\n",
       "      <td>g-20.h5</td>\n",
       "      <td>23.534203</td>\n",
       "      <td>7.166701</td>\n",
       "      <td>7.215063</td>\n",
       "      <td>32.277465</td>\n",
       "      <td>0.674386</td>\n",
       "      <td>-0.001445</td>\n",
       "      <td>-0.000265</td>\n",
       "      <td>0.965981</td>\n",
       "    </tr>\n",
       "    <tr>\n",
       "      <th>2</th>\n",
       "      <td>g-30.h5</td>\n",
       "      <td>23.534203</td>\n",
       "      <td>7.166701</td>\n",
       "      <td>7.215063</td>\n",
       "      <td>32.277465</td>\n",
       "      <td>0.674386</td>\n",
       "      <td>-0.001445</td>\n",
       "      <td>-0.000265</td>\n",
       "      <td>0.965981</td>\n",
       "    </tr>\n",
       "    <tr>\n",
       "      <th>3</th>\n",
       "      <td>g-40.h5</td>\n",
       "      <td>23.534203</td>\n",
       "      <td>7.166701</td>\n",
       "      <td>7.215063</td>\n",
       "      <td>32.277465</td>\n",
       "      <td>0.674386</td>\n",
       "      <td>-0.001445</td>\n",
       "      <td>-0.000265</td>\n",
       "      <td>0.965981</td>\n",
       "    </tr>\n",
       "    <tr>\n",
       "      <th>4</th>\n",
       "      <td>g-50.h5</td>\n",
       "      <td>23.534203</td>\n",
       "      <td>7.166701</td>\n",
       "      <td>7.215063</td>\n",
       "      <td>32.277465</td>\n",
       "      <td>0.674386</td>\n",
       "      <td>-0.001445</td>\n",
       "      <td>-0.000265</td>\n",
       "      <td>0.965981</td>\n",
       "    </tr>\n",
       "    <tr>\n",
       "      <th>5</th>\n",
       "      <td>g-60.h5</td>\n",
       "      <td>23.534203</td>\n",
       "      <td>7.166701</td>\n",
       "      <td>7.215063</td>\n",
       "      <td>32.277465</td>\n",
       "      <td>0.674386</td>\n",
       "      <td>-0.001445</td>\n",
       "      <td>-0.000265</td>\n",
       "      <td>0.965981</td>\n",
       "    </tr>\n",
       "    <tr>\n",
       "      <th>6</th>\n",
       "      <td>g-70.h5</td>\n",
       "      <td>23.534203</td>\n",
       "      <td>7.166701</td>\n",
       "      <td>7.215063</td>\n",
       "      <td>32.277465</td>\n",
       "      <td>0.674386</td>\n",
       "      <td>-0.001445</td>\n",
       "      <td>-0.000265</td>\n",
       "      <td>0.965981</td>\n",
       "    </tr>\n",
       "    <tr>\n",
       "      <th>7</th>\n",
       "      <td>g-80.h5</td>\n",
       "      <td>23.534203</td>\n",
       "      <td>7.166701</td>\n",
       "      <td>7.215063</td>\n",
       "      <td>32.277465</td>\n",
       "      <td>0.674386</td>\n",
       "      <td>-0.001445</td>\n",
       "      <td>-0.000265</td>\n",
       "      <td>0.965981</td>\n",
       "    </tr>\n",
       "    <tr>\n",
       "      <th>8</th>\n",
       "      <td>g-90.h5</td>\n",
       "      <td>23.534203</td>\n",
       "      <td>7.166701</td>\n",
       "      <td>7.215063</td>\n",
       "      <td>32.277465</td>\n",
       "      <td>0.674386</td>\n",
       "      <td>-0.001445</td>\n",
       "      <td>-0.000265</td>\n",
       "      <td>0.965981</td>\n",
       "    </tr>\n",
       "    <tr>\n",
       "      <th>9</th>\n",
       "      <td>g-100.h5</td>\n",
       "      <td>23.534203</td>\n",
       "      <td>7.166701</td>\n",
       "      <td>7.215063</td>\n",
       "      <td>32.277465</td>\n",
       "      <td>0.674386</td>\n",
       "      <td>-0.001445</td>\n",
       "      <td>-0.000265</td>\n",
       "      <td>0.965981</td>\n",
       "    </tr>\n",
       "    <tr>\n",
       "      <th>10</th>\n",
       "      <td>g-110.h5</td>\n",
       "      <td>23.534203</td>\n",
       "      <td>7.166701</td>\n",
       "      <td>7.215063</td>\n",
       "      <td>32.277465</td>\n",
       "      <td>0.674386</td>\n",
       "      <td>-0.001445</td>\n",
       "      <td>-0.000265</td>\n",
       "      <td>0.965981</td>\n",
       "    </tr>\n",
       "    <tr>\n",
       "      <th>11</th>\n",
       "      <td>g-120.h5</td>\n",
       "      <td>23.534203</td>\n",
       "      <td>7.166701</td>\n",
       "      <td>7.215063</td>\n",
       "      <td>32.277465</td>\n",
       "      <td>0.674386</td>\n",
       "      <td>-0.001445</td>\n",
       "      <td>-0.000265</td>\n",
       "      <td>0.965981</td>\n",
       "    </tr>\n",
       "    <tr>\n",
       "      <th>12</th>\n",
       "      <td>g-130.h5</td>\n",
       "      <td>23.534203</td>\n",
       "      <td>7.166701</td>\n",
       "      <td>7.215063</td>\n",
       "      <td>32.277465</td>\n",
       "      <td>0.674386</td>\n",
       "      <td>-0.001445</td>\n",
       "      <td>-0.000265</td>\n",
       "      <td>0.965981</td>\n",
       "    </tr>\n",
       "    <tr>\n",
       "      <th>13</th>\n",
       "      <td>g-140.h5</td>\n",
       "      <td>23.534203</td>\n",
       "      <td>7.166701</td>\n",
       "      <td>7.215063</td>\n",
       "      <td>32.277465</td>\n",
       "      <td>0.674386</td>\n",
       "      <td>-0.001445</td>\n",
       "      <td>-0.000265</td>\n",
       "      <td>0.965981</td>\n",
       "    </tr>\n",
       "    <tr>\n",
       "      <th>14</th>\n",
       "      <td>g-150.h5</td>\n",
       "      <td>23.534203</td>\n",
       "      <td>7.166701</td>\n",
       "      <td>7.215063</td>\n",
       "      <td>32.277465</td>\n",
       "      <td>0.674386</td>\n",
       "      <td>-0.001445</td>\n",
       "      <td>-0.000265</td>\n",
       "      <td>0.965981</td>\n",
       "    </tr>\n",
       "    <tr>\n",
       "      <th>15</th>\n",
       "      <td>g-160.h5</td>\n",
       "      <td>23.534203</td>\n",
       "      <td>7.166701</td>\n",
       "      <td>7.215063</td>\n",
       "      <td>32.277465</td>\n",
       "      <td>0.674386</td>\n",
       "      <td>-0.001445</td>\n",
       "      <td>-0.000265</td>\n",
       "      <td>0.965981</td>\n",
       "    </tr>\n",
       "    <tr>\n",
       "      <th>16</th>\n",
       "      <td>g-170.h5</td>\n",
       "      <td>23.534203</td>\n",
       "      <td>7.166701</td>\n",
       "      <td>7.215063</td>\n",
       "      <td>32.277465</td>\n",
       "      <td>0.674386</td>\n",
       "      <td>-0.001445</td>\n",
       "      <td>-0.000265</td>\n",
       "      <td>0.965981</td>\n",
       "    </tr>\n",
       "    <tr>\n",
       "      <th>17</th>\n",
       "      <td>g-180.h5</td>\n",
       "      <td>23.534203</td>\n",
       "      <td>7.166701</td>\n",
       "      <td>7.215063</td>\n",
       "      <td>32.277465</td>\n",
       "      <td>0.674386</td>\n",
       "      <td>-0.001445</td>\n",
       "      <td>-0.000265</td>\n",
       "      <td>0.965981</td>\n",
       "    </tr>\n",
       "    <tr>\n",
       "      <th>18</th>\n",
       "      <td>g-190.h5</td>\n",
       "      <td>23.534203</td>\n",
       "      <td>7.166701</td>\n",
       "      <td>7.215063</td>\n",
       "      <td>32.277465</td>\n",
       "      <td>0.674386</td>\n",
       "      <td>-0.001445</td>\n",
       "      <td>-0.000265</td>\n",
       "      <td>0.965981</td>\n",
       "    </tr>\n",
       "    <tr>\n",
       "      <th>19</th>\n",
       "      <td>g-200.h5</td>\n",
       "      <td>23.534203</td>\n",
       "      <td>7.166701</td>\n",
       "      <td>7.215063</td>\n",
       "      <td>32.277465</td>\n",
       "      <td>0.674386</td>\n",
       "      <td>-0.001445</td>\n",
       "      <td>-0.000265</td>\n",
       "      <td>0.965981</td>\n",
       "    </tr>\n",
       "    <tr>\n",
       "      <th>20</th>\n",
       "      <td>g-210.h5</td>\n",
       "      <td>23.534203</td>\n",
       "      <td>7.166701</td>\n",
       "      <td>7.215063</td>\n",
       "      <td>32.277465</td>\n",
       "      <td>0.674386</td>\n",
       "      <td>-0.001445</td>\n",
       "      <td>-0.000265</td>\n",
       "      <td>0.965981</td>\n",
       "    </tr>\n",
       "    <tr>\n",
       "      <th>21</th>\n",
       "      <td>g-220.h5</td>\n",
       "      <td>23.534203</td>\n",
       "      <td>7.166701</td>\n",
       "      <td>7.215063</td>\n",
       "      <td>32.277465</td>\n",
       "      <td>0.674386</td>\n",
       "      <td>-0.001445</td>\n",
       "      <td>-0.000265</td>\n",
       "      <td>0.965981</td>\n",
       "    </tr>\n",
       "    <tr>\n",
       "      <th>22</th>\n",
       "      <td>g-230.h5</td>\n",
       "      <td>23.534203</td>\n",
       "      <td>7.166701</td>\n",
       "      <td>7.215063</td>\n",
       "      <td>32.277465</td>\n",
       "      <td>0.674386</td>\n",
       "      <td>-0.001445</td>\n",
       "      <td>-0.000265</td>\n",
       "      <td>0.965981</td>\n",
       "    </tr>\n",
       "    <tr>\n",
       "      <th>23</th>\n",
       "      <td>g-240.h5</td>\n",
       "      <td>23.534203</td>\n",
       "      <td>7.166701</td>\n",
       "      <td>7.215063</td>\n",
       "      <td>32.277465</td>\n",
       "      <td>0.674386</td>\n",
       "      <td>-0.001445</td>\n",
       "      <td>-0.000265</td>\n",
       "      <td>0.965981</td>\n",
       "    </tr>\n",
       "    <tr>\n",
       "      <th>24</th>\n",
       "      <td>g-250.h5</td>\n",
       "      <td>23.534203</td>\n",
       "      <td>7.166701</td>\n",
       "      <td>7.215063</td>\n",
       "      <td>32.277465</td>\n",
       "      <td>0.674386</td>\n",
       "      <td>-0.001445</td>\n",
       "      <td>-0.000265</td>\n",
       "      <td>0.965981</td>\n",
       "    </tr>\n",
       "    <tr>\n",
       "      <th>25</th>\n",
       "      <td>g-260.h5</td>\n",
       "      <td>23.534203</td>\n",
       "      <td>7.166701</td>\n",
       "      <td>7.215063</td>\n",
       "      <td>32.277465</td>\n",
       "      <td>0.674386</td>\n",
       "      <td>-0.001445</td>\n",
       "      <td>-0.000265</td>\n",
       "      <td>0.965981</td>\n",
       "    </tr>\n",
       "    <tr>\n",
       "      <th>26</th>\n",
       "      <td>g-270.h5</td>\n",
       "      <td>23.534203</td>\n",
       "      <td>7.166701</td>\n",
       "      <td>7.215063</td>\n",
       "      <td>32.277465</td>\n",
       "      <td>0.674386</td>\n",
       "      <td>-0.001445</td>\n",
       "      <td>-0.000265</td>\n",
       "      <td>0.965981</td>\n",
       "    </tr>\n",
       "    <tr>\n",
       "      <th>27</th>\n",
       "      <td>g-280.h5</td>\n",
       "      <td>23.534203</td>\n",
       "      <td>7.166701</td>\n",
       "      <td>7.215063</td>\n",
       "      <td>32.277465</td>\n",
       "      <td>0.674386</td>\n",
       "      <td>-0.001445</td>\n",
       "      <td>-0.000265</td>\n",
       "      <td>0.965981</td>\n",
       "    </tr>\n",
       "    <tr>\n",
       "      <th>28</th>\n",
       "      <td>g-290.h5</td>\n",
       "      <td>23.534203</td>\n",
       "      <td>7.166701</td>\n",
       "      <td>7.215063</td>\n",
       "      <td>32.277465</td>\n",
       "      <td>0.674386</td>\n",
       "      <td>-0.001445</td>\n",
       "      <td>-0.000265</td>\n",
       "      <td>0.965981</td>\n",
       "    </tr>\n",
       "    <tr>\n",
       "      <th>29</th>\n",
       "      <td>g-300.h5</td>\n",
       "      <td>23.534203</td>\n",
       "      <td>7.166701</td>\n",
       "      <td>7.215063</td>\n",
       "      <td>32.277465</td>\n",
       "      <td>0.674386</td>\n",
       "      <td>-0.001445</td>\n",
       "      <td>-0.000265</td>\n",
       "      <td>0.965981</td>\n",
       "    </tr>\n",
       "    <tr>\n",
       "      <th>...</th>\n",
       "      <td>...</td>\n",
       "      <td>...</td>\n",
       "      <td>...</td>\n",
       "      <td>...</td>\n",
       "      <td>...</td>\n",
       "      <td>...</td>\n",
       "      <td>...</td>\n",
       "      <td>...</td>\n",
       "      <td>...</td>\n",
       "    </tr>\n",
       "    <tr>\n",
       "      <th>53</th>\n",
       "      <td>g-540.h5</td>\n",
       "      <td>23.534203</td>\n",
       "      <td>7.166701</td>\n",
       "      <td>7.215063</td>\n",
       "      <td>32.277465</td>\n",
       "      <td>0.674386</td>\n",
       "      <td>-0.001445</td>\n",
       "      <td>-0.000265</td>\n",
       "      <td>0.965981</td>\n",
       "    </tr>\n",
       "    <tr>\n",
       "      <th>54</th>\n",
       "      <td>g-550.h5</td>\n",
       "      <td>23.534203</td>\n",
       "      <td>7.166701</td>\n",
       "      <td>7.215063</td>\n",
       "      <td>32.277465</td>\n",
       "      <td>0.674386</td>\n",
       "      <td>-0.001445</td>\n",
       "      <td>-0.000265</td>\n",
       "      <td>0.965981</td>\n",
       "    </tr>\n",
       "    <tr>\n",
       "      <th>55</th>\n",
       "      <td>g-560.h5</td>\n",
       "      <td>23.534203</td>\n",
       "      <td>7.166701</td>\n",
       "      <td>7.215063</td>\n",
       "      <td>32.277465</td>\n",
       "      <td>0.674386</td>\n",
       "      <td>-0.001445</td>\n",
       "      <td>-0.000265</td>\n",
       "      <td>0.965981</td>\n",
       "    </tr>\n",
       "    <tr>\n",
       "      <th>56</th>\n",
       "      <td>g-570.h5</td>\n",
       "      <td>23.534203</td>\n",
       "      <td>7.166701</td>\n",
       "      <td>7.215063</td>\n",
       "      <td>32.277465</td>\n",
       "      <td>0.674386</td>\n",
       "      <td>-0.001445</td>\n",
       "      <td>-0.000265</td>\n",
       "      <td>0.965981</td>\n",
       "    </tr>\n",
       "    <tr>\n",
       "      <th>57</th>\n",
       "      <td>g-580.h5</td>\n",
       "      <td>23.534203</td>\n",
       "      <td>7.166701</td>\n",
       "      <td>7.215063</td>\n",
       "      <td>32.277465</td>\n",
       "      <td>0.674386</td>\n",
       "      <td>-0.001445</td>\n",
       "      <td>-0.000265</td>\n",
       "      <td>0.965981</td>\n",
       "    </tr>\n",
       "    <tr>\n",
       "      <th>58</th>\n",
       "      <td>g-590.h5</td>\n",
       "      <td>23.534203</td>\n",
       "      <td>7.166701</td>\n",
       "      <td>7.215063</td>\n",
       "      <td>32.277465</td>\n",
       "      <td>0.674386</td>\n",
       "      <td>-0.001445</td>\n",
       "      <td>-0.000265</td>\n",
       "      <td>0.965981</td>\n",
       "    </tr>\n",
       "    <tr>\n",
       "      <th>59</th>\n",
       "      <td>g-600.h5</td>\n",
       "      <td>23.534203</td>\n",
       "      <td>7.166701</td>\n",
       "      <td>7.215063</td>\n",
       "      <td>32.277465</td>\n",
       "      <td>0.674386</td>\n",
       "      <td>-0.001445</td>\n",
       "      <td>-0.000265</td>\n",
       "      <td>0.965981</td>\n",
       "    </tr>\n",
       "    <tr>\n",
       "      <th>60</th>\n",
       "      <td>g-610.h5</td>\n",
       "      <td>23.534203</td>\n",
       "      <td>7.166701</td>\n",
       "      <td>7.215063</td>\n",
       "      <td>32.277465</td>\n",
       "      <td>0.674386</td>\n",
       "      <td>-0.001445</td>\n",
       "      <td>-0.000265</td>\n",
       "      <td>0.965981</td>\n",
       "    </tr>\n",
       "    <tr>\n",
       "      <th>61</th>\n",
       "      <td>g-620.h5</td>\n",
       "      <td>23.534203</td>\n",
       "      <td>7.166701</td>\n",
       "      <td>7.215063</td>\n",
       "      <td>32.277465</td>\n",
       "      <td>0.674386</td>\n",
       "      <td>-0.001445</td>\n",
       "      <td>-0.000265</td>\n",
       "      <td>0.965981</td>\n",
       "    </tr>\n",
       "    <tr>\n",
       "      <th>62</th>\n",
       "      <td>g-630.h5</td>\n",
       "      <td>23.534203</td>\n",
       "      <td>7.166701</td>\n",
       "      <td>7.215063</td>\n",
       "      <td>32.277465</td>\n",
       "      <td>0.674386</td>\n",
       "      <td>-0.001445</td>\n",
       "      <td>-0.000265</td>\n",
       "      <td>0.965981</td>\n",
       "    </tr>\n",
       "    <tr>\n",
       "      <th>63</th>\n",
       "      <td>g-640.h5</td>\n",
       "      <td>23.534203</td>\n",
       "      <td>7.166701</td>\n",
       "      <td>7.215063</td>\n",
       "      <td>32.277465</td>\n",
       "      <td>0.674386</td>\n",
       "      <td>-0.001445</td>\n",
       "      <td>-0.000265</td>\n",
       "      <td>0.965981</td>\n",
       "    </tr>\n",
       "    <tr>\n",
       "      <th>64</th>\n",
       "      <td>g-650.h5</td>\n",
       "      <td>23.534203</td>\n",
       "      <td>7.166701</td>\n",
       "      <td>7.215063</td>\n",
       "      <td>32.277465</td>\n",
       "      <td>0.674386</td>\n",
       "      <td>-0.001445</td>\n",
       "      <td>-0.000265</td>\n",
       "      <td>0.965981</td>\n",
       "    </tr>\n",
       "    <tr>\n",
       "      <th>65</th>\n",
       "      <td>g-660.h5</td>\n",
       "      <td>23.534203</td>\n",
       "      <td>7.166701</td>\n",
       "      <td>7.215063</td>\n",
       "      <td>32.277465</td>\n",
       "      <td>0.674386</td>\n",
       "      <td>-0.001445</td>\n",
       "      <td>-0.000265</td>\n",
       "      <td>0.965981</td>\n",
       "    </tr>\n",
       "    <tr>\n",
       "      <th>66</th>\n",
       "      <td>g-670.h5</td>\n",
       "      <td>23.534203</td>\n",
       "      <td>7.166701</td>\n",
       "      <td>7.215063</td>\n",
       "      <td>32.277465</td>\n",
       "      <td>0.674386</td>\n",
       "      <td>-0.001445</td>\n",
       "      <td>-0.000265</td>\n",
       "      <td>0.965981</td>\n",
       "    </tr>\n",
       "    <tr>\n",
       "      <th>67</th>\n",
       "      <td>g-680.h5</td>\n",
       "      <td>23.534203</td>\n",
       "      <td>7.166701</td>\n",
       "      <td>7.215063</td>\n",
       "      <td>32.277465</td>\n",
       "      <td>0.674386</td>\n",
       "      <td>-0.001445</td>\n",
       "      <td>-0.000265</td>\n",
       "      <td>0.965981</td>\n",
       "    </tr>\n",
       "    <tr>\n",
       "      <th>68</th>\n",
       "      <td>g-690.h5</td>\n",
       "      <td>23.534203</td>\n",
       "      <td>7.166701</td>\n",
       "      <td>7.215063</td>\n",
       "      <td>32.277465</td>\n",
       "      <td>0.674386</td>\n",
       "      <td>-0.001445</td>\n",
       "      <td>-0.000265</td>\n",
       "      <td>0.965981</td>\n",
       "    </tr>\n",
       "    <tr>\n",
       "      <th>69</th>\n",
       "      <td>g-700.h5</td>\n",
       "      <td>23.534203</td>\n",
       "      <td>7.166701</td>\n",
       "      <td>7.215063</td>\n",
       "      <td>32.277465</td>\n",
       "      <td>0.674386</td>\n",
       "      <td>-0.001445</td>\n",
       "      <td>-0.000265</td>\n",
       "      <td>0.965981</td>\n",
       "    </tr>\n",
       "    <tr>\n",
       "      <th>70</th>\n",
       "      <td>g-710.h5</td>\n",
       "      <td>23.534203</td>\n",
       "      <td>7.166701</td>\n",
       "      <td>7.215063</td>\n",
       "      <td>32.277465</td>\n",
       "      <td>0.674386</td>\n",
       "      <td>-0.001445</td>\n",
       "      <td>-0.000265</td>\n",
       "      <td>0.965981</td>\n",
       "    </tr>\n",
       "    <tr>\n",
       "      <th>71</th>\n",
       "      <td>g-720.h5</td>\n",
       "      <td>23.534203</td>\n",
       "      <td>7.166701</td>\n",
       "      <td>7.215063</td>\n",
       "      <td>32.277465</td>\n",
       "      <td>0.674386</td>\n",
       "      <td>-0.001445</td>\n",
       "      <td>-0.000265</td>\n",
       "      <td>0.965981</td>\n",
       "    </tr>\n",
       "    <tr>\n",
       "      <th>72</th>\n",
       "      <td>g-730.h5</td>\n",
       "      <td>23.534203</td>\n",
       "      <td>7.166701</td>\n",
       "      <td>7.215063</td>\n",
       "      <td>32.277465</td>\n",
       "      <td>0.674386</td>\n",
       "      <td>-0.001445</td>\n",
       "      <td>-0.000265</td>\n",
       "      <td>0.965981</td>\n",
       "    </tr>\n",
       "    <tr>\n",
       "      <th>73</th>\n",
       "      <td>g-740.h5</td>\n",
       "      <td>23.534203</td>\n",
       "      <td>7.166701</td>\n",
       "      <td>7.215063</td>\n",
       "      <td>32.277465</td>\n",
       "      <td>0.674386</td>\n",
       "      <td>-0.001445</td>\n",
       "      <td>-0.000265</td>\n",
       "      <td>0.965981</td>\n",
       "    </tr>\n",
       "    <tr>\n",
       "      <th>74</th>\n",
       "      <td>g-750.h5</td>\n",
       "      <td>23.534203</td>\n",
       "      <td>7.166701</td>\n",
       "      <td>7.215063</td>\n",
       "      <td>32.277465</td>\n",
       "      <td>0.674386</td>\n",
       "      <td>-0.001445</td>\n",
       "      <td>-0.000265</td>\n",
       "      <td>0.965981</td>\n",
       "    </tr>\n",
       "    <tr>\n",
       "      <th>75</th>\n",
       "      <td>g-760.h5</td>\n",
       "      <td>23.534203</td>\n",
       "      <td>7.166701</td>\n",
       "      <td>7.215063</td>\n",
       "      <td>32.277465</td>\n",
       "      <td>0.674386</td>\n",
       "      <td>-0.001445</td>\n",
       "      <td>-0.000265</td>\n",
       "      <td>0.965981</td>\n",
       "    </tr>\n",
       "    <tr>\n",
       "      <th>76</th>\n",
       "      <td>g-770.h5</td>\n",
       "      <td>23.534203</td>\n",
       "      <td>7.166701</td>\n",
       "      <td>7.215063</td>\n",
       "      <td>32.277465</td>\n",
       "      <td>0.674386</td>\n",
       "      <td>-0.001445</td>\n",
       "      <td>-0.000265</td>\n",
       "      <td>0.965981</td>\n",
       "    </tr>\n",
       "    <tr>\n",
       "      <th>77</th>\n",
       "      <td>g-780.h5</td>\n",
       "      <td>23.534203</td>\n",
       "      <td>7.166701</td>\n",
       "      <td>7.215063</td>\n",
       "      <td>32.277465</td>\n",
       "      <td>0.674386</td>\n",
       "      <td>-0.001445</td>\n",
       "      <td>-0.000265</td>\n",
       "      <td>0.965981</td>\n",
       "    </tr>\n",
       "    <tr>\n",
       "      <th>78</th>\n",
       "      <td>g-790.h5</td>\n",
       "      <td>23.534203</td>\n",
       "      <td>7.166701</td>\n",
       "      <td>7.215063</td>\n",
       "      <td>32.277465</td>\n",
       "      <td>0.674386</td>\n",
       "      <td>-0.001445</td>\n",
       "      <td>-0.000265</td>\n",
       "      <td>0.965981</td>\n",
       "    </tr>\n",
       "    <tr>\n",
       "      <th>79</th>\n",
       "      <td>g-800.h5</td>\n",
       "      <td>23.534203</td>\n",
       "      <td>7.166701</td>\n",
       "      <td>7.215063</td>\n",
       "      <td>32.277465</td>\n",
       "      <td>0.674386</td>\n",
       "      <td>-0.001445</td>\n",
       "      <td>-0.000265</td>\n",
       "      <td>0.965981</td>\n",
       "    </tr>\n",
       "    <tr>\n",
       "      <th>80</th>\n",
       "      <td>g-810.h5</td>\n",
       "      <td>23.534203</td>\n",
       "      <td>7.166701</td>\n",
       "      <td>7.215063</td>\n",
       "      <td>32.277465</td>\n",
       "      <td>0.674386</td>\n",
       "      <td>-0.001445</td>\n",
       "      <td>-0.000265</td>\n",
       "      <td>0.965981</td>\n",
       "    </tr>\n",
       "    <tr>\n",
       "      <th>81</th>\n",
       "      <td>g-820.h5</td>\n",
       "      <td>23.534203</td>\n",
       "      <td>7.166701</td>\n",
       "      <td>7.215063</td>\n",
       "      <td>32.277465</td>\n",
       "      <td>0.674386</td>\n",
       "      <td>-0.001445</td>\n",
       "      <td>-0.000265</td>\n",
       "      <td>0.965981</td>\n",
       "    </tr>\n",
       "    <tr>\n",
       "      <th>82</th>\n",
       "      <td>g-830.h5</td>\n",
       "      <td>23.534203</td>\n",
       "      <td>7.166701</td>\n",
       "      <td>7.215063</td>\n",
       "      <td>32.277465</td>\n",
       "      <td>0.674386</td>\n",
       "      <td>-0.001445</td>\n",
       "      <td>-0.000265</td>\n",
       "      <td>0.965981</td>\n",
       "    </tr>\n",
       "  </tbody>\n",
       "</table>\n",
       "<p>83 rows × 9 columns</p>\n",
       "</div>"
      ],
      "text/plain": [
       "       model  psnr_bic_hr   psnr_hr  psnr_hr_4    psnr_lr  ssim_bic_hr  \\\n",
       "0    g-10.h5    23.534203  7.166701   7.215063  32.277465     0.674386   \n",
       "1    g-20.h5    23.534203  7.166701   7.215063  32.277465     0.674386   \n",
       "2    g-30.h5    23.534203  7.166701   7.215063  32.277465     0.674386   \n",
       "3    g-40.h5    23.534203  7.166701   7.215063  32.277465     0.674386   \n",
       "4    g-50.h5    23.534203  7.166701   7.215063  32.277465     0.674386   \n",
       "5    g-60.h5    23.534203  7.166701   7.215063  32.277465     0.674386   \n",
       "6    g-70.h5    23.534203  7.166701   7.215063  32.277465     0.674386   \n",
       "7    g-80.h5    23.534203  7.166701   7.215063  32.277465     0.674386   \n",
       "8    g-90.h5    23.534203  7.166701   7.215063  32.277465     0.674386   \n",
       "9   g-100.h5    23.534203  7.166701   7.215063  32.277465     0.674386   \n",
       "10  g-110.h5    23.534203  7.166701   7.215063  32.277465     0.674386   \n",
       "11  g-120.h5    23.534203  7.166701   7.215063  32.277465     0.674386   \n",
       "12  g-130.h5    23.534203  7.166701   7.215063  32.277465     0.674386   \n",
       "13  g-140.h5    23.534203  7.166701   7.215063  32.277465     0.674386   \n",
       "14  g-150.h5    23.534203  7.166701   7.215063  32.277465     0.674386   \n",
       "15  g-160.h5    23.534203  7.166701   7.215063  32.277465     0.674386   \n",
       "16  g-170.h5    23.534203  7.166701   7.215063  32.277465     0.674386   \n",
       "17  g-180.h5    23.534203  7.166701   7.215063  32.277465     0.674386   \n",
       "18  g-190.h5    23.534203  7.166701   7.215063  32.277465     0.674386   \n",
       "19  g-200.h5    23.534203  7.166701   7.215063  32.277465     0.674386   \n",
       "20  g-210.h5    23.534203  7.166701   7.215063  32.277465     0.674386   \n",
       "21  g-220.h5    23.534203  7.166701   7.215063  32.277465     0.674386   \n",
       "22  g-230.h5    23.534203  7.166701   7.215063  32.277465     0.674386   \n",
       "23  g-240.h5    23.534203  7.166701   7.215063  32.277465     0.674386   \n",
       "24  g-250.h5    23.534203  7.166701   7.215063  32.277465     0.674386   \n",
       "25  g-260.h5    23.534203  7.166701   7.215063  32.277465     0.674386   \n",
       "26  g-270.h5    23.534203  7.166701   7.215063  32.277465     0.674386   \n",
       "27  g-280.h5    23.534203  7.166701   7.215063  32.277465     0.674386   \n",
       "28  g-290.h5    23.534203  7.166701   7.215063  32.277465     0.674386   \n",
       "29  g-300.h5    23.534203  7.166701   7.215063  32.277465     0.674386   \n",
       "..       ...          ...       ...        ...        ...          ...   \n",
       "53  g-540.h5    23.534203  7.166701   7.215063  32.277465     0.674386   \n",
       "54  g-550.h5    23.534203  7.166701   7.215063  32.277465     0.674386   \n",
       "55  g-560.h5    23.534203  7.166701   7.215063  32.277465     0.674386   \n",
       "56  g-570.h5    23.534203  7.166701   7.215063  32.277465     0.674386   \n",
       "57  g-580.h5    23.534203  7.166701   7.215063  32.277465     0.674386   \n",
       "58  g-590.h5    23.534203  7.166701   7.215063  32.277465     0.674386   \n",
       "59  g-600.h5    23.534203  7.166701   7.215063  32.277465     0.674386   \n",
       "60  g-610.h5    23.534203  7.166701   7.215063  32.277465     0.674386   \n",
       "61  g-620.h5    23.534203  7.166701   7.215063  32.277465     0.674386   \n",
       "62  g-630.h5    23.534203  7.166701   7.215063  32.277465     0.674386   \n",
       "63  g-640.h5    23.534203  7.166701   7.215063  32.277465     0.674386   \n",
       "64  g-650.h5    23.534203  7.166701   7.215063  32.277465     0.674386   \n",
       "65  g-660.h5    23.534203  7.166701   7.215063  32.277465     0.674386   \n",
       "66  g-670.h5    23.534203  7.166701   7.215063  32.277465     0.674386   \n",
       "67  g-680.h5    23.534203  7.166701   7.215063  32.277465     0.674386   \n",
       "68  g-690.h5    23.534203  7.166701   7.215063  32.277465     0.674386   \n",
       "69  g-700.h5    23.534203  7.166701   7.215063  32.277465     0.674386   \n",
       "70  g-710.h5    23.534203  7.166701   7.215063  32.277465     0.674386   \n",
       "71  g-720.h5    23.534203  7.166701   7.215063  32.277465     0.674386   \n",
       "72  g-730.h5    23.534203  7.166701   7.215063  32.277465     0.674386   \n",
       "73  g-740.h5    23.534203  7.166701   7.215063  32.277465     0.674386   \n",
       "74  g-750.h5    23.534203  7.166701   7.215063  32.277465     0.674386   \n",
       "75  g-760.h5    23.534203  7.166701   7.215063  32.277465     0.674386   \n",
       "76  g-770.h5    23.534203  7.166701   7.215063  32.277465     0.674386   \n",
       "77  g-780.h5    23.534203  7.166701   7.215063  32.277465     0.674386   \n",
       "78  g-790.h5    23.534203  7.166701   7.215063  32.277465     0.674386   \n",
       "79  g-800.h5    23.534203  7.166701   7.215063  32.277465     0.674386   \n",
       "80  g-810.h5    23.534203  7.166701   7.215063  32.277465     0.674386   \n",
       "81  g-820.h5    23.534203  7.166701   7.215063  32.277465     0.674386   \n",
       "82  g-830.h5    23.534203  7.166701   7.215063  32.277465     0.674386   \n",
       "\n",
       "     ssim_hr  ssim_hr_4   ssim_lr  \n",
       "0  -0.001445  -0.000265  0.965981  \n",
       "1  -0.001445  -0.000265  0.965981  \n",
       "2  -0.001445  -0.000265  0.965981  \n",
       "3  -0.001445  -0.000265  0.965981  \n",
       "4  -0.001445  -0.000265  0.965981  \n",
       "5  -0.001445  -0.000265  0.965981  \n",
       "6  -0.001445  -0.000265  0.965981  \n",
       "7  -0.001445  -0.000265  0.965981  \n",
       "8  -0.001445  -0.000265  0.965981  \n",
       "9  -0.001445  -0.000265  0.965981  \n",
       "10 -0.001445  -0.000265  0.965981  \n",
       "11 -0.001445  -0.000265  0.965981  \n",
       "12 -0.001445  -0.000265  0.965981  \n",
       "13 -0.001445  -0.000265  0.965981  \n",
       "14 -0.001445  -0.000265  0.965981  \n",
       "15 -0.001445  -0.000265  0.965981  \n",
       "16 -0.001445  -0.000265  0.965981  \n",
       "17 -0.001445  -0.000265  0.965981  \n",
       "18 -0.001445  -0.000265  0.965981  \n",
       "19 -0.001445  -0.000265  0.965981  \n",
       "20 -0.001445  -0.000265  0.965981  \n",
       "21 -0.001445  -0.000265  0.965981  \n",
       "22 -0.001445  -0.000265  0.965981  \n",
       "23 -0.001445  -0.000265  0.965981  \n",
       "24 -0.001445  -0.000265  0.965981  \n",
       "25 -0.001445  -0.000265  0.965981  \n",
       "26 -0.001445  -0.000265  0.965981  \n",
       "27 -0.001445  -0.000265  0.965981  \n",
       "28 -0.001445  -0.000265  0.965981  \n",
       "29 -0.001445  -0.000265  0.965981  \n",
       "..       ...        ...       ...  \n",
       "53 -0.001445  -0.000265  0.965981  \n",
       "54 -0.001445  -0.000265  0.965981  \n",
       "55 -0.001445  -0.000265  0.965981  \n",
       "56 -0.001445  -0.000265  0.965981  \n",
       "57 -0.001445  -0.000265  0.965981  \n",
       "58 -0.001445  -0.000265  0.965981  \n",
       "59 -0.001445  -0.000265  0.965981  \n",
       "60 -0.001445  -0.000265  0.965981  \n",
       "61 -0.001445  -0.000265  0.965981  \n",
       "62 -0.001445  -0.000265  0.965981  \n",
       "63 -0.001445  -0.000265  0.965981  \n",
       "64 -0.001445  -0.000265  0.965981  \n",
       "65 -0.001445  -0.000265  0.965981  \n",
       "66 -0.001445  -0.000265  0.965981  \n",
       "67 -0.001445  -0.000265  0.965981  \n",
       "68 -0.001445  -0.000265  0.965981  \n",
       "69 -0.001445  -0.000265  0.965981  \n",
       "70 -0.001445  -0.000265  0.965981  \n",
       "71 -0.001445  -0.000265  0.965981  \n",
       "72 -0.001445  -0.000265  0.965981  \n",
       "73 -0.001445  -0.000265  0.965981  \n",
       "74 -0.001445  -0.000265  0.965981  \n",
       "75 -0.001445  -0.000265  0.965981  \n",
       "76 -0.001445  -0.000265  0.965981  \n",
       "77 -0.001445  -0.000265  0.965981  \n",
       "78 -0.001445  -0.000265  0.965981  \n",
       "79 -0.001445  -0.000265  0.965981  \n",
       "80 -0.001445  -0.000265  0.965981  \n",
       "81 -0.001445  -0.000265  0.965981  \n",
       "82 -0.001445  -0.000265  0.965981  \n",
       "\n",
       "[83 rows x 9 columns]"
      ]
     },
     "execution_count": 10,
     "metadata": {},
     "output_type": "execute_result"
    }
   ],
   "source": [
    "pd.DataFrame(validate_ds_array)"
   ]
  },
  {
   "cell_type": "code",
   "execution_count": null,
   "metadata": {},
   "outputs": [],
   "source": []
  }
 ],
 "metadata": {
  "kernelspec": {
   "display_name": "Conda-python3",
   "language": "python",
   "name": "conda-python3"
  },
  "language_info": {
   "codemirror_mode": {
    "name": "ipython",
    "version": 3
   },
   "file_extension": ".py",
   "mimetype": "text/x-python",
   "name": "python",
   "nbconvert_exporter": "python",
   "pygments_lexer": "ipython3",
   "version": "3.6.4"
  }
 },
 "nbformat": 4,
 "nbformat_minor": 2
}
