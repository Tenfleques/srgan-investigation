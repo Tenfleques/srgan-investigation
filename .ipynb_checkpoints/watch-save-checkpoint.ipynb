{
 "cells": [
  {
   "cell_type": "code",
   "execution_count": 1,
   "metadata": {},
   "outputs": [],
   "source": [
    "from modelarts.session import Session\n",
    "session = Session() "
   ]
  },
  {
   "cell_type": "code",
   "execution_count": 2,
   "metadata": {},
   "outputs": [
    {
     "name": "stdout",
     "output_type": "stream",
     "text": [
      "Successfully upload file ./checkpoint to OBS mipt-course/tendai/srgan-checkpoints-cyclic\n"
     ]
    }
   ],
   "source": [
    "session.upload_data(bucket_path=\"/mipt-course/tendai/srgan-checkpoints-cyclic\", path=\"./checkpoint\")"
   ]
  },
  {
   "cell_type": "code",
   "execution_count": null,
   "metadata": {},
   "outputs": [
    {
     "name": "stdout",
     "output_type": "stream",
     "text": [
      "File ./checkpoint modified\n",
      "File ./checkpoint modified\n",
      "File ./checkpoint modified\n",
      "File ./checkpoint modified\n",
      "File ./checkpoint modified\n",
      "File ./checkpoint modified\n",
      "File ./checkpoint modified\n",
      "File ./checkpoint modified\n",
      "File ./checkpoint modified\n",
      "File ./checkpoint modified\n",
      "File ./checkpoint modified\n",
      "File ./checkpoint modified\n",
      "File ./checkpoint modified\n",
      "File ./checkpoint modified\n",
      "File ./checkpoint modified\n",
      "File ./checkpoint modified\n",
      "File ./checkpoint modified\n",
      "File ./checkpoint modified\n",
      "File ./checkpoint modified\n",
      "File ./checkpoint modified\n",
      "File ./checkpoint modified\n",
      "File ./checkpoint modified\n",
      "File ./checkpoint modified\n",
      "File ./checkpoint modified\n",
      "File ./checkpoint modified\n",
      "File ./checkpoint modified\n",
      "File ./checkpoint modified\n",
      "File ./checkpoint modified\n",
      "File ./checkpoint modified\n",
      "File ./checkpoint modified\n",
      "File ./checkpoint modified\n",
      "File ./checkpoint modified\n",
      "File ./checkpoint modified\n",
      "File ./checkpoint modified\n",
      "File ./checkpoint modified\n",
      "File ./checkpoint modified\n",
      "File ./checkpoint modified\n",
      "File ./checkpoint modified\n",
      "File ./checkpoint modified\n",
      "File ./checkpoint modified\n",
      "File ./checkpoint modified\n",
      "File ./checkpoint modified\n",
      "File ./checkpoint modified\n",
      "File ./checkpoint modified\n",
      "File ./checkpoint modified\n",
      "File ./checkpoint modified\n",
      "File ./checkpoint modifiedFile ./checkpoint modified\n",
      "File ./checkpoint modified\n",
      "File ./checkpoint modifiedFile ./checkpoint modifiedFile ./checkpoint modified\n",
      "File ./checkpoint modified\n",
      "File ./checkpoint modified\n",
      "File ./checkpoint modifiedFile ./checkpoint modified\n",
      "File ./checkpoint modified\n",
      "File ./checkpoint modifiedFile ./checkpoint modified\n",
      "File ./checkpoint modified\n",
      "File ./checkpoint modified\n",
      "File ./checkpoint modifiedFile ./checkpoint modified\n",
      "File ./checkpoint modified\n",
      "File ./checkpoint modifiedFile ./checkpoint modified\n",
      "File ./checkpoint modified\n",
      "File ./checkpoint modified\n",
      "File ./checkpoint modified\n",
      "File ./checkpoint modified\n",
      "File ./checkpoint modified\n",
      "File ./checkpoint modified\n",
      "File ./checkpoint modified\n",
      "File ./checkpoint modified\n",
      "File ./checkpoint modified\n",
      "File ./checkpoint modified\n",
      "File ./checkpoint modified\n",
      "File ./checkpoint modified\n",
      "File ./checkpoint modified\n",
      "File ./checkpoint modified\n",
      "File ./checkpoint modified\n",
      "File ./checkpoint modified\n",
      "File ./checkpoint modified\n",
      "File ./checkpoint modified\n",
      "File ./checkpoint modified\n",
      "File ./checkpoint modified\n",
      "File ./checkpoint modified\n",
      "File ./checkpoint modified\n",
      "File ./checkpoint modified\n",
      "File ./checkpoint modified\n",
      "File ./checkpoint modified\n",
      "File ./checkpoint modified\n",
      "File ./checkpoint modified\n",
      "File ./checkpoint modified\n",
      "File ./checkpoint modified\n",
      "File ./checkpoint modified\n",
      "File ./checkpoint modified\n",
      "File ./checkpoint modified\n",
      "File ./checkpoint modified\n",
      "File ./checkpoint modified\n",
      "File ./checkpoint modified\n",
      "Successfully upload file ./checkpoint to OBS mipt-course/tendai/srgan-checkpoints-cyclic\n",
      "Successfully upload file ./checkpoint to OBS mipt-course/tendai/srgan-checkpoints-cyclic\n",
      "Successfully upload file ./checkpoint to OBS mipt-course/tendai/srgan-checkpoints-cyclic\n",
      "Successfully upload file ./checkpoint to OBS mipt-course/tendai/srgan-checkpoints-cyclic\n",
      "Successfully upload file ./checkpoint to OBS mipt-course/tendai/srgan-checkpoints-cyclic\n",
      "Successfully upload file ./checkpoint to OBS mipt-course/tendai/srgan-checkpoints-cyclic\n",
      "Successfully upload file ./checkpoint to OBS mipt-course/tendai/srgan-checkpoints-cyclic\n",
      "Successfully upload file ./checkpoint to OBS mipt-course/tendai/srgan-checkpoints-cyclic\n",
      "Successfully upload file ./checkpoint to OBS mipt-course/tendai/srgan-checkpoints-cyclic\n",
      "Successfully upload file ./checkpoint to OBS mipt-course/tendai/srgan-checkpoints-cyclic\n",
      "Successfully upload file ./checkpoint to OBS mipt-course/tendai/srgan-checkpoints-cyclic\n",
      "Successfully upload file ./checkpoint to OBS mipt-course/tendai/srgan-checkpoints-cyclic\n"
     ]
    }
   ],
   "source": [
    "import time\n",
    "import fcntl\n",
    "import os\n",
    "import signal\n",
    "\n",
    "FNAME = \"./checkpoint\"\n",
    "\n",
    "def handler(signum, frame):\n",
    "    print (\"File {FNAME} modified\".format(FNAME=FNAME))\n",
    "    session.upload_data(bucket_path=\"/mipt-course/tendai/srgan-checkpoints-cyclic\", path=\"./checkpoint\")\n",
    "\n",
    "signal.signal(signal.SIGIO, handler)\n",
    "fd = os.open(FNAME,  os.O_RDONLY)\n",
    "fcntl.fcntl(fd, fcntl.F_SETSIG, 0)\n",
    "fcntl.fcntl(fd, fcntl.F_NOTIFY,\n",
    "            fcntl.DN_MODIFY | fcntl.DN_CREATE | fcntl.DN_MULTISHOT)\n",
    "\n",
    "while True:\n",
    "    time.sleep(100000)"
   ]
  },
  {
   "cell_type": "code",
   "execution_count": null,
   "metadata": {},
   "outputs": [],
   "source": []
  }
 ],
 "metadata": {
  "kernelspec": {
   "display_name": "TensorFlow-1.8",
   "language": "python",
   "name": "tensorflow-1.8"
  },
  "language_info": {
   "codemirror_mode": {
    "name": "ipython",
    "version": 3
   },
   "file_extension": ".py",
   "mimetype": "text/x-python",
   "name": "python",
   "nbconvert_exporter": "python",
   "pygments_lexer": "ipython3",
   "version": "3.6.4"
  }
 },
 "nbformat": 4,
 "nbformat_minor": 2
}
