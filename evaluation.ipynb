{
 "cells": [
  {
   "cell_type": "code",
   "execution_count": null,
   "metadata": {
    "scrolled": true
   },
   "outputs": [
    {
     "name": "stdout",
     "output_type": "stream",
     "text": [
      "Collecting tensorflow-gpu>=2.0.0b1 (from -r requirements.txt (line 1))\n",
      "  Downloading http://repo.myhuaweicloud.com/repository/pypi/packages/2b/53/e18c5e7a2263d3581a979645a185804782e59b8e13f42b9c3c3cfb5bb503/tensorflow_gpu-2.0.0b1-cp36-cp36m-manylinux1_x86_64.whl (348.9MB)\n",
      "\u001b[K    100% |████████████████████████████████| 348.9MB 24.7MB/s ta 0:00:011   2% |▉                               | 8.9MB 94.8MB/s eta 0:00:04           | 10.9MB 95.1MB/s eta 0:00:0404                         | 25.5MB 92.3MB/s eta 0:00:04                         | 30.3MB 92.8MB/s eta 0:00:04.8MB 92.3MB/s eta 0:00:04.5MB/s eta 0:00:04��███                            | 44.0MB 93.0MB/s eta 0:00:04��█▌                           | 48.9MB 90.0MB/s eta 0:00:04                   | 53.6MB 92.9MB/s eta 0:00:04██▍                          | 58.5MB 94.3MB/s eta 0:00:04��▊                          | 62.5MB 88.1MB/s eta 0:00:04██▏                         | 67.5MB 93.9MB/s eta 0:00:033MB 96.3MB/s eta 0:00:031MB 83.4MB/s eta 0:00:04                     | 81.4MB 96.0MB/s eta 0:00:03��████▉                        | 85.7MB 94.9MB/s eta 0:00:039MB 93.2MB/s eta 0:00:035MB 96.1MB/s eta 0:00:035MB 92.9MB/s eta 0:00:03% |█████████▍                      | 102.6MB 85.2MB/s eta 0:00:03   30% |█████████▉                      | 107.4MB 91.4MB/s eta 0:00:03        | 112.1MB 94.5MB/s eta 0:00:03�████▊                     | 116.7MB 94.0MB/s eta 0:00:03/s eta 0:00:03██▌                    | 125.2MB 91.8MB/s eta 0:00:03�██▉                    | 129.4MB 95.5MB/s eta 0:00:0395.5MB/s eta 0:00:0393.3MB/s eta 0:00:0390.4MB/s eta 0:00:034MB/s eta 0:00:03███▉                  | 150.8MB 91.3MB/s eta 0:00:03�█████████████▌                 | 158.2MB 95.8MB/s eta 0:00:02% |██████████████▉                 | 162.2MB 91.7MB/s eta 0:00:0347% |███████████████▎                | 166.1MB 90.4MB/s eta 0:00:03��█████▋                | 170.0MB 89.8MB/s eta 0:00:02   | 174.5MB 91.5MB/s eta 0:00:02   | 178.5MB 94.0MB/s eta 0:00:02��███████▉               | 182.9MB 94.6MB/s eta 0:00:02     | 186.5MB 97.8MB/s eta 0:00:02[K    54% |█████████████████▍              | 190.0MB 88.7MB/s eta 0:00:02[K    55% |█████████████████▉              | 194.3MB 95.4MB/s eta 0:00:02�███████▏             | 198.2MB 93.7MB/s eta 0:00:02MB 92.9MB/s eta 0:00:02 |██████████████████▉             | 205.7MB 96.9MB/s eta 0:00:02�████████▏            | 209.5MB 92.8MB/s eta 0:00:02�████████▌            | 213.2MB 92.6MB/s eta 0:00:02.5MB 86.5MB/s eta 0:00:02█████████████████▏           | 219.7MB 89.1MB/s eta 0:00:02 |████████████████████▌           | 223.3MB 97.5MB/s eta 0:00:02 |████████████████████▉           | 226.9MB 91.8MB/s eta 0:00:02MB 97.3MB/s eta 0:00:02�█████████▌          | 234.5MB 99.4MB/s eta 0:00:02MB 94.0MB/s eta 0:00:024MB 95.2MB/s eta 0:00:02 70% |██████████████████████▌         | 244.7MB 95.9MB/s eta 0:00:02█████▊         | 248.2MB 90.2MB/s eta 0:00:02████         | 251.7MB 92.4MB/s eta 0:00:0255.1MB 84.6MB/s eta 0:00:02��████████████████▊        | 259.1MB 98.5MB/s eta 0:00:01��█████████████████████▏       | 262.9MB 88.5MB/s eta 0:00:011��████████▎      | 276.1MB 93.2MB/s eta 0:00:01�████████▋      | 279.5MB 97.3MB/s eta 0:00:01�█████████      | 282.7MB 86.4MB/s eta 0:00:01�███████▎     | 286.6MB 92.5MB/s eta 0:00:01�███████▋     | 289.6MB 89.1MB/s eta 0:00:01��██████▉     | 292.6MB 92.6MB/s eta 0:00:01��███████████████████▏    | 296.0MB 95.7MB/s eta 0:00:019.4MB 96.1MB/s eta 0:00:012.6MB 93.5MB/s eta 0:00:01█████████    | 305.8MB 96.2MB/s eta 0:00:01   88% |████████████████████████████▍   | 309.1MB 92.0MB/s eta 0:00:01�███████████████████████████▊   | 312.7MB 88.5MB/s eta 0:00:01█████▎  | 319.0MB 89.2MB/s eta 0:00:01.8MB 59.6MB/s eta 0:00:01█████▉  | 324.9MB 94.5MB/s eta 0:00:01██████  | 327.9MB 91.9MB/s eta 0:00:01███████▍ | 331.1MB 95.3MB/s eta 0:00:01334.5MB 84.1MB/s eta 0:00:01�██████████████████████████ | 337.3MB 69.1MB/s eta 0:00:01�█████████████████▎| 340.5MB 94.0MB/s eta 0:00:01�█████████████████▌| 343.4MB 92.7MB/s eta 0:00:01�████| 347.9MB 96.8MB/s eta 0:00:01\n",
      "\u001b[?25hCollecting tensorlayer>=2.0.0 (from -r requirements.txt (line 2))\n",
      "  Downloading http://repo.myhuaweicloud.com/repository/pypi/packages/66/7d/80daea9f4359253b76266bc3d4ebd665b5a56eab4117a96d60e63f2182cb/tensorlayer-2.1.0-py2.py3-none-any.whl (353kB)\n",
      "\u001b[K    100% |████████████████████████████████| 358kB 99.9MB/s eta 0:00:01\n",
      "\u001b[?25hCollecting numpy==1.16.1 (from -r requirements.txt (line 3))\n",
      "  Downloading http://repo.myhuaweicloud.com/repository/pypi/packages/f5/bf/4981bcbee43934f0adb8f764a1e70ab0ee5a448f6505bd04a87a2fda2a8b/numpy-1.16.1-cp36-cp36m-manylinux1_x86_64.whl (17.3MB)\n",
      "\u001b[K    100% |████████████████████████████████| 17.3MB 77.4MB/s ta 0:00:011████▎                     | 5.6MB 81.8MB/s eta 0:00:01████▋                 | 7.9MB 58.0MB/s eta 0:00:01█████████████████▎           | 11.0MB 90.2MB/s eta 0:00:01███████▉       | 13.5MB 90.2MB/s eta 0:00:01�███▉ | 16.7MB 102.9MB/s eta 0:00:01\n",
      "\u001b[?25hCollecting easydict==1.9 (from -r requirements.txt (line 4))\n",
      "  Downloading http://repo.myhuaweicloud.com/repository/pypi/packages/4c/c5/5757886c4f538c1b3f95f6745499a24bffa389a805dee92d093e2d9ba7db/easydict-1.9.tar.gz\n",
      "Collecting Pillow==6.2 (from -r requirements.txt (line 5))\n",
      "  Downloading http://repo.myhuaweicloud.com/repository/pypi/packages/19/66/6113477dc3206ccb1e192cffd626f2840ead02375a6cebe2436ad4c19f61/Pillow-6.2.0-cp36-cp36m-manylinux1_x86_64.whl (2.1MB)\n",
      "\u001b[K    100% |████████████████████████████████| 2.1MB 101.0MB/s ta 0:00:01 2.1MB 105.1MB/s eta 0:00:01\n",
      "\u001b[?25hCollecting keras-preprocessing>=1.0.5 (from tensorflow-gpu>=2.0.0b1->-r requirements.txt (line 1))\n",
      "  Downloading http://repo.myhuaweicloud.com/repository/pypi/packages/28/6a/8c1f62c37212d9fc441a7e26736df51ce6f0e38455816445471f10da4f0a/Keras_Preprocessing-1.1.0-py2.py3-none-any.whl (41kB)\n",
      "\u001b[K    100% |████████████████████████████████| 51kB 79.8MB/s ta 0:00:01\n",
      "\u001b[?25hRequirement already satisfied: six>=1.10.0 in /home/ma-user/anaconda3/lib/python3.6/site-packages (from tensorflow-gpu>=2.0.0b1->-r requirements.txt (line 1))\n",
      "Collecting absl-py>=0.7.0 (from tensorflow-gpu>=2.0.0b1->-r requirements.txt (line 1))\n",
      "  Downloading http://repo.myhuaweicloud.com/repository/pypi/packages/1a/53/9243c600e047bd4c3df9e69cfabc1e8004a82cac2e0c484580a78a94ba2a/absl-py-0.9.0.tar.gz (104kB)\n",
      "\u001b[K    100% |████████████████████████████████| 112kB 92.6MB/s ta 0:00:01\n",
      "\u001b[?25hCollecting protobuf>=3.6.1 (from tensorflow-gpu>=2.0.0b1->-r requirements.txt (line 1))\n",
      "  Downloading http://repo.myhuaweicloud.com/repository/pypi/packages/ca/ac/838c8c8a5f33a58132dd2ad2a30329f6ae1614a9f56ffb79eaaf71a9d156/protobuf-3.11.2-cp36-cp36m-manylinux1_x86_64.whl (1.3MB)\n",
      "\u001b[K    100% |████████████████████████████████| 1.3MB 76.3MB/s ta 0:00:01██████████████████████████▎    | 1.1MB 78.7MB/s eta 0:00:01\n",
      "\u001b[?25hCollecting keras-applications>=1.0.6 (from tensorflow-gpu>=2.0.0b1->-r requirements.txt (line 1))\n",
      "  Downloading http://repo.myhuaweicloud.com/repository/pypi/packages/71/e3/19762fdfc62877ae9102edf6342d71b28fbfd9dea3d2f96a882ce099b03f/Keras_Applications-1.0.8-py3-none-any.whl (50kB)\n",
      "\u001b[K    100% |████████████████████████████████| 51kB 79.9MB/s ta 0:00:01\n",
      "\u001b[?25hCollecting tb-nightly<1.14.0a20190604,>=1.14.0a20190603 (from tensorflow-gpu>=2.0.0b1->-r requirements.txt (line 1))\n",
      "  Downloading http://repo.myhuaweicloud.com/repository/pypi/packages/a4/96/571b875cd81dda9d5dfa1422a4f9d749e67c0a8d4f4f0b33a4e5f5f35e27/tb_nightly-1.14.0a20190603-py3-none-any.whl (3.1MB)\n",
      "\u001b[K    100% |████████████████████████████████| 3.1MB 30.0MB/s ta 0:00:011  44% |██████████████                  | 1.4MB 58.7MB/s eta 0:00:01\n",
      "\u001b[?25hCollecting grpcio>=1.8.6 (from tensorflow-gpu>=2.0.0b1->-r requirements.txt (line 1))\n",
      "  Downloading http://repo.myhuaweicloud.com/repository/pypi/packages/8b/9b/ba5d094f979325fdba696bafa9ee23cc50b8fc60481e3d2a9e13d76817dc/grpcio-1.26.0-cp36-cp36m-manylinux1_x86_64.whl (2.5MB)\n",
      "\u001b[K    100% |████████████████████████████████| 2.5MB 58.0MB/s ta 0:00:011\n",
      "\u001b[?25hRequirement already satisfied: wheel>=0.26 in /home/ma-user/anaconda3/lib/python3.6/site-packages (from tensorflow-gpu>=2.0.0b1->-r requirements.txt (line 1))\n",
      "Collecting gast>=0.2.0 (from tensorflow-gpu>=2.0.0b1->-r requirements.txt (line 1))\n",
      "  Downloading http://repo.myhuaweicloud.com/repository/pypi/packages/1f/04/4e36c33f8eb5c5b6c622a1f4859352a6acca7ab387257d4b3c191d23ec1d/gast-0.3.2.tar.gz\n"
     ]
    },
    {
     "name": "stdout",
     "output_type": "stream",
     "text": [
      "Collecting astor>=0.6.0 (from tensorflow-gpu>=2.0.0b1->-r requirements.txt (line 1))\n",
      "  Downloading http://repo.myhuaweicloud.com/repository/pypi/packages/c3/88/97eef84f48fa04fbd6750e62dcceafba6c63c81b7ac1420856c8dcc0a3f9/astor-0.8.1-py2.py3-none-any.whl\n",
      "Collecting termcolor>=1.1.0 (from tensorflow-gpu>=2.0.0b1->-r requirements.txt (line 1))\n",
      "  Downloading http://repo.myhuaweicloud.com/repository/pypi/packages/8a/48/a76be51647d0eb9f10e2a4511bf3ffb8cc1e6b14e9e4fab46173aa79f981/termcolor-1.1.0.tar.gz\n",
      "Collecting wrapt>=1.11.1 (from tensorflow-gpu>=2.0.0b1->-r requirements.txt (line 1))\n",
      "  Downloading http://repo.myhuaweicloud.com/repository/pypi/packages/23/84/323c2415280bc4fc880ac5050dddfb3c8062c2552b34c2e512eb4aa68f79/wrapt-1.11.2.tar.gz\n",
      "Collecting tf-estimator-nightly<1.14.0.dev2019060502,>=1.14.0.dev2019060501 (from tensorflow-gpu>=2.0.0b1->-r requirements.txt (line 1))\n",
      "  Downloading http://repo.myhuaweicloud.com/repository/pypi/packages/32/dd/99c47dd007dcf10d63fd895611b063732646f23059c618a373e85019eb0e/tf_estimator_nightly-1.14.0.dev2019060501-py2.py3-none-any.whl (496kB)\n",
      "\u001b[K    100% |████████████████████████████████| 501kB 99.5MB/s eta 0:00:01\n",
      "\u001b[?25hCollecting google-pasta>=0.1.6 (from tensorflow-gpu>=2.0.0b1->-r requirements.txt (line 1))\n",
      "  Downloading http://repo.myhuaweicloud.com/repository/pypi/packages/c3/fd/1e86bc4837cc9a3a5faf3db9b1854aa04ad35b5f381f9648fbe81a6f94e4/google_pasta-0.1.8-py3-none-any.whl (57kB)\n",
      "\u001b[K    100% |████████████████████████████████| 61kB 83.9MB/s ta 0:00:01\n",
      "\u001b[?25hCollecting scikit-image==0.15.0 (from tensorlayer>=2.0.0->-r requirements.txt (line 2))\n",
      "  Downloading http://repo.myhuaweicloud.com/repository/pypi/packages/d4/ab/674e168bf7d0bc597218b3bec858d02c23fbac9ec1fec9cad878c6cee95f/scikit_image-0.15.0-cp36-cp36m-manylinux1_x86_64.whl (26.3MB)\n",
      "\u001b[K    35% |███████████▎                    | 9.3MB 94.8MB/s eta 0:00:011"
     ]
    }
   ],
   "source": [
    "!pip install -r requirements.txt"
   ]
  },
  {
   "cell_type": "code",
   "execution_count": 3,
   "metadata": {},
   "outputs": [
    {
     "name": "stdout",
     "output_type": "stream",
     "text": [
      "Uninstalling PyWavelets-0.5.2:\n",
      "  Successfully uninstalled PyWavelets-0.5.2\n",
      "\u001b[33mYou are using pip version 9.0.1, however version 19.3.1 is available.\n",
      "You should consider upgrading via the 'pip install --upgrade pip' command.\u001b[0m\n",
      "Collecting PyWavelets\n",
      "  Downloading http://repo.myhuaweicloud.com/repository/pypi/packages/59/bb/d2b85265ec9fa3c1922210c9393d4cdf7075cc87cce6fe671d7455f80fbc/PyWavelets-1.1.1-cp36-cp36m-manylinux1_x86_64.whl (4.4MB)\n",
      "\u001b[K    100% |████████████████████████████████| 4.4MB 103.6MB/s ta 0:00:01██▍| 4.3MB 112.3MB/s eta 0:00:01\n",
      "\u001b[?25hRequirement already satisfied: numpy>=1.13.3 in /home/ma-user/anaconda3/lib/python3.6/site-packages (from PyWavelets)\n",
      "Installing collected packages: PyWavelets\n",
      "Successfully installed PyWavelets-1.1.1\n",
      "\u001b[33mYou are using pip version 9.0.1, however version 19.3.1 is available.\n",
      "You should consider upgrading via the 'pip install --upgrade pip' command.\u001b[0m\n"
     ]
    }
   ],
   "source": [
    "!pip uninstall -y PyWavelets\n",
    "!pip install PyWavelets"
   ]
  },
  {
   "cell_type": "code",
   "execution_count": 24,
   "metadata": {},
   "outputs": [],
   "source": [
    "import os\n",
    "import time\n",
    "import random\n",
    "import numpy as np\n",
    "import scipy, multiprocessing\n",
    "import tensorflow as tf\n",
    "import tensorlayer as tl\n",
    "from model import get_G, get_D\n",
    "from config import config\n",
    "from PIL import Image\n",
    "\n",
    "import math\n",
    "from random import randrange\n",
    "\n",
    "import pandas as pd\n",
    "\n",
    "import matplotlib.pyplot as plt\n",
    "\n",
    "from skimage import img_as_float\n",
    "from skimage.measure import compare_ssim as ssim, compare_psnr as psnr\n",
    "\n",
    "import json"
   ]
  },
  {
   "cell_type": "code",
   "execution_count": 20,
   "metadata": {},
   "outputs": [],
   "source": [
    "def evaluate(checkpoint_dir, model, valid_lr_img, valid_hr_img, image_name, G = None, save_dir = \"validation-samples\"):\n",
    "\n",
    "    os.makedirs(save_dir, exist_ok=True)\n",
    "    \n",
    "    valid_lr_img = (valid_lr_img / 127.5) - 1  # rescale to ［－1, 1]\n",
    "\n",
    "    if not G:\n",
    "        G = get_G([1, None, None, 3])\n",
    "        G.load_weights(os.path.join(checkpoint_dir, model))\n",
    "        G.eval()\n",
    "\n",
    "    valid_lr_img = np.asarray(valid_lr_img, dtype=np.float32)\n",
    "    valid_lr_img = valid_lr_img[np.newaxis,:,:,:]\n",
    "    size = [valid_lr_img.shape[1], valid_lr_img.shape[2]]\n",
    "\n",
    "    out = G(valid_lr_img).numpy()\n",
    "    \n",
    "    model_num = model.replace(\".h5\",\"\").split(\"-\")[1]\n",
    "\n",
    "    print(\"LR size: %s /  generated HR size: %s\" % (size, out.shape))  # LR size: (339, 510, 3) /  gen HR size: (1, 1356, 2040, 3)\n",
    "    \n",
    "    if not os.path.isfile('sr-' + model_num + \"-\" + image_name):\n",
    "        tl.vis.save_image(out[0], os.path.join(save_dir, 'sr-' + model_num + \"-\" + image_name))\n",
    "\n",
    "        out_bicu = scipy.misc.imresize(valid_lr_img[0], [size[0] * 4, size[1] * 4], interp='bicubic', mode=None)\n",
    "        tl.vis.save_image(out_bicu, os.path.join(save_dir, 'bic-' + model_num + \"-\" + image_name))\n",
    "\n",
    "    sr_smaller = tf.image.resize(out[0], size=size)\n",
    "    hr_smaller = tf.image.resize(valid_hr_img, size=size)\n",
    "\n",
    "    validate = {\n",
    "        \"sr\" : out[0],\n",
    "        \"sr_resized\" : sr_smaller.numpy(),\n",
    "        \n",
    "        \"lr\" : valid_lr_img[0],\n",
    "        \"bic\" : out_bicu,\n",
    "        \n",
    "        \"hr\" : valid_hr_img, \n",
    "        \"hr_resized\" : hr_smaller.numpy(),\n",
    "    }\n",
    "    \n",
    "    data = {\n",
    "        \"G\" : G,\n",
    "        \n",
    "        \"model\" : model,\n",
    "\n",
    "        \"psnr_lr\" : psnr( validate.get(\"lr\"),  validate.get(\"sr_resized\")),\n",
    "        \"ssim_lr\" : ssim(validate.get(\"lr\"),  validate.get(\"sr_resized\"), multichannel=True),\n",
    "\n",
    "        \"psnr_hr_4\" : psnr( validate.get(\"hr_resized\"),  validate.get(\"sr_resized\"), data_range = 255),\n",
    "        \"ssim_hr_4\" : ssim(validate.get(\"hr_resized\"),  validate.get(\"sr_resized\"), multichannel=True),\n",
    "        \n",
    "        \"psnr_hr\" : psnr( validate.get(\"hr\"),  validate.get(\"sr\")),\n",
    "        \"ssim_hr\" : ssim(validate.get(\"hr\"),  validate.get(\"sr\"), multichannel=True),\n",
    "\n",
    "        \"psnr_bic_hr\" : psnr( validate.get(\"hr\"),  validate.get(\"bic\")),\n",
    "        \"ssim_bic_hr\" : ssim( validate.get(\"hr\"),  validate.get(\"bic\"), multichannel=True),\n",
    "    }\n",
    "    return data\n",
    "       "
   ]
  },
  {
   "cell_type": "code",
   "execution_count": 32,
   "metadata": {},
   "outputs": [],
   "source": [
    "def evaluate_downsample(checkpoint_dir, model, valid_hr_img, image_name, G = None, save_dir = \"validation-ds-samples\"):\n",
    "\n",
    "    os.makedirs(save_dir, exist_ok=True)\n",
    "    \n",
    "    size = [int(valid_hr_img.shape[0]/4), int(valid_hr_img.shape[1]/4)]\n",
    "    \n",
    "    hr_smaller = tf.image.resize(valid_hr_img, size=size)\n",
    "    \n",
    "    valid_lr_img = (hr_smaller / 127.5) - 1  # rescale to ［－1, 1]\n",
    "\n",
    "    if not G:\n",
    "        G = get_G([1, None, None, 3])\n",
    "        G.load_weights(os.path.join(checkpoint_dir, model))\n",
    "        G.eval()\n",
    "\n",
    "    valid_lr_img = np.asarray(valid_lr_img, dtype=np.float32)\n",
    "    valid_lr_img = valid_lr_img[np.newaxis,:,:,:]\n",
    "    \n",
    "\n",
    "    out = G(valid_lr_img).numpy()\n",
    "    \n",
    "    model_num = model.replace(\".h5\",\"\").split(\"-\")[1]\n",
    "\n",
    "    print(\"LR size: %s /  generated HR size: %s\" % (size, out.shape))  # LR size: (339, 510, 3) /  gen HR size: (1, 1356, 2040, 3)\n",
    "    \n",
    "    if not os.path.isfile('sr-' + model_num + \"-\" + image_name):\n",
    "        tl.vis.save_image(out[0], os.path.join(save_dir, 'sr-' + model_num + \"-\" + image_name))\n",
    "\n",
    "        out_bicu = scipy.misc.imresize(valid_lr_img[0], [size[0] * 4, size[1] * 4], interp='bicubic', mode=None)\n",
    "        tl.vis.save_image(out_bicu, os.path.join(save_dir, 'bic-' + model_num + \"-\" + image_name))\n",
    "\n",
    "    sr_smaller = tf.image.resize(out[0], size=size)\n",
    "    \n",
    "\n",
    "    validate = {\n",
    "        \"sr\" : out[0],\n",
    "        \"sr_resized\" : sr_smaller.numpy(),\n",
    "        \n",
    "        \"lr\" : valid_lr_img[0],\n",
    "        \"bic\" : out_bicu,\n",
    "        \n",
    "        \"hr\" : valid_hr_img, \n",
    "        \"hr_resized\" : hr_smaller.numpy(),\n",
    "    }\n",
    "    \n",
    "    data = {\n",
    "#         \"G\" : G,\n",
    "        \n",
    "        \"model\" : model,\n",
    "\n",
    "        \"psnr_lr\" : psnr( validate.get(\"lr\"),  validate.get(\"sr_resized\")),\n",
    "        \"ssim_lr\" : ssim(validate.get(\"lr\"),  validate.get(\"sr_resized\"), multichannel=True),\n",
    "\n",
    "        \"psnr_hr_4\" : psnr( validate.get(\"hr_resized\"),  validate.get(\"sr_resized\"), data_range = 255),\n",
    "        \"ssim_hr_4\" : ssim(validate.get(\"hr_resized\"),  validate.get(\"sr_resized\"), multichannel=True),\n",
    "        \n",
    "        \"psnr_hr\" : psnr( validate.get(\"hr\"),  validate.get(\"sr\")),\n",
    "        \"ssim_hr\" : ssim(validate.get(\"hr\"),  validate.get(\"sr\"), multichannel=True),\n",
    "\n",
    "        \"psnr_bic_hr\" : psnr( validate.get(\"hr\"),  validate.get(\"bic\")),\n",
    "        \"ssim_bic_hr\" : ssim( validate.get(\"hr\"),  validate.get(\"bic\"), multichannel=True),\n",
    "    }\n",
    "    return data\n",
    "       "
   ]
  },
  {
   "cell_type": "code",
   "execution_count": 6,
   "metadata": {},
   "outputs": [
    {
     "name": "stdout",
     "output_type": "stream",
     "text": [
      "[TL] read 32 from DIV2K/DIV2K_valid_LR_difficult/\n",
      "[TL] read 64 from DIV2K/DIV2K_valid_LR_difficult/\n",
      "[TL] read 96 from DIV2K/DIV2K_valid_LR_difficult/\n",
      "[TL] read 100 from DIV2K/DIV2K_valid_LR_difficult/\n",
      "[TL] read 32 from DIV2K/DIV2K_valid_HR/\n",
      "[TL] read 64 from DIV2K/DIV2K_valid_HR/\n",
      "[TL] read 96 from DIV2K/DIV2K_valid_HR/\n",
      "[TL] read 100 from DIV2K/DIV2K_valid_HR/\n"
     ]
    }
   ],
   "source": [
    "###====================== PRE-LOAD DATA ===========================###\n",
    "valid_hr_img_list = sorted(tl.files.load_file_list(path=config.VALID.hr_img_path, regx='.*.png', printable=False))\n",
    "valid_lr_img_list = sorted(tl.files.load_file_list(path=config.VALID.lr_img_path, regx='.*.png', printable=False))\n",
    "\n",
    "valid_lr_imgs = tl.vis.read_images(valid_lr_img_list, path=config.VALID.lr_img_path, n_threads=32)\n",
    "\n",
    "valid_hr_imgs = tl.vis.read_images(valid_hr_img_list, path=config.VALID.hr_img_path, n_threads=32)"
   ]
  },
  {
   "cell_type": "code",
   "execution_count": 7,
   "metadata": {},
   "outputs": [],
   "source": [
    "def createPyPlot(validate_data, resized = True):\n",
    "\n",
    "\n",
    "    label = 'SSIM: {:.2f}, sk_psnr:{:.2f} PSNR: {:.2f}'\n",
    "\n",
    "    if resized: # show the images at size == the size of the input LR image\n",
    "        fig, axes = plt.subplots(nrows=1, ncols=4, figsize=(17, 12),\n",
    "                             sharex=True, sharey=True)\n",
    "        ax = axes.ravel()\n",
    "        \n",
    "        ax[0].imshow(validate_data.get(\"images\").get(\"lr\"))\n",
    "        ax[0].set_xlabel(label.format(1.00, 100.0, 100.0))\n",
    "        ax[0].set_title('valid LR image')\n",
    "        \n",
    "        ax[1].imshow(validate_data.get(\"images\").get(\"sr_resized\"))\n",
    "        ax[1].set_xlabel(label.format(validate_data.get(\"ssim_lr\"), validate_data.get(\"psnr_lr\"), validate_data.get(\"PSNR_lr\")))\n",
    "        ax[1].set_title('generated image resized *-4 vs LR image')\n",
    "        \n",
    "        ax[2].imshow(validate_data.get(\"images\").get(\"hr_resized\"))\n",
    "        ax[2].set_xlabel(label.format(1.00, 100.0, 100.0))\n",
    "        ax[2].set_title('valid HR resized *-4')      \n",
    "        \n",
    "        ax[3].imshow(validate_data.get(\"images\").get(\"sr_resized\"))\n",
    "        ax[3].set_xlabel(label.format(validate_data.get(\"ssim_hr_4\"), validate_data.get(\"psnr_hr_4\"), validate_data.get(\"PSNR_hr_4\")))\n",
    "        ax[3].set_title('generated image resized *-4 vs HR resized')\n",
    "        \n",
    "    else: \n",
    "        \n",
    "        fig, axes = plt.subplots(nrows=1, ncols=3, figsize=(17, 12),\n",
    "                             sharex=True, sharey=True)\n",
    "        ax = axes.ravel()\n",
    "    \n",
    "        ax[0].imshow(validate_data.get(\"images\").get(\"hr\"))\n",
    "        ax[0].set_xlabel(label.format(1.00, 100.0, 100.0))\n",
    "        ax[0].set_title('valid HR image')\n",
    "\n",
    "        ax[1].imshow(validate_data.get(\"images\").get(\"bic\"))\n",
    "        ax[1].set_xlabel(label.format(validate_data.get(\"ssim_bic_hr\"), validate_data.get(\"psnr_bic_hr\"), validate_data.get(\"PSNR_bic_hr\")))\n",
    "        ax[1].set_title('bicubic interpolation *4 vs HR')\n",
    "\n",
    "        ax[2].imshow(validate_data.get(\"images\").get(\"sr\"))\n",
    "        ax[2].set_xlabel(label.format(validate_data.get(\"ssim_hr\"), validate_data.get(\"psnr_hr\"), validate_data.get(\"PSNR_bic_hr\")))\n",
    "        ax[2].set_title('generated image vs HR')\n",
    "    \n",
    "    plt.tight_layout()\n",
    "    plt.show()"
   ]
  },
  {
   "cell_type": "code",
   "execution_count": 9,
   "metadata": {},
   "outputs": [],
   "source": [
    "def compare_models_names(a):\n",
    "    return int(a.replace(\".h5\",\"\").split(\"-\")[1])"
   ]
  },
  {
   "cell_type": "code",
   "execution_count": 17,
   "metadata": {},
   "outputs": [
    {
     "data": {
      "text/plain": [
       "[56, 33, 99]"
      ]
     },
     "execution_count": 17,
     "metadata": {},
     "output_type": "execute_result"
    }
   ],
   "source": [
    "def rand_three(l):\n",
    "    return [i for i in set((randrange(l), randrange(l), randrange(l), randrange(l), randrange(l)))][:3]\n",
    "\n",
    "rand_three(l)"
   ]
  },
  {
   "cell_type": "code",
   "execution_count": 18,
   "metadata": {},
   "outputs": [
    {
     "data": {
      "text/html": [
       "<div>\n",
       "<style scoped>\n",
       "    .dataframe tbody tr th:only-of-type {\n",
       "        vertical-align: middle;\n",
       "    }\n",
       "\n",
       "    .dataframe tbody tr th {\n",
       "        vertical-align: top;\n",
       "    }\n",
       "\n",
       "    .dataframe thead th {\n",
       "        text-align: right;\n",
       "    }\n",
       "</style>\n",
       "<table border=\"1\" class=\"dataframe\">\n",
       "  <thead>\n",
       "    <tr style=\"text-align: right;\">\n",
       "      <th></th>\n",
       "      <th>0</th>\n",
       "    </tr>\n",
       "  </thead>\n",
       "  <tbody>\n",
       "    <tr>\n",
       "      <th>0</th>\n",
       "      <td>g-10.h5</td>\n",
       "    </tr>\n",
       "    <tr>\n",
       "      <th>1</th>\n",
       "      <td>g-20.h5</td>\n",
       "    </tr>\n",
       "    <tr>\n",
       "      <th>2</th>\n",
       "      <td>g-30.h5</td>\n",
       "    </tr>\n",
       "    <tr>\n",
       "      <th>3</th>\n",
       "      <td>g-40.h5</td>\n",
       "    </tr>\n",
       "    <tr>\n",
       "      <th>4</th>\n",
       "      <td>g-50.h5</td>\n",
       "    </tr>\n",
       "  </tbody>\n",
       "</table>\n",
       "</div>"
      ],
      "text/plain": [
       "         0\n",
       "0  g-10.h5\n",
       "1  g-20.h5\n",
       "2  g-30.h5\n",
       "3  g-40.h5\n",
       "4  g-50.h5"
      ]
     },
     "execution_count": 18,
     "metadata": {},
     "output_type": "execute_result"
    }
   ],
   "source": [
    "models = sorted(tl.files.load_file_list(path=\"checkpoint\", regx='g-[0-9]+\\.(h5)', printable=False), key=compare_models_names)\n",
    "pd.DataFrame(models).head()"
   ]
  },
  {
   "cell_type": "code",
   "execution_count": 21,
   "metadata": {},
   "outputs": [],
   "source": [
    "G = None"
   ]
  },
  {
   "cell_type": "code",
   "execution_count": 26,
   "metadata": {
    "scrolled": true
   },
   "outputs": [
    {
     "name": "stderr",
     "output_type": "stream",
     "text": [
      "Lossy conversion from float32 to uint8. Range [-0.9872180223464966, 0.9135316610336304]. Convert image to uint8 prior to saving to suppress this warning.\n"
     ]
    },
    {
     "name": "stdout",
     "output_type": "stream",
     "text": [
      "LR size: [288, 510] /  generated HR size: (1, 1152, 2040, 3)\n"
     ]
    },
    {
     "name": "stderr",
     "output_type": "stream",
     "text": [
      "/home/ma-user/anaconda3/lib/python3.6/site-packages/ipykernel/__main__.py:25: DeprecationWarning: `imresize` is deprecated!\n",
      "`imresize` is deprecated in SciPy 1.0.0, and will be removed in 1.3.0.\n",
      "Use Pillow instead: ``numpy.array(Image.fromarray(arr).resize())``.\n",
      "/home/ma-user/anaconda3/lib/python3.6/site-packages/skimage/measure/simple_metrics.py:127: UserWarning: Inputs have mismatched dtype.  Setting data_range based on im_true.\n",
      "  warn(\"Inputs have mismatched dtype.  Setting data_range based on \"\n",
      "/home/ma-user/anaconda3/lib/python3.6/site-packages/skimage/measure/_structural_similarity.py:155: UserWarning: Inputs have mismatched dtype.  Setting data_range based on X.dtype.\n",
      "  warn(\"Inputs have mismatched dtype.  Setting data_range based on \"\n",
      "Lossy conversion from float32 to uint8. Range [-0.9872180223464966, 0.9135316610336304]. Convert image to uint8 prior to saving to suppress this warning.\n"
     ]
    },
    {
     "name": "stdout",
     "output_type": "stream",
     "text": [
      "LR size: [288, 510] /  generated HR size: (1, 1152, 2040, 3)\n"
     ]
    },
    {
     "name": "stderr",
     "output_type": "stream",
     "text": [
      "Lossy conversion from float32 to uint8. Range [-0.9872180223464966, 0.9135316610336304]. Convert image to uint8 prior to saving to suppress this warning.\n"
     ]
    },
    {
     "name": "stdout",
     "output_type": "stream",
     "text": [
      "LR size: [288, 510] /  generated HR size: (1, 1152, 2040, 3)\n"
     ]
    },
    {
     "name": "stderr",
     "output_type": "stream",
     "text": [
      "Lossy conversion from float32 to uint8. Range [-0.9872180223464966, 0.9135316610336304]. Convert image to uint8 prior to saving to suppress this warning.\n"
     ]
    },
    {
     "name": "stdout",
     "output_type": "stream",
     "text": [
      "LR size: [288, 510] /  generated HR size: (1, 1152, 2040, 3)\n"
     ]
    },
    {
     "name": "stderr",
     "output_type": "stream",
     "text": [
      "Lossy conversion from float32 to uint8. Range [-0.9872180223464966, 0.9135316610336304]. Convert image to uint8 prior to saving to suppress this warning.\n"
     ]
    },
    {
     "name": "stdout",
     "output_type": "stream",
     "text": [
      "LR size: [288, 510] /  generated HR size: (1, 1152, 2040, 3)\n"
     ]
    },
    {
     "name": "stderr",
     "output_type": "stream",
     "text": [
      "Lossy conversion from float32 to uint8. Range [-0.9872180223464966, 0.9135316610336304]. Convert image to uint8 prior to saving to suppress this warning.\n"
     ]
    },
    {
     "name": "stdout",
     "output_type": "stream",
     "text": [
      "LR size: [288, 510] /  generated HR size: (1, 1152, 2040, 3)\n"
     ]
    },
    {
     "name": "stderr",
     "output_type": "stream",
     "text": [
      "Lossy conversion from float32 to uint8. Range [-0.9872180223464966, 0.9135316610336304]. Convert image to uint8 prior to saving to suppress this warning.\n"
     ]
    },
    {
     "name": "stdout",
     "output_type": "stream",
     "text": [
      "LR size: [288, 510] /  generated HR size: (1, 1152, 2040, 3)\n"
     ]
    },
    {
     "name": "stderr",
     "output_type": "stream",
     "text": [
      "Lossy conversion from float32 to uint8. Range [-0.9872180223464966, 0.9135316610336304]. Convert image to uint8 prior to saving to suppress this warning.\n"
     ]
    },
    {
     "name": "stdout",
     "output_type": "stream",
     "text": [
      "LR size: [288, 510] /  generated HR size: (1, 1152, 2040, 3)\n"
     ]
    },
    {
     "name": "stderr",
     "output_type": "stream",
     "text": [
      "Lossy conversion from float32 to uint8. Range [-0.9872180223464966, 0.9135316610336304]. Convert image to uint8 prior to saving to suppress this warning.\n"
     ]
    },
    {
     "name": "stdout",
     "output_type": "stream",
     "text": [
      "LR size: [288, 510] /  generated HR size: (1, 1152, 2040, 3)\n"
     ]
    },
    {
     "name": "stderr",
     "output_type": "stream",
     "text": [
      "Lossy conversion from float32 to uint8. Range [-0.9872180223464966, 0.9135316610336304]. Convert image to uint8 prior to saving to suppress this warning.\n"
     ]
    },
    {
     "name": "stdout",
     "output_type": "stream",
     "text": [
      "LR size: [288, 510] /  generated HR size: (1, 1152, 2040, 3)\n"
     ]
    },
    {
     "name": "stderr",
     "output_type": "stream",
     "text": [
      "Lossy conversion from float32 to uint8. Range [-0.9872180223464966, 0.9135316610336304]. Convert image to uint8 prior to saving to suppress this warning.\n"
     ]
    },
    {
     "name": "stdout",
     "output_type": "stream",
     "text": [
      "LR size: [288, 510] /  generated HR size: (1, 1152, 2040, 3)\n"
     ]
    },
    {
     "name": "stderr",
     "output_type": "stream",
     "text": [
      "Lossy conversion from float32 to uint8. Range [-0.9872180223464966, 0.9135316610336304]. Convert image to uint8 prior to saving to suppress this warning.\n"
     ]
    },
    {
     "name": "stdout",
     "output_type": "stream",
     "text": [
      "LR size: [288, 510] /  generated HR size: (1, 1152, 2040, 3)\n"
     ]
    },
    {
     "name": "stderr",
     "output_type": "stream",
     "text": [
      "Lossy conversion from float32 to uint8. Range [-0.9872180223464966, 0.9135316610336304]. Convert image to uint8 prior to saving to suppress this warning.\n"
     ]
    },
    {
     "name": "stdout",
     "output_type": "stream",
     "text": [
      "LR size: [288, 510] /  generated HR size: (1, 1152, 2040, 3)\n"
     ]
    },
    {
     "name": "stderr",
     "output_type": "stream",
     "text": [
      "Lossy conversion from float32 to uint8. Range [-0.9872180223464966, 0.9135316610336304]. Convert image to uint8 prior to saving to suppress this warning.\n"
     ]
    },
    {
     "name": "stdout",
     "output_type": "stream",
     "text": [
      "LR size: [288, 510] /  generated HR size: (1, 1152, 2040, 3)\n"
     ]
    },
    {
     "name": "stderr",
     "output_type": "stream",
     "text": [
      "Lossy conversion from float32 to uint8. Range [-0.9872180223464966, 0.9135316610336304]. Convert image to uint8 prior to saving to suppress this warning.\n"
     ]
    },
    {
     "name": "stdout",
     "output_type": "stream",
     "text": [
      "LR size: [288, 510] /  generated HR size: (1, 1152, 2040, 3)\n"
     ]
    },
    {
     "name": "stderr",
     "output_type": "stream",
     "text": [
      "Lossy conversion from float32 to uint8. Range [-0.9872180223464966, 0.9135316610336304]. Convert image to uint8 prior to saving to suppress this warning.\n"
     ]
    },
    {
     "name": "stdout",
     "output_type": "stream",
     "text": [
      "LR size: [288, 510] /  generated HR size: (1, 1152, 2040, 3)\n"
     ]
    },
    {
     "name": "stderr",
     "output_type": "stream",
     "text": [
      "Lossy conversion from float32 to uint8. Range [-0.9872180223464966, 0.9135316610336304]. Convert image to uint8 prior to saving to suppress this warning.\n"
     ]
    },
    {
     "name": "stdout",
     "output_type": "stream",
     "text": [
      "LR size: [288, 510] /  generated HR size: (1, 1152, 2040, 3)\n"
     ]
    },
    {
     "name": "stderr",
     "output_type": "stream",
     "text": [
      "Lossy conversion from float32 to uint8. Range [-0.9872180223464966, 0.9135316610336304]. Convert image to uint8 prior to saving to suppress this warning.\n"
     ]
    },
    {
     "name": "stdout",
     "output_type": "stream",
     "text": [
      "LR size: [288, 510] /  generated HR size: (1, 1152, 2040, 3)\n"
     ]
    },
    {
     "name": "stderr",
     "output_type": "stream",
     "text": [
      "Lossy conversion from float32 to uint8. Range [-0.9872180223464966, 0.9135316610336304]. Convert image to uint8 prior to saving to suppress this warning.\n"
     ]
    },
    {
     "name": "stdout",
     "output_type": "stream",
     "text": [
      "LR size: [288, 510] /  generated HR size: (1, 1152, 2040, 3)\n"
     ]
    },
    {
     "name": "stderr",
     "output_type": "stream",
     "text": [
      "Lossy conversion from float32 to uint8. Range [-0.9872180223464966, 0.9135316610336304]. Convert image to uint8 prior to saving to suppress this warning.\n"
     ]
    },
    {
     "name": "stdout",
     "output_type": "stream",
     "text": [
      "LR size: [288, 510] /  generated HR size: (1, 1152, 2040, 3)\n"
     ]
    },
    {
     "name": "stderr",
     "output_type": "stream",
     "text": [
      "Lossy conversion from float32 to uint8. Range [-0.9872180223464966, 0.9135316610336304]. Convert image to uint8 prior to saving to suppress this warning.\n"
     ]
    },
    {
     "name": "stdout",
     "output_type": "stream",
     "text": [
      "LR size: [288, 510] /  generated HR size: (1, 1152, 2040, 3)\n"
     ]
    },
    {
     "name": "stderr",
     "output_type": "stream",
     "text": [
      "Lossy conversion from float32 to uint8. Range [-0.9872180223464966, 0.9135316610336304]. Convert image to uint8 prior to saving to suppress this warning.\n"
     ]
    },
    {
     "name": "stdout",
     "output_type": "stream",
     "text": [
      "LR size: [288, 510] /  generated HR size: (1, 1152, 2040, 3)\n"
     ]
    },
    {
     "name": "stderr",
     "output_type": "stream",
     "text": [
      "Lossy conversion from float32 to uint8. Range [-0.9872180223464966, 0.9135316610336304]. Convert image to uint8 prior to saving to suppress this warning.\n"
     ]
    },
    {
     "name": "stdout",
     "output_type": "stream",
     "text": [
      "LR size: [288, 510] /  generated HR size: (1, 1152, 2040, 3)\n"
     ]
    },
    {
     "name": "stderr",
     "output_type": "stream",
     "text": [
      "Lossy conversion from float32 to uint8. Range [-0.9872180223464966, 0.9135316610336304]. Convert image to uint8 prior to saving to suppress this warning.\n"
     ]
    },
    {
     "name": "stdout",
     "output_type": "stream",
     "text": [
      "LR size: [288, 510] /  generated HR size: (1, 1152, 2040, 3)\n"
     ]
    },
    {
     "name": "stderr",
     "output_type": "stream",
     "text": [
      "Lossy conversion from float32 to uint8. Range [-0.9872180223464966, 0.9135316610336304]. Convert image to uint8 prior to saving to suppress this warning.\n"
     ]
    },
    {
     "name": "stdout",
     "output_type": "stream",
     "text": [
      "LR size: [288, 510] /  generated HR size: (1, 1152, 2040, 3)\n"
     ]
    },
    {
     "name": "stderr",
     "output_type": "stream",
     "text": [
      "Lossy conversion from float32 to uint8. Range [-0.9872180223464966, 0.9135316610336304]. Convert image to uint8 prior to saving to suppress this warning.\n"
     ]
    },
    {
     "name": "stdout",
     "output_type": "stream",
     "text": [
      "LR size: [288, 510] /  generated HR size: (1, 1152, 2040, 3)\n"
     ]
    },
    {
     "name": "stderr",
     "output_type": "stream",
     "text": [
      "Lossy conversion from float32 to uint8. Range [-0.9872180223464966, 0.9135316610336304]. Convert image to uint8 prior to saving to suppress this warning.\n"
     ]
    },
    {
     "name": "stdout",
     "output_type": "stream",
     "text": [
      "LR size: [288, 510] /  generated HR size: (1, 1152, 2040, 3)\n"
     ]
    },
    {
     "name": "stderr",
     "output_type": "stream",
     "text": [
      "Lossy conversion from float32 to uint8. Range [-0.9872180223464966, 0.9135316610336304]. Convert image to uint8 prior to saving to suppress this warning.\n"
     ]
    },
    {
     "name": "stdout",
     "output_type": "stream",
     "text": [
      "LR size: [288, 510] /  generated HR size: (1, 1152, 2040, 3)\n"
     ]
    },
    {
     "name": "stderr",
     "output_type": "stream",
     "text": [
      "Lossy conversion from float32 to uint8. Range [-0.9872180223464966, 0.9135316610336304]. Convert image to uint8 prior to saving to suppress this warning.\n"
     ]
    },
    {
     "name": "stdout",
     "output_type": "stream",
     "text": [
      "LR size: [288, 510] /  generated HR size: (1, 1152, 2040, 3)\n"
     ]
    },
    {
     "name": "stderr",
     "output_type": "stream",
     "text": [
      "Lossy conversion from float32 to uint8. Range [-0.9872180223464966, 0.9135316610336304]. Convert image to uint8 prior to saving to suppress this warning.\n"
     ]
    },
    {
     "name": "stdout",
     "output_type": "stream",
     "text": [
      "LR size: [288, 510] /  generated HR size: (1, 1152, 2040, 3)\n"
     ]
    },
    {
     "name": "stderr",
     "output_type": "stream",
     "text": [
      "Lossy conversion from float32 to uint8. Range [-0.9872180223464966, 0.9135316610336304]. Convert image to uint8 prior to saving to suppress this warning.\n"
     ]
    },
    {
     "name": "stdout",
     "output_type": "stream",
     "text": [
      "LR size: [288, 510] /  generated HR size: (1, 1152, 2040, 3)\n"
     ]
    },
    {
     "name": "stderr",
     "output_type": "stream",
     "text": [
      "Lossy conversion from float32 to uint8. Range [-0.9872180223464966, 0.9135316610336304]. Convert image to uint8 prior to saving to suppress this warning.\n"
     ]
    },
    {
     "name": "stdout",
     "output_type": "stream",
     "text": [
      "LR size: [288, 510] /  generated HR size: (1, 1152, 2040, 3)\n"
     ]
    },
    {
     "name": "stderr",
     "output_type": "stream",
     "text": [
      "Lossy conversion from float32 to uint8. Range [-0.9872180223464966, 0.9135316610336304]. Convert image to uint8 prior to saving to suppress this warning.\n"
     ]
    },
    {
     "name": "stdout",
     "output_type": "stream",
     "text": [
      "LR size: [288, 510] /  generated HR size: (1, 1152, 2040, 3)\n"
     ]
    },
    {
     "name": "stderr",
     "output_type": "stream",
     "text": [
      "Lossy conversion from float32 to uint8. Range [-0.9872180223464966, 0.9135316610336304]. Convert image to uint8 prior to saving to suppress this warning.\n"
     ]
    },
    {
     "name": "stdout",
     "output_type": "stream",
     "text": [
      "LR size: [288, 510] /  generated HR size: (1, 1152, 2040, 3)\n"
     ]
    },
    {
     "name": "stderr",
     "output_type": "stream",
     "text": [
      "Lossy conversion from float32 to uint8. Range [-0.9872180223464966, 0.9135316610336304]. Convert image to uint8 prior to saving to suppress this warning.\n"
     ]
    },
    {
     "name": "stdout",
     "output_type": "stream",
     "text": [
      "LR size: [288, 510] /  generated HR size: (1, 1152, 2040, 3)\n"
     ]
    },
    {
     "name": "stderr",
     "output_type": "stream",
     "text": [
      "Lossy conversion from float32 to uint8. Range [-0.9872180223464966, 0.9135316610336304]. Convert image to uint8 prior to saving to suppress this warning.\n"
     ]
    },
    {
     "name": "stdout",
     "output_type": "stream",
     "text": [
      "LR size: [288, 510] /  generated HR size: (1, 1152, 2040, 3)\n"
     ]
    },
    {
     "name": "stderr",
     "output_type": "stream",
     "text": [
      "Lossy conversion from float32 to uint8. Range [-0.9872180223464966, 0.9135316610336304]. Convert image to uint8 prior to saving to suppress this warning.\n"
     ]
    },
    {
     "name": "stdout",
     "output_type": "stream",
     "text": [
      "LR size: [288, 510] /  generated HR size: (1, 1152, 2040, 3)\n"
     ]
    },
    {
     "name": "stderr",
     "output_type": "stream",
     "text": [
      "Lossy conversion from float32 to uint8. Range [-0.9872180223464966, 0.9135316610336304]. Convert image to uint8 prior to saving to suppress this warning.\n"
     ]
    },
    {
     "name": "stdout",
     "output_type": "stream",
     "text": [
      "LR size: [288, 510] /  generated HR size: (1, 1152, 2040, 3)\n"
     ]
    },
    {
     "name": "stderr",
     "output_type": "stream",
     "text": [
      "Lossy conversion from float32 to uint8. Range [-0.9872180223464966, 0.9135316610336304]. Convert image to uint8 prior to saving to suppress this warning.\n"
     ]
    },
    {
     "name": "stdout",
     "output_type": "stream",
     "text": [
      "LR size: [288, 510] /  generated HR size: (1, 1152, 2040, 3)\n"
     ]
    },
    {
     "name": "stderr",
     "output_type": "stream",
     "text": [
      "Lossy conversion from float32 to uint8. Range [-0.9872180223464966, 0.9135316610336304]. Convert image to uint8 prior to saving to suppress this warning.\n"
     ]
    },
    {
     "name": "stdout",
     "output_type": "stream",
     "text": [
      "LR size: [288, 510] /  generated HR size: (1, 1152, 2040, 3)\n"
     ]
    },
    {
     "name": "stderr",
     "output_type": "stream",
     "text": [
      "Lossy conversion from float32 to uint8. Range [-0.9872180223464966, 0.9135316610336304]. Convert image to uint8 prior to saving to suppress this warning.\n"
     ]
    },
    {
     "name": "stdout",
     "output_type": "stream",
     "text": [
      "LR size: [288, 510] /  generated HR size: (1, 1152, 2040, 3)\n"
     ]
    },
    {
     "name": "stderr",
     "output_type": "stream",
     "text": [
      "Lossy conversion from float32 to uint8. Range [-0.9872180223464966, 0.9135316610336304]. Convert image to uint8 prior to saving to suppress this warning.\n"
     ]
    },
    {
     "name": "stdout",
     "output_type": "stream",
     "text": [
      "LR size: [288, 510] /  generated HR size: (1, 1152, 2040, 3)\n"
     ]
    },
    {
     "name": "stderr",
     "output_type": "stream",
     "text": [
      "Lossy conversion from float32 to uint8. Range [-0.9872180223464966, 0.9135316610336304]. Convert image to uint8 prior to saving to suppress this warning.\n"
     ]
    },
    {
     "name": "stdout",
     "output_type": "stream",
     "text": [
      "LR size: [288, 510] /  generated HR size: (1, 1152, 2040, 3)\n"
     ]
    },
    {
     "name": "stderr",
     "output_type": "stream",
     "text": [
      "Lossy conversion from float32 to uint8. Range [-0.9872180223464966, 0.9135316610336304]. Convert image to uint8 prior to saving to suppress this warning.\n"
     ]
    },
    {
     "name": "stdout",
     "output_type": "stream",
     "text": [
      "LR size: [288, 510] /  generated HR size: (1, 1152, 2040, 3)\n"
     ]
    },
    {
     "name": "stderr",
     "output_type": "stream",
     "text": [
      "Lossy conversion from float32 to uint8. Range [-0.9872180223464966, 0.9135316610336304]. Convert image to uint8 prior to saving to suppress this warning.\n"
     ]
    },
    {
     "name": "stdout",
     "output_type": "stream",
     "text": [
      "LR size: [288, 510] /  generated HR size: (1, 1152, 2040, 3)\n"
     ]
    },
    {
     "name": "stderr",
     "output_type": "stream",
     "text": [
      "Lossy conversion from float32 to uint8. Range [-0.9872180223464966, 0.9135316610336304]. Convert image to uint8 prior to saving to suppress this warning.\n"
     ]
    },
    {
     "name": "stdout",
     "output_type": "stream",
     "text": [
      "LR size: [288, 510] /  generated HR size: (1, 1152, 2040, 3)\n"
     ]
    },
    {
     "name": "stderr",
     "output_type": "stream",
     "text": [
      "Lossy conversion from float32 to uint8. Range [-0.9872180223464966, 0.9135316610336304]. Convert image to uint8 prior to saving to suppress this warning.\n"
     ]
    },
    {
     "name": "stdout",
     "output_type": "stream",
     "text": [
      "LR size: [288, 510] /  generated HR size: (1, 1152, 2040, 3)\n"
     ]
    },
    {
     "name": "stderr",
     "output_type": "stream",
     "text": [
      "Lossy conversion from float32 to uint8. Range [-0.9872180223464966, 0.9135316610336304]. Convert image to uint8 prior to saving to suppress this warning.\n"
     ]
    },
    {
     "name": "stdout",
     "output_type": "stream",
     "text": [
      "LR size: [288, 510] /  generated HR size: (1, 1152, 2040, 3)\n"
     ]
    },
    {
     "name": "stderr",
     "output_type": "stream",
     "text": [
      "Lossy conversion from float32 to uint8. Range [-0.9872180223464966, 0.9135316610336304]. Convert image to uint8 prior to saving to suppress this warning.\n"
     ]
    },
    {
     "name": "stdout",
     "output_type": "stream",
     "text": [
      "LR size: [288, 510] /  generated HR size: (1, 1152, 2040, 3)\n"
     ]
    },
    {
     "name": "stderr",
     "output_type": "stream",
     "text": [
      "Lossy conversion from float32 to uint8. Range [-0.9872180223464966, 0.9135316610336304]. Convert image to uint8 prior to saving to suppress this warning.\n"
     ]
    },
    {
     "name": "stdout",
     "output_type": "stream",
     "text": [
      "LR size: [288, 510] /  generated HR size: (1, 1152, 2040, 3)\n"
     ]
    },
    {
     "name": "stderr",
     "output_type": "stream",
     "text": [
      "Lossy conversion from float32 to uint8. Range [-0.9872180223464966, 0.9135316610336304]. Convert image to uint8 prior to saving to suppress this warning.\n"
     ]
    },
    {
     "name": "stdout",
     "output_type": "stream",
     "text": [
      "LR size: [288, 510] /  generated HR size: (1, 1152, 2040, 3)\n"
     ]
    },
    {
     "name": "stderr",
     "output_type": "stream",
     "text": [
      "Lossy conversion from float32 to uint8. Range [-0.9872180223464966, 0.9135316610336304]. Convert image to uint8 prior to saving to suppress this warning.\n"
     ]
    },
    {
     "name": "stdout",
     "output_type": "stream",
     "text": [
      "LR size: [288, 510] /  generated HR size: (1, 1152, 2040, 3)\n"
     ]
    },
    {
     "name": "stderr",
     "output_type": "stream",
     "text": [
      "Lossy conversion from float32 to uint8. Range [-0.9872180223464966, 0.9135316610336304]. Convert image to uint8 prior to saving to suppress this warning.\n"
     ]
    },
    {
     "name": "stdout",
     "output_type": "stream",
     "text": [
      "LR size: [288, 510] /  generated HR size: (1, 1152, 2040, 3)\n"
     ]
    },
    {
     "name": "stderr",
     "output_type": "stream",
     "text": [
      "Lossy conversion from float32 to uint8. Range [-0.9872180223464966, 0.9135316610336304]. Convert image to uint8 prior to saving to suppress this warning.\n"
     ]
    },
    {
     "name": "stdout",
     "output_type": "stream",
     "text": [
      "LR size: [288, 510] /  generated HR size: (1, 1152, 2040, 3)\n"
     ]
    },
    {
     "name": "stderr",
     "output_type": "stream",
     "text": [
      "Lossy conversion from float32 to uint8. Range [-0.9872180223464966, 0.9135316610336304]. Convert image to uint8 prior to saving to suppress this warning.\n"
     ]
    },
    {
     "name": "stdout",
     "output_type": "stream",
     "text": [
      "LR size: [288, 510] /  generated HR size: (1, 1152, 2040, 3)\n"
     ]
    },
    {
     "name": "stderr",
     "output_type": "stream",
     "text": [
      "Lossy conversion from float32 to uint8. Range [-0.9872180223464966, 0.9135316610336304]. Convert image to uint8 prior to saving to suppress this warning.\n"
     ]
    },
    {
     "name": "stdout",
     "output_type": "stream",
     "text": [
      "LR size: [288, 510] /  generated HR size: (1, 1152, 2040, 3)\n"
     ]
    },
    {
     "name": "stderr",
     "output_type": "stream",
     "text": [
      "Lossy conversion from float32 to uint8. Range [-0.9872180223464966, 0.9135316610336304]. Convert image to uint8 prior to saving to suppress this warning.\n"
     ]
    },
    {
     "name": "stdout",
     "output_type": "stream",
     "text": [
      "LR size: [288, 510] /  generated HR size: (1, 1152, 2040, 3)\n"
     ]
    },
    {
     "name": "stderr",
     "output_type": "stream",
     "text": [
      "Lossy conversion from float32 to uint8. Range [-0.9872180223464966, 0.9135316610336304]. Convert image to uint8 prior to saving to suppress this warning.\n"
     ]
    },
    {
     "name": "stdout",
     "output_type": "stream",
     "text": [
      "LR size: [288, 510] /  generated HR size: (1, 1152, 2040, 3)\n"
     ]
    },
    {
     "name": "stderr",
     "output_type": "stream",
     "text": [
      "Lossy conversion from float32 to uint8. Range [-0.9872180223464966, 0.9135316610336304]. Convert image to uint8 prior to saving to suppress this warning.\n"
     ]
    },
    {
     "name": "stdout",
     "output_type": "stream",
     "text": [
      "LR size: [288, 510] /  generated HR size: (1, 1152, 2040, 3)\n"
     ]
    },
    {
     "name": "stderr",
     "output_type": "stream",
     "text": [
      "Lossy conversion from float32 to uint8. Range [-0.9872180223464966, 0.9135316610336304]. Convert image to uint8 prior to saving to suppress this warning.\n"
     ]
    },
    {
     "name": "stdout",
     "output_type": "stream",
     "text": [
      "LR size: [288, 510] /  generated HR size: (1, 1152, 2040, 3)\n"
     ]
    },
    {
     "name": "stderr",
     "output_type": "stream",
     "text": [
      "Lossy conversion from float32 to uint8. Range [-0.9872180223464966, 0.9135316610336304]. Convert image to uint8 prior to saving to suppress this warning.\n"
     ]
    },
    {
     "name": "stdout",
     "output_type": "stream",
     "text": [
      "LR size: [288, 510] /  generated HR size: (1, 1152, 2040, 3)\n"
     ]
    },
    {
     "name": "stderr",
     "output_type": "stream",
     "text": [
      "Lossy conversion from float32 to uint8. Range [-0.9872180223464966, 0.9135316610336304]. Convert image to uint8 prior to saving to suppress this warning.\n"
     ]
    },
    {
     "name": "stdout",
     "output_type": "stream",
     "text": [
      "LR size: [288, 510] /  generated HR size: (1, 1152, 2040, 3)\n"
     ]
    },
    {
     "name": "stderr",
     "output_type": "stream",
     "text": [
      "Lossy conversion from float32 to uint8. Range [-0.9872180223464966, 0.9135316610336304]. Convert image to uint8 prior to saving to suppress this warning.\n"
     ]
    },
    {
     "name": "stdout",
     "output_type": "stream",
     "text": [
      "LR size: [288, 510] /  generated HR size: (1, 1152, 2040, 3)\n"
     ]
    },
    {
     "name": "stderr",
     "output_type": "stream",
     "text": [
      "Lossy conversion from float32 to uint8. Range [-0.9872180223464966, 0.9135316610336304]. Convert image to uint8 prior to saving to suppress this warning.\n"
     ]
    },
    {
     "name": "stdout",
     "output_type": "stream",
     "text": [
      "LR size: [288, 510] /  generated HR size: (1, 1152, 2040, 3)\n"
     ]
    },
    {
     "name": "stderr",
     "output_type": "stream",
     "text": [
      "Lossy conversion from float32 to uint8. Range [-0.9872180223464966, 0.9135316610336304]. Convert image to uint8 prior to saving to suppress this warning.\n"
     ]
    },
    {
     "name": "stdout",
     "output_type": "stream",
     "text": [
      "LR size: [288, 510] /  generated HR size: (1, 1152, 2040, 3)\n"
     ]
    },
    {
     "name": "stderr",
     "output_type": "stream",
     "text": [
      "Lossy conversion from float32 to uint8. Range [-0.9872180223464966, 0.9135316610336304]. Convert image to uint8 prior to saving to suppress this warning.\n"
     ]
    },
    {
     "name": "stdout",
     "output_type": "stream",
     "text": [
      "LR size: [288, 510] /  generated HR size: (1, 1152, 2040, 3)\n"
     ]
    },
    {
     "name": "stderr",
     "output_type": "stream",
     "text": [
      "Lossy conversion from float32 to uint8. Range [-0.9872180223464966, 0.9135316610336304]. Convert image to uint8 prior to saving to suppress this warning.\n"
     ]
    },
    {
     "name": "stdout",
     "output_type": "stream",
     "text": [
      "LR size: [288, 510] /  generated HR size: (1, 1152, 2040, 3)\n"
     ]
    },
    {
     "name": "stderr",
     "output_type": "stream",
     "text": [
      "Lossy conversion from float32 to uint8. Range [-0.9872180223464966, 0.9135316610336304]. Convert image to uint8 prior to saving to suppress this warning.\n"
     ]
    },
    {
     "name": "stdout",
     "output_type": "stream",
     "text": [
      "LR size: [288, 510] /  generated HR size: (1, 1152, 2040, 3)\n"
     ]
    },
    {
     "name": "stderr",
     "output_type": "stream",
     "text": [
      "Lossy conversion from float32 to uint8. Range [-0.9872180223464966, 0.9135316610336304]. Convert image to uint8 prior to saving to suppress this warning.\n"
     ]
    },
    {
     "name": "stdout",
     "output_type": "stream",
     "text": [
      "LR size: [288, 510] /  generated HR size: (1, 1152, 2040, 3)\n"
     ]
    },
    {
     "name": "stderr",
     "output_type": "stream",
     "text": [
      "Lossy conversion from float32 to uint8. Range [-0.9872180223464966, 0.9135316610336304]. Convert image to uint8 prior to saving to suppress this warning.\n"
     ]
    },
    {
     "name": "stdout",
     "output_type": "stream",
     "text": [
      "LR size: [288, 510] /  generated HR size: (1, 1152, 2040, 3)\n"
     ]
    },
    {
     "name": "stderr",
     "output_type": "stream",
     "text": [
      "Lossy conversion from float32 to uint8. Range [-0.9872180223464966, 0.9135316610336304]. Convert image to uint8 prior to saving to suppress this warning.\n"
     ]
    },
    {
     "name": "stdout",
     "output_type": "stream",
     "text": [
      "LR size: [288, 510] /  generated HR size: (1, 1152, 2040, 3)\n"
     ]
    },
    {
     "name": "stderr",
     "output_type": "stream",
     "text": [
      "Lossy conversion from float32 to uint8. Range [-0.9872180223464966, 0.9135316610336304]. Convert image to uint8 prior to saving to suppress this warning.\n"
     ]
    },
    {
     "name": "stdout",
     "output_type": "stream",
     "text": [
      "LR size: [288, 510] /  generated HR size: (1, 1152, 2040, 3)\n"
     ]
    },
    {
     "name": "stderr",
     "output_type": "stream",
     "text": [
      "Lossy conversion from float32 to uint8. Range [-0.9872180223464966, 0.9135316610336304]. Convert image to uint8 prior to saving to suppress this warning.\n"
     ]
    },
    {
     "name": "stdout",
     "output_type": "stream",
     "text": [
      "LR size: [288, 510] /  generated HR size: (1, 1152, 2040, 3)\n"
     ]
    },
    {
     "name": "stderr",
     "output_type": "stream",
     "text": [
      "Lossy conversion from float32 to uint8. Range [-0.9872180223464966, 0.9135316610336304]. Convert image to uint8 prior to saving to suppress this warning.\n"
     ]
    },
    {
     "name": "stdout",
     "output_type": "stream",
     "text": [
      "LR size: [288, 510] /  generated HR size: (1, 1152, 2040, 3)\n"
     ]
    },
    {
     "name": "stderr",
     "output_type": "stream",
     "text": [
      "Lossy conversion from float32 to uint8. Range [-0.9872180223464966, 0.9135316610336304]. Convert image to uint8 prior to saving to suppress this warning.\n"
     ]
    },
    {
     "name": "stdout",
     "output_type": "stream",
     "text": [
      "LR size: [288, 510] /  generated HR size: (1, 1152, 2040, 3)\n"
     ]
    },
    {
     "name": "stderr",
     "output_type": "stream",
     "text": [
      "Lossy conversion from float32 to uint8. Range [-0.9872180223464966, 0.9135316610336304]. Convert image to uint8 prior to saving to suppress this warning.\n"
     ]
    },
    {
     "name": "stdout",
     "output_type": "stream",
     "text": [
      "LR size: [288, 510] /  generated HR size: (1, 1152, 2040, 3)\n"
     ]
    },
    {
     "name": "stderr",
     "output_type": "stream",
     "text": [
      "Lossy conversion from float32 to uint8. Range [-0.9872180223464966, 0.9135316610336304]. Convert image to uint8 prior to saving to suppress this warning.\n"
     ]
    },
    {
     "name": "stdout",
     "output_type": "stream",
     "text": [
      "LR size: [288, 510] /  generated HR size: (1, 1152, 2040, 3)\n"
     ]
    },
    {
     "name": "stderr",
     "output_type": "stream",
     "text": [
      "Lossy conversion from float32 to uint8. Range [-0.9872180223464966, 0.9135316610336304]. Convert image to uint8 prior to saving to suppress this warning.\n"
     ]
    },
    {
     "name": "stdout",
     "output_type": "stream",
     "text": [
      "LR size: [288, 510] /  generated HR size: (1, 1152, 2040, 3)\n"
     ]
    },
    {
     "name": "stderr",
     "output_type": "stream",
     "text": [
      "Lossy conversion from float32 to uint8. Range [-0.9872180223464966, 0.9135316610336304]. Convert image to uint8 prior to saving to suppress this warning.\n"
     ]
    },
    {
     "name": "stdout",
     "output_type": "stream",
     "text": [
      "LR size: [288, 510] /  generated HR size: (1, 1152, 2040, 3)\n"
     ]
    },
    {
     "name": "stderr",
     "output_type": "stream",
     "text": [
      "Lossy conversion from float32 to uint8. Range [-0.9872180223464966, 0.9135316610336304]. Convert image to uint8 prior to saving to suppress this warning.\n"
     ]
    },
    {
     "name": "stdout",
     "output_type": "stream",
     "text": [
      "LR size: [288, 510] /  generated HR size: (1, 1152, 2040, 3)\n"
     ]
    },
    {
     "name": "stderr",
     "output_type": "stream",
     "text": [
      "Lossy conversion from float32 to uint8. Range [-0.9872180223464966, 0.9135316610336304]. Convert image to uint8 prior to saving to suppress this warning.\n"
     ]
    },
    {
     "name": "stdout",
     "output_type": "stream",
     "text": [
      "LR size: [288, 510] /  generated HR size: (1, 1152, 2040, 3)\n"
     ]
    },
    {
     "name": "stderr",
     "output_type": "stream",
     "text": [
      "Lossy conversion from float32 to uint8. Range [-0.9872180223464966, 0.9135316610336304]. Convert image to uint8 prior to saving to suppress this warning.\n"
     ]
    },
    {
     "name": "stdout",
     "output_type": "stream",
     "text": [
      "LR size: [288, 510] /  generated HR size: (1, 1152, 2040, 3)\n"
     ]
    },
    {
     "name": "stderr",
     "output_type": "stream",
     "text": [
      "Lossy conversion from float32 to uint8. Range [-0.9872180223464966, 0.9135316610336304]. Convert image to uint8 prior to saving to suppress this warning.\n"
     ]
    },
    {
     "name": "stdout",
     "output_type": "stream",
     "text": [
      "LR size: [288, 510] /  generated HR size: (1, 1152, 2040, 3)\n"
     ]
    },
    {
     "name": "stderr",
     "output_type": "stream",
     "text": [
      "Lossy conversion from float32 to uint8. Range [-0.9788183569908142, 0.9308249354362488]. Convert image to uint8 prior to saving to suppress this warning.\n"
     ]
    },
    {
     "name": "stdout",
     "output_type": "stream",
     "text": [
      "LR size: [345, 510] /  generated HR size: (1, 1380, 2040, 3)\n"
     ]
    },
    {
     "name": "stderr",
     "output_type": "stream",
     "text": [
      "Lossy conversion from float32 to uint8. Range [-0.9788183569908142, 0.9308249354362488]. Convert image to uint8 prior to saving to suppress this warning.\n"
     ]
    },
    {
     "name": "stdout",
     "output_type": "stream",
     "text": [
      "LR size: [345, 510] /  generated HR size: (1, 1380, 2040, 3)\n"
     ]
    },
    {
     "name": "stderr",
     "output_type": "stream",
     "text": [
      "Lossy conversion from float32 to uint8. Range [-0.9788183569908142, 0.9308249354362488]. Convert image to uint8 prior to saving to suppress this warning.\n"
     ]
    },
    {
     "name": "stdout",
     "output_type": "stream",
     "text": [
      "LR size: [345, 510] /  generated HR size: (1, 1380, 2040, 3)\n"
     ]
    },
    {
     "name": "stderr",
     "output_type": "stream",
     "text": [
      "Lossy conversion from float32 to uint8. Range [-0.9788183569908142, 0.9308249354362488]. Convert image to uint8 prior to saving to suppress this warning.\n"
     ]
    },
    {
     "name": "stdout",
     "output_type": "stream",
     "text": [
      "LR size: [345, 510] /  generated HR size: (1, 1380, 2040, 3)\n"
     ]
    },
    {
     "name": "stderr",
     "output_type": "stream",
     "text": [
      "Lossy conversion from float32 to uint8. Range [-0.9788183569908142, 0.9308249354362488]. Convert image to uint8 prior to saving to suppress this warning.\n"
     ]
    },
    {
     "name": "stdout",
     "output_type": "stream",
     "text": [
      "LR size: [345, 510] /  generated HR size: (1, 1380, 2040, 3)\n"
     ]
    },
    {
     "name": "stderr",
     "output_type": "stream",
     "text": [
      "Lossy conversion from float32 to uint8. Range [-0.9788183569908142, 0.9308249354362488]. Convert image to uint8 prior to saving to suppress this warning.\n"
     ]
    },
    {
     "name": "stdout",
     "output_type": "stream",
     "text": [
      "LR size: [345, 510] /  generated HR size: (1, 1380, 2040, 3)\n"
     ]
    },
    {
     "name": "stderr",
     "output_type": "stream",
     "text": [
      "Lossy conversion from float32 to uint8. Range [-0.9788183569908142, 0.9308249354362488]. Convert image to uint8 prior to saving to suppress this warning.\n"
     ]
    },
    {
     "name": "stdout",
     "output_type": "stream",
     "text": [
      "LR size: [345, 510] /  generated HR size: (1, 1380, 2040, 3)\n"
     ]
    },
    {
     "name": "stderr",
     "output_type": "stream",
     "text": [
      "Lossy conversion from float32 to uint8. Range [-0.9788183569908142, 0.9308249354362488]. Convert image to uint8 prior to saving to suppress this warning.\n"
     ]
    },
    {
     "name": "stdout",
     "output_type": "stream",
     "text": [
      "LR size: [345, 510] /  generated HR size: (1, 1380, 2040, 3)\n"
     ]
    },
    {
     "name": "stderr",
     "output_type": "stream",
     "text": [
      "Lossy conversion from float32 to uint8. Range [-0.9788183569908142, 0.9308249354362488]. Convert image to uint8 prior to saving to suppress this warning.\n"
     ]
    },
    {
     "name": "stdout",
     "output_type": "stream",
     "text": [
      "LR size: [345, 510] /  generated HR size: (1, 1380, 2040, 3)\n"
     ]
    },
    {
     "name": "stderr",
     "output_type": "stream",
     "text": [
      "Lossy conversion from float32 to uint8. Range [-0.9788183569908142, 0.9308249354362488]. Convert image to uint8 prior to saving to suppress this warning.\n"
     ]
    },
    {
     "name": "stdout",
     "output_type": "stream",
     "text": [
      "LR size: [345, 510] /  generated HR size: (1, 1380, 2040, 3)\n"
     ]
    },
    {
     "name": "stderr",
     "output_type": "stream",
     "text": [
      "Lossy conversion from float32 to uint8. Range [-0.9788183569908142, 0.9308249354362488]. Convert image to uint8 prior to saving to suppress this warning.\n"
     ]
    },
    {
     "name": "stdout",
     "output_type": "stream",
     "text": [
      "LR size: [345, 510] /  generated HR size: (1, 1380, 2040, 3)\n"
     ]
    },
    {
     "name": "stderr",
     "output_type": "stream",
     "text": [
      "Lossy conversion from float32 to uint8. Range [-0.9788183569908142, 0.9308249354362488]. Convert image to uint8 prior to saving to suppress this warning.\n"
     ]
    },
    {
     "name": "stdout",
     "output_type": "stream",
     "text": [
      "LR size: [345, 510] /  generated HR size: (1, 1380, 2040, 3)\n"
     ]
    },
    {
     "name": "stderr",
     "output_type": "stream",
     "text": [
      "Lossy conversion from float32 to uint8. Range [-0.9788183569908142, 0.9308249354362488]. Convert image to uint8 prior to saving to suppress this warning.\n"
     ]
    },
    {
     "name": "stdout",
     "output_type": "stream",
     "text": [
      "LR size: [345, 510] /  generated HR size: (1, 1380, 2040, 3)\n"
     ]
    },
    {
     "name": "stderr",
     "output_type": "stream",
     "text": [
      "Lossy conversion from float32 to uint8. Range [-0.9788183569908142, 0.9308249354362488]. Convert image to uint8 prior to saving to suppress this warning.\n"
     ]
    },
    {
     "name": "stdout",
     "output_type": "stream",
     "text": [
      "LR size: [345, 510] /  generated HR size: (1, 1380, 2040, 3)\n"
     ]
    },
    {
     "name": "stderr",
     "output_type": "stream",
     "text": [
      "Lossy conversion from float32 to uint8. Range [-0.9788183569908142, 0.9308249354362488]. Convert image to uint8 prior to saving to suppress this warning.\n"
     ]
    },
    {
     "name": "stdout",
     "output_type": "stream",
     "text": [
      "LR size: [345, 510] /  generated HR size: (1, 1380, 2040, 3)\n"
     ]
    },
    {
     "name": "stderr",
     "output_type": "stream",
     "text": [
      "Lossy conversion from float32 to uint8. Range [-0.9788183569908142, 0.9308249354362488]. Convert image to uint8 prior to saving to suppress this warning.\n"
     ]
    },
    {
     "name": "stdout",
     "output_type": "stream",
     "text": [
      "LR size: [345, 510] /  generated HR size: (1, 1380, 2040, 3)\n"
     ]
    },
    {
     "name": "stderr",
     "output_type": "stream",
     "text": [
      "Lossy conversion from float32 to uint8. Range [-0.9788183569908142, 0.9308249354362488]. Convert image to uint8 prior to saving to suppress this warning.\n"
     ]
    },
    {
     "name": "stdout",
     "output_type": "stream",
     "text": [
      "LR size: [345, 510] /  generated HR size: (1, 1380, 2040, 3)\n"
     ]
    },
    {
     "name": "stderr",
     "output_type": "stream",
     "text": [
      "Lossy conversion from float32 to uint8. Range [-0.9788183569908142, 0.9308249354362488]. Convert image to uint8 prior to saving to suppress this warning.\n"
     ]
    },
    {
     "name": "stdout",
     "output_type": "stream",
     "text": [
      "LR size: [345, 510] /  generated HR size: (1, 1380, 2040, 3)\n"
     ]
    },
    {
     "name": "stderr",
     "output_type": "stream",
     "text": [
      "Lossy conversion from float32 to uint8. Range [-0.9788183569908142, 0.9308249354362488]. Convert image to uint8 prior to saving to suppress this warning.\n"
     ]
    },
    {
     "name": "stdout",
     "output_type": "stream",
     "text": [
      "LR size: [345, 510] /  generated HR size: (1, 1380, 2040, 3)\n"
     ]
    },
    {
     "name": "stderr",
     "output_type": "stream",
     "text": [
      "Lossy conversion from float32 to uint8. Range [-0.9788183569908142, 0.9308249354362488]. Convert image to uint8 prior to saving to suppress this warning.\n"
     ]
    },
    {
     "name": "stdout",
     "output_type": "stream",
     "text": [
      "LR size: [345, 510] /  generated HR size: (1, 1380, 2040, 3)\n"
     ]
    },
    {
     "name": "stderr",
     "output_type": "stream",
     "text": [
      "Lossy conversion from float32 to uint8. Range [-0.9788183569908142, 0.9308249354362488]. Convert image to uint8 prior to saving to suppress this warning.\n"
     ]
    },
    {
     "name": "stdout",
     "output_type": "stream",
     "text": [
      "LR size: [345, 510] /  generated HR size: (1, 1380, 2040, 3)\n"
     ]
    },
    {
     "name": "stderr",
     "output_type": "stream",
     "text": [
      "Lossy conversion from float32 to uint8. Range [-0.9788183569908142, 0.9308249354362488]. Convert image to uint8 prior to saving to suppress this warning.\n"
     ]
    },
    {
     "name": "stdout",
     "output_type": "stream",
     "text": [
      "LR size: [345, 510] /  generated HR size: (1, 1380, 2040, 3)\n"
     ]
    },
    {
     "name": "stderr",
     "output_type": "stream",
     "text": [
      "Lossy conversion from float32 to uint8. Range [-0.9788183569908142, 0.9308249354362488]. Convert image to uint8 prior to saving to suppress this warning.\n"
     ]
    },
    {
     "name": "stdout",
     "output_type": "stream",
     "text": [
      "LR size: [345, 510] /  generated HR size: (1, 1380, 2040, 3)\n"
     ]
    },
    {
     "name": "stderr",
     "output_type": "stream",
     "text": [
      "Lossy conversion from float32 to uint8. Range [-0.9788183569908142, 0.9308249354362488]. Convert image to uint8 prior to saving to suppress this warning.\n"
     ]
    },
    {
     "name": "stdout",
     "output_type": "stream",
     "text": [
      "LR size: [345, 510] /  generated HR size: (1, 1380, 2040, 3)\n"
     ]
    },
    {
     "name": "stderr",
     "output_type": "stream",
     "text": [
      "Lossy conversion from float32 to uint8. Range [-0.9788183569908142, 0.9308249354362488]. Convert image to uint8 prior to saving to suppress this warning.\n"
     ]
    },
    {
     "name": "stdout",
     "output_type": "stream",
     "text": [
      "LR size: [345, 510] /  generated HR size: (1, 1380, 2040, 3)\n"
     ]
    },
    {
     "name": "stderr",
     "output_type": "stream",
     "text": [
      "Lossy conversion from float32 to uint8. Range [-0.9788183569908142, 0.9308249354362488]. Convert image to uint8 prior to saving to suppress this warning.\n"
     ]
    },
    {
     "name": "stdout",
     "output_type": "stream",
     "text": [
      "LR size: [345, 510] /  generated HR size: (1, 1380, 2040, 3)\n"
     ]
    },
    {
     "name": "stderr",
     "output_type": "stream",
     "text": [
      "Lossy conversion from float32 to uint8. Range [-0.9788183569908142, 0.9308249354362488]. Convert image to uint8 prior to saving to suppress this warning.\n"
     ]
    },
    {
     "name": "stdout",
     "output_type": "stream",
     "text": [
      "LR size: [345, 510] /  generated HR size: (1, 1380, 2040, 3)\n"
     ]
    },
    {
     "name": "stderr",
     "output_type": "stream",
     "text": [
      "Lossy conversion from float32 to uint8. Range [-0.9788183569908142, 0.9308249354362488]. Convert image to uint8 prior to saving to suppress this warning.\n"
     ]
    },
    {
     "name": "stdout",
     "output_type": "stream",
     "text": [
      "LR size: [345, 510] /  generated HR size: (1, 1380, 2040, 3)\n"
     ]
    },
    {
     "name": "stderr",
     "output_type": "stream",
     "text": [
      "Lossy conversion from float32 to uint8. Range [-0.9788183569908142, 0.9308249354362488]. Convert image to uint8 prior to saving to suppress this warning.\n"
     ]
    },
    {
     "name": "stdout",
     "output_type": "stream",
     "text": [
      "LR size: [345, 510] /  generated HR size: (1, 1380, 2040, 3)\n"
     ]
    },
    {
     "name": "stderr",
     "output_type": "stream",
     "text": [
      "Lossy conversion from float32 to uint8. Range [-0.9788183569908142, 0.9308249354362488]. Convert image to uint8 prior to saving to suppress this warning.\n"
     ]
    },
    {
     "name": "stdout",
     "output_type": "stream",
     "text": [
      "LR size: [345, 510] /  generated HR size: (1, 1380, 2040, 3)\n"
     ]
    },
    {
     "name": "stderr",
     "output_type": "stream",
     "text": [
      "Lossy conversion from float32 to uint8. Range [-0.9788183569908142, 0.9308249354362488]. Convert image to uint8 prior to saving to suppress this warning.\n"
     ]
    },
    {
     "name": "stdout",
     "output_type": "stream",
     "text": [
      "LR size: [345, 510] /  generated HR size: (1, 1380, 2040, 3)\n"
     ]
    },
    {
     "name": "stderr",
     "output_type": "stream",
     "text": [
      "Lossy conversion from float32 to uint8. Range [-0.9788183569908142, 0.9308249354362488]. Convert image to uint8 prior to saving to suppress this warning.\n"
     ]
    },
    {
     "name": "stdout",
     "output_type": "stream",
     "text": [
      "LR size: [345, 510] /  generated HR size: (1, 1380, 2040, 3)\n"
     ]
    },
    {
     "name": "stderr",
     "output_type": "stream",
     "text": [
      "Lossy conversion from float32 to uint8. Range [-0.9788183569908142, 0.9308249354362488]. Convert image to uint8 prior to saving to suppress this warning.\n"
     ]
    },
    {
     "name": "stdout",
     "output_type": "stream",
     "text": [
      "LR size: [345, 510] /  generated HR size: (1, 1380, 2040, 3)\n"
     ]
    },
    {
     "name": "stderr",
     "output_type": "stream",
     "text": [
      "Lossy conversion from float32 to uint8. Range [-0.9788183569908142, 0.9308249354362488]. Convert image to uint8 prior to saving to suppress this warning.\n"
     ]
    },
    {
     "name": "stdout",
     "output_type": "stream",
     "text": [
      "LR size: [345, 510] /  generated HR size: (1, 1380, 2040, 3)\n"
     ]
    },
    {
     "name": "stderr",
     "output_type": "stream",
     "text": [
      "Lossy conversion from float32 to uint8. Range [-0.9788183569908142, 0.9308249354362488]. Convert image to uint8 prior to saving to suppress this warning.\n"
     ]
    },
    {
     "name": "stdout",
     "output_type": "stream",
     "text": [
      "LR size: [345, 510] /  generated HR size: (1, 1380, 2040, 3)\n"
     ]
    },
    {
     "name": "stderr",
     "output_type": "stream",
     "text": [
      "Lossy conversion from float32 to uint8. Range [-0.9788183569908142, 0.9308249354362488]. Convert image to uint8 prior to saving to suppress this warning.\n"
     ]
    },
    {
     "name": "stdout",
     "output_type": "stream",
     "text": [
      "LR size: [345, 510] /  generated HR size: (1, 1380, 2040, 3)\n"
     ]
    },
    {
     "name": "stderr",
     "output_type": "stream",
     "text": [
      "Lossy conversion from float32 to uint8. Range [-0.9788183569908142, 0.9308249354362488]. Convert image to uint8 prior to saving to suppress this warning.\n"
     ]
    },
    {
     "name": "stdout",
     "output_type": "stream",
     "text": [
      "LR size: [345, 510] /  generated HR size: (1, 1380, 2040, 3)\n"
     ]
    },
    {
     "name": "stderr",
     "output_type": "stream",
     "text": [
      "Lossy conversion from float32 to uint8. Range [-0.9788183569908142, 0.9308249354362488]. Convert image to uint8 prior to saving to suppress this warning.\n"
     ]
    },
    {
     "name": "stdout",
     "output_type": "stream",
     "text": [
      "LR size: [345, 510] /  generated HR size: (1, 1380, 2040, 3)\n"
     ]
    },
    {
     "name": "stderr",
     "output_type": "stream",
     "text": [
      "Lossy conversion from float32 to uint8. Range [-0.9788183569908142, 0.9308249354362488]. Convert image to uint8 prior to saving to suppress this warning.\n"
     ]
    },
    {
     "name": "stdout",
     "output_type": "stream",
     "text": [
      "LR size: [345, 510] /  generated HR size: (1, 1380, 2040, 3)\n"
     ]
    },
    {
     "name": "stderr",
     "output_type": "stream",
     "text": [
      "Lossy conversion from float32 to uint8. Range [-0.9788183569908142, 0.9308249354362488]. Convert image to uint8 prior to saving to suppress this warning.\n"
     ]
    },
    {
     "name": "stdout",
     "output_type": "stream",
     "text": [
      "LR size: [345, 510] /  generated HR size: (1, 1380, 2040, 3)\n"
     ]
    },
    {
     "name": "stderr",
     "output_type": "stream",
     "text": [
      "Lossy conversion from float32 to uint8. Range [-0.9788183569908142, 0.9308249354362488]. Convert image to uint8 prior to saving to suppress this warning.\n"
     ]
    },
    {
     "name": "stdout",
     "output_type": "stream",
     "text": [
      "LR size: [345, 510] /  generated HR size: (1, 1380, 2040, 3)\n"
     ]
    },
    {
     "name": "stderr",
     "output_type": "stream",
     "text": [
      "Lossy conversion from float32 to uint8. Range [-0.9788183569908142, 0.9308249354362488]. Convert image to uint8 prior to saving to suppress this warning.\n"
     ]
    },
    {
     "name": "stdout",
     "output_type": "stream",
     "text": [
      "LR size: [345, 510] /  generated HR size: (1, 1380, 2040, 3)\n"
     ]
    },
    {
     "name": "stderr",
     "output_type": "stream",
     "text": [
      "Lossy conversion from float32 to uint8. Range [-0.9788183569908142, 0.9308249354362488]. Convert image to uint8 prior to saving to suppress this warning.\n"
     ]
    },
    {
     "name": "stdout",
     "output_type": "stream",
     "text": [
      "LR size: [345, 510] /  generated HR size: (1, 1380, 2040, 3)\n"
     ]
    },
    {
     "name": "stderr",
     "output_type": "stream",
     "text": [
      "Lossy conversion from float32 to uint8. Range [-0.9788183569908142, 0.9308249354362488]. Convert image to uint8 prior to saving to suppress this warning.\n"
     ]
    },
    {
     "name": "stdout",
     "output_type": "stream",
     "text": [
      "LR size: [345, 510] /  generated HR size: (1, 1380, 2040, 3)\n"
     ]
    },
    {
     "name": "stderr",
     "output_type": "stream",
     "text": [
      "Lossy conversion from float32 to uint8. Range [-0.9788183569908142, 0.9308249354362488]. Convert image to uint8 prior to saving to suppress this warning.\n"
     ]
    },
    {
     "name": "stdout",
     "output_type": "stream",
     "text": [
      "LR size: [345, 510] /  generated HR size: (1, 1380, 2040, 3)\n"
     ]
    },
    {
     "name": "stderr",
     "output_type": "stream",
     "text": [
      "Lossy conversion from float32 to uint8. Range [-0.9788183569908142, 0.9308249354362488]. Convert image to uint8 prior to saving to suppress this warning.\n"
     ]
    },
    {
     "name": "stdout",
     "output_type": "stream",
     "text": [
      "LR size: [345, 510] /  generated HR size: (1, 1380, 2040, 3)\n"
     ]
    },
    {
     "name": "stderr",
     "output_type": "stream",
     "text": [
      "Lossy conversion from float32 to uint8. Range [-0.9788183569908142, 0.9308249354362488]. Convert image to uint8 prior to saving to suppress this warning.\n"
     ]
    },
    {
     "name": "stdout",
     "output_type": "stream",
     "text": [
      "LR size: [345, 510] /  generated HR size: (1, 1380, 2040, 3)\n"
     ]
    },
    {
     "name": "stderr",
     "output_type": "stream",
     "text": [
      "Lossy conversion from float32 to uint8. Range [-0.9788183569908142, 0.9308249354362488]. Convert image to uint8 prior to saving to suppress this warning.\n"
     ]
    },
    {
     "name": "stdout",
     "output_type": "stream",
     "text": [
      "LR size: [345, 510] /  generated HR size: (1, 1380, 2040, 3)\n"
     ]
    },
    {
     "name": "stderr",
     "output_type": "stream",
     "text": [
      "Lossy conversion from float32 to uint8. Range [-0.9788183569908142, 0.9308249354362488]. Convert image to uint8 prior to saving to suppress this warning.\n"
     ]
    },
    {
     "name": "stdout",
     "output_type": "stream",
     "text": [
      "LR size: [345, 510] /  generated HR size: (1, 1380, 2040, 3)\n"
     ]
    },
    {
     "name": "stderr",
     "output_type": "stream",
     "text": [
      "Lossy conversion from float32 to uint8. Range [-0.9788183569908142, 0.9308249354362488]. Convert image to uint8 prior to saving to suppress this warning.\n"
     ]
    },
    {
     "name": "stdout",
     "output_type": "stream",
     "text": [
      "LR size: [345, 510] /  generated HR size: (1, 1380, 2040, 3)\n"
     ]
    },
    {
     "name": "stderr",
     "output_type": "stream",
     "text": [
      "Lossy conversion from float32 to uint8. Range [-0.9788183569908142, 0.9308249354362488]. Convert image to uint8 prior to saving to suppress this warning.\n"
     ]
    },
    {
     "name": "stdout",
     "output_type": "stream",
     "text": [
      "LR size: [345, 510] /  generated HR size: (1, 1380, 2040, 3)\n"
     ]
    },
    {
     "name": "stderr",
     "output_type": "stream",
     "text": [
      "Lossy conversion from float32 to uint8. Range [-0.9788183569908142, 0.9308249354362488]. Convert image to uint8 prior to saving to suppress this warning.\n"
     ]
    },
    {
     "name": "stdout",
     "output_type": "stream",
     "text": [
      "LR size: [345, 510] /  generated HR size: (1, 1380, 2040, 3)\n"
     ]
    },
    {
     "name": "stderr",
     "output_type": "stream",
     "text": [
      "Lossy conversion from float32 to uint8. Range [-0.9788183569908142, 0.9308249354362488]. Convert image to uint8 prior to saving to suppress this warning.\n"
     ]
    },
    {
     "name": "stdout",
     "output_type": "stream",
     "text": [
      "LR size: [345, 510] /  generated HR size: (1, 1380, 2040, 3)\n"
     ]
    },
    {
     "name": "stderr",
     "output_type": "stream",
     "text": [
      "Lossy conversion from float32 to uint8. Range [-0.9788183569908142, 0.9308249354362488]. Convert image to uint8 prior to saving to suppress this warning.\n"
     ]
    },
    {
     "name": "stdout",
     "output_type": "stream",
     "text": [
      "LR size: [345, 510] /  generated HR size: (1, 1380, 2040, 3)\n"
     ]
    },
    {
     "name": "stderr",
     "output_type": "stream",
     "text": [
      "Lossy conversion from float32 to uint8. Range [-0.9788183569908142, 0.9308249354362488]. Convert image to uint8 prior to saving to suppress this warning.\n"
     ]
    },
    {
     "name": "stdout",
     "output_type": "stream",
     "text": [
      "LR size: [345, 510] /  generated HR size: (1, 1380, 2040, 3)\n"
     ]
    },
    {
     "name": "stderr",
     "output_type": "stream",
     "text": [
      "Lossy conversion from float32 to uint8. Range [-0.9788183569908142, 0.9308249354362488]. Convert image to uint8 prior to saving to suppress this warning.\n"
     ]
    },
    {
     "name": "stdout",
     "output_type": "stream",
     "text": [
      "LR size: [345, 510] /  generated HR size: (1, 1380, 2040, 3)\n"
     ]
    },
    {
     "name": "stderr",
     "output_type": "stream",
     "text": [
      "Lossy conversion from float32 to uint8. Range [-0.9788183569908142, 0.9308249354362488]. Convert image to uint8 prior to saving to suppress this warning.\n"
     ]
    },
    {
     "name": "stdout",
     "output_type": "stream",
     "text": [
      "LR size: [345, 510] /  generated HR size: (1, 1380, 2040, 3)\n"
     ]
    },
    {
     "name": "stderr",
     "output_type": "stream",
     "text": [
      "Lossy conversion from float32 to uint8. Range [-0.9788183569908142, 0.9308249354362488]. Convert image to uint8 prior to saving to suppress this warning.\n"
     ]
    },
    {
     "name": "stdout",
     "output_type": "stream",
     "text": [
      "LR size: [345, 510] /  generated HR size: (1, 1380, 2040, 3)\n"
     ]
    },
    {
     "name": "stderr",
     "output_type": "stream",
     "text": [
      "Lossy conversion from float32 to uint8. Range [-0.9788183569908142, 0.9308249354362488]. Convert image to uint8 prior to saving to suppress this warning.\n"
     ]
    },
    {
     "name": "stdout",
     "output_type": "stream",
     "text": [
      "LR size: [345, 510] /  generated HR size: (1, 1380, 2040, 3)\n"
     ]
    },
    {
     "name": "stderr",
     "output_type": "stream",
     "text": [
      "Lossy conversion from float32 to uint8. Range [-0.9788183569908142, 0.9308249354362488]. Convert image to uint8 prior to saving to suppress this warning.\n"
     ]
    },
    {
     "name": "stdout",
     "output_type": "stream",
     "text": [
      "LR size: [345, 510] /  generated HR size: (1, 1380, 2040, 3)\n"
     ]
    },
    {
     "name": "stderr",
     "output_type": "stream",
     "text": [
      "Lossy conversion from float32 to uint8. Range [-0.9788183569908142, 0.9308249354362488]. Convert image to uint8 prior to saving to suppress this warning.\n"
     ]
    },
    {
     "name": "stdout",
     "output_type": "stream",
     "text": [
      "LR size: [345, 510] /  generated HR size: (1, 1380, 2040, 3)\n"
     ]
    },
    {
     "name": "stderr",
     "output_type": "stream",
     "text": [
      "Lossy conversion from float32 to uint8. Range [-0.9788183569908142, 0.9308249354362488]. Convert image to uint8 prior to saving to suppress this warning.\n"
     ]
    },
    {
     "name": "stdout",
     "output_type": "stream",
     "text": [
      "LR size: [345, 510] /  generated HR size: (1, 1380, 2040, 3)\n"
     ]
    },
    {
     "name": "stderr",
     "output_type": "stream",
     "text": [
      "Lossy conversion from float32 to uint8. Range [-0.9788183569908142, 0.9308249354362488]. Convert image to uint8 prior to saving to suppress this warning.\n"
     ]
    },
    {
     "name": "stdout",
     "output_type": "stream",
     "text": [
      "LR size: [345, 510] /  generated HR size: (1, 1380, 2040, 3)\n"
     ]
    },
    {
     "name": "stderr",
     "output_type": "stream",
     "text": [
      "Lossy conversion from float32 to uint8. Range [-0.9788183569908142, 0.9308249354362488]. Convert image to uint8 prior to saving to suppress this warning.\n"
     ]
    },
    {
     "name": "stdout",
     "output_type": "stream",
     "text": [
      "LR size: [345, 510] /  generated HR size: (1, 1380, 2040, 3)\n"
     ]
    },
    {
     "name": "stderr",
     "output_type": "stream",
     "text": [
      "Lossy conversion from float32 to uint8. Range [-0.9788183569908142, 0.9308249354362488]. Convert image to uint8 prior to saving to suppress this warning.\n"
     ]
    },
    {
     "name": "stdout",
     "output_type": "stream",
     "text": [
      "LR size: [345, 510] /  generated HR size: (1, 1380, 2040, 3)\n"
     ]
    },
    {
     "name": "stderr",
     "output_type": "stream",
     "text": [
      "Lossy conversion from float32 to uint8. Range [-0.9788183569908142, 0.9308249354362488]. Convert image to uint8 prior to saving to suppress this warning.\n"
     ]
    },
    {
     "name": "stdout",
     "output_type": "stream",
     "text": [
      "LR size: [345, 510] /  generated HR size: (1, 1380, 2040, 3)\n"
     ]
    },
    {
     "name": "stderr",
     "output_type": "stream",
     "text": [
      "Lossy conversion from float32 to uint8. Range [-0.9788183569908142, 0.9308249354362488]. Convert image to uint8 prior to saving to suppress this warning.\n"
     ]
    },
    {
     "name": "stdout",
     "output_type": "stream",
     "text": [
      "LR size: [345, 510] /  generated HR size: (1, 1380, 2040, 3)\n"
     ]
    },
    {
     "name": "stderr",
     "output_type": "stream",
     "text": [
      "Lossy conversion from float32 to uint8. Range [-0.9788183569908142, 0.9308249354362488]. Convert image to uint8 prior to saving to suppress this warning.\n"
     ]
    },
    {
     "name": "stdout",
     "output_type": "stream",
     "text": [
      "LR size: [345, 510] /  generated HR size: (1, 1380, 2040, 3)\n"
     ]
    },
    {
     "name": "stderr",
     "output_type": "stream",
     "text": [
      "Lossy conversion from float32 to uint8. Range [-0.9788183569908142, 0.9308249354362488]. Convert image to uint8 prior to saving to suppress this warning.\n"
     ]
    },
    {
     "name": "stdout",
     "output_type": "stream",
     "text": [
      "LR size: [345, 510] /  generated HR size: (1, 1380, 2040, 3)\n"
     ]
    },
    {
     "name": "stderr",
     "output_type": "stream",
     "text": [
      "Lossy conversion from float32 to uint8. Range [-0.9788183569908142, 0.9308249354362488]. Convert image to uint8 prior to saving to suppress this warning.\n"
     ]
    },
    {
     "name": "stdout",
     "output_type": "stream",
     "text": [
      "LR size: [345, 510] /  generated HR size: (1, 1380, 2040, 3)\n"
     ]
    },
    {
     "name": "stderr",
     "output_type": "stream",
     "text": [
      "Lossy conversion from float32 to uint8. Range [-0.9788183569908142, 0.9308249354362488]. Convert image to uint8 prior to saving to suppress this warning.\n"
     ]
    },
    {
     "name": "stdout",
     "output_type": "stream",
     "text": [
      "LR size: [345, 510] /  generated HR size: (1, 1380, 2040, 3)\n"
     ]
    },
    {
     "name": "stderr",
     "output_type": "stream",
     "text": [
      "Lossy conversion from float32 to uint8. Range [-0.9788183569908142, 0.9308249354362488]. Convert image to uint8 prior to saving to suppress this warning.\n"
     ]
    },
    {
     "name": "stdout",
     "output_type": "stream",
     "text": [
      "LR size: [345, 510] /  generated HR size: (1, 1380, 2040, 3)\n"
     ]
    },
    {
     "name": "stderr",
     "output_type": "stream",
     "text": [
      "Lossy conversion from float32 to uint8. Range [-0.9788183569908142, 0.9308249354362488]. Convert image to uint8 prior to saving to suppress this warning.\n"
     ]
    },
    {
     "name": "stdout",
     "output_type": "stream",
     "text": [
      "LR size: [345, 510] /  generated HR size: (1, 1380, 2040, 3)\n"
     ]
    },
    {
     "name": "stderr",
     "output_type": "stream",
     "text": [
      "Lossy conversion from float32 to uint8. Range [-0.9788183569908142, 0.9308249354362488]. Convert image to uint8 prior to saving to suppress this warning.\n"
     ]
    },
    {
     "name": "stdout",
     "output_type": "stream",
     "text": [
      "LR size: [345, 510] /  generated HR size: (1, 1380, 2040, 3)\n"
     ]
    },
    {
     "name": "stderr",
     "output_type": "stream",
     "text": [
      "Lossy conversion from float32 to uint8. Range [-0.9788183569908142, 0.9308249354362488]. Convert image to uint8 prior to saving to suppress this warning.\n"
     ]
    },
    {
     "name": "stdout",
     "output_type": "stream",
     "text": [
      "LR size: [345, 510] /  generated HR size: (1, 1380, 2040, 3)\n"
     ]
    },
    {
     "name": "stderr",
     "output_type": "stream",
     "text": [
      "Lossy conversion from float32 to uint8. Range [-0.9788183569908142, 0.9308249354362488]. Convert image to uint8 prior to saving to suppress this warning.\n"
     ]
    },
    {
     "name": "stdout",
     "output_type": "stream",
     "text": [
      "LR size: [345, 510] /  generated HR size: (1, 1380, 2040, 3)\n"
     ]
    },
    {
     "name": "stderr",
     "output_type": "stream",
     "text": [
      "Lossy conversion from float32 to uint8. Range [-0.9788183569908142, 0.9308249354362488]. Convert image to uint8 prior to saving to suppress this warning.\n"
     ]
    },
    {
     "name": "stdout",
     "output_type": "stream",
     "text": [
      "LR size: [345, 510] /  generated HR size: (1, 1380, 2040, 3)\n"
     ]
    },
    {
     "name": "stderr",
     "output_type": "stream",
     "text": [
      "Lossy conversion from float32 to uint8. Range [-0.9788183569908142, 0.9308249354362488]. Convert image to uint8 prior to saving to suppress this warning.\n"
     ]
    },
    {
     "name": "stdout",
     "output_type": "stream",
     "text": [
      "LR size: [345, 510] /  generated HR size: (1, 1380, 2040, 3)\n"
     ]
    },
    {
     "name": "stderr",
     "output_type": "stream",
     "text": [
      "Lossy conversion from float32 to uint8. Range [-0.9788183569908142, 0.9308249354362488]. Convert image to uint8 prior to saving to suppress this warning.\n"
     ]
    },
    {
     "name": "stdout",
     "output_type": "stream",
     "text": [
      "LR size: [345, 510] /  generated HR size: (1, 1380, 2040, 3)\n"
     ]
    },
    {
     "name": "stderr",
     "output_type": "stream",
     "text": [
      "Lossy conversion from float32 to uint8. Range [-0.9788183569908142, 0.9308249354362488]. Convert image to uint8 prior to saving to suppress this warning.\n"
     ]
    },
    {
     "name": "stdout",
     "output_type": "stream",
     "text": [
      "LR size: [345, 510] /  generated HR size: (1, 1380, 2040, 3)\n"
     ]
    },
    {
     "name": "stderr",
     "output_type": "stream",
     "text": [
      "Lossy conversion from float32 to uint8. Range [-0.9788183569908142, 0.9308249354362488]. Convert image to uint8 prior to saving to suppress this warning.\n"
     ]
    },
    {
     "name": "stdout",
     "output_type": "stream",
     "text": [
      "LR size: [345, 510] /  generated HR size: (1, 1380, 2040, 3)\n"
     ]
    },
    {
     "name": "stderr",
     "output_type": "stream",
     "text": [
      "Lossy conversion from float32 to uint8. Range [-0.9788183569908142, 0.9308249354362488]. Convert image to uint8 prior to saving to suppress this warning.\n"
     ]
    },
    {
     "name": "stdout",
     "output_type": "stream",
     "text": [
      "LR size: [345, 510] /  generated HR size: (1, 1380, 2040, 3)\n"
     ]
    },
    {
     "name": "stderr",
     "output_type": "stream",
     "text": [
      "Lossy conversion from float32 to uint8. Range [-0.9788183569908142, 0.9308249354362488]. Convert image to uint8 prior to saving to suppress this warning.\n"
     ]
    },
    {
     "name": "stdout",
     "output_type": "stream",
     "text": [
      "LR size: [345, 510] /  generated HR size: (1, 1380, 2040, 3)\n"
     ]
    },
    {
     "name": "stderr",
     "output_type": "stream",
     "text": [
      "Lossy conversion from float32 to uint8. Range [-0.9869416952133179, 0.8544871807098389]. Convert image to uint8 prior to saving to suppress this warning.\n"
     ]
    },
    {
     "name": "stdout",
     "output_type": "stream",
     "text": [
      "LR size: [288, 510] /  generated HR size: (1, 1152, 2040, 3)\n"
     ]
    },
    {
     "name": "stderr",
     "output_type": "stream",
     "text": [
      "Lossy conversion from float32 to uint8. Range [-0.9869416952133179, 0.8544871807098389]. Convert image to uint8 prior to saving to suppress this warning.\n"
     ]
    },
    {
     "name": "stdout",
     "output_type": "stream",
     "text": [
      "LR size: [288, 510] /  generated HR size: (1, 1152, 2040, 3)\n"
     ]
    },
    {
     "name": "stderr",
     "output_type": "stream",
     "text": [
      "Lossy conversion from float32 to uint8. Range [-0.9869416952133179, 0.8544871807098389]. Convert image to uint8 prior to saving to suppress this warning.\n"
     ]
    },
    {
     "name": "stdout",
     "output_type": "stream",
     "text": [
      "LR size: [288, 510] /  generated HR size: (1, 1152, 2040, 3)\n"
     ]
    },
    {
     "name": "stderr",
     "output_type": "stream",
     "text": [
      "Lossy conversion from float32 to uint8. Range [-0.9869416952133179, 0.8544871807098389]. Convert image to uint8 prior to saving to suppress this warning.\n"
     ]
    },
    {
     "name": "stdout",
     "output_type": "stream",
     "text": [
      "LR size: [288, 510] /  generated HR size: (1, 1152, 2040, 3)\n"
     ]
    },
    {
     "name": "stderr",
     "output_type": "stream",
     "text": [
      "Lossy conversion from float32 to uint8. Range [-0.9869416952133179, 0.8544871807098389]. Convert image to uint8 prior to saving to suppress this warning.\n"
     ]
    },
    {
     "name": "stdout",
     "output_type": "stream",
     "text": [
      "LR size: [288, 510] /  generated HR size: (1, 1152, 2040, 3)\n"
     ]
    },
    {
     "name": "stderr",
     "output_type": "stream",
     "text": [
      "Lossy conversion from float32 to uint8. Range [-0.9869416952133179, 0.8544871807098389]. Convert image to uint8 prior to saving to suppress this warning.\n"
     ]
    },
    {
     "name": "stdout",
     "output_type": "stream",
     "text": [
      "LR size: [288, 510] /  generated HR size: (1, 1152, 2040, 3)\n"
     ]
    },
    {
     "name": "stderr",
     "output_type": "stream",
     "text": [
      "Lossy conversion from float32 to uint8. Range [-0.9869416952133179, 0.8544871807098389]. Convert image to uint8 prior to saving to suppress this warning.\n"
     ]
    },
    {
     "name": "stdout",
     "output_type": "stream",
     "text": [
      "LR size: [288, 510] /  generated HR size: (1, 1152, 2040, 3)\n"
     ]
    },
    {
     "name": "stderr",
     "output_type": "stream",
     "text": [
      "Lossy conversion from float32 to uint8. Range [-0.9869416952133179, 0.8544871807098389]. Convert image to uint8 prior to saving to suppress this warning.\n"
     ]
    },
    {
     "name": "stdout",
     "output_type": "stream",
     "text": [
      "LR size: [288, 510] /  generated HR size: (1, 1152, 2040, 3)\n"
     ]
    },
    {
     "name": "stderr",
     "output_type": "stream",
     "text": [
      "Lossy conversion from float32 to uint8. Range [-0.9869416952133179, 0.8544871807098389]. Convert image to uint8 prior to saving to suppress this warning.\n"
     ]
    },
    {
     "name": "stdout",
     "output_type": "stream",
     "text": [
      "LR size: [288, 510] /  generated HR size: (1, 1152, 2040, 3)\n"
     ]
    },
    {
     "name": "stderr",
     "output_type": "stream",
     "text": [
      "Lossy conversion from float32 to uint8. Range [-0.9869416952133179, 0.8544871807098389]. Convert image to uint8 prior to saving to suppress this warning.\n"
     ]
    },
    {
     "name": "stdout",
     "output_type": "stream",
     "text": [
      "LR size: [288, 510] /  generated HR size: (1, 1152, 2040, 3)\n"
     ]
    },
    {
     "name": "stderr",
     "output_type": "stream",
     "text": [
      "Lossy conversion from float32 to uint8. Range [-0.9869416952133179, 0.8544871807098389]. Convert image to uint8 prior to saving to suppress this warning.\n"
     ]
    },
    {
     "name": "stdout",
     "output_type": "stream",
     "text": [
      "LR size: [288, 510] /  generated HR size: (1, 1152, 2040, 3)\n"
     ]
    },
    {
     "name": "stderr",
     "output_type": "stream",
     "text": [
      "Lossy conversion from float32 to uint8. Range [-0.9869416952133179, 0.8544871807098389]. Convert image to uint8 prior to saving to suppress this warning.\n"
     ]
    },
    {
     "name": "stdout",
     "output_type": "stream",
     "text": [
      "LR size: [288, 510] /  generated HR size: (1, 1152, 2040, 3)\n"
     ]
    },
    {
     "name": "stderr",
     "output_type": "stream",
     "text": [
      "Lossy conversion from float32 to uint8. Range [-0.9869416952133179, 0.8544871807098389]. Convert image to uint8 prior to saving to suppress this warning.\n"
     ]
    },
    {
     "name": "stdout",
     "output_type": "stream",
     "text": [
      "LR size: [288, 510] /  generated HR size: (1, 1152, 2040, 3)\n"
     ]
    },
    {
     "name": "stderr",
     "output_type": "stream",
     "text": [
      "Lossy conversion from float32 to uint8. Range [-0.9869416952133179, 0.8544871807098389]. Convert image to uint8 prior to saving to suppress this warning.\n"
     ]
    },
    {
     "name": "stdout",
     "output_type": "stream",
     "text": [
      "LR size: [288, 510] /  generated HR size: (1, 1152, 2040, 3)\n"
     ]
    },
    {
     "name": "stderr",
     "output_type": "stream",
     "text": [
      "Lossy conversion from float32 to uint8. Range [-0.9869416952133179, 0.8544871807098389]. Convert image to uint8 prior to saving to suppress this warning.\n"
     ]
    },
    {
     "name": "stdout",
     "output_type": "stream",
     "text": [
      "LR size: [288, 510] /  generated HR size: (1, 1152, 2040, 3)\n"
     ]
    },
    {
     "name": "stderr",
     "output_type": "stream",
     "text": [
      "Lossy conversion from float32 to uint8. Range [-0.9869416952133179, 0.8544871807098389]. Convert image to uint8 prior to saving to suppress this warning.\n"
     ]
    },
    {
     "name": "stdout",
     "output_type": "stream",
     "text": [
      "LR size: [288, 510] /  generated HR size: (1, 1152, 2040, 3)\n"
     ]
    },
    {
     "name": "stderr",
     "output_type": "stream",
     "text": [
      "Lossy conversion from float32 to uint8. Range [-0.9869416952133179, 0.8544871807098389]. Convert image to uint8 prior to saving to suppress this warning.\n"
     ]
    },
    {
     "name": "stdout",
     "output_type": "stream",
     "text": [
      "LR size: [288, 510] /  generated HR size: (1, 1152, 2040, 3)\n"
     ]
    },
    {
     "name": "stderr",
     "output_type": "stream",
     "text": [
      "Lossy conversion from float32 to uint8. Range [-0.9869416952133179, 0.8544871807098389]. Convert image to uint8 prior to saving to suppress this warning.\n"
     ]
    },
    {
     "name": "stdout",
     "output_type": "stream",
     "text": [
      "LR size: [288, 510] /  generated HR size: (1, 1152, 2040, 3)\n"
     ]
    },
    {
     "name": "stderr",
     "output_type": "stream",
     "text": [
      "Lossy conversion from float32 to uint8. Range [-0.9869416952133179, 0.8544871807098389]. Convert image to uint8 prior to saving to suppress this warning.\n"
     ]
    },
    {
     "name": "stdout",
     "output_type": "stream",
     "text": [
      "LR size: [288, 510] /  generated HR size: (1, 1152, 2040, 3)\n"
     ]
    },
    {
     "name": "stderr",
     "output_type": "stream",
     "text": [
      "Lossy conversion from float32 to uint8. Range [-0.9869416952133179, 0.8544871807098389]. Convert image to uint8 prior to saving to suppress this warning.\n"
     ]
    },
    {
     "name": "stdout",
     "output_type": "stream",
     "text": [
      "LR size: [288, 510] /  generated HR size: (1, 1152, 2040, 3)\n"
     ]
    },
    {
     "name": "stderr",
     "output_type": "stream",
     "text": [
      "Lossy conversion from float32 to uint8. Range [-0.9869416952133179, 0.8544871807098389]. Convert image to uint8 prior to saving to suppress this warning.\n"
     ]
    },
    {
     "name": "stdout",
     "output_type": "stream",
     "text": [
      "LR size: [288, 510] /  generated HR size: (1, 1152, 2040, 3)\n"
     ]
    },
    {
     "name": "stderr",
     "output_type": "stream",
     "text": [
      "Lossy conversion from float32 to uint8. Range [-0.9869416952133179, 0.8544871807098389]. Convert image to uint8 prior to saving to suppress this warning.\n"
     ]
    },
    {
     "name": "stdout",
     "output_type": "stream",
     "text": [
      "LR size: [288, 510] /  generated HR size: (1, 1152, 2040, 3)\n"
     ]
    },
    {
     "name": "stderr",
     "output_type": "stream",
     "text": [
      "Lossy conversion from float32 to uint8. Range [-0.9869416952133179, 0.8544871807098389]. Convert image to uint8 prior to saving to suppress this warning.\n"
     ]
    },
    {
     "name": "stdout",
     "output_type": "stream",
     "text": [
      "LR size: [288, 510] /  generated HR size: (1, 1152, 2040, 3)\n"
     ]
    },
    {
     "name": "stderr",
     "output_type": "stream",
     "text": [
      "Lossy conversion from float32 to uint8. Range [-0.9869416952133179, 0.8544871807098389]. Convert image to uint8 prior to saving to suppress this warning.\n"
     ]
    },
    {
     "name": "stdout",
     "output_type": "stream",
     "text": [
      "LR size: [288, 510] /  generated HR size: (1, 1152, 2040, 3)\n"
     ]
    },
    {
     "name": "stderr",
     "output_type": "stream",
     "text": [
      "Lossy conversion from float32 to uint8. Range [-0.9869416952133179, 0.8544871807098389]. Convert image to uint8 prior to saving to suppress this warning.\n"
     ]
    },
    {
     "name": "stdout",
     "output_type": "stream",
     "text": [
      "LR size: [288, 510] /  generated HR size: (1, 1152, 2040, 3)\n"
     ]
    },
    {
     "name": "stderr",
     "output_type": "stream",
     "text": [
      "Lossy conversion from float32 to uint8. Range [-0.9869416952133179, 0.8544871807098389]. Convert image to uint8 prior to saving to suppress this warning.\n"
     ]
    },
    {
     "name": "stdout",
     "output_type": "stream",
     "text": [
      "LR size: [288, 510] /  generated HR size: (1, 1152, 2040, 3)\n"
     ]
    },
    {
     "name": "stderr",
     "output_type": "stream",
     "text": [
      "Lossy conversion from float32 to uint8. Range [-0.9869416952133179, 0.8544871807098389]. Convert image to uint8 prior to saving to suppress this warning.\n"
     ]
    },
    {
     "name": "stdout",
     "output_type": "stream",
     "text": [
      "LR size: [288, 510] /  generated HR size: (1, 1152, 2040, 3)\n"
     ]
    },
    {
     "name": "stderr",
     "output_type": "stream",
     "text": [
      "Lossy conversion from float32 to uint8. Range [-0.9869416952133179, 0.8544871807098389]. Convert image to uint8 prior to saving to suppress this warning.\n"
     ]
    },
    {
     "name": "stdout",
     "output_type": "stream",
     "text": [
      "LR size: [288, 510] /  generated HR size: (1, 1152, 2040, 3)\n"
     ]
    },
    {
     "name": "stderr",
     "output_type": "stream",
     "text": [
      "Lossy conversion from float32 to uint8. Range [-0.9869416952133179, 0.8544871807098389]. Convert image to uint8 prior to saving to suppress this warning.\n"
     ]
    },
    {
     "name": "stdout",
     "output_type": "stream",
     "text": [
      "LR size: [288, 510] /  generated HR size: (1, 1152, 2040, 3)\n"
     ]
    },
    {
     "name": "stderr",
     "output_type": "stream",
     "text": [
      "Lossy conversion from float32 to uint8. Range [-0.9869416952133179, 0.8544871807098389]. Convert image to uint8 prior to saving to suppress this warning.\n"
     ]
    },
    {
     "name": "stdout",
     "output_type": "stream",
     "text": [
      "LR size: [288, 510] /  generated HR size: (1, 1152, 2040, 3)\n"
     ]
    },
    {
     "name": "stderr",
     "output_type": "stream",
     "text": [
      "Lossy conversion from float32 to uint8. Range [-0.9869416952133179, 0.8544871807098389]. Convert image to uint8 prior to saving to suppress this warning.\n"
     ]
    },
    {
     "name": "stdout",
     "output_type": "stream",
     "text": [
      "LR size: [288, 510] /  generated HR size: (1, 1152, 2040, 3)\n"
     ]
    },
    {
     "name": "stderr",
     "output_type": "stream",
     "text": [
      "Lossy conversion from float32 to uint8. Range [-0.9869416952133179, 0.8544871807098389]. Convert image to uint8 prior to saving to suppress this warning.\n"
     ]
    },
    {
     "name": "stdout",
     "output_type": "stream",
     "text": [
      "LR size: [288, 510] /  generated HR size: (1, 1152, 2040, 3)\n"
     ]
    },
    {
     "name": "stderr",
     "output_type": "stream",
     "text": [
      "Lossy conversion from float32 to uint8. Range [-0.9869416952133179, 0.8544871807098389]. Convert image to uint8 prior to saving to suppress this warning.\n"
     ]
    },
    {
     "name": "stdout",
     "output_type": "stream",
     "text": [
      "LR size: [288, 510] /  generated HR size: (1, 1152, 2040, 3)\n"
     ]
    },
    {
     "name": "stderr",
     "output_type": "stream",
     "text": [
      "Lossy conversion from float32 to uint8. Range [-0.9869416952133179, 0.8544871807098389]. Convert image to uint8 prior to saving to suppress this warning.\n"
     ]
    },
    {
     "name": "stdout",
     "output_type": "stream",
     "text": [
      "LR size: [288, 510] /  generated HR size: (1, 1152, 2040, 3)\n"
     ]
    },
    {
     "name": "stderr",
     "output_type": "stream",
     "text": [
      "Lossy conversion from float32 to uint8. Range [-0.9869416952133179, 0.8544871807098389]. Convert image to uint8 prior to saving to suppress this warning.\n"
     ]
    },
    {
     "name": "stdout",
     "output_type": "stream",
     "text": [
      "LR size: [288, 510] /  generated HR size: (1, 1152, 2040, 3)\n"
     ]
    },
    {
     "name": "stderr",
     "output_type": "stream",
     "text": [
      "Lossy conversion from float32 to uint8. Range [-0.9869416952133179, 0.8544871807098389]. Convert image to uint8 prior to saving to suppress this warning.\n"
     ]
    },
    {
     "name": "stdout",
     "output_type": "stream",
     "text": [
      "LR size: [288, 510] /  generated HR size: (1, 1152, 2040, 3)\n"
     ]
    },
    {
     "name": "stderr",
     "output_type": "stream",
     "text": [
      "Lossy conversion from float32 to uint8. Range [-0.9869416952133179, 0.8544871807098389]. Convert image to uint8 prior to saving to suppress this warning.\n"
     ]
    },
    {
     "name": "stdout",
     "output_type": "stream",
     "text": [
      "LR size: [288, 510] /  generated HR size: (1, 1152, 2040, 3)\n"
     ]
    },
    {
     "name": "stderr",
     "output_type": "stream",
     "text": [
      "Lossy conversion from float32 to uint8. Range [-0.9869416952133179, 0.8544871807098389]. Convert image to uint8 prior to saving to suppress this warning.\n"
     ]
    },
    {
     "name": "stdout",
     "output_type": "stream",
     "text": [
      "LR size: [288, 510] /  generated HR size: (1, 1152, 2040, 3)\n"
     ]
    },
    {
     "name": "stderr",
     "output_type": "stream",
     "text": [
      "Lossy conversion from float32 to uint8. Range [-0.9869416952133179, 0.8544871807098389]. Convert image to uint8 prior to saving to suppress this warning.\n"
     ]
    },
    {
     "name": "stdout",
     "output_type": "stream",
     "text": [
      "LR size: [288, 510] /  generated HR size: (1, 1152, 2040, 3)\n"
     ]
    },
    {
     "name": "stderr",
     "output_type": "stream",
     "text": [
      "Lossy conversion from float32 to uint8. Range [-0.9869416952133179, 0.8544871807098389]. Convert image to uint8 prior to saving to suppress this warning.\n"
     ]
    },
    {
     "name": "stdout",
     "output_type": "stream",
     "text": [
      "LR size: [288, 510] /  generated HR size: (1, 1152, 2040, 3)\n"
     ]
    },
    {
     "name": "stderr",
     "output_type": "stream",
     "text": [
      "Lossy conversion from float32 to uint8. Range [-0.9869416952133179, 0.8544871807098389]. Convert image to uint8 prior to saving to suppress this warning.\n"
     ]
    },
    {
     "name": "stdout",
     "output_type": "stream",
     "text": [
      "LR size: [288, 510] /  generated HR size: (1, 1152, 2040, 3)\n"
     ]
    },
    {
     "name": "stderr",
     "output_type": "stream",
     "text": [
      "Lossy conversion from float32 to uint8. Range [-0.9869416952133179, 0.8544871807098389]. Convert image to uint8 prior to saving to suppress this warning.\n"
     ]
    },
    {
     "name": "stdout",
     "output_type": "stream",
     "text": [
      "LR size: [288, 510] /  generated HR size: (1, 1152, 2040, 3)\n"
     ]
    },
    {
     "name": "stderr",
     "output_type": "stream",
     "text": [
      "Lossy conversion from float32 to uint8. Range [-0.9869416952133179, 0.8544871807098389]. Convert image to uint8 prior to saving to suppress this warning.\n"
     ]
    },
    {
     "name": "stdout",
     "output_type": "stream",
     "text": [
      "LR size: [288, 510] /  generated HR size: (1, 1152, 2040, 3)\n"
     ]
    },
    {
     "name": "stderr",
     "output_type": "stream",
     "text": [
      "Lossy conversion from float32 to uint8. Range [-0.9869416952133179, 0.8544871807098389]. Convert image to uint8 prior to saving to suppress this warning.\n"
     ]
    },
    {
     "name": "stdout",
     "output_type": "stream",
     "text": [
      "LR size: [288, 510] /  generated HR size: (1, 1152, 2040, 3)\n"
     ]
    },
    {
     "name": "stderr",
     "output_type": "stream",
     "text": [
      "Lossy conversion from float32 to uint8. Range [-0.9869416952133179, 0.8544871807098389]. Convert image to uint8 prior to saving to suppress this warning.\n"
     ]
    },
    {
     "name": "stdout",
     "output_type": "stream",
     "text": [
      "LR size: [288, 510] /  generated HR size: (1, 1152, 2040, 3)\n"
     ]
    },
    {
     "name": "stderr",
     "output_type": "stream",
     "text": [
      "Lossy conversion from float32 to uint8. Range [-0.9869416952133179, 0.8544871807098389]. Convert image to uint8 prior to saving to suppress this warning.\n"
     ]
    },
    {
     "name": "stdout",
     "output_type": "stream",
     "text": [
      "LR size: [288, 510] /  generated HR size: (1, 1152, 2040, 3)\n"
     ]
    },
    {
     "name": "stderr",
     "output_type": "stream",
     "text": [
      "Lossy conversion from float32 to uint8. Range [-0.9869416952133179, 0.8544871807098389]. Convert image to uint8 prior to saving to suppress this warning.\n"
     ]
    },
    {
     "name": "stdout",
     "output_type": "stream",
     "text": [
      "LR size: [288, 510] /  generated HR size: (1, 1152, 2040, 3)\n"
     ]
    },
    {
     "name": "stderr",
     "output_type": "stream",
     "text": [
      "Lossy conversion from float32 to uint8. Range [-0.9869416952133179, 0.8544871807098389]. Convert image to uint8 prior to saving to suppress this warning.\n"
     ]
    },
    {
     "name": "stdout",
     "output_type": "stream",
     "text": [
      "LR size: [288, 510] /  generated HR size: (1, 1152, 2040, 3)\n"
     ]
    },
    {
     "name": "stderr",
     "output_type": "stream",
     "text": [
      "Lossy conversion from float32 to uint8. Range [-0.9869416952133179, 0.8544871807098389]. Convert image to uint8 prior to saving to suppress this warning.\n"
     ]
    },
    {
     "name": "stdout",
     "output_type": "stream",
     "text": [
      "LR size: [288, 510] /  generated HR size: (1, 1152, 2040, 3)\n"
     ]
    },
    {
     "name": "stderr",
     "output_type": "stream",
     "text": [
      "Lossy conversion from float32 to uint8. Range [-0.9869416952133179, 0.8544871807098389]. Convert image to uint8 prior to saving to suppress this warning.\n"
     ]
    },
    {
     "name": "stdout",
     "output_type": "stream",
     "text": [
      "LR size: [288, 510] /  generated HR size: (1, 1152, 2040, 3)\n"
     ]
    },
    {
     "name": "stderr",
     "output_type": "stream",
     "text": [
      "Lossy conversion from float32 to uint8. Range [-0.9869416952133179, 0.8544871807098389]. Convert image to uint8 prior to saving to suppress this warning.\n"
     ]
    },
    {
     "name": "stdout",
     "output_type": "stream",
     "text": [
      "LR size: [288, 510] /  generated HR size: (1, 1152, 2040, 3)\n"
     ]
    },
    {
     "name": "stderr",
     "output_type": "stream",
     "text": [
      "Lossy conversion from float32 to uint8. Range [-0.9869416952133179, 0.8544871807098389]. Convert image to uint8 prior to saving to suppress this warning.\n"
     ]
    },
    {
     "name": "stdout",
     "output_type": "stream",
     "text": [
      "LR size: [288, 510] /  generated HR size: (1, 1152, 2040, 3)\n"
     ]
    },
    {
     "name": "stderr",
     "output_type": "stream",
     "text": [
      "Lossy conversion from float32 to uint8. Range [-0.9869416952133179, 0.8544871807098389]. Convert image to uint8 prior to saving to suppress this warning.\n"
     ]
    },
    {
     "name": "stdout",
     "output_type": "stream",
     "text": [
      "LR size: [288, 510] /  generated HR size: (1, 1152, 2040, 3)\n"
     ]
    },
    {
     "name": "stderr",
     "output_type": "stream",
     "text": [
      "Lossy conversion from float32 to uint8. Range [-0.9869416952133179, 0.8544871807098389]. Convert image to uint8 prior to saving to suppress this warning.\n"
     ]
    },
    {
     "name": "stdout",
     "output_type": "stream",
     "text": [
      "LR size: [288, 510] /  generated HR size: (1, 1152, 2040, 3)\n"
     ]
    },
    {
     "name": "stderr",
     "output_type": "stream",
     "text": [
      "Lossy conversion from float32 to uint8. Range [-0.9869416952133179, 0.8544871807098389]. Convert image to uint8 prior to saving to suppress this warning.\n"
     ]
    },
    {
     "name": "stdout",
     "output_type": "stream",
     "text": [
      "LR size: [288, 510] /  generated HR size: (1, 1152, 2040, 3)\n"
     ]
    },
    {
     "name": "stderr",
     "output_type": "stream",
     "text": [
      "Lossy conversion from float32 to uint8. Range [-0.9869416952133179, 0.8544871807098389]. Convert image to uint8 prior to saving to suppress this warning.\n"
     ]
    },
    {
     "name": "stdout",
     "output_type": "stream",
     "text": [
      "LR size: [288, 510] /  generated HR size: (1, 1152, 2040, 3)\n"
     ]
    },
    {
     "name": "stderr",
     "output_type": "stream",
     "text": [
      "Lossy conversion from float32 to uint8. Range [-0.9869416952133179, 0.8544871807098389]. Convert image to uint8 prior to saving to suppress this warning.\n"
     ]
    },
    {
     "name": "stdout",
     "output_type": "stream",
     "text": [
      "LR size: [288, 510] /  generated HR size: (1, 1152, 2040, 3)\n"
     ]
    },
    {
     "name": "stderr",
     "output_type": "stream",
     "text": [
      "Lossy conversion from float32 to uint8. Range [-0.9869416952133179, 0.8544871807098389]. Convert image to uint8 prior to saving to suppress this warning.\n"
     ]
    },
    {
     "name": "stdout",
     "output_type": "stream",
     "text": [
      "LR size: [288, 510] /  generated HR size: (1, 1152, 2040, 3)\n"
     ]
    },
    {
     "name": "stderr",
     "output_type": "stream",
     "text": [
      "Lossy conversion from float32 to uint8. Range [-0.9869416952133179, 0.8544871807098389]. Convert image to uint8 prior to saving to suppress this warning.\n"
     ]
    },
    {
     "name": "stdout",
     "output_type": "stream",
     "text": [
      "LR size: [288, 510] /  generated HR size: (1, 1152, 2040, 3)\n"
     ]
    },
    {
     "name": "stderr",
     "output_type": "stream",
     "text": [
      "Lossy conversion from float32 to uint8. Range [-0.9869416952133179, 0.8544871807098389]. Convert image to uint8 prior to saving to suppress this warning.\n"
     ]
    },
    {
     "name": "stdout",
     "output_type": "stream",
     "text": [
      "LR size: [288, 510] /  generated HR size: (1, 1152, 2040, 3)\n"
     ]
    },
    {
     "name": "stderr",
     "output_type": "stream",
     "text": [
      "Lossy conversion from float32 to uint8. Range [-0.9869416952133179, 0.8544871807098389]. Convert image to uint8 prior to saving to suppress this warning.\n"
     ]
    },
    {
     "name": "stdout",
     "output_type": "stream",
     "text": [
      "LR size: [288, 510] /  generated HR size: (1, 1152, 2040, 3)\n"
     ]
    },
    {
     "name": "stderr",
     "output_type": "stream",
     "text": [
      "Lossy conversion from float32 to uint8. Range [-0.9869416952133179, 0.8544871807098389]. Convert image to uint8 prior to saving to suppress this warning.\n"
     ]
    },
    {
     "name": "stdout",
     "output_type": "stream",
     "text": [
      "LR size: [288, 510] /  generated HR size: (1, 1152, 2040, 3)\n"
     ]
    },
    {
     "name": "stderr",
     "output_type": "stream",
     "text": [
      "Lossy conversion from float32 to uint8. Range [-0.9869416952133179, 0.8544871807098389]. Convert image to uint8 prior to saving to suppress this warning.\n"
     ]
    },
    {
     "name": "stdout",
     "output_type": "stream",
     "text": [
      "LR size: [288, 510] /  generated HR size: (1, 1152, 2040, 3)\n"
     ]
    },
    {
     "name": "stderr",
     "output_type": "stream",
     "text": [
      "Lossy conversion from float32 to uint8. Range [-0.9869416952133179, 0.8544871807098389]. Convert image to uint8 prior to saving to suppress this warning.\n"
     ]
    },
    {
     "name": "stdout",
     "output_type": "stream",
     "text": [
      "LR size: [288, 510] /  generated HR size: (1, 1152, 2040, 3)\n"
     ]
    },
    {
     "name": "stderr",
     "output_type": "stream",
     "text": [
      "Lossy conversion from float32 to uint8. Range [-0.9869416952133179, 0.8544871807098389]. Convert image to uint8 prior to saving to suppress this warning.\n"
     ]
    },
    {
     "name": "stdout",
     "output_type": "stream",
     "text": [
      "LR size: [288, 510] /  generated HR size: (1, 1152, 2040, 3)\n"
     ]
    },
    {
     "name": "stderr",
     "output_type": "stream",
     "text": [
      "Lossy conversion from float32 to uint8. Range [-0.9869416952133179, 0.8544871807098389]. Convert image to uint8 prior to saving to suppress this warning.\n"
     ]
    },
    {
     "name": "stdout",
     "output_type": "stream",
     "text": [
      "LR size: [288, 510] /  generated HR size: (1, 1152, 2040, 3)\n"
     ]
    },
    {
     "name": "stderr",
     "output_type": "stream",
     "text": [
      "Lossy conversion from float32 to uint8. Range [-0.9869416952133179, 0.8544871807098389]. Convert image to uint8 prior to saving to suppress this warning.\n"
     ]
    },
    {
     "name": "stdout",
     "output_type": "stream",
     "text": [
      "LR size: [288, 510] /  generated HR size: (1, 1152, 2040, 3)\n"
     ]
    },
    {
     "name": "stderr",
     "output_type": "stream",
     "text": [
      "Lossy conversion from float32 to uint8. Range [-0.9869416952133179, 0.8544871807098389]. Convert image to uint8 prior to saving to suppress this warning.\n"
     ]
    },
    {
     "name": "stdout",
     "output_type": "stream",
     "text": [
      "LR size: [288, 510] /  generated HR size: (1, 1152, 2040, 3)\n"
     ]
    },
    {
     "name": "stderr",
     "output_type": "stream",
     "text": [
      "Lossy conversion from float32 to uint8. Range [-0.9869416952133179, 0.8544871807098389]. Convert image to uint8 prior to saving to suppress this warning.\n"
     ]
    },
    {
     "name": "stdout",
     "output_type": "stream",
     "text": [
      "LR size: [288, 510] /  generated HR size: (1, 1152, 2040, 3)\n"
     ]
    },
    {
     "name": "stderr",
     "output_type": "stream",
     "text": [
      "Lossy conversion from float32 to uint8. Range [-0.9869416952133179, 0.8544871807098389]. Convert image to uint8 prior to saving to suppress this warning.\n"
     ]
    },
    {
     "name": "stdout",
     "output_type": "stream",
     "text": [
      "LR size: [288, 510] /  generated HR size: (1, 1152, 2040, 3)\n"
     ]
    },
    {
     "name": "stderr",
     "output_type": "stream",
     "text": [
      "Lossy conversion from float32 to uint8. Range [-0.9869416952133179, 0.8544871807098389]. Convert image to uint8 prior to saving to suppress this warning.\n"
     ]
    },
    {
     "name": "stdout",
     "output_type": "stream",
     "text": [
      "LR size: [288, 510] /  generated HR size: (1, 1152, 2040, 3)\n"
     ]
    },
    {
     "name": "stderr",
     "output_type": "stream",
     "text": [
      "Lossy conversion from float32 to uint8. Range [-0.9869416952133179, 0.8544871807098389]. Convert image to uint8 prior to saving to suppress this warning.\n"
     ]
    },
    {
     "name": "stdout",
     "output_type": "stream",
     "text": [
      "LR size: [288, 510] /  generated HR size: (1, 1152, 2040, 3)\n"
     ]
    },
    {
     "name": "stderr",
     "output_type": "stream",
     "text": [
      "Lossy conversion from float32 to uint8. Range [-0.9869416952133179, 0.8544871807098389]. Convert image to uint8 prior to saving to suppress this warning.\n"
     ]
    },
    {
     "name": "stdout",
     "output_type": "stream",
     "text": [
      "LR size: [288, 510] /  generated HR size: (1, 1152, 2040, 3)\n"
     ]
    },
    {
     "name": "stderr",
     "output_type": "stream",
     "text": [
      "Lossy conversion from float32 to uint8. Range [-0.9869416952133179, 0.8544871807098389]. Convert image to uint8 prior to saving to suppress this warning.\n"
     ]
    },
    {
     "name": "stdout",
     "output_type": "stream",
     "text": [
      "LR size: [288, 510] /  generated HR size: (1, 1152, 2040, 3)\n"
     ]
    },
    {
     "name": "stderr",
     "output_type": "stream",
     "text": [
      "Lossy conversion from float32 to uint8. Range [-0.9869416952133179, 0.8544871807098389]. Convert image to uint8 prior to saving to suppress this warning.\n"
     ]
    },
    {
     "name": "stdout",
     "output_type": "stream",
     "text": [
      "LR size: [288, 510] /  generated HR size: (1, 1152, 2040, 3)\n"
     ]
    },
    {
     "name": "stderr",
     "output_type": "stream",
     "text": [
      "Lossy conversion from float32 to uint8. Range [-0.9869416952133179, 0.8544871807098389]. Convert image to uint8 prior to saving to suppress this warning.\n"
     ]
    },
    {
     "name": "stdout",
     "output_type": "stream",
     "text": [
      "LR size: [288, 510] /  generated HR size: (1, 1152, 2040, 3)\n"
     ]
    },
    {
     "name": "stderr",
     "output_type": "stream",
     "text": [
      "Lossy conversion from float32 to uint8. Range [-0.9869416952133179, 0.8544871807098389]. Convert image to uint8 prior to saving to suppress this warning.\n"
     ]
    },
    {
     "name": "stdout",
     "output_type": "stream",
     "text": [
      "LR size: [288, 510] /  generated HR size: (1, 1152, 2040, 3)\n"
     ]
    },
    {
     "name": "stderr",
     "output_type": "stream",
     "text": [
      "Lossy conversion from float32 to uint8. Range [-0.9869416952133179, 0.8544871807098389]. Convert image to uint8 prior to saving to suppress this warning.\n"
     ]
    },
    {
     "name": "stdout",
     "output_type": "stream",
     "text": [
      "LR size: [288, 510] /  generated HR size: (1, 1152, 2040, 3)\n"
     ]
    },
    {
     "name": "stderr",
     "output_type": "stream",
     "text": [
      "Lossy conversion from float32 to uint8. Range [-0.9869416952133179, 0.8544871807098389]. Convert image to uint8 prior to saving to suppress this warning.\n"
     ]
    },
    {
     "name": "stdout",
     "output_type": "stream",
     "text": [
      "LR size: [288, 510] /  generated HR size: (1, 1152, 2040, 3)\n"
     ]
    },
    {
     "name": "stderr",
     "output_type": "stream",
     "text": [
      "Lossy conversion from float32 to uint8. Range [-0.9869416952133179, 0.8544871807098389]. Convert image to uint8 prior to saving to suppress this warning.\n"
     ]
    },
    {
     "name": "stdout",
     "output_type": "stream",
     "text": [
      "LR size: [288, 510] /  generated HR size: (1, 1152, 2040, 3)\n"
     ]
    },
    {
     "name": "stderr",
     "output_type": "stream",
     "text": [
      "Lossy conversion from float32 to uint8. Range [-0.9869416952133179, 0.8544871807098389]. Convert image to uint8 prior to saving to suppress this warning.\n"
     ]
    },
    {
     "name": "stdout",
     "output_type": "stream",
     "text": [
      "LR size: [288, 510] /  generated HR size: (1, 1152, 2040, 3)\n"
     ]
    },
    {
     "name": "stderr",
     "output_type": "stream",
     "text": [
      "Lossy conversion from float32 to uint8. Range [-0.9869416952133179, 0.8544871807098389]. Convert image to uint8 prior to saving to suppress this warning.\n"
     ]
    },
    {
     "name": "stdout",
     "output_type": "stream",
     "text": [
      "LR size: [288, 510] /  generated HR size: (1, 1152, 2040, 3)\n"
     ]
    },
    {
     "name": "stderr",
     "output_type": "stream",
     "text": [
      "Lossy conversion from float32 to uint8. Range [-0.9869416952133179, 0.8544871807098389]. Convert image to uint8 prior to saving to suppress this warning.\n"
     ]
    },
    {
     "name": "stdout",
     "output_type": "stream",
     "text": [
      "LR size: [288, 510] /  generated HR size: (1, 1152, 2040, 3)\n"
     ]
    }
   ],
   "source": [
    "l = len(valid_hr_img_list)\n",
    "\n",
    "for image in rand_three(l):\n",
    "    validate_array = []\n",
    "    for model in models:\n",
    "        valid_lr_img = valid_lr_imgs[image]\n",
    "        valid_hr_img = valid_hr_imgs[image]\n",
    "        image_name = valid_hr_img_list[image]\n",
    "        \n",
    "        ev = evaluate(\"checkpoint\", model, valid_lr_img, valid_hr_img, image_name, G = G)\n",
    "        \n",
    "        G = ev.pop(\"G\", G)\n",
    "        validate_array.append(ev) \n",
    "        \n",
    "    with open(\"logs/\" + image_name + \".json\", mode='w', encoding='utf-8') as f:\n",
    "        json.dump(validate_array, f)\n",
    "    "
   ]
  },
  {
   "cell_type": "code",
   "execution_count": 33,
   "metadata": {},
   "outputs": [
    {
     "name": "stderr",
     "output_type": "stream",
     "text": [
      "Lossy conversion from float32 to uint8. Range [-0.9674316048622131, 0.9013864398002625]. Convert image to uint8 prior to saving to suppress this warning.\n"
     ]
    },
    {
     "name": "stdout",
     "output_type": "stream",
     "text": [
      "LR size: [510, 339] /  generated HR size: (1, 2040, 1356, 3)\n"
     ]
    },
    {
     "name": "stderr",
     "output_type": "stream",
     "text": [
      "/home/ma-user/anaconda3/lib/python3.6/site-packages/ipykernel/__main__.py:29: DeprecationWarning: `imresize` is deprecated!\n",
      "`imresize` is deprecated in SciPy 1.0.0, and will be removed in 1.3.0.\n",
      "Use Pillow instead: ``numpy.array(Image.fromarray(arr).resize())``.\n",
      "/home/ma-user/anaconda3/lib/python3.6/site-packages/skimage/measure/simple_metrics.py:127: UserWarning: Inputs have mismatched dtype.  Setting data_range based on im_true.\n",
      "  warn(\"Inputs have mismatched dtype.  Setting data_range based on \"\n",
      "/home/ma-user/anaconda3/lib/python3.6/site-packages/skimage/measure/_structural_similarity.py:155: UserWarning: Inputs have mismatched dtype.  Setting data_range based on X.dtype.\n",
      "  warn(\"Inputs have mismatched dtype.  Setting data_range based on \"\n",
      "Lossy conversion from float32 to uint8. Range [-0.9674316048622131, 0.9013864398002625]. Convert image to uint8 prior to saving to suppress this warning.\n"
     ]
    },
    {
     "name": "stdout",
     "output_type": "stream",
     "text": [
      "LR size: [510, 339] /  generated HR size: (1, 2040, 1356, 3)\n"
     ]
    },
    {
     "name": "stderr",
     "output_type": "stream",
     "text": [
      "Lossy conversion from float32 to uint8. Range [-0.9674316048622131, 0.9013864398002625]. Convert image to uint8 prior to saving to suppress this warning.\n"
     ]
    },
    {
     "name": "stdout",
     "output_type": "stream",
     "text": [
      "LR size: [510, 339] /  generated HR size: (1, 2040, 1356, 3)\n"
     ]
    },
    {
     "name": "stderr",
     "output_type": "stream",
     "text": [
      "Lossy conversion from float32 to uint8. Range [-0.9674316048622131, 0.9013864398002625]. Convert image to uint8 prior to saving to suppress this warning.\n"
     ]
    },
    {
     "name": "stdout",
     "output_type": "stream",
     "text": [
      "LR size: [510, 339] /  generated HR size: (1, 2040, 1356, 3)\n"
     ]
    },
    {
     "name": "stderr",
     "output_type": "stream",
     "text": [
      "Lossy conversion from float32 to uint8. Range [-0.9674316048622131, 0.9013864398002625]. Convert image to uint8 prior to saving to suppress this warning.\n"
     ]
    },
    {
     "name": "stdout",
     "output_type": "stream",
     "text": [
      "LR size: [510, 339] /  generated HR size: (1, 2040, 1356, 3)\n"
     ]
    },
    {
     "name": "stderr",
     "output_type": "stream",
     "text": [
      "Lossy conversion from float32 to uint8. Range [-0.9674316048622131, 0.9013864398002625]. Convert image to uint8 prior to saving to suppress this warning.\n"
     ]
    },
    {
     "name": "stdout",
     "output_type": "stream",
     "text": [
      "LR size: [510, 339] /  generated HR size: (1, 2040, 1356, 3)\n"
     ]
    },
    {
     "name": "stderr",
     "output_type": "stream",
     "text": [
      "Lossy conversion from float32 to uint8. Range [-0.9674316048622131, 0.9013864398002625]. Convert image to uint8 prior to saving to suppress this warning.\n"
     ]
    },
    {
     "name": "stdout",
     "output_type": "stream",
     "text": [
      "LR size: [510, 339] /  generated HR size: (1, 2040, 1356, 3)\n"
     ]
    },
    {
     "name": "stderr",
     "output_type": "stream",
     "text": [
      "Lossy conversion from float32 to uint8. Range [-0.9674316048622131, 0.9013864398002625]. Convert image to uint8 prior to saving to suppress this warning.\n"
     ]
    },
    {
     "name": "stdout",
     "output_type": "stream",
     "text": [
      "LR size: [510, 339] /  generated HR size: (1, 2040, 1356, 3)\n"
     ]
    },
    {
     "name": "stderr",
     "output_type": "stream",
     "text": [
      "Lossy conversion from float32 to uint8. Range [-0.9674316048622131, 0.9013864398002625]. Convert image to uint8 prior to saving to suppress this warning.\n"
     ]
    },
    {
     "name": "stdout",
     "output_type": "stream",
     "text": [
      "LR size: [510, 339] /  generated HR size: (1, 2040, 1356, 3)\n"
     ]
    },
    {
     "name": "stderr",
     "output_type": "stream",
     "text": [
      "Lossy conversion from float32 to uint8. Range [-0.9674316048622131, 0.9013864398002625]. Convert image to uint8 prior to saving to suppress this warning.\n"
     ]
    },
    {
     "name": "stdout",
     "output_type": "stream",
     "text": [
      "LR size: [510, 339] /  generated HR size: (1, 2040, 1356, 3)\n"
     ]
    },
    {
     "name": "stderr",
     "output_type": "stream",
     "text": [
      "Lossy conversion from float32 to uint8. Range [-0.9674316048622131, 0.9013864398002625]. Convert image to uint8 prior to saving to suppress this warning.\n"
     ]
    },
    {
     "name": "stdout",
     "output_type": "stream",
     "text": [
      "LR size: [510, 339] /  generated HR size: (1, 2040, 1356, 3)\n"
     ]
    },
    {
     "name": "stderr",
     "output_type": "stream",
     "text": [
      "Lossy conversion from float32 to uint8. Range [-0.9674316048622131, 0.9013864398002625]. Convert image to uint8 prior to saving to suppress this warning.\n"
     ]
    },
    {
     "name": "stdout",
     "output_type": "stream",
     "text": [
      "LR size: [510, 339] /  generated HR size: (1, 2040, 1356, 3)\n"
     ]
    },
    {
     "name": "stderr",
     "output_type": "stream",
     "text": [
      "Lossy conversion from float32 to uint8. Range [-0.9674316048622131, 0.9013864398002625]. Convert image to uint8 prior to saving to suppress this warning.\n"
     ]
    },
    {
     "name": "stdout",
     "output_type": "stream",
     "text": [
      "LR size: [510, 339] /  generated HR size: (1, 2040, 1356, 3)\n"
     ]
    },
    {
     "name": "stderr",
     "output_type": "stream",
     "text": [
      "Lossy conversion from float32 to uint8. Range [-0.9674316048622131, 0.9013864398002625]. Convert image to uint8 prior to saving to suppress this warning.\n"
     ]
    },
    {
     "name": "stdout",
     "output_type": "stream",
     "text": [
      "LR size: [510, 339] /  generated HR size: (1, 2040, 1356, 3)\n"
     ]
    },
    {
     "name": "stderr",
     "output_type": "stream",
     "text": [
      "Lossy conversion from float32 to uint8. Range [-0.9674316048622131, 0.9013864398002625]. Convert image to uint8 prior to saving to suppress this warning.\n"
     ]
    },
    {
     "name": "stdout",
     "output_type": "stream",
     "text": [
      "LR size: [510, 339] /  generated HR size: (1, 2040, 1356, 3)\n"
     ]
    },
    {
     "name": "stderr",
     "output_type": "stream",
     "text": [
      "Lossy conversion from float32 to uint8. Range [-0.9674316048622131, 0.9013864398002625]. Convert image to uint8 prior to saving to suppress this warning.\n"
     ]
    },
    {
     "name": "stdout",
     "output_type": "stream",
     "text": [
      "LR size: [510, 339] /  generated HR size: (1, 2040, 1356, 3)\n"
     ]
    },
    {
     "name": "stderr",
     "output_type": "stream",
     "text": [
      "Lossy conversion from float32 to uint8. Range [-0.9674316048622131, 0.9013864398002625]. Convert image to uint8 prior to saving to suppress this warning.\n"
     ]
    },
    {
     "name": "stdout",
     "output_type": "stream",
     "text": [
      "LR size: [510, 339] /  generated HR size: (1, 2040, 1356, 3)\n"
     ]
    },
    {
     "name": "stderr",
     "output_type": "stream",
     "text": [
      "Lossy conversion from float32 to uint8. Range [-0.9674316048622131, 0.9013864398002625]. Convert image to uint8 prior to saving to suppress this warning.\n"
     ]
    },
    {
     "name": "stdout",
     "output_type": "stream",
     "text": [
      "LR size: [510, 339] /  generated HR size: (1, 2040, 1356, 3)\n"
     ]
    },
    {
     "name": "stderr",
     "output_type": "stream",
     "text": [
      "Lossy conversion from float32 to uint8. Range [-0.9674316048622131, 0.9013864398002625]. Convert image to uint8 prior to saving to suppress this warning.\n"
     ]
    },
    {
     "name": "stdout",
     "output_type": "stream",
     "text": [
      "LR size: [510, 339] /  generated HR size: (1, 2040, 1356, 3)\n"
     ]
    },
    {
     "name": "stderr",
     "output_type": "stream",
     "text": [
      "Lossy conversion from float32 to uint8. Range [-0.9674316048622131, 0.9013864398002625]. Convert image to uint8 prior to saving to suppress this warning.\n"
     ]
    },
    {
     "name": "stdout",
     "output_type": "stream",
     "text": [
      "LR size: [510, 339] /  generated HR size: (1, 2040, 1356, 3)\n"
     ]
    },
    {
     "name": "stderr",
     "output_type": "stream",
     "text": [
      "Lossy conversion from float32 to uint8. Range [-0.9674316048622131, 0.9013864398002625]. Convert image to uint8 prior to saving to suppress this warning.\n"
     ]
    },
    {
     "name": "stdout",
     "output_type": "stream",
     "text": [
      "LR size: [510, 339] /  generated HR size: (1, 2040, 1356, 3)\n"
     ]
    },
    {
     "name": "stderr",
     "output_type": "stream",
     "text": [
      "Lossy conversion from float32 to uint8. Range [-0.9674316048622131, 0.9013864398002625]. Convert image to uint8 prior to saving to suppress this warning.\n"
     ]
    },
    {
     "name": "stdout",
     "output_type": "stream",
     "text": [
      "LR size: [510, 339] /  generated HR size: (1, 2040, 1356, 3)\n"
     ]
    },
    {
     "name": "stderr",
     "output_type": "stream",
     "text": [
      "Lossy conversion from float32 to uint8. Range [-0.9674316048622131, 0.9013864398002625]. Convert image to uint8 prior to saving to suppress this warning.\n"
     ]
    },
    {
     "name": "stdout",
     "output_type": "stream",
     "text": [
      "LR size: [510, 339] /  generated HR size: (1, 2040, 1356, 3)\n"
     ]
    },
    {
     "name": "stderr",
     "output_type": "stream",
     "text": [
      "Lossy conversion from float32 to uint8. Range [-0.9674316048622131, 0.9013864398002625]. Convert image to uint8 prior to saving to suppress this warning.\n"
     ]
    },
    {
     "name": "stdout",
     "output_type": "stream",
     "text": [
      "LR size: [510, 339] /  generated HR size: (1, 2040, 1356, 3)\n"
     ]
    },
    {
     "name": "stderr",
     "output_type": "stream",
     "text": [
      "Lossy conversion from float32 to uint8. Range [-0.9674316048622131, 0.9013864398002625]. Convert image to uint8 prior to saving to suppress this warning.\n"
     ]
    },
    {
     "name": "stdout",
     "output_type": "stream",
     "text": [
      "LR size: [510, 339] /  generated HR size: (1, 2040, 1356, 3)\n"
     ]
    },
    {
     "name": "stderr",
     "output_type": "stream",
     "text": [
      "Lossy conversion from float32 to uint8. Range [-0.9674316048622131, 0.9013864398002625]. Convert image to uint8 prior to saving to suppress this warning.\n"
     ]
    },
    {
     "name": "stdout",
     "output_type": "stream",
     "text": [
      "LR size: [510, 339] /  generated HR size: (1, 2040, 1356, 3)\n"
     ]
    },
    {
     "name": "stderr",
     "output_type": "stream",
     "text": [
      "Lossy conversion from float32 to uint8. Range [-0.9674316048622131, 0.9013864398002625]. Convert image to uint8 prior to saving to suppress this warning.\n"
     ]
    },
    {
     "name": "stdout",
     "output_type": "stream",
     "text": [
      "LR size: [510, 339] /  generated HR size: (1, 2040, 1356, 3)\n"
     ]
    },
    {
     "name": "stderr",
     "output_type": "stream",
     "text": [
      "Lossy conversion from float32 to uint8. Range [-0.9674316048622131, 0.9013864398002625]. Convert image to uint8 prior to saving to suppress this warning.\n"
     ]
    },
    {
     "name": "stdout",
     "output_type": "stream",
     "text": [
      "LR size: [510, 339] /  generated HR size: (1, 2040, 1356, 3)\n"
     ]
    },
    {
     "name": "stderr",
     "output_type": "stream",
     "text": [
      "Lossy conversion from float32 to uint8. Range [-0.9674316048622131, 0.9013864398002625]. Convert image to uint8 prior to saving to suppress this warning.\n"
     ]
    },
    {
     "name": "stdout",
     "output_type": "stream",
     "text": [
      "LR size: [510, 339] /  generated HR size: (1, 2040, 1356, 3)\n"
     ]
    },
    {
     "name": "stderr",
     "output_type": "stream",
     "text": [
      "Lossy conversion from float32 to uint8. Range [-0.9674316048622131, 0.9013864398002625]. Convert image to uint8 prior to saving to suppress this warning.\n"
     ]
    },
    {
     "name": "stdout",
     "output_type": "stream",
     "text": [
      "LR size: [510, 339] /  generated HR size: (1, 2040, 1356, 3)\n"
     ]
    },
    {
     "name": "stderr",
     "output_type": "stream",
     "text": [
      "Lossy conversion from float32 to uint8. Range [-0.9674316048622131, 0.9013864398002625]. Convert image to uint8 prior to saving to suppress this warning.\n"
     ]
    },
    {
     "name": "stdout",
     "output_type": "stream",
     "text": [
      "LR size: [510, 339] /  generated HR size: (1, 2040, 1356, 3)\n"
     ]
    },
    {
     "name": "stderr",
     "output_type": "stream",
     "text": [
      "Lossy conversion from float32 to uint8. Range [-0.9674316048622131, 0.9013864398002625]. Convert image to uint8 prior to saving to suppress this warning.\n"
     ]
    },
    {
     "name": "stdout",
     "output_type": "stream",
     "text": [
      "LR size: [510, 339] /  generated HR size: (1, 2040, 1356, 3)\n"
     ]
    },
    {
     "name": "stderr",
     "output_type": "stream",
     "text": [
      "Lossy conversion from float32 to uint8. Range [-0.9674316048622131, 0.9013864398002625]. Convert image to uint8 prior to saving to suppress this warning.\n"
     ]
    },
    {
     "name": "stdout",
     "output_type": "stream",
     "text": [
      "LR size: [510, 339] /  generated HR size: (1, 2040, 1356, 3)\n"
     ]
    },
    {
     "name": "stderr",
     "output_type": "stream",
     "text": [
      "Lossy conversion from float32 to uint8. Range [-0.9674316048622131, 0.9013864398002625]. Convert image to uint8 prior to saving to suppress this warning.\n"
     ]
    },
    {
     "name": "stdout",
     "output_type": "stream",
     "text": [
      "LR size: [510, 339] /  generated HR size: (1, 2040, 1356, 3)\n"
     ]
    },
    {
     "name": "stderr",
     "output_type": "stream",
     "text": [
      "Lossy conversion from float32 to uint8. Range [-0.9674316048622131, 0.9013864398002625]. Convert image to uint8 prior to saving to suppress this warning.\n"
     ]
    },
    {
     "name": "stdout",
     "output_type": "stream",
     "text": [
      "LR size: [510, 339] /  generated HR size: (1, 2040, 1356, 3)\n"
     ]
    },
    {
     "name": "stderr",
     "output_type": "stream",
     "text": [
      "Lossy conversion from float32 to uint8. Range [-0.9674316048622131, 0.9013864398002625]. Convert image to uint8 prior to saving to suppress this warning.\n"
     ]
    },
    {
     "name": "stdout",
     "output_type": "stream",
     "text": [
      "LR size: [510, 339] /  generated HR size: (1, 2040, 1356, 3)\n"
     ]
    },
    {
     "name": "stderr",
     "output_type": "stream",
     "text": [
      "Lossy conversion from float32 to uint8. Range [-0.9674316048622131, 0.9013864398002625]. Convert image to uint8 prior to saving to suppress this warning.\n"
     ]
    },
    {
     "name": "stdout",
     "output_type": "stream",
     "text": [
      "LR size: [510, 339] /  generated HR size: (1, 2040, 1356, 3)\n"
     ]
    },
    {
     "name": "stderr",
     "output_type": "stream",
     "text": [
      "Lossy conversion from float32 to uint8. Range [-0.9674316048622131, 0.9013864398002625]. Convert image to uint8 prior to saving to suppress this warning.\n"
     ]
    },
    {
     "name": "stdout",
     "output_type": "stream",
     "text": [
      "LR size: [510, 339] /  generated HR size: (1, 2040, 1356, 3)\n"
     ]
    },
    {
     "name": "stderr",
     "output_type": "stream",
     "text": [
      "Lossy conversion from float32 to uint8. Range [-0.9674316048622131, 0.9013864398002625]. Convert image to uint8 prior to saving to suppress this warning.\n"
     ]
    },
    {
     "name": "stdout",
     "output_type": "stream",
     "text": [
      "LR size: [510, 339] /  generated HR size: (1, 2040, 1356, 3)\n"
     ]
    },
    {
     "name": "stderr",
     "output_type": "stream",
     "text": [
      "Lossy conversion from float32 to uint8. Range [-0.9674316048622131, 0.9013864398002625]. Convert image to uint8 prior to saving to suppress this warning.\n"
     ]
    },
    {
     "name": "stdout",
     "output_type": "stream",
     "text": [
      "LR size: [510, 339] /  generated HR size: (1, 2040, 1356, 3)\n"
     ]
    },
    {
     "name": "stderr",
     "output_type": "stream",
     "text": [
      "Lossy conversion from float32 to uint8. Range [-0.9674316048622131, 0.9013864398002625]. Convert image to uint8 prior to saving to suppress this warning.\n"
     ]
    },
    {
     "name": "stdout",
     "output_type": "stream",
     "text": [
      "LR size: [510, 339] /  generated HR size: (1, 2040, 1356, 3)\n"
     ]
    },
    {
     "name": "stderr",
     "output_type": "stream",
     "text": [
      "Lossy conversion from float32 to uint8. Range [-0.9674316048622131, 0.9013864398002625]. Convert image to uint8 prior to saving to suppress this warning.\n"
     ]
    },
    {
     "name": "stdout",
     "output_type": "stream",
     "text": [
      "LR size: [510, 339] /  generated HR size: (1, 2040, 1356, 3)\n"
     ]
    },
    {
     "name": "stderr",
     "output_type": "stream",
     "text": [
      "Lossy conversion from float32 to uint8. Range [-0.9674316048622131, 0.9013864398002625]. Convert image to uint8 prior to saving to suppress this warning.\n"
     ]
    },
    {
     "name": "stdout",
     "output_type": "stream",
     "text": [
      "LR size: [510, 339] /  generated HR size: (1, 2040, 1356, 3)\n"
     ]
    },
    {
     "name": "stderr",
     "output_type": "stream",
     "text": [
      "Lossy conversion from float32 to uint8. Range [-0.9674316048622131, 0.9013864398002625]. Convert image to uint8 prior to saving to suppress this warning.\n"
     ]
    },
    {
     "name": "stdout",
     "output_type": "stream",
     "text": [
      "LR size: [510, 339] /  generated HR size: (1, 2040, 1356, 3)\n"
     ]
    },
    {
     "name": "stderr",
     "output_type": "stream",
     "text": [
      "Lossy conversion from float32 to uint8. Range [-0.9674316048622131, 0.9013864398002625]. Convert image to uint8 prior to saving to suppress this warning.\n"
     ]
    },
    {
     "name": "stdout",
     "output_type": "stream",
     "text": [
      "LR size: [510, 339] /  generated HR size: (1, 2040, 1356, 3)\n"
     ]
    },
    {
     "name": "stderr",
     "output_type": "stream",
     "text": [
      "Lossy conversion from float32 to uint8. Range [-0.9674316048622131, 0.9013864398002625]. Convert image to uint8 prior to saving to suppress this warning.\n"
     ]
    },
    {
     "name": "stdout",
     "output_type": "stream",
     "text": [
      "LR size: [510, 339] /  generated HR size: (1, 2040, 1356, 3)\n"
     ]
    },
    {
     "name": "stderr",
     "output_type": "stream",
     "text": [
      "Lossy conversion from float32 to uint8. Range [-0.9674316048622131, 0.9013864398002625]. Convert image to uint8 prior to saving to suppress this warning.\n"
     ]
    },
    {
     "name": "stdout",
     "output_type": "stream",
     "text": [
      "LR size: [510, 339] /  generated HR size: (1, 2040, 1356, 3)\n"
     ]
    },
    {
     "name": "stderr",
     "output_type": "stream",
     "text": [
      "Lossy conversion from float32 to uint8. Range [-0.9674316048622131, 0.9013864398002625]. Convert image to uint8 prior to saving to suppress this warning.\n"
     ]
    },
    {
     "name": "stdout",
     "output_type": "stream",
     "text": [
      "LR size: [510, 339] /  generated HR size: (1, 2040, 1356, 3)\n"
     ]
    },
    {
     "name": "stderr",
     "output_type": "stream",
     "text": [
      "Lossy conversion from float32 to uint8. Range [-0.9674316048622131, 0.9013864398002625]. Convert image to uint8 prior to saving to suppress this warning.\n"
     ]
    },
    {
     "name": "stdout",
     "output_type": "stream",
     "text": [
      "LR size: [510, 339] /  generated HR size: (1, 2040, 1356, 3)\n"
     ]
    },
    {
     "name": "stderr",
     "output_type": "stream",
     "text": [
      "Lossy conversion from float32 to uint8. Range [-0.9674316048622131, 0.9013864398002625]. Convert image to uint8 prior to saving to suppress this warning.\n"
     ]
    },
    {
     "name": "stdout",
     "output_type": "stream",
     "text": [
      "LR size: [510, 339] /  generated HR size: (1, 2040, 1356, 3)\n"
     ]
    },
    {
     "name": "stderr",
     "output_type": "stream",
     "text": [
      "Lossy conversion from float32 to uint8. Range [-0.9674316048622131, 0.9013864398002625]. Convert image to uint8 prior to saving to suppress this warning.\n"
     ]
    },
    {
     "name": "stdout",
     "output_type": "stream",
     "text": [
      "LR size: [510, 339] /  generated HR size: (1, 2040, 1356, 3)\n"
     ]
    },
    {
     "name": "stderr",
     "output_type": "stream",
     "text": [
      "Lossy conversion from float32 to uint8. Range [-0.9674316048622131, 0.9013864398002625]. Convert image to uint8 prior to saving to suppress this warning.\n"
     ]
    },
    {
     "name": "stdout",
     "output_type": "stream",
     "text": [
      "LR size: [510, 339] /  generated HR size: (1, 2040, 1356, 3)\n"
     ]
    },
    {
     "name": "stderr",
     "output_type": "stream",
     "text": [
      "Lossy conversion from float32 to uint8. Range [-0.9674316048622131, 0.9013864398002625]. Convert image to uint8 prior to saving to suppress this warning.\n"
     ]
    },
    {
     "name": "stdout",
     "output_type": "stream",
     "text": [
      "LR size: [510, 339] /  generated HR size: (1, 2040, 1356, 3)\n"
     ]
    },
    {
     "name": "stderr",
     "output_type": "stream",
     "text": [
      "Lossy conversion from float32 to uint8. Range [-0.9674316048622131, 0.9013864398002625]. Convert image to uint8 prior to saving to suppress this warning.\n"
     ]
    },
    {
     "name": "stdout",
     "output_type": "stream",
     "text": [
      "LR size: [510, 339] /  generated HR size: (1, 2040, 1356, 3)\n"
     ]
    },
    {
     "name": "stderr",
     "output_type": "stream",
     "text": [
      "Lossy conversion from float32 to uint8. Range [-0.9674316048622131, 0.9013864398002625]. Convert image to uint8 prior to saving to suppress this warning.\n"
     ]
    },
    {
     "name": "stdout",
     "output_type": "stream",
     "text": [
      "LR size: [510, 339] /  generated HR size: (1, 2040, 1356, 3)\n"
     ]
    },
    {
     "name": "stderr",
     "output_type": "stream",
     "text": [
      "Lossy conversion from float32 to uint8. Range [-0.9674316048622131, 0.9013864398002625]. Convert image to uint8 prior to saving to suppress this warning.\n"
     ]
    },
    {
     "name": "stdout",
     "output_type": "stream",
     "text": [
      "LR size: [510, 339] /  generated HR size: (1, 2040, 1356, 3)\n"
     ]
    },
    {
     "name": "stderr",
     "output_type": "stream",
     "text": [
      "Lossy conversion from float32 to uint8. Range [-0.9674316048622131, 0.9013864398002625]. Convert image to uint8 prior to saving to suppress this warning.\n"
     ]
    },
    {
     "name": "stdout",
     "output_type": "stream",
     "text": [
      "LR size: [510, 339] /  generated HR size: (1, 2040, 1356, 3)\n"
     ]
    },
    {
     "name": "stderr",
     "output_type": "stream",
     "text": [
      "Lossy conversion from float32 to uint8. Range [-0.9674316048622131, 0.9013864398002625]. Convert image to uint8 prior to saving to suppress this warning.\n"
     ]
    },
    {
     "name": "stdout",
     "output_type": "stream",
     "text": [
      "LR size: [510, 339] /  generated HR size: (1, 2040, 1356, 3)\n"
     ]
    },
    {
     "name": "stderr",
     "output_type": "stream",
     "text": [
      "Lossy conversion from float32 to uint8. Range [-0.9674316048622131, 0.9013864398002625]. Convert image to uint8 prior to saving to suppress this warning.\n"
     ]
    },
    {
     "name": "stdout",
     "output_type": "stream",
     "text": [
      "LR size: [510, 339] /  generated HR size: (1, 2040, 1356, 3)\n"
     ]
    },
    {
     "name": "stderr",
     "output_type": "stream",
     "text": [
      "Lossy conversion from float32 to uint8. Range [-0.9674316048622131, 0.9013864398002625]. Convert image to uint8 prior to saving to suppress this warning.\n"
     ]
    },
    {
     "name": "stdout",
     "output_type": "stream",
     "text": [
      "LR size: [510, 339] /  generated HR size: (1, 2040, 1356, 3)\n"
     ]
    },
    {
     "name": "stderr",
     "output_type": "stream",
     "text": [
      "Lossy conversion from float32 to uint8. Range [-0.9674316048622131, 0.9013864398002625]. Convert image to uint8 prior to saving to suppress this warning.\n"
     ]
    },
    {
     "name": "stdout",
     "output_type": "stream",
     "text": [
      "LR size: [510, 339] /  generated HR size: (1, 2040, 1356, 3)\n"
     ]
    },
    {
     "name": "stderr",
     "output_type": "stream",
     "text": [
      "Lossy conversion from float32 to uint8. Range [-0.9674316048622131, 0.9013864398002625]. Convert image to uint8 prior to saving to suppress this warning.\n"
     ]
    },
    {
     "name": "stdout",
     "output_type": "stream",
     "text": [
      "LR size: [510, 339] /  generated HR size: (1, 2040, 1356, 3)\n"
     ]
    },
    {
     "name": "stderr",
     "output_type": "stream",
     "text": [
      "Lossy conversion from float32 to uint8. Range [-0.9674316048622131, 0.9013864398002625]. Convert image to uint8 prior to saving to suppress this warning.\n"
     ]
    },
    {
     "name": "stdout",
     "output_type": "stream",
     "text": [
      "LR size: [510, 339] /  generated HR size: (1, 2040, 1356, 3)\n"
     ]
    },
    {
     "name": "stderr",
     "output_type": "stream",
     "text": [
      "Lossy conversion from float32 to uint8. Range [-0.9674316048622131, 0.9013864398002625]. Convert image to uint8 prior to saving to suppress this warning.\n"
     ]
    },
    {
     "name": "stdout",
     "output_type": "stream",
     "text": [
      "LR size: [510, 339] /  generated HR size: (1, 2040, 1356, 3)\n"
     ]
    },
    {
     "name": "stderr",
     "output_type": "stream",
     "text": [
      "Lossy conversion from float32 to uint8. Range [-0.9674316048622131, 0.9013864398002625]. Convert image to uint8 prior to saving to suppress this warning.\n"
     ]
    },
    {
     "name": "stdout",
     "output_type": "stream",
     "text": [
      "LR size: [510, 339] /  generated HR size: (1, 2040, 1356, 3)\n"
     ]
    },
    {
     "name": "stderr",
     "output_type": "stream",
     "text": [
      "Lossy conversion from float32 to uint8. Range [-0.9674316048622131, 0.9013864398002625]. Convert image to uint8 prior to saving to suppress this warning.\n"
     ]
    },
    {
     "name": "stdout",
     "output_type": "stream",
     "text": [
      "LR size: [510, 339] /  generated HR size: (1, 2040, 1356, 3)\n"
     ]
    },
    {
     "name": "stderr",
     "output_type": "stream",
     "text": [
      "Lossy conversion from float32 to uint8. Range [-0.9674316048622131, 0.9013864398002625]. Convert image to uint8 prior to saving to suppress this warning.\n"
     ]
    },
    {
     "name": "stdout",
     "output_type": "stream",
     "text": [
      "LR size: [510, 339] /  generated HR size: (1, 2040, 1356, 3)\n"
     ]
    },
    {
     "name": "stderr",
     "output_type": "stream",
     "text": [
      "Lossy conversion from float32 to uint8. Range [-0.9674316048622131, 0.9013864398002625]. Convert image to uint8 prior to saving to suppress this warning.\n"
     ]
    },
    {
     "name": "stdout",
     "output_type": "stream",
     "text": [
      "LR size: [510, 339] /  generated HR size: (1, 2040, 1356, 3)\n"
     ]
    },
    {
     "name": "stderr",
     "output_type": "stream",
     "text": [
      "Lossy conversion from float32 to uint8. Range [-0.9674316048622131, 0.9013864398002625]. Convert image to uint8 prior to saving to suppress this warning.\n"
     ]
    },
    {
     "name": "stdout",
     "output_type": "stream",
     "text": [
      "LR size: [510, 339] /  generated HR size: (1, 2040, 1356, 3)\n"
     ]
    },
    {
     "name": "stderr",
     "output_type": "stream",
     "text": [
      "Lossy conversion from float32 to uint8. Range [-0.9674316048622131, 0.9013864398002625]. Convert image to uint8 prior to saving to suppress this warning.\n"
     ]
    },
    {
     "name": "stdout",
     "output_type": "stream",
     "text": [
      "LR size: [510, 339] /  generated HR size: (1, 2040, 1356, 3)\n"
     ]
    },
    {
     "name": "stderr",
     "output_type": "stream",
     "text": [
      "Lossy conversion from float32 to uint8. Range [-0.9674316048622131, 0.9013864398002625]. Convert image to uint8 prior to saving to suppress this warning.\n"
     ]
    },
    {
     "name": "stdout",
     "output_type": "stream",
     "text": [
      "LR size: [510, 339] /  generated HR size: (1, 2040, 1356, 3)\n"
     ]
    },
    {
     "name": "stderr",
     "output_type": "stream",
     "text": [
      "Lossy conversion from float32 to uint8. Range [-0.9674316048622131, 0.9013864398002625]. Convert image to uint8 prior to saving to suppress this warning.\n"
     ]
    },
    {
     "name": "stdout",
     "output_type": "stream",
     "text": [
      "LR size: [510, 339] /  generated HR size: (1, 2040, 1356, 3)\n"
     ]
    },
    {
     "name": "stderr",
     "output_type": "stream",
     "text": [
      "Lossy conversion from float32 to uint8. Range [-0.9674316048622131, 0.9013864398002625]. Convert image to uint8 prior to saving to suppress this warning.\n"
     ]
    },
    {
     "name": "stdout",
     "output_type": "stream",
     "text": [
      "LR size: [510, 339] /  generated HR size: (1, 2040, 1356, 3)\n"
     ]
    },
    {
     "name": "stderr",
     "output_type": "stream",
     "text": [
      "Lossy conversion from float32 to uint8. Range [-0.9674316048622131, 0.9013864398002625]. Convert image to uint8 prior to saving to suppress this warning.\n"
     ]
    },
    {
     "name": "stdout",
     "output_type": "stream",
     "text": [
      "LR size: [510, 339] /  generated HR size: (1, 2040, 1356, 3)\n"
     ]
    },
    {
     "name": "stderr",
     "output_type": "stream",
     "text": [
      "Lossy conversion from float32 to uint8. Range [-0.9674316048622131, 0.9013864398002625]. Convert image to uint8 prior to saving to suppress this warning.\n"
     ]
    },
    {
     "name": "stdout",
     "output_type": "stream",
     "text": [
      "LR size: [510, 339] /  generated HR size: (1, 2040, 1356, 3)\n"
     ]
    },
    {
     "name": "stderr",
     "output_type": "stream",
     "text": [
      "Lossy conversion from float32 to uint8. Range [-0.9674316048622131, 0.9013864398002625]. Convert image to uint8 prior to saving to suppress this warning.\n"
     ]
    },
    {
     "name": "stdout",
     "output_type": "stream",
     "text": [
      "LR size: [510, 339] /  generated HR size: (1, 2040, 1356, 3)\n"
     ]
    },
    {
     "name": "stderr",
     "output_type": "stream",
     "text": [
      "Lossy conversion from float32 to uint8. Range [-0.9674316048622131, 0.9013864398002625]. Convert image to uint8 prior to saving to suppress this warning.\n"
     ]
    },
    {
     "name": "stdout",
     "output_type": "stream",
     "text": [
      "LR size: [510, 339] /  generated HR size: (1, 2040, 1356, 3)\n"
     ]
    },
    {
     "name": "stderr",
     "output_type": "stream",
     "text": [
      "Lossy conversion from float32 to uint8. Range [-0.9674316048622131, 0.9013864398002625]. Convert image to uint8 prior to saving to suppress this warning.\n"
     ]
    },
    {
     "name": "stdout",
     "output_type": "stream",
     "text": [
      "LR size: [510, 339] /  generated HR size: (1, 2040, 1356, 3)\n"
     ]
    },
    {
     "name": "stderr",
     "output_type": "stream",
     "text": [
      "Lossy conversion from float32 to uint8. Range [-0.9674316048622131, 0.9013864398002625]. Convert image to uint8 prior to saving to suppress this warning.\n"
     ]
    },
    {
     "name": "stdout",
     "output_type": "stream",
     "text": [
      "LR size: [510, 339] /  generated HR size: (1, 2040, 1356, 3)\n"
     ]
    },
    {
     "name": "stderr",
     "output_type": "stream",
     "text": [
      "Lossy conversion from float32 to uint8. Range [-0.9674316048622131, 0.9013864398002625]. Convert image to uint8 prior to saving to suppress this warning.\n"
     ]
    },
    {
     "name": "stdout",
     "output_type": "stream",
     "text": [
      "LR size: [510, 339] /  generated HR size: (1, 2040, 1356, 3)\n"
     ]
    },
    {
     "name": "stderr",
     "output_type": "stream",
     "text": [
      "Lossy conversion from float32 to uint8. Range [-0.9674316048622131, 0.9013864398002625]. Convert image to uint8 prior to saving to suppress this warning.\n"
     ]
    },
    {
     "name": "stdout",
     "output_type": "stream",
     "text": [
      "LR size: [510, 339] /  generated HR size: (1, 2040, 1356, 3)\n"
     ]
    },
    {
     "name": "stderr",
     "output_type": "stream",
     "text": [
      "Lossy conversion from float32 to uint8. Range [-0.9674316048622131, 0.9013864398002625]. Convert image to uint8 prior to saving to suppress this warning.\n"
     ]
    },
    {
     "name": "stdout",
     "output_type": "stream",
     "text": [
      "LR size: [510, 339] /  generated HR size: (1, 2040, 1356, 3)\n"
     ]
    },
    {
     "name": "stderr",
     "output_type": "stream",
     "text": [
      "Lossy conversion from float32 to uint8. Range [-0.9674316048622131, 0.9013864398002625]. Convert image to uint8 prior to saving to suppress this warning.\n"
     ]
    },
    {
     "name": "stdout",
     "output_type": "stream",
     "text": [
      "LR size: [510, 339] /  generated HR size: (1, 2040, 1356, 3)\n"
     ]
    },
    {
     "name": "stderr",
     "output_type": "stream",
     "text": [
      "Lossy conversion from float32 to uint8. Range [-0.9765767455101013, 0.9794975519180298]. Convert image to uint8 prior to saving to suppress this warning.\n"
     ]
    },
    {
     "name": "stdout",
     "output_type": "stream",
     "text": [
      "LR size: [339, 510] /  generated HR size: (1, 1356, 2040, 3)\n"
     ]
    },
    {
     "name": "stderr",
     "output_type": "stream",
     "text": [
      "Lossy conversion from float32 to uint8. Range [-0.9765767455101013, 0.9794975519180298]. Convert image to uint8 prior to saving to suppress this warning.\n"
     ]
    },
    {
     "name": "stdout",
     "output_type": "stream",
     "text": [
      "LR size: [339, 510] /  generated HR size: (1, 1356, 2040, 3)\n"
     ]
    },
    {
     "name": "stderr",
     "output_type": "stream",
     "text": [
      "Lossy conversion from float32 to uint8. Range [-0.9765767455101013, 0.9794975519180298]. Convert image to uint8 prior to saving to suppress this warning.\n"
     ]
    },
    {
     "name": "stdout",
     "output_type": "stream",
     "text": [
      "LR size: [339, 510] /  generated HR size: (1, 1356, 2040, 3)\n"
     ]
    },
    {
     "name": "stderr",
     "output_type": "stream",
     "text": [
      "Lossy conversion from float32 to uint8. Range [-0.9765767455101013, 0.9794975519180298]. Convert image to uint8 prior to saving to suppress this warning.\n"
     ]
    },
    {
     "name": "stdout",
     "output_type": "stream",
     "text": [
      "LR size: [339, 510] /  generated HR size: (1, 1356, 2040, 3)\n"
     ]
    },
    {
     "name": "stderr",
     "output_type": "stream",
     "text": [
      "Lossy conversion from float32 to uint8. Range [-0.9765767455101013, 0.9794975519180298]. Convert image to uint8 prior to saving to suppress this warning.\n"
     ]
    },
    {
     "name": "stdout",
     "output_type": "stream",
     "text": [
      "LR size: [339, 510] /  generated HR size: (1, 1356, 2040, 3)\n"
     ]
    },
    {
     "name": "stderr",
     "output_type": "stream",
     "text": [
      "Lossy conversion from float32 to uint8. Range [-0.9765767455101013, 0.9794975519180298]. Convert image to uint8 prior to saving to suppress this warning.\n"
     ]
    },
    {
     "name": "stdout",
     "output_type": "stream",
     "text": [
      "LR size: [339, 510] /  generated HR size: (1, 1356, 2040, 3)\n"
     ]
    },
    {
     "name": "stderr",
     "output_type": "stream",
     "text": [
      "Lossy conversion from float32 to uint8. Range [-0.9765767455101013, 0.9794975519180298]. Convert image to uint8 prior to saving to suppress this warning.\n"
     ]
    },
    {
     "name": "stdout",
     "output_type": "stream",
     "text": [
      "LR size: [339, 510] /  generated HR size: (1, 1356, 2040, 3)\n"
     ]
    },
    {
     "name": "stderr",
     "output_type": "stream",
     "text": [
      "Lossy conversion from float32 to uint8. Range [-0.9765767455101013, 0.9794975519180298]. Convert image to uint8 prior to saving to suppress this warning.\n"
     ]
    },
    {
     "name": "stdout",
     "output_type": "stream",
     "text": [
      "LR size: [339, 510] /  generated HR size: (1, 1356, 2040, 3)\n"
     ]
    },
    {
     "name": "stderr",
     "output_type": "stream",
     "text": [
      "Lossy conversion from float32 to uint8. Range [-0.9765767455101013, 0.9794975519180298]. Convert image to uint8 prior to saving to suppress this warning.\n"
     ]
    },
    {
     "name": "stdout",
     "output_type": "stream",
     "text": [
      "LR size: [339, 510] /  generated HR size: (1, 1356, 2040, 3)\n"
     ]
    },
    {
     "name": "stderr",
     "output_type": "stream",
     "text": [
      "Lossy conversion from float32 to uint8. Range [-0.9765767455101013, 0.9794975519180298]. Convert image to uint8 prior to saving to suppress this warning.\n"
     ]
    },
    {
     "name": "stdout",
     "output_type": "stream",
     "text": [
      "LR size: [339, 510] /  generated HR size: (1, 1356, 2040, 3)\n"
     ]
    },
    {
     "name": "stderr",
     "output_type": "stream",
     "text": [
      "Lossy conversion from float32 to uint8. Range [-0.9765767455101013, 0.9794975519180298]. Convert image to uint8 prior to saving to suppress this warning.\n"
     ]
    },
    {
     "name": "stdout",
     "output_type": "stream",
     "text": [
      "LR size: [339, 510] /  generated HR size: (1, 1356, 2040, 3)\n"
     ]
    },
    {
     "name": "stderr",
     "output_type": "stream",
     "text": [
      "Lossy conversion from float32 to uint8. Range [-0.9765767455101013, 0.9794975519180298]. Convert image to uint8 prior to saving to suppress this warning.\n"
     ]
    },
    {
     "name": "stdout",
     "output_type": "stream",
     "text": [
      "LR size: [339, 510] /  generated HR size: (1, 1356, 2040, 3)\n"
     ]
    },
    {
     "name": "stderr",
     "output_type": "stream",
     "text": [
      "Lossy conversion from float32 to uint8. Range [-0.9765767455101013, 0.9794975519180298]. Convert image to uint8 prior to saving to suppress this warning.\n"
     ]
    },
    {
     "name": "stdout",
     "output_type": "stream",
     "text": [
      "LR size: [339, 510] /  generated HR size: (1, 1356, 2040, 3)\n"
     ]
    },
    {
     "name": "stderr",
     "output_type": "stream",
     "text": [
      "Lossy conversion from float32 to uint8. Range [-0.9765767455101013, 0.9794975519180298]. Convert image to uint8 prior to saving to suppress this warning.\n"
     ]
    },
    {
     "name": "stdout",
     "output_type": "stream",
     "text": [
      "LR size: [339, 510] /  generated HR size: (1, 1356, 2040, 3)\n"
     ]
    },
    {
     "name": "stderr",
     "output_type": "stream",
     "text": [
      "Lossy conversion from float32 to uint8. Range [-0.9765767455101013, 0.9794975519180298]. Convert image to uint8 prior to saving to suppress this warning.\n"
     ]
    },
    {
     "name": "stdout",
     "output_type": "stream",
     "text": [
      "LR size: [339, 510] /  generated HR size: (1, 1356, 2040, 3)\n"
     ]
    },
    {
     "name": "stderr",
     "output_type": "stream",
     "text": [
      "Lossy conversion from float32 to uint8. Range [-0.9765767455101013, 0.9794975519180298]. Convert image to uint8 prior to saving to suppress this warning.\n"
     ]
    },
    {
     "name": "stdout",
     "output_type": "stream",
     "text": [
      "LR size: [339, 510] /  generated HR size: (1, 1356, 2040, 3)\n"
     ]
    },
    {
     "name": "stderr",
     "output_type": "stream",
     "text": [
      "Lossy conversion from float32 to uint8. Range [-0.9765767455101013, 0.9794975519180298]. Convert image to uint8 prior to saving to suppress this warning.\n"
     ]
    },
    {
     "name": "stdout",
     "output_type": "stream",
     "text": [
      "LR size: [339, 510] /  generated HR size: (1, 1356, 2040, 3)\n"
     ]
    },
    {
     "name": "stderr",
     "output_type": "stream",
     "text": [
      "Lossy conversion from float32 to uint8. Range [-0.9765767455101013, 0.9794975519180298]. Convert image to uint8 prior to saving to suppress this warning.\n"
     ]
    },
    {
     "name": "stdout",
     "output_type": "stream",
     "text": [
      "LR size: [339, 510] /  generated HR size: (1, 1356, 2040, 3)\n"
     ]
    },
    {
     "name": "stderr",
     "output_type": "stream",
     "text": [
      "Lossy conversion from float32 to uint8. Range [-0.9765767455101013, 0.9794975519180298]. Convert image to uint8 prior to saving to suppress this warning.\n"
     ]
    },
    {
     "name": "stdout",
     "output_type": "stream",
     "text": [
      "LR size: [339, 510] /  generated HR size: (1, 1356, 2040, 3)\n"
     ]
    },
    {
     "name": "stderr",
     "output_type": "stream",
     "text": [
      "Lossy conversion from float32 to uint8. Range [-0.9765767455101013, 0.9794975519180298]. Convert image to uint8 prior to saving to suppress this warning.\n"
     ]
    },
    {
     "name": "stdout",
     "output_type": "stream",
     "text": [
      "LR size: [339, 510] /  generated HR size: (1, 1356, 2040, 3)\n"
     ]
    },
    {
     "name": "stderr",
     "output_type": "stream",
     "text": [
      "Lossy conversion from float32 to uint8. Range [-0.9765767455101013, 0.9794975519180298]. Convert image to uint8 prior to saving to suppress this warning.\n"
     ]
    },
    {
     "name": "stdout",
     "output_type": "stream",
     "text": [
      "LR size: [339, 510] /  generated HR size: (1, 1356, 2040, 3)\n"
     ]
    },
    {
     "name": "stderr",
     "output_type": "stream",
     "text": [
      "Lossy conversion from float32 to uint8. Range [-0.9765767455101013, 0.9794975519180298]. Convert image to uint8 prior to saving to suppress this warning.\n"
     ]
    },
    {
     "name": "stdout",
     "output_type": "stream",
     "text": [
      "LR size: [339, 510] /  generated HR size: (1, 1356, 2040, 3)\n"
     ]
    },
    {
     "name": "stderr",
     "output_type": "stream",
     "text": [
      "Lossy conversion from float32 to uint8. Range [-0.9765767455101013, 0.9794975519180298]. Convert image to uint8 prior to saving to suppress this warning.\n"
     ]
    },
    {
     "name": "stdout",
     "output_type": "stream",
     "text": [
      "LR size: [339, 510] /  generated HR size: (1, 1356, 2040, 3)\n"
     ]
    },
    {
     "name": "stderr",
     "output_type": "stream",
     "text": [
      "Lossy conversion from float32 to uint8. Range [-0.9765767455101013, 0.9794975519180298]. Convert image to uint8 prior to saving to suppress this warning.\n"
     ]
    },
    {
     "name": "stdout",
     "output_type": "stream",
     "text": [
      "LR size: [339, 510] /  generated HR size: (1, 1356, 2040, 3)\n"
     ]
    },
    {
     "name": "stderr",
     "output_type": "stream",
     "text": [
      "Lossy conversion from float32 to uint8. Range [-0.9765767455101013, 0.9794975519180298]. Convert image to uint8 prior to saving to suppress this warning.\n"
     ]
    },
    {
     "name": "stdout",
     "output_type": "stream",
     "text": [
      "LR size: [339, 510] /  generated HR size: (1, 1356, 2040, 3)\n"
     ]
    },
    {
     "name": "stderr",
     "output_type": "stream",
     "text": [
      "Lossy conversion from float32 to uint8. Range [-0.9765767455101013, 0.9794975519180298]. Convert image to uint8 prior to saving to suppress this warning.\n"
     ]
    },
    {
     "name": "stdout",
     "output_type": "stream",
     "text": [
      "LR size: [339, 510] /  generated HR size: (1, 1356, 2040, 3)\n"
     ]
    },
    {
     "name": "stderr",
     "output_type": "stream",
     "text": [
      "Lossy conversion from float32 to uint8. Range [-0.9765767455101013, 0.9794975519180298]. Convert image to uint8 prior to saving to suppress this warning.\n"
     ]
    },
    {
     "name": "stdout",
     "output_type": "stream",
     "text": [
      "LR size: [339, 510] /  generated HR size: (1, 1356, 2040, 3)\n"
     ]
    },
    {
     "name": "stderr",
     "output_type": "stream",
     "text": [
      "Lossy conversion from float32 to uint8. Range [-0.9765767455101013, 0.9794975519180298]. Convert image to uint8 prior to saving to suppress this warning.\n"
     ]
    },
    {
     "name": "stdout",
     "output_type": "stream",
     "text": [
      "LR size: [339, 510] /  generated HR size: (1, 1356, 2040, 3)\n"
     ]
    },
    {
     "name": "stderr",
     "output_type": "stream",
     "text": [
      "Lossy conversion from float32 to uint8. Range [-0.9765767455101013, 0.9794975519180298]. Convert image to uint8 prior to saving to suppress this warning.\n"
     ]
    },
    {
     "name": "stdout",
     "output_type": "stream",
     "text": [
      "LR size: [339, 510] /  generated HR size: (1, 1356, 2040, 3)\n"
     ]
    },
    {
     "name": "stderr",
     "output_type": "stream",
     "text": [
      "Lossy conversion from float32 to uint8. Range [-0.9765767455101013, 0.9794975519180298]. Convert image to uint8 prior to saving to suppress this warning.\n"
     ]
    },
    {
     "name": "stdout",
     "output_type": "stream",
     "text": [
      "LR size: [339, 510] /  generated HR size: (1, 1356, 2040, 3)\n"
     ]
    },
    {
     "name": "stderr",
     "output_type": "stream",
     "text": [
      "Lossy conversion from float32 to uint8. Range [-0.9765767455101013, 0.9794975519180298]. Convert image to uint8 prior to saving to suppress this warning.\n"
     ]
    },
    {
     "name": "stdout",
     "output_type": "stream",
     "text": [
      "LR size: [339, 510] /  generated HR size: (1, 1356, 2040, 3)\n"
     ]
    },
    {
     "name": "stderr",
     "output_type": "stream",
     "text": [
      "Lossy conversion from float32 to uint8. Range [-0.9765767455101013, 0.9794975519180298]. Convert image to uint8 prior to saving to suppress this warning.\n"
     ]
    },
    {
     "name": "stdout",
     "output_type": "stream",
     "text": [
      "LR size: [339, 510] /  generated HR size: (1, 1356, 2040, 3)\n"
     ]
    },
    {
     "name": "stderr",
     "output_type": "stream",
     "text": [
      "Lossy conversion from float32 to uint8. Range [-0.9765767455101013, 0.9794975519180298]. Convert image to uint8 prior to saving to suppress this warning.\n"
     ]
    },
    {
     "name": "stdout",
     "output_type": "stream",
     "text": [
      "LR size: [339, 510] /  generated HR size: (1, 1356, 2040, 3)\n"
     ]
    },
    {
     "name": "stderr",
     "output_type": "stream",
     "text": [
      "Lossy conversion from float32 to uint8. Range [-0.9765767455101013, 0.9794975519180298]. Convert image to uint8 prior to saving to suppress this warning.\n"
     ]
    },
    {
     "name": "stdout",
     "output_type": "stream",
     "text": [
      "LR size: [339, 510] /  generated HR size: (1, 1356, 2040, 3)\n"
     ]
    },
    {
     "name": "stderr",
     "output_type": "stream",
     "text": [
      "Lossy conversion from float32 to uint8. Range [-0.9765767455101013, 0.9794975519180298]. Convert image to uint8 prior to saving to suppress this warning.\n"
     ]
    },
    {
     "name": "stdout",
     "output_type": "stream",
     "text": [
      "LR size: [339, 510] /  generated HR size: (1, 1356, 2040, 3)\n"
     ]
    },
    {
     "name": "stderr",
     "output_type": "stream",
     "text": [
      "Lossy conversion from float32 to uint8. Range [-0.9765767455101013, 0.9794975519180298]. Convert image to uint8 prior to saving to suppress this warning.\n"
     ]
    },
    {
     "name": "stdout",
     "output_type": "stream",
     "text": [
      "LR size: [339, 510] /  generated HR size: (1, 1356, 2040, 3)\n"
     ]
    },
    {
     "name": "stderr",
     "output_type": "stream",
     "text": [
      "Lossy conversion from float32 to uint8. Range [-0.9765767455101013, 0.9794975519180298]. Convert image to uint8 prior to saving to suppress this warning.\n"
     ]
    },
    {
     "name": "stdout",
     "output_type": "stream",
     "text": [
      "LR size: [339, 510] /  generated HR size: (1, 1356, 2040, 3)\n"
     ]
    },
    {
     "name": "stderr",
     "output_type": "stream",
     "text": [
      "Lossy conversion from float32 to uint8. Range [-0.9765767455101013, 0.9794975519180298]. Convert image to uint8 prior to saving to suppress this warning.\n"
     ]
    },
    {
     "name": "stdout",
     "output_type": "stream",
     "text": [
      "LR size: [339, 510] /  generated HR size: (1, 1356, 2040, 3)\n"
     ]
    },
    {
     "name": "stderr",
     "output_type": "stream",
     "text": [
      "Lossy conversion from float32 to uint8. Range [-0.9765767455101013, 0.9794975519180298]. Convert image to uint8 prior to saving to suppress this warning.\n"
     ]
    },
    {
     "name": "stdout",
     "output_type": "stream",
     "text": [
      "LR size: [339, 510] /  generated HR size: (1, 1356, 2040, 3)\n"
     ]
    },
    {
     "name": "stderr",
     "output_type": "stream",
     "text": [
      "Lossy conversion from float32 to uint8. Range [-0.9765767455101013, 0.9794975519180298]. Convert image to uint8 prior to saving to suppress this warning.\n"
     ]
    },
    {
     "name": "stdout",
     "output_type": "stream",
     "text": [
      "LR size: [339, 510] /  generated HR size: (1, 1356, 2040, 3)\n"
     ]
    },
    {
     "name": "stderr",
     "output_type": "stream",
     "text": [
      "Lossy conversion from float32 to uint8. Range [-0.9765767455101013, 0.9794975519180298]. Convert image to uint8 prior to saving to suppress this warning.\n"
     ]
    },
    {
     "name": "stdout",
     "output_type": "stream",
     "text": [
      "LR size: [339, 510] /  generated HR size: (1, 1356, 2040, 3)\n"
     ]
    },
    {
     "name": "stderr",
     "output_type": "stream",
     "text": [
      "Lossy conversion from float32 to uint8. Range [-0.9765767455101013, 0.9794975519180298]. Convert image to uint8 prior to saving to suppress this warning.\n"
     ]
    },
    {
     "name": "stdout",
     "output_type": "stream",
     "text": [
      "LR size: [339, 510] /  generated HR size: (1, 1356, 2040, 3)\n"
     ]
    },
    {
     "name": "stderr",
     "output_type": "stream",
     "text": [
      "Lossy conversion from float32 to uint8. Range [-0.9765767455101013, 0.9794975519180298]. Convert image to uint8 prior to saving to suppress this warning.\n"
     ]
    },
    {
     "name": "stdout",
     "output_type": "stream",
     "text": [
      "LR size: [339, 510] /  generated HR size: (1, 1356, 2040, 3)\n"
     ]
    },
    {
     "name": "stderr",
     "output_type": "stream",
     "text": [
      "Lossy conversion from float32 to uint8. Range [-0.9765767455101013, 0.9794975519180298]. Convert image to uint8 prior to saving to suppress this warning.\n"
     ]
    },
    {
     "name": "stdout",
     "output_type": "stream",
     "text": [
      "LR size: [339, 510] /  generated HR size: (1, 1356, 2040, 3)\n"
     ]
    },
    {
     "name": "stderr",
     "output_type": "stream",
     "text": [
      "Lossy conversion from float32 to uint8. Range [-0.9765767455101013, 0.9794975519180298]. Convert image to uint8 prior to saving to suppress this warning.\n"
     ]
    },
    {
     "name": "stdout",
     "output_type": "stream",
     "text": [
      "LR size: [339, 510] /  generated HR size: (1, 1356, 2040, 3)\n"
     ]
    },
    {
     "name": "stderr",
     "output_type": "stream",
     "text": [
      "Lossy conversion from float32 to uint8. Range [-0.9765767455101013, 0.9794975519180298]. Convert image to uint8 prior to saving to suppress this warning.\n"
     ]
    },
    {
     "name": "stdout",
     "output_type": "stream",
     "text": [
      "LR size: [339, 510] /  generated HR size: (1, 1356, 2040, 3)\n"
     ]
    },
    {
     "name": "stderr",
     "output_type": "stream",
     "text": [
      "Lossy conversion from float32 to uint8. Range [-0.9765767455101013, 0.9794975519180298]. Convert image to uint8 prior to saving to suppress this warning.\n"
     ]
    },
    {
     "name": "stdout",
     "output_type": "stream",
     "text": [
      "LR size: [339, 510] /  generated HR size: (1, 1356, 2040, 3)\n"
     ]
    },
    {
     "name": "stderr",
     "output_type": "stream",
     "text": [
      "Lossy conversion from float32 to uint8. Range [-0.9765767455101013, 0.9794975519180298]. Convert image to uint8 prior to saving to suppress this warning.\n"
     ]
    },
    {
     "name": "stdout",
     "output_type": "stream",
     "text": [
      "LR size: [339, 510] /  generated HR size: (1, 1356, 2040, 3)\n"
     ]
    },
    {
     "name": "stderr",
     "output_type": "stream",
     "text": [
      "Lossy conversion from float32 to uint8. Range [-0.9765767455101013, 0.9794975519180298]. Convert image to uint8 prior to saving to suppress this warning.\n"
     ]
    },
    {
     "name": "stdout",
     "output_type": "stream",
     "text": [
      "LR size: [339, 510] /  generated HR size: (1, 1356, 2040, 3)\n"
     ]
    },
    {
     "name": "stderr",
     "output_type": "stream",
     "text": [
      "Lossy conversion from float32 to uint8. Range [-0.9765767455101013, 0.9794975519180298]. Convert image to uint8 prior to saving to suppress this warning.\n"
     ]
    },
    {
     "name": "stdout",
     "output_type": "stream",
     "text": [
      "LR size: [339, 510] /  generated HR size: (1, 1356, 2040, 3)\n"
     ]
    },
    {
     "name": "stderr",
     "output_type": "stream",
     "text": [
      "Lossy conversion from float32 to uint8. Range [-0.9765767455101013, 0.9794975519180298]. Convert image to uint8 prior to saving to suppress this warning.\n"
     ]
    },
    {
     "name": "stdout",
     "output_type": "stream",
     "text": [
      "LR size: [339, 510] /  generated HR size: (1, 1356, 2040, 3)\n"
     ]
    },
    {
     "name": "stderr",
     "output_type": "stream",
     "text": [
      "Lossy conversion from float32 to uint8. Range [-0.9765767455101013, 0.9794975519180298]. Convert image to uint8 prior to saving to suppress this warning.\n"
     ]
    },
    {
     "name": "stdout",
     "output_type": "stream",
     "text": [
      "LR size: [339, 510] /  generated HR size: (1, 1356, 2040, 3)\n"
     ]
    },
    {
     "name": "stderr",
     "output_type": "stream",
     "text": [
      "Lossy conversion from float32 to uint8. Range [-0.9765767455101013, 0.9794975519180298]. Convert image to uint8 prior to saving to suppress this warning.\n"
     ]
    },
    {
     "name": "stdout",
     "output_type": "stream",
     "text": [
      "LR size: [339, 510] /  generated HR size: (1, 1356, 2040, 3)\n"
     ]
    },
    {
     "name": "stderr",
     "output_type": "stream",
     "text": [
      "Lossy conversion from float32 to uint8. Range [-0.9765767455101013, 0.9794975519180298]. Convert image to uint8 prior to saving to suppress this warning.\n"
     ]
    },
    {
     "name": "stdout",
     "output_type": "stream",
     "text": [
      "LR size: [339, 510] /  generated HR size: (1, 1356, 2040, 3)\n"
     ]
    },
    {
     "name": "stderr",
     "output_type": "stream",
     "text": [
      "Lossy conversion from float32 to uint8. Range [-0.9765767455101013, 0.9794975519180298]. Convert image to uint8 prior to saving to suppress this warning.\n"
     ]
    },
    {
     "name": "stdout",
     "output_type": "stream",
     "text": [
      "LR size: [339, 510] /  generated HR size: (1, 1356, 2040, 3)\n"
     ]
    },
    {
     "name": "stderr",
     "output_type": "stream",
     "text": [
      "Lossy conversion from float32 to uint8. Range [-0.9765767455101013, 0.9794975519180298]. Convert image to uint8 prior to saving to suppress this warning.\n"
     ]
    },
    {
     "name": "stdout",
     "output_type": "stream",
     "text": [
      "LR size: [339, 510] /  generated HR size: (1, 1356, 2040, 3)\n"
     ]
    },
    {
     "name": "stderr",
     "output_type": "stream",
     "text": [
      "Lossy conversion from float32 to uint8. Range [-0.9765767455101013, 0.9794975519180298]. Convert image to uint8 prior to saving to suppress this warning.\n"
     ]
    },
    {
     "name": "stdout",
     "output_type": "stream",
     "text": [
      "LR size: [339, 510] /  generated HR size: (1, 1356, 2040, 3)\n"
     ]
    },
    {
     "name": "stderr",
     "output_type": "stream",
     "text": [
      "Lossy conversion from float32 to uint8. Range [-0.9765767455101013, 0.9794975519180298]. Convert image to uint8 prior to saving to suppress this warning.\n"
     ]
    },
    {
     "name": "stdout",
     "output_type": "stream",
     "text": [
      "LR size: [339, 510] /  generated HR size: (1, 1356, 2040, 3)\n"
     ]
    },
    {
     "name": "stderr",
     "output_type": "stream",
     "text": [
      "Lossy conversion from float32 to uint8. Range [-0.9765767455101013, 0.9794975519180298]. Convert image to uint8 prior to saving to suppress this warning.\n"
     ]
    },
    {
     "name": "stdout",
     "output_type": "stream",
     "text": [
      "LR size: [339, 510] /  generated HR size: (1, 1356, 2040, 3)\n"
     ]
    },
    {
     "name": "stderr",
     "output_type": "stream",
     "text": [
      "Lossy conversion from float32 to uint8. Range [-0.9765767455101013, 0.9794975519180298]. Convert image to uint8 prior to saving to suppress this warning.\n"
     ]
    },
    {
     "name": "stdout",
     "output_type": "stream",
     "text": [
      "LR size: [339, 510] /  generated HR size: (1, 1356, 2040, 3)\n"
     ]
    },
    {
     "name": "stderr",
     "output_type": "stream",
     "text": [
      "Lossy conversion from float32 to uint8. Range [-0.9765767455101013, 0.9794975519180298]. Convert image to uint8 prior to saving to suppress this warning.\n"
     ]
    },
    {
     "name": "stdout",
     "output_type": "stream",
     "text": [
      "LR size: [339, 510] /  generated HR size: (1, 1356, 2040, 3)\n"
     ]
    },
    {
     "name": "stderr",
     "output_type": "stream",
     "text": [
      "Lossy conversion from float32 to uint8. Range [-0.9765767455101013, 0.9794975519180298]. Convert image to uint8 prior to saving to suppress this warning.\n"
     ]
    },
    {
     "name": "stdout",
     "output_type": "stream",
     "text": [
      "LR size: [339, 510] /  generated HR size: (1, 1356, 2040, 3)\n"
     ]
    },
    {
     "name": "stderr",
     "output_type": "stream",
     "text": [
      "Lossy conversion from float32 to uint8. Range [-0.9765767455101013, 0.9794975519180298]. Convert image to uint8 prior to saving to suppress this warning.\n"
     ]
    },
    {
     "name": "stdout",
     "output_type": "stream",
     "text": [
      "LR size: [339, 510] /  generated HR size: (1, 1356, 2040, 3)\n"
     ]
    },
    {
     "name": "stderr",
     "output_type": "stream",
     "text": [
      "Lossy conversion from float32 to uint8. Range [-0.9765767455101013, 0.9794975519180298]. Convert image to uint8 prior to saving to suppress this warning.\n"
     ]
    },
    {
     "name": "stdout",
     "output_type": "stream",
     "text": [
      "LR size: [339, 510] /  generated HR size: (1, 1356, 2040, 3)\n"
     ]
    },
    {
     "name": "stderr",
     "output_type": "stream",
     "text": [
      "Lossy conversion from float32 to uint8. Range [-0.9765767455101013, 0.9794975519180298]. Convert image to uint8 prior to saving to suppress this warning.\n"
     ]
    },
    {
     "name": "stdout",
     "output_type": "stream",
     "text": [
      "LR size: [339, 510] /  generated HR size: (1, 1356, 2040, 3)\n"
     ]
    },
    {
     "name": "stderr",
     "output_type": "stream",
     "text": [
      "Lossy conversion from float32 to uint8. Range [-0.9765767455101013, 0.9794975519180298]. Convert image to uint8 prior to saving to suppress this warning.\n"
     ]
    },
    {
     "name": "stdout",
     "output_type": "stream",
     "text": [
      "LR size: [339, 510] /  generated HR size: (1, 1356, 2040, 3)\n"
     ]
    },
    {
     "name": "stderr",
     "output_type": "stream",
     "text": [
      "Lossy conversion from float32 to uint8. Range [-0.9765767455101013, 0.9794975519180298]. Convert image to uint8 prior to saving to suppress this warning.\n"
     ]
    },
    {
     "name": "stdout",
     "output_type": "stream",
     "text": [
      "LR size: [339, 510] /  generated HR size: (1, 1356, 2040, 3)\n"
     ]
    },
    {
     "name": "stderr",
     "output_type": "stream",
     "text": [
      "Lossy conversion from float32 to uint8. Range [-0.9765767455101013, 0.9794975519180298]. Convert image to uint8 prior to saving to suppress this warning.\n"
     ]
    },
    {
     "name": "stdout",
     "output_type": "stream",
     "text": [
      "LR size: [339, 510] /  generated HR size: (1, 1356, 2040, 3)\n"
     ]
    },
    {
     "name": "stderr",
     "output_type": "stream",
     "text": [
      "Lossy conversion from float32 to uint8. Range [-0.9765767455101013, 0.9794975519180298]. Convert image to uint8 prior to saving to suppress this warning.\n"
     ]
    },
    {
     "name": "stdout",
     "output_type": "stream",
     "text": [
      "LR size: [339, 510] /  generated HR size: (1, 1356, 2040, 3)\n"
     ]
    },
    {
     "name": "stderr",
     "output_type": "stream",
     "text": [
      "Lossy conversion from float32 to uint8. Range [-0.9765767455101013, 0.9794975519180298]. Convert image to uint8 prior to saving to suppress this warning.\n"
     ]
    },
    {
     "name": "stdout",
     "output_type": "stream",
     "text": [
      "LR size: [339, 510] /  generated HR size: (1, 1356, 2040, 3)\n"
     ]
    },
    {
     "name": "stderr",
     "output_type": "stream",
     "text": [
      "Lossy conversion from float32 to uint8. Range [-0.9765767455101013, 0.9794975519180298]. Convert image to uint8 prior to saving to suppress this warning.\n"
     ]
    },
    {
     "name": "stdout",
     "output_type": "stream",
     "text": [
      "LR size: [339, 510] /  generated HR size: (1, 1356, 2040, 3)\n"
     ]
    },
    {
     "name": "stderr",
     "output_type": "stream",
     "text": [
      "Lossy conversion from float32 to uint8. Range [-0.9765767455101013, 0.9794975519180298]. Convert image to uint8 prior to saving to suppress this warning.\n"
     ]
    },
    {
     "name": "stdout",
     "output_type": "stream",
     "text": [
      "LR size: [339, 510] /  generated HR size: (1, 1356, 2040, 3)\n"
     ]
    },
    {
     "name": "stderr",
     "output_type": "stream",
     "text": [
      "Lossy conversion from float32 to uint8. Range [-0.9765767455101013, 0.9794975519180298]. Convert image to uint8 prior to saving to suppress this warning.\n"
     ]
    },
    {
     "name": "stdout",
     "output_type": "stream",
     "text": [
      "LR size: [339, 510] /  generated HR size: (1, 1356, 2040, 3)\n"
     ]
    },
    {
     "name": "stderr",
     "output_type": "stream",
     "text": [
      "Lossy conversion from float32 to uint8. Range [-0.9765767455101013, 0.9794975519180298]. Convert image to uint8 prior to saving to suppress this warning.\n"
     ]
    },
    {
     "name": "stdout",
     "output_type": "stream",
     "text": [
      "LR size: [339, 510] /  generated HR size: (1, 1356, 2040, 3)\n"
     ]
    },
    {
     "name": "stderr",
     "output_type": "stream",
     "text": [
      "Lossy conversion from float32 to uint8. Range [-0.9765767455101013, 0.9794975519180298]. Convert image to uint8 prior to saving to suppress this warning.\n"
     ]
    },
    {
     "name": "stdout",
     "output_type": "stream",
     "text": [
      "LR size: [339, 510] /  generated HR size: (1, 1356, 2040, 3)\n"
     ]
    },
    {
     "name": "stderr",
     "output_type": "stream",
     "text": [
      "Lossy conversion from float32 to uint8. Range [-0.9765767455101013, 0.9794975519180298]. Convert image to uint8 prior to saving to suppress this warning.\n"
     ]
    },
    {
     "name": "stdout",
     "output_type": "stream",
     "text": [
      "LR size: [339, 510] /  generated HR size: (1, 1356, 2040, 3)\n"
     ]
    },
    {
     "name": "stderr",
     "output_type": "stream",
     "text": [
      "Lossy conversion from float32 to uint8. Range [-0.9765767455101013, 0.9794975519180298]. Convert image to uint8 prior to saving to suppress this warning.\n"
     ]
    },
    {
     "name": "stdout",
     "output_type": "stream",
     "text": [
      "LR size: [339, 510] /  generated HR size: (1, 1356, 2040, 3)\n"
     ]
    },
    {
     "name": "stderr",
     "output_type": "stream",
     "text": [
      "Lossy conversion from float32 to uint8. Range [-0.9765767455101013, 0.9794975519180298]. Convert image to uint8 prior to saving to suppress this warning.\n"
     ]
    },
    {
     "name": "stdout",
     "output_type": "stream",
     "text": [
      "LR size: [339, 510] /  generated HR size: (1, 1356, 2040, 3)\n"
     ]
    },
    {
     "name": "stderr",
     "output_type": "stream",
     "text": [
      "Lossy conversion from float32 to uint8. Range [-0.9765767455101013, 0.9794975519180298]. Convert image to uint8 prior to saving to suppress this warning.\n"
     ]
    },
    {
     "name": "stdout",
     "output_type": "stream",
     "text": [
      "LR size: [339, 510] /  generated HR size: (1, 1356, 2040, 3)\n"
     ]
    },
    {
     "name": "stderr",
     "output_type": "stream",
     "text": [
      "Lossy conversion from float32 to uint8. Range [-0.9765767455101013, 0.9794975519180298]. Convert image to uint8 prior to saving to suppress this warning.\n"
     ]
    },
    {
     "name": "stdout",
     "output_type": "stream",
     "text": [
      "LR size: [339, 510] /  generated HR size: (1, 1356, 2040, 3)\n"
     ]
    },
    {
     "name": "stderr",
     "output_type": "stream",
     "text": [
      "Lossy conversion from float32 to uint8. Range [-0.9765767455101013, 0.9794975519180298]. Convert image to uint8 prior to saving to suppress this warning.\n"
     ]
    },
    {
     "name": "stdout",
     "output_type": "stream",
     "text": [
      "LR size: [339, 510] /  generated HR size: (1, 1356, 2040, 3)\n"
     ]
    },
    {
     "name": "stderr",
     "output_type": "stream",
     "text": [
      "Lossy conversion from float32 to uint8. Range [-0.9765767455101013, 0.9794975519180298]. Convert image to uint8 prior to saving to suppress this warning.\n"
     ]
    },
    {
     "name": "stdout",
     "output_type": "stream",
     "text": [
      "LR size: [339, 510] /  generated HR size: (1, 1356, 2040, 3)\n"
     ]
    },
    {
     "name": "stderr",
     "output_type": "stream",
     "text": [
      "Lossy conversion from float32 to uint8. Range [-0.9765767455101013, 0.9794975519180298]. Convert image to uint8 prior to saving to suppress this warning.\n"
     ]
    },
    {
     "name": "stdout",
     "output_type": "stream",
     "text": [
      "LR size: [339, 510] /  generated HR size: (1, 1356, 2040, 3)\n"
     ]
    },
    {
     "name": "stderr",
     "output_type": "stream",
     "text": [
      "Lossy conversion from float32 to uint8. Range [-0.9795401692390442, 0.9754083156585693]. Convert image to uint8 prior to saving to suppress this warning.\n"
     ]
    },
    {
     "name": "stdout",
     "output_type": "stream",
     "text": [
      "LR size: [435, 510] /  generated HR size: (1, 1740, 2040, 3)\n"
     ]
    },
    {
     "name": "stderr",
     "output_type": "stream",
     "text": [
      "Lossy conversion from float32 to uint8. Range [-0.9795401692390442, 0.9754083156585693]. Convert image to uint8 prior to saving to suppress this warning.\n"
     ]
    },
    {
     "name": "stdout",
     "output_type": "stream",
     "text": [
      "LR size: [435, 510] /  generated HR size: (1, 1740, 2040, 3)\n"
     ]
    },
    {
     "name": "stderr",
     "output_type": "stream",
     "text": [
      "Lossy conversion from float32 to uint8. Range [-0.9795401692390442, 0.9754083156585693]. Convert image to uint8 prior to saving to suppress this warning.\n"
     ]
    },
    {
     "name": "stdout",
     "output_type": "stream",
     "text": [
      "LR size: [435, 510] /  generated HR size: (1, 1740, 2040, 3)\n"
     ]
    },
    {
     "name": "stderr",
     "output_type": "stream",
     "text": [
      "Lossy conversion from float32 to uint8. Range [-0.9795401692390442, 0.9754083156585693]. Convert image to uint8 prior to saving to suppress this warning.\n"
     ]
    },
    {
     "name": "stdout",
     "output_type": "stream",
     "text": [
      "LR size: [435, 510] /  generated HR size: (1, 1740, 2040, 3)\n"
     ]
    },
    {
     "name": "stderr",
     "output_type": "stream",
     "text": [
      "Lossy conversion from float32 to uint8. Range [-0.9795401692390442, 0.9754083156585693]. Convert image to uint8 prior to saving to suppress this warning.\n"
     ]
    },
    {
     "name": "stdout",
     "output_type": "stream",
     "text": [
      "LR size: [435, 510] /  generated HR size: (1, 1740, 2040, 3)\n"
     ]
    },
    {
     "name": "stderr",
     "output_type": "stream",
     "text": [
      "Lossy conversion from float32 to uint8. Range [-0.9795401692390442, 0.9754083156585693]. Convert image to uint8 prior to saving to suppress this warning.\n"
     ]
    },
    {
     "name": "stdout",
     "output_type": "stream",
     "text": [
      "LR size: [435, 510] /  generated HR size: (1, 1740, 2040, 3)\n"
     ]
    },
    {
     "name": "stderr",
     "output_type": "stream",
     "text": [
      "Lossy conversion from float32 to uint8. Range [-0.9795401692390442, 0.9754083156585693]. Convert image to uint8 prior to saving to suppress this warning.\n"
     ]
    },
    {
     "name": "stdout",
     "output_type": "stream",
     "text": [
      "LR size: [435, 510] /  generated HR size: (1, 1740, 2040, 3)\n"
     ]
    },
    {
     "name": "stderr",
     "output_type": "stream",
     "text": [
      "Lossy conversion from float32 to uint8. Range [-0.9795401692390442, 0.9754083156585693]. Convert image to uint8 prior to saving to suppress this warning.\n"
     ]
    },
    {
     "name": "stdout",
     "output_type": "stream",
     "text": [
      "LR size: [435, 510] /  generated HR size: (1, 1740, 2040, 3)\n"
     ]
    },
    {
     "name": "stderr",
     "output_type": "stream",
     "text": [
      "Lossy conversion from float32 to uint8. Range [-0.9795401692390442, 0.9754083156585693]. Convert image to uint8 prior to saving to suppress this warning.\n"
     ]
    },
    {
     "name": "stdout",
     "output_type": "stream",
     "text": [
      "LR size: [435, 510] /  generated HR size: (1, 1740, 2040, 3)\n"
     ]
    },
    {
     "name": "stderr",
     "output_type": "stream",
     "text": [
      "Lossy conversion from float32 to uint8. Range [-0.9795401692390442, 0.9754083156585693]. Convert image to uint8 prior to saving to suppress this warning.\n"
     ]
    },
    {
     "name": "stdout",
     "output_type": "stream",
     "text": [
      "LR size: [435, 510] /  generated HR size: (1, 1740, 2040, 3)\n"
     ]
    },
    {
     "name": "stderr",
     "output_type": "stream",
     "text": [
      "Lossy conversion from float32 to uint8. Range [-0.9795401692390442, 0.9754083156585693]. Convert image to uint8 prior to saving to suppress this warning.\n"
     ]
    },
    {
     "name": "stdout",
     "output_type": "stream",
     "text": [
      "LR size: [435, 510] /  generated HR size: (1, 1740, 2040, 3)\n"
     ]
    },
    {
     "name": "stderr",
     "output_type": "stream",
     "text": [
      "Lossy conversion from float32 to uint8. Range [-0.9795401692390442, 0.9754083156585693]. Convert image to uint8 prior to saving to suppress this warning.\n"
     ]
    },
    {
     "name": "stdout",
     "output_type": "stream",
     "text": [
      "LR size: [435, 510] /  generated HR size: (1, 1740, 2040, 3)\n"
     ]
    },
    {
     "name": "stderr",
     "output_type": "stream",
     "text": [
      "Lossy conversion from float32 to uint8. Range [-0.9795401692390442, 0.9754083156585693]. Convert image to uint8 prior to saving to suppress this warning.\n"
     ]
    },
    {
     "name": "stdout",
     "output_type": "stream",
     "text": [
      "LR size: [435, 510] /  generated HR size: (1, 1740, 2040, 3)\n"
     ]
    },
    {
     "name": "stderr",
     "output_type": "stream",
     "text": [
      "Lossy conversion from float32 to uint8. Range [-0.9795401692390442, 0.9754083156585693]. Convert image to uint8 prior to saving to suppress this warning.\n"
     ]
    },
    {
     "name": "stdout",
     "output_type": "stream",
     "text": [
      "LR size: [435, 510] /  generated HR size: (1, 1740, 2040, 3)\n"
     ]
    },
    {
     "name": "stderr",
     "output_type": "stream",
     "text": [
      "Lossy conversion from float32 to uint8. Range [-0.9795401692390442, 0.9754083156585693]. Convert image to uint8 prior to saving to suppress this warning.\n"
     ]
    },
    {
     "name": "stdout",
     "output_type": "stream",
     "text": [
      "LR size: [435, 510] /  generated HR size: (1, 1740, 2040, 3)\n"
     ]
    },
    {
     "name": "stderr",
     "output_type": "stream",
     "text": [
      "Lossy conversion from float32 to uint8. Range [-0.9795401692390442, 0.9754083156585693]. Convert image to uint8 prior to saving to suppress this warning.\n"
     ]
    },
    {
     "name": "stdout",
     "output_type": "stream",
     "text": [
      "LR size: [435, 510] /  generated HR size: (1, 1740, 2040, 3)\n"
     ]
    },
    {
     "name": "stderr",
     "output_type": "stream",
     "text": [
      "Lossy conversion from float32 to uint8. Range [-0.9795401692390442, 0.9754083156585693]. Convert image to uint8 prior to saving to suppress this warning.\n"
     ]
    },
    {
     "name": "stdout",
     "output_type": "stream",
     "text": [
      "LR size: [435, 510] /  generated HR size: (1, 1740, 2040, 3)\n"
     ]
    },
    {
     "name": "stderr",
     "output_type": "stream",
     "text": [
      "Lossy conversion from float32 to uint8. Range [-0.9795401692390442, 0.9754083156585693]. Convert image to uint8 prior to saving to suppress this warning.\n"
     ]
    },
    {
     "name": "stdout",
     "output_type": "stream",
     "text": [
      "LR size: [435, 510] /  generated HR size: (1, 1740, 2040, 3)\n"
     ]
    },
    {
     "name": "stderr",
     "output_type": "stream",
     "text": [
      "Lossy conversion from float32 to uint8. Range [-0.9795401692390442, 0.9754083156585693]. Convert image to uint8 prior to saving to suppress this warning.\n"
     ]
    },
    {
     "name": "stdout",
     "output_type": "stream",
     "text": [
      "LR size: [435, 510] /  generated HR size: (1, 1740, 2040, 3)\n"
     ]
    },
    {
     "name": "stderr",
     "output_type": "stream",
     "text": [
      "Lossy conversion from float32 to uint8. Range [-0.9795401692390442, 0.9754083156585693]. Convert image to uint8 prior to saving to suppress this warning.\n"
     ]
    },
    {
     "name": "stdout",
     "output_type": "stream",
     "text": [
      "LR size: [435, 510] /  generated HR size: (1, 1740, 2040, 3)\n"
     ]
    },
    {
     "name": "stderr",
     "output_type": "stream",
     "text": [
      "Lossy conversion from float32 to uint8. Range [-0.9795401692390442, 0.9754083156585693]. Convert image to uint8 prior to saving to suppress this warning.\n"
     ]
    },
    {
     "name": "stdout",
     "output_type": "stream",
     "text": [
      "LR size: [435, 510] /  generated HR size: (1, 1740, 2040, 3)\n"
     ]
    },
    {
     "name": "stderr",
     "output_type": "stream",
     "text": [
      "Lossy conversion from float32 to uint8. Range [-0.9795401692390442, 0.9754083156585693]. Convert image to uint8 prior to saving to suppress this warning.\n"
     ]
    },
    {
     "name": "stdout",
     "output_type": "stream",
     "text": [
      "LR size: [435, 510] /  generated HR size: (1, 1740, 2040, 3)\n"
     ]
    },
    {
     "name": "stderr",
     "output_type": "stream",
     "text": [
      "Lossy conversion from float32 to uint8. Range [-0.9795401692390442, 0.9754083156585693]. Convert image to uint8 prior to saving to suppress this warning.\n"
     ]
    },
    {
     "name": "stdout",
     "output_type": "stream",
     "text": [
      "LR size: [435, 510] /  generated HR size: (1, 1740, 2040, 3)\n"
     ]
    },
    {
     "name": "stderr",
     "output_type": "stream",
     "text": [
      "Lossy conversion from float32 to uint8. Range [-0.9795401692390442, 0.9754083156585693]. Convert image to uint8 prior to saving to suppress this warning.\n"
     ]
    },
    {
     "name": "stdout",
     "output_type": "stream",
     "text": [
      "LR size: [435, 510] /  generated HR size: (1, 1740, 2040, 3)\n"
     ]
    },
    {
     "name": "stderr",
     "output_type": "stream",
     "text": [
      "Lossy conversion from float32 to uint8. Range [-0.9795401692390442, 0.9754083156585693]. Convert image to uint8 prior to saving to suppress this warning.\n"
     ]
    },
    {
     "name": "stdout",
     "output_type": "stream",
     "text": [
      "LR size: [435, 510] /  generated HR size: (1, 1740, 2040, 3)\n"
     ]
    },
    {
     "name": "stderr",
     "output_type": "stream",
     "text": [
      "Lossy conversion from float32 to uint8. Range [-0.9795401692390442, 0.9754083156585693]. Convert image to uint8 prior to saving to suppress this warning.\n"
     ]
    },
    {
     "name": "stdout",
     "output_type": "stream",
     "text": [
      "LR size: [435, 510] /  generated HR size: (1, 1740, 2040, 3)\n"
     ]
    },
    {
     "name": "stderr",
     "output_type": "stream",
     "text": [
      "Lossy conversion from float32 to uint8. Range [-0.9795401692390442, 0.9754083156585693]. Convert image to uint8 prior to saving to suppress this warning.\n"
     ]
    },
    {
     "name": "stdout",
     "output_type": "stream",
     "text": [
      "LR size: [435, 510] /  generated HR size: (1, 1740, 2040, 3)\n"
     ]
    },
    {
     "name": "stderr",
     "output_type": "stream",
     "text": [
      "Lossy conversion from float32 to uint8. Range [-0.9795401692390442, 0.9754083156585693]. Convert image to uint8 prior to saving to suppress this warning.\n"
     ]
    },
    {
     "name": "stdout",
     "output_type": "stream",
     "text": [
      "LR size: [435, 510] /  generated HR size: (1, 1740, 2040, 3)\n"
     ]
    },
    {
     "name": "stderr",
     "output_type": "stream",
     "text": [
      "Lossy conversion from float32 to uint8. Range [-0.9795401692390442, 0.9754083156585693]. Convert image to uint8 prior to saving to suppress this warning.\n"
     ]
    },
    {
     "name": "stdout",
     "output_type": "stream",
     "text": [
      "LR size: [435, 510] /  generated HR size: (1, 1740, 2040, 3)\n"
     ]
    },
    {
     "name": "stderr",
     "output_type": "stream",
     "text": [
      "Lossy conversion from float32 to uint8. Range [-0.9795401692390442, 0.9754083156585693]. Convert image to uint8 prior to saving to suppress this warning.\n"
     ]
    },
    {
     "name": "stdout",
     "output_type": "stream",
     "text": [
      "LR size: [435, 510] /  generated HR size: (1, 1740, 2040, 3)\n"
     ]
    },
    {
     "name": "stderr",
     "output_type": "stream",
     "text": [
      "Lossy conversion from float32 to uint8. Range [-0.9795401692390442, 0.9754083156585693]. Convert image to uint8 prior to saving to suppress this warning.\n"
     ]
    },
    {
     "name": "stdout",
     "output_type": "stream",
     "text": [
      "LR size: [435, 510] /  generated HR size: (1, 1740, 2040, 3)\n"
     ]
    },
    {
     "name": "stderr",
     "output_type": "stream",
     "text": [
      "Lossy conversion from float32 to uint8. Range [-0.9795401692390442, 0.9754083156585693]. Convert image to uint8 prior to saving to suppress this warning.\n"
     ]
    },
    {
     "name": "stdout",
     "output_type": "stream",
     "text": [
      "LR size: [435, 510] /  generated HR size: (1, 1740, 2040, 3)\n"
     ]
    },
    {
     "name": "stderr",
     "output_type": "stream",
     "text": [
      "Lossy conversion from float32 to uint8. Range [-0.9795401692390442, 0.9754083156585693]. Convert image to uint8 prior to saving to suppress this warning.\n"
     ]
    },
    {
     "name": "stdout",
     "output_type": "stream",
     "text": [
      "LR size: [435, 510] /  generated HR size: (1, 1740, 2040, 3)\n"
     ]
    },
    {
     "name": "stderr",
     "output_type": "stream",
     "text": [
      "Lossy conversion from float32 to uint8. Range [-0.9795401692390442, 0.9754083156585693]. Convert image to uint8 prior to saving to suppress this warning.\n"
     ]
    },
    {
     "name": "stdout",
     "output_type": "stream",
     "text": [
      "LR size: [435, 510] /  generated HR size: (1, 1740, 2040, 3)\n"
     ]
    },
    {
     "name": "stderr",
     "output_type": "stream",
     "text": [
      "Lossy conversion from float32 to uint8. Range [-0.9795401692390442, 0.9754083156585693]. Convert image to uint8 prior to saving to suppress this warning.\n"
     ]
    },
    {
     "name": "stdout",
     "output_type": "stream",
     "text": [
      "LR size: [435, 510] /  generated HR size: (1, 1740, 2040, 3)\n"
     ]
    },
    {
     "name": "stderr",
     "output_type": "stream",
     "text": [
      "Lossy conversion from float32 to uint8. Range [-0.9795401692390442, 0.9754083156585693]. Convert image to uint8 prior to saving to suppress this warning.\n"
     ]
    },
    {
     "name": "stdout",
     "output_type": "stream",
     "text": [
      "LR size: [435, 510] /  generated HR size: (1, 1740, 2040, 3)\n"
     ]
    },
    {
     "name": "stderr",
     "output_type": "stream",
     "text": [
      "Lossy conversion from float32 to uint8. Range [-0.9795401692390442, 0.9754083156585693]. Convert image to uint8 prior to saving to suppress this warning.\n"
     ]
    },
    {
     "name": "stdout",
     "output_type": "stream",
     "text": [
      "LR size: [435, 510] /  generated HR size: (1, 1740, 2040, 3)\n"
     ]
    },
    {
     "name": "stderr",
     "output_type": "stream",
     "text": [
      "Lossy conversion from float32 to uint8. Range [-0.9795401692390442, 0.9754083156585693]. Convert image to uint8 prior to saving to suppress this warning.\n"
     ]
    },
    {
     "name": "stdout",
     "output_type": "stream",
     "text": [
      "LR size: [435, 510] /  generated HR size: (1, 1740, 2040, 3)\n"
     ]
    },
    {
     "name": "stderr",
     "output_type": "stream",
     "text": [
      "Lossy conversion from float32 to uint8. Range [-0.9795401692390442, 0.9754083156585693]. Convert image to uint8 prior to saving to suppress this warning.\n"
     ]
    },
    {
     "name": "stdout",
     "output_type": "stream",
     "text": [
      "LR size: [435, 510] /  generated HR size: (1, 1740, 2040, 3)\n"
     ]
    },
    {
     "name": "stderr",
     "output_type": "stream",
     "text": [
      "Lossy conversion from float32 to uint8. Range [-0.9795401692390442, 0.9754083156585693]. Convert image to uint8 prior to saving to suppress this warning.\n"
     ]
    },
    {
     "name": "stdout",
     "output_type": "stream",
     "text": [
      "LR size: [435, 510] /  generated HR size: (1, 1740, 2040, 3)\n"
     ]
    },
    {
     "name": "stderr",
     "output_type": "stream",
     "text": [
      "Lossy conversion from float32 to uint8. Range [-0.9795401692390442, 0.9754083156585693]. Convert image to uint8 prior to saving to suppress this warning.\n"
     ]
    },
    {
     "name": "stdout",
     "output_type": "stream",
     "text": [
      "LR size: [435, 510] /  generated HR size: (1, 1740, 2040, 3)\n"
     ]
    },
    {
     "name": "stderr",
     "output_type": "stream",
     "text": [
      "Lossy conversion from float32 to uint8. Range [-0.9795401692390442, 0.9754083156585693]. Convert image to uint8 prior to saving to suppress this warning.\n"
     ]
    },
    {
     "name": "stdout",
     "output_type": "stream",
     "text": [
      "LR size: [435, 510] /  generated HR size: (1, 1740, 2040, 3)\n"
     ]
    },
    {
     "name": "stderr",
     "output_type": "stream",
     "text": [
      "Lossy conversion from float32 to uint8. Range [-0.9795401692390442, 0.9754083156585693]. Convert image to uint8 prior to saving to suppress this warning.\n"
     ]
    },
    {
     "name": "stdout",
     "output_type": "stream",
     "text": [
      "LR size: [435, 510] /  generated HR size: (1, 1740, 2040, 3)\n"
     ]
    },
    {
     "name": "stderr",
     "output_type": "stream",
     "text": [
      "Lossy conversion from float32 to uint8. Range [-0.9795401692390442, 0.9754083156585693]. Convert image to uint8 prior to saving to suppress this warning.\n"
     ]
    },
    {
     "name": "stdout",
     "output_type": "stream",
     "text": [
      "LR size: [435, 510] /  generated HR size: (1, 1740, 2040, 3)\n"
     ]
    },
    {
     "name": "stderr",
     "output_type": "stream",
     "text": [
      "Lossy conversion from float32 to uint8. Range [-0.9795401692390442, 0.9754083156585693]. Convert image to uint8 prior to saving to suppress this warning.\n"
     ]
    },
    {
     "name": "stdout",
     "output_type": "stream",
     "text": [
      "LR size: [435, 510] /  generated HR size: (1, 1740, 2040, 3)\n"
     ]
    },
    {
     "name": "stderr",
     "output_type": "stream",
     "text": [
      "Lossy conversion from float32 to uint8. Range [-0.9795401692390442, 0.9754083156585693]. Convert image to uint8 prior to saving to suppress this warning.\n"
     ]
    },
    {
     "name": "stdout",
     "output_type": "stream",
     "text": [
      "LR size: [435, 510] /  generated HR size: (1, 1740, 2040, 3)\n"
     ]
    },
    {
     "name": "stderr",
     "output_type": "stream",
     "text": [
      "Lossy conversion from float32 to uint8. Range [-0.9795401692390442, 0.9754083156585693]. Convert image to uint8 prior to saving to suppress this warning.\n"
     ]
    },
    {
     "name": "stdout",
     "output_type": "stream",
     "text": [
      "LR size: [435, 510] /  generated HR size: (1, 1740, 2040, 3)\n"
     ]
    },
    {
     "name": "stderr",
     "output_type": "stream",
     "text": [
      "Lossy conversion from float32 to uint8. Range [-0.9795401692390442, 0.9754083156585693]. Convert image to uint8 prior to saving to suppress this warning.\n"
     ]
    },
    {
     "name": "stdout",
     "output_type": "stream",
     "text": [
      "LR size: [435, 510] /  generated HR size: (1, 1740, 2040, 3)\n"
     ]
    },
    {
     "name": "stderr",
     "output_type": "stream",
     "text": [
      "Lossy conversion from float32 to uint8. Range [-0.9795401692390442, 0.9754083156585693]. Convert image to uint8 prior to saving to suppress this warning.\n"
     ]
    },
    {
     "name": "stdout",
     "output_type": "stream",
     "text": [
      "LR size: [435, 510] /  generated HR size: (1, 1740, 2040, 3)\n"
     ]
    },
    {
     "name": "stderr",
     "output_type": "stream",
     "text": [
      "Lossy conversion from float32 to uint8. Range [-0.9795401692390442, 0.9754083156585693]. Convert image to uint8 prior to saving to suppress this warning.\n"
     ]
    },
    {
     "name": "stdout",
     "output_type": "stream",
     "text": [
      "LR size: [435, 510] /  generated HR size: (1, 1740, 2040, 3)\n"
     ]
    },
    {
     "name": "stderr",
     "output_type": "stream",
     "text": [
      "Lossy conversion from float32 to uint8. Range [-0.9795401692390442, 0.9754083156585693]. Convert image to uint8 prior to saving to suppress this warning.\n"
     ]
    },
    {
     "name": "stdout",
     "output_type": "stream",
     "text": [
      "LR size: [435, 510] /  generated HR size: (1, 1740, 2040, 3)\n"
     ]
    },
    {
     "name": "stderr",
     "output_type": "stream",
     "text": [
      "Lossy conversion from float32 to uint8. Range [-0.9795401692390442, 0.9754083156585693]. Convert image to uint8 prior to saving to suppress this warning.\n"
     ]
    },
    {
     "name": "stdout",
     "output_type": "stream",
     "text": [
      "LR size: [435, 510] /  generated HR size: (1, 1740, 2040, 3)\n"
     ]
    },
    {
     "name": "stderr",
     "output_type": "stream",
     "text": [
      "Lossy conversion from float32 to uint8. Range [-0.9795401692390442, 0.9754083156585693]. Convert image to uint8 prior to saving to suppress this warning.\n"
     ]
    },
    {
     "name": "stdout",
     "output_type": "stream",
     "text": [
      "LR size: [435, 510] /  generated HR size: (1, 1740, 2040, 3)\n"
     ]
    },
    {
     "name": "stderr",
     "output_type": "stream",
     "text": [
      "Lossy conversion from float32 to uint8. Range [-0.9795401692390442, 0.9754083156585693]. Convert image to uint8 prior to saving to suppress this warning.\n"
     ]
    },
    {
     "name": "stdout",
     "output_type": "stream",
     "text": [
      "LR size: [435, 510] /  generated HR size: (1, 1740, 2040, 3)\n"
     ]
    },
    {
     "name": "stderr",
     "output_type": "stream",
     "text": [
      "Lossy conversion from float32 to uint8. Range [-0.9795401692390442, 0.9754083156585693]. Convert image to uint8 prior to saving to suppress this warning.\n"
     ]
    },
    {
     "name": "stdout",
     "output_type": "stream",
     "text": [
      "LR size: [435, 510] /  generated HR size: (1, 1740, 2040, 3)\n"
     ]
    },
    {
     "name": "stderr",
     "output_type": "stream",
     "text": [
      "Lossy conversion from float32 to uint8. Range [-0.9795401692390442, 0.9754083156585693]. Convert image to uint8 prior to saving to suppress this warning.\n"
     ]
    },
    {
     "name": "stdout",
     "output_type": "stream",
     "text": [
      "LR size: [435, 510] /  generated HR size: (1, 1740, 2040, 3)\n"
     ]
    },
    {
     "name": "stderr",
     "output_type": "stream",
     "text": [
      "Lossy conversion from float32 to uint8. Range [-0.9795401692390442, 0.9754083156585693]. Convert image to uint8 prior to saving to suppress this warning.\n"
     ]
    },
    {
     "name": "stdout",
     "output_type": "stream",
     "text": [
      "LR size: [435, 510] /  generated HR size: (1, 1740, 2040, 3)\n"
     ]
    },
    {
     "name": "stderr",
     "output_type": "stream",
     "text": [
      "Lossy conversion from float32 to uint8. Range [-0.9795401692390442, 0.9754083156585693]. Convert image to uint8 prior to saving to suppress this warning.\n"
     ]
    },
    {
     "name": "stdout",
     "output_type": "stream",
     "text": [
      "LR size: [435, 510] /  generated HR size: (1, 1740, 2040, 3)\n"
     ]
    },
    {
     "name": "stderr",
     "output_type": "stream",
     "text": [
      "Lossy conversion from float32 to uint8. Range [-0.9795401692390442, 0.9754083156585693]. Convert image to uint8 prior to saving to suppress this warning.\n"
     ]
    },
    {
     "name": "stdout",
     "output_type": "stream",
     "text": [
      "LR size: [435, 510] /  generated HR size: (1, 1740, 2040, 3)\n"
     ]
    },
    {
     "name": "stderr",
     "output_type": "stream",
     "text": [
      "Lossy conversion from float32 to uint8. Range [-0.9795401692390442, 0.9754083156585693]. Convert image to uint8 prior to saving to suppress this warning.\n"
     ]
    },
    {
     "name": "stdout",
     "output_type": "stream",
     "text": [
      "LR size: [435, 510] /  generated HR size: (1, 1740, 2040, 3)\n"
     ]
    },
    {
     "name": "stderr",
     "output_type": "stream",
     "text": [
      "Lossy conversion from float32 to uint8. Range [-0.9795401692390442, 0.9754083156585693]. Convert image to uint8 prior to saving to suppress this warning.\n"
     ]
    },
    {
     "name": "stdout",
     "output_type": "stream",
     "text": [
      "LR size: [435, 510] /  generated HR size: (1, 1740, 2040, 3)\n"
     ]
    },
    {
     "name": "stderr",
     "output_type": "stream",
     "text": [
      "Lossy conversion from float32 to uint8. Range [-0.9795401692390442, 0.9754083156585693]. Convert image to uint8 prior to saving to suppress this warning.\n"
     ]
    },
    {
     "name": "stdout",
     "output_type": "stream",
     "text": [
      "LR size: [435, 510] /  generated HR size: (1, 1740, 2040, 3)\n"
     ]
    },
    {
     "name": "stderr",
     "output_type": "stream",
     "text": [
      "Lossy conversion from float32 to uint8. Range [-0.9795401692390442, 0.9754083156585693]. Convert image to uint8 prior to saving to suppress this warning.\n"
     ]
    },
    {
     "name": "stdout",
     "output_type": "stream",
     "text": [
      "LR size: [435, 510] /  generated HR size: (1, 1740, 2040, 3)\n"
     ]
    },
    {
     "name": "stderr",
     "output_type": "stream",
     "text": [
      "Lossy conversion from float32 to uint8. Range [-0.9795401692390442, 0.9754083156585693]. Convert image to uint8 prior to saving to suppress this warning.\n"
     ]
    },
    {
     "name": "stdout",
     "output_type": "stream",
     "text": [
      "LR size: [435, 510] /  generated HR size: (1, 1740, 2040, 3)\n"
     ]
    },
    {
     "name": "stderr",
     "output_type": "stream",
     "text": [
      "Lossy conversion from float32 to uint8. Range [-0.9795401692390442, 0.9754083156585693]. Convert image to uint8 prior to saving to suppress this warning.\n"
     ]
    },
    {
     "name": "stdout",
     "output_type": "stream",
     "text": [
      "LR size: [435, 510] /  generated HR size: (1, 1740, 2040, 3)\n"
     ]
    },
    {
     "name": "stderr",
     "output_type": "stream",
     "text": [
      "Lossy conversion from float32 to uint8. Range [-0.9795401692390442, 0.9754083156585693]. Convert image to uint8 prior to saving to suppress this warning.\n"
     ]
    },
    {
     "name": "stdout",
     "output_type": "stream",
     "text": [
      "LR size: [435, 510] /  generated HR size: (1, 1740, 2040, 3)\n"
     ]
    },
    {
     "name": "stderr",
     "output_type": "stream",
     "text": [
      "Lossy conversion from float32 to uint8. Range [-0.9795401692390442, 0.9754083156585693]. Convert image to uint8 prior to saving to suppress this warning.\n"
     ]
    },
    {
     "name": "stdout",
     "output_type": "stream",
     "text": [
      "LR size: [435, 510] /  generated HR size: (1, 1740, 2040, 3)\n"
     ]
    },
    {
     "name": "stderr",
     "output_type": "stream",
     "text": [
      "Lossy conversion from float32 to uint8. Range [-0.9795401692390442, 0.9754083156585693]. Convert image to uint8 prior to saving to suppress this warning.\n"
     ]
    },
    {
     "name": "stdout",
     "output_type": "stream",
     "text": [
      "LR size: [435, 510] /  generated HR size: (1, 1740, 2040, 3)\n"
     ]
    },
    {
     "name": "stderr",
     "output_type": "stream",
     "text": [
      "Lossy conversion from float32 to uint8. Range [-0.9795401692390442, 0.9754083156585693]. Convert image to uint8 prior to saving to suppress this warning.\n"
     ]
    },
    {
     "name": "stdout",
     "output_type": "stream",
     "text": [
      "LR size: [435, 510] /  generated HR size: (1, 1740, 2040, 3)\n"
     ]
    },
    {
     "name": "stderr",
     "output_type": "stream",
     "text": [
      "Lossy conversion from float32 to uint8. Range [-0.9795401692390442, 0.9754083156585693]. Convert image to uint8 prior to saving to suppress this warning.\n"
     ]
    },
    {
     "name": "stdout",
     "output_type": "stream",
     "text": [
      "LR size: [435, 510] /  generated HR size: (1, 1740, 2040, 3)\n"
     ]
    },
    {
     "name": "stderr",
     "output_type": "stream",
     "text": [
      "Lossy conversion from float32 to uint8. Range [-0.9795401692390442, 0.9754083156585693]. Convert image to uint8 prior to saving to suppress this warning.\n"
     ]
    },
    {
     "name": "stdout",
     "output_type": "stream",
     "text": [
      "LR size: [435, 510] /  generated HR size: (1, 1740, 2040, 3)\n"
     ]
    },
    {
     "name": "stderr",
     "output_type": "stream",
     "text": [
      "Lossy conversion from float32 to uint8. Range [-0.9795401692390442, 0.9754083156585693]. Convert image to uint8 prior to saving to suppress this warning.\n"
     ]
    },
    {
     "name": "stdout",
     "output_type": "stream",
     "text": [
      "LR size: [435, 510] /  generated HR size: (1, 1740, 2040, 3)\n"
     ]
    },
    {
     "name": "stderr",
     "output_type": "stream",
     "text": [
      "Lossy conversion from float32 to uint8. Range [-0.9795401692390442, 0.9754083156585693]. Convert image to uint8 prior to saving to suppress this warning.\n"
     ]
    },
    {
     "name": "stdout",
     "output_type": "stream",
     "text": [
      "LR size: [435, 510] /  generated HR size: (1, 1740, 2040, 3)\n"
     ]
    },
    {
     "name": "stderr",
     "output_type": "stream",
     "text": [
      "Lossy conversion from float32 to uint8. Range [-0.9795401692390442, 0.9754083156585693]. Convert image to uint8 prior to saving to suppress this warning.\n"
     ]
    },
    {
     "name": "stdout",
     "output_type": "stream",
     "text": [
      "LR size: [435, 510] /  generated HR size: (1, 1740, 2040, 3)\n"
     ]
    },
    {
     "name": "stderr",
     "output_type": "stream",
     "text": [
      "Lossy conversion from float32 to uint8. Range [-0.9795401692390442, 0.9754083156585693]. Convert image to uint8 prior to saving to suppress this warning.\n"
     ]
    },
    {
     "name": "stdout",
     "output_type": "stream",
     "text": [
      "LR size: [435, 510] /  generated HR size: (1, 1740, 2040, 3)\n"
     ]
    },
    {
     "name": "stderr",
     "output_type": "stream",
     "text": [
      "Lossy conversion from float32 to uint8. Range [-0.9795401692390442, 0.9754083156585693]. Convert image to uint8 prior to saving to suppress this warning.\n"
     ]
    },
    {
     "name": "stdout",
     "output_type": "stream",
     "text": [
      "LR size: [435, 510] /  generated HR size: (1, 1740, 2040, 3)\n"
     ]
    },
    {
     "name": "stderr",
     "output_type": "stream",
     "text": [
      "Lossy conversion from float32 to uint8. Range [-0.9795401692390442, 0.9754083156585693]. Convert image to uint8 prior to saving to suppress this warning.\n"
     ]
    },
    {
     "name": "stdout",
     "output_type": "stream",
     "text": [
      "LR size: [435, 510] /  generated HR size: (1, 1740, 2040, 3)\n"
     ]
    },
    {
     "name": "stderr",
     "output_type": "stream",
     "text": [
      "Lossy conversion from float32 to uint8. Range [-0.9795401692390442, 0.9754083156585693]. Convert image to uint8 prior to saving to suppress this warning.\n"
     ]
    },
    {
     "name": "stdout",
     "output_type": "stream",
     "text": [
      "LR size: [435, 510] /  generated HR size: (1, 1740, 2040, 3)\n"
     ]
    },
    {
     "name": "stderr",
     "output_type": "stream",
     "text": [
      "Lossy conversion from float32 to uint8. Range [-0.9795401692390442, 0.9754083156585693]. Convert image to uint8 prior to saving to suppress this warning.\n"
     ]
    },
    {
     "name": "stdout",
     "output_type": "stream",
     "text": [
      "LR size: [435, 510] /  generated HR size: (1, 1740, 2040, 3)\n"
     ]
    },
    {
     "name": "stderr",
     "output_type": "stream",
     "text": [
      "Lossy conversion from float32 to uint8. Range [-0.9795401692390442, 0.9754083156585693]. Convert image to uint8 prior to saving to suppress this warning.\n"
     ]
    },
    {
     "name": "stdout",
     "output_type": "stream",
     "text": [
      "LR size: [435, 510] /  generated HR size: (1, 1740, 2040, 3)\n"
     ]
    },
    {
     "name": "stderr",
     "output_type": "stream",
     "text": [
      "Lossy conversion from float32 to uint8. Range [-0.9795401692390442, 0.9754083156585693]. Convert image to uint8 prior to saving to suppress this warning.\n"
     ]
    },
    {
     "name": "stdout",
     "output_type": "stream",
     "text": [
      "LR size: [435, 510] /  generated HR size: (1, 1740, 2040, 3)\n"
     ]
    },
    {
     "name": "stderr",
     "output_type": "stream",
     "text": [
      "Lossy conversion from float32 to uint8. Range [-0.9795401692390442, 0.9754083156585693]. Convert image to uint8 prior to saving to suppress this warning.\n"
     ]
    },
    {
     "name": "stdout",
     "output_type": "stream",
     "text": [
      "LR size: [435, 510] /  generated HR size: (1, 1740, 2040, 3)\n"
     ]
    },
    {
     "name": "stderr",
     "output_type": "stream",
     "text": [
      "Lossy conversion from float32 to uint8. Range [-0.9795401692390442, 0.9754083156585693]. Convert image to uint8 prior to saving to suppress this warning.\n"
     ]
    },
    {
     "name": "stdout",
     "output_type": "stream",
     "text": [
      "LR size: [435, 510] /  generated HR size: (1, 1740, 2040, 3)\n"
     ]
    }
   ],
   "source": [
    "l = len(valid_hr_img_list)\n",
    "\n",
    "for image in rand_three(l):\n",
    "    validate_ds_array = []\n",
    "    for model in models:\n",
    "        valid_hr_img = valid_hr_imgs[image]\n",
    "        image_name = valid_hr_img_list[image]\n",
    "        \n",
    "        ev = evaluate_downsample(\"checkpoint\", model, valid_hr_img, image_name, G = G)\n",
    "        \n",
    "#         G = ev.pop(\"G\", G)\n",
    "        validate_ds_array.append(ev) \n",
    "        \n",
    "    with open(\"logs/\" + image_name + \"-ds.json\", mode='w', encoding='utf-8') as f:\n",
    "        json.dump(validate_ds_array, f)\n",
    "    "
   ]
  },
  {
   "cell_type": "code",
   "execution_count": 34,
   "metadata": {},
   "outputs": [
    {
     "data": {
      "text/html": [
       "<div>\n",
       "<style scoped>\n",
       "    .dataframe tbody tr th:only-of-type {\n",
       "        vertical-align: middle;\n",
       "    }\n",
       "\n",
       "    .dataframe tbody tr th {\n",
       "        vertical-align: top;\n",
       "    }\n",
       "\n",
       "    .dataframe thead th {\n",
       "        text-align: right;\n",
       "    }\n",
       "</style>\n",
       "<table border=\"1\" class=\"dataframe\">\n",
       "  <thead>\n",
       "    <tr style=\"text-align: right;\">\n",
       "      <th></th>\n",
       "      <th>model</th>\n",
       "      <th>psnr_bic_hr</th>\n",
       "      <th>psnr_hr</th>\n",
       "      <th>psnr_hr_4</th>\n",
       "      <th>psnr_lr</th>\n",
       "      <th>ssim_bic_hr</th>\n",
       "      <th>ssim_hr</th>\n",
       "      <th>ssim_hr_4</th>\n",
       "      <th>ssim_lr</th>\n",
       "    </tr>\n",
       "  </thead>\n",
       "  <tbody>\n",
       "    <tr>\n",
       "      <th>0</th>\n",
       "      <td>g-10.h5</td>\n",
       "      <td>28.681592</td>\n",
       "      <td>4.627215</td>\n",
       "      <td>4.635659</td>\n",
       "      <td>37.235378</td>\n",
       "      <td>0.856393</td>\n",
       "      <td>-0.002236</td>\n",
       "      <td>-0.000046</td>\n",
       "      <td>0.980715</td>\n",
       "    </tr>\n",
       "    <tr>\n",
       "      <th>1</th>\n",
       "      <td>g-20.h5</td>\n",
       "      <td>28.681592</td>\n",
       "      <td>4.627215</td>\n",
       "      <td>4.635659</td>\n",
       "      <td>37.235378</td>\n",
       "      <td>0.856393</td>\n",
       "      <td>-0.002236</td>\n",
       "      <td>-0.000046</td>\n",
       "      <td>0.980715</td>\n",
       "    </tr>\n",
       "    <tr>\n",
       "      <th>2</th>\n",
       "      <td>g-30.h5</td>\n",
       "      <td>28.681592</td>\n",
       "      <td>4.627215</td>\n",
       "      <td>4.635659</td>\n",
       "      <td>37.235378</td>\n",
       "      <td>0.856393</td>\n",
       "      <td>-0.002236</td>\n",
       "      <td>-0.000046</td>\n",
       "      <td>0.980715</td>\n",
       "    </tr>\n",
       "    <tr>\n",
       "      <th>3</th>\n",
       "      <td>g-40.h5</td>\n",
       "      <td>28.681592</td>\n",
       "      <td>4.627215</td>\n",
       "      <td>4.635659</td>\n",
       "      <td>37.235378</td>\n",
       "      <td>0.856393</td>\n",
       "      <td>-0.002236</td>\n",
       "      <td>-0.000046</td>\n",
       "      <td>0.980715</td>\n",
       "    </tr>\n",
       "    <tr>\n",
       "      <th>4</th>\n",
       "      <td>g-50.h5</td>\n",
       "      <td>28.681592</td>\n",
       "      <td>4.627215</td>\n",
       "      <td>4.635659</td>\n",
       "      <td>37.235378</td>\n",
       "      <td>0.856393</td>\n",
       "      <td>-0.002236</td>\n",
       "      <td>-0.000046</td>\n",
       "      <td>0.980715</td>\n",
       "    </tr>\n",
       "    <tr>\n",
       "      <th>5</th>\n",
       "      <td>g-60.h5</td>\n",
       "      <td>28.681592</td>\n",
       "      <td>4.627215</td>\n",
       "      <td>4.635659</td>\n",
       "      <td>37.235378</td>\n",
       "      <td>0.856393</td>\n",
       "      <td>-0.002236</td>\n",
       "      <td>-0.000046</td>\n",
       "      <td>0.980715</td>\n",
       "    </tr>\n",
       "    <tr>\n",
       "      <th>6</th>\n",
       "      <td>g-70.h5</td>\n",
       "      <td>28.681592</td>\n",
       "      <td>4.627215</td>\n",
       "      <td>4.635659</td>\n",
       "      <td>37.235378</td>\n",
       "      <td>0.856393</td>\n",
       "      <td>-0.002236</td>\n",
       "      <td>-0.000046</td>\n",
       "      <td>0.980715</td>\n",
       "    </tr>\n",
       "    <tr>\n",
       "      <th>7</th>\n",
       "      <td>g-80.h5</td>\n",
       "      <td>28.681592</td>\n",
       "      <td>4.627215</td>\n",
       "      <td>4.635659</td>\n",
       "      <td>37.235378</td>\n",
       "      <td>0.856393</td>\n",
       "      <td>-0.002236</td>\n",
       "      <td>-0.000046</td>\n",
       "      <td>0.980715</td>\n",
       "    </tr>\n",
       "    <tr>\n",
       "      <th>8</th>\n",
       "      <td>g-90.h5</td>\n",
       "      <td>28.681592</td>\n",
       "      <td>4.627215</td>\n",
       "      <td>4.635659</td>\n",
       "      <td>37.235378</td>\n",
       "      <td>0.856393</td>\n",
       "      <td>-0.002236</td>\n",
       "      <td>-0.000046</td>\n",
       "      <td>0.980715</td>\n",
       "    </tr>\n",
       "    <tr>\n",
       "      <th>9</th>\n",
       "      <td>g-100.h5</td>\n",
       "      <td>28.681592</td>\n",
       "      <td>4.627215</td>\n",
       "      <td>4.635659</td>\n",
       "      <td>37.235378</td>\n",
       "      <td>0.856393</td>\n",
       "      <td>-0.002236</td>\n",
       "      <td>-0.000046</td>\n",
       "      <td>0.980715</td>\n",
       "    </tr>\n",
       "    <tr>\n",
       "      <th>10</th>\n",
       "      <td>g-110.h5</td>\n",
       "      <td>28.681592</td>\n",
       "      <td>4.627215</td>\n",
       "      <td>4.635659</td>\n",
       "      <td>37.235378</td>\n",
       "      <td>0.856393</td>\n",
       "      <td>-0.002236</td>\n",
       "      <td>-0.000046</td>\n",
       "      <td>0.980715</td>\n",
       "    </tr>\n",
       "    <tr>\n",
       "      <th>11</th>\n",
       "      <td>g-120.h5</td>\n",
       "      <td>28.681592</td>\n",
       "      <td>4.627215</td>\n",
       "      <td>4.635659</td>\n",
       "      <td>37.235378</td>\n",
       "      <td>0.856393</td>\n",
       "      <td>-0.002236</td>\n",
       "      <td>-0.000046</td>\n",
       "      <td>0.980715</td>\n",
       "    </tr>\n",
       "    <tr>\n",
       "      <th>12</th>\n",
       "      <td>g-130.h5</td>\n",
       "      <td>28.681592</td>\n",
       "      <td>4.627215</td>\n",
       "      <td>4.635659</td>\n",
       "      <td>37.235378</td>\n",
       "      <td>0.856393</td>\n",
       "      <td>-0.002236</td>\n",
       "      <td>-0.000046</td>\n",
       "      <td>0.980715</td>\n",
       "    </tr>\n",
       "    <tr>\n",
       "      <th>13</th>\n",
       "      <td>g-140.h5</td>\n",
       "      <td>28.681592</td>\n",
       "      <td>4.627215</td>\n",
       "      <td>4.635659</td>\n",
       "      <td>37.235378</td>\n",
       "      <td>0.856393</td>\n",
       "      <td>-0.002236</td>\n",
       "      <td>-0.000046</td>\n",
       "      <td>0.980715</td>\n",
       "    </tr>\n",
       "    <tr>\n",
       "      <th>14</th>\n",
       "      <td>g-150.h5</td>\n",
       "      <td>28.681592</td>\n",
       "      <td>4.627215</td>\n",
       "      <td>4.635659</td>\n",
       "      <td>37.235378</td>\n",
       "      <td>0.856393</td>\n",
       "      <td>-0.002236</td>\n",
       "      <td>-0.000046</td>\n",
       "      <td>0.980715</td>\n",
       "    </tr>\n",
       "    <tr>\n",
       "      <th>15</th>\n",
       "      <td>g-160.h5</td>\n",
       "      <td>28.681592</td>\n",
       "      <td>4.627215</td>\n",
       "      <td>4.635659</td>\n",
       "      <td>37.235378</td>\n",
       "      <td>0.856393</td>\n",
       "      <td>-0.002236</td>\n",
       "      <td>-0.000046</td>\n",
       "      <td>0.980715</td>\n",
       "    </tr>\n",
       "    <tr>\n",
       "      <th>16</th>\n",
       "      <td>g-170.h5</td>\n",
       "      <td>28.681592</td>\n",
       "      <td>4.627215</td>\n",
       "      <td>4.635659</td>\n",
       "      <td>37.235378</td>\n",
       "      <td>0.856393</td>\n",
       "      <td>-0.002236</td>\n",
       "      <td>-0.000046</td>\n",
       "      <td>0.980715</td>\n",
       "    </tr>\n",
       "    <tr>\n",
       "      <th>17</th>\n",
       "      <td>g-180.h5</td>\n",
       "      <td>28.681592</td>\n",
       "      <td>4.627215</td>\n",
       "      <td>4.635659</td>\n",
       "      <td>37.235378</td>\n",
       "      <td>0.856393</td>\n",
       "      <td>-0.002236</td>\n",
       "      <td>-0.000046</td>\n",
       "      <td>0.980715</td>\n",
       "    </tr>\n",
       "    <tr>\n",
       "      <th>18</th>\n",
       "      <td>g-190.h5</td>\n",
       "      <td>28.681592</td>\n",
       "      <td>4.627215</td>\n",
       "      <td>4.635659</td>\n",
       "      <td>37.235378</td>\n",
       "      <td>0.856393</td>\n",
       "      <td>-0.002236</td>\n",
       "      <td>-0.000046</td>\n",
       "      <td>0.980715</td>\n",
       "    </tr>\n",
       "    <tr>\n",
       "      <th>19</th>\n",
       "      <td>g-200.h5</td>\n",
       "      <td>28.681592</td>\n",
       "      <td>4.627215</td>\n",
       "      <td>4.635659</td>\n",
       "      <td>37.235378</td>\n",
       "      <td>0.856393</td>\n",
       "      <td>-0.002236</td>\n",
       "      <td>-0.000046</td>\n",
       "      <td>0.980715</td>\n",
       "    </tr>\n",
       "    <tr>\n",
       "      <th>20</th>\n",
       "      <td>g-210.h5</td>\n",
       "      <td>28.681592</td>\n",
       "      <td>4.627215</td>\n",
       "      <td>4.635659</td>\n",
       "      <td>37.235378</td>\n",
       "      <td>0.856393</td>\n",
       "      <td>-0.002236</td>\n",
       "      <td>-0.000046</td>\n",
       "      <td>0.980715</td>\n",
       "    </tr>\n",
       "    <tr>\n",
       "      <th>21</th>\n",
       "      <td>g-220.h5</td>\n",
       "      <td>28.681592</td>\n",
       "      <td>4.627215</td>\n",
       "      <td>4.635659</td>\n",
       "      <td>37.235378</td>\n",
       "      <td>0.856393</td>\n",
       "      <td>-0.002236</td>\n",
       "      <td>-0.000046</td>\n",
       "      <td>0.980715</td>\n",
       "    </tr>\n",
       "    <tr>\n",
       "      <th>22</th>\n",
       "      <td>g-230.h5</td>\n",
       "      <td>28.681592</td>\n",
       "      <td>4.627215</td>\n",
       "      <td>4.635659</td>\n",
       "      <td>37.235378</td>\n",
       "      <td>0.856393</td>\n",
       "      <td>-0.002236</td>\n",
       "      <td>-0.000046</td>\n",
       "      <td>0.980715</td>\n",
       "    </tr>\n",
       "    <tr>\n",
       "      <th>23</th>\n",
       "      <td>g-240.h5</td>\n",
       "      <td>28.681592</td>\n",
       "      <td>4.627215</td>\n",
       "      <td>4.635659</td>\n",
       "      <td>37.235378</td>\n",
       "      <td>0.856393</td>\n",
       "      <td>-0.002236</td>\n",
       "      <td>-0.000046</td>\n",
       "      <td>0.980715</td>\n",
       "    </tr>\n",
       "    <tr>\n",
       "      <th>24</th>\n",
       "      <td>g-250.h5</td>\n",
       "      <td>28.681592</td>\n",
       "      <td>4.627215</td>\n",
       "      <td>4.635659</td>\n",
       "      <td>37.235378</td>\n",
       "      <td>0.856393</td>\n",
       "      <td>-0.002236</td>\n",
       "      <td>-0.000046</td>\n",
       "      <td>0.980715</td>\n",
       "    </tr>\n",
       "    <tr>\n",
       "      <th>25</th>\n",
       "      <td>g-260.h5</td>\n",
       "      <td>28.681592</td>\n",
       "      <td>4.627215</td>\n",
       "      <td>4.635659</td>\n",
       "      <td>37.235378</td>\n",
       "      <td>0.856393</td>\n",
       "      <td>-0.002236</td>\n",
       "      <td>-0.000046</td>\n",
       "      <td>0.980715</td>\n",
       "    </tr>\n",
       "    <tr>\n",
       "      <th>26</th>\n",
       "      <td>g-270.h5</td>\n",
       "      <td>28.681592</td>\n",
       "      <td>4.627215</td>\n",
       "      <td>4.635659</td>\n",
       "      <td>37.235378</td>\n",
       "      <td>0.856393</td>\n",
       "      <td>-0.002236</td>\n",
       "      <td>-0.000046</td>\n",
       "      <td>0.980715</td>\n",
       "    </tr>\n",
       "    <tr>\n",
       "      <th>27</th>\n",
       "      <td>g-280.h5</td>\n",
       "      <td>28.681592</td>\n",
       "      <td>4.627215</td>\n",
       "      <td>4.635659</td>\n",
       "      <td>37.235378</td>\n",
       "      <td>0.856393</td>\n",
       "      <td>-0.002236</td>\n",
       "      <td>-0.000046</td>\n",
       "      <td>0.980715</td>\n",
       "    </tr>\n",
       "    <tr>\n",
       "      <th>28</th>\n",
       "      <td>g-290.h5</td>\n",
       "      <td>28.681592</td>\n",
       "      <td>4.627215</td>\n",
       "      <td>4.635659</td>\n",
       "      <td>37.235378</td>\n",
       "      <td>0.856393</td>\n",
       "      <td>-0.002236</td>\n",
       "      <td>-0.000046</td>\n",
       "      <td>0.980715</td>\n",
       "    </tr>\n",
       "    <tr>\n",
       "      <th>29</th>\n",
       "      <td>g-300.h5</td>\n",
       "      <td>28.681592</td>\n",
       "      <td>4.627215</td>\n",
       "      <td>4.635659</td>\n",
       "      <td>37.235378</td>\n",
       "      <td>0.856393</td>\n",
       "      <td>-0.002236</td>\n",
       "      <td>-0.000046</td>\n",
       "      <td>0.980715</td>\n",
       "    </tr>\n",
       "    <tr>\n",
       "      <th>...</th>\n",
       "      <td>...</td>\n",
       "      <td>...</td>\n",
       "      <td>...</td>\n",
       "      <td>...</td>\n",
       "      <td>...</td>\n",
       "      <td>...</td>\n",
       "      <td>...</td>\n",
       "      <td>...</td>\n",
       "      <td>...</td>\n",
       "    </tr>\n",
       "    <tr>\n",
       "      <th>53</th>\n",
       "      <td>g-540.h5</td>\n",
       "      <td>28.681592</td>\n",
       "      <td>4.627215</td>\n",
       "      <td>4.635659</td>\n",
       "      <td>37.235378</td>\n",
       "      <td>0.856393</td>\n",
       "      <td>-0.002236</td>\n",
       "      <td>-0.000046</td>\n",
       "      <td>0.980715</td>\n",
       "    </tr>\n",
       "    <tr>\n",
       "      <th>54</th>\n",
       "      <td>g-550.h5</td>\n",
       "      <td>28.681592</td>\n",
       "      <td>4.627215</td>\n",
       "      <td>4.635659</td>\n",
       "      <td>37.235378</td>\n",
       "      <td>0.856393</td>\n",
       "      <td>-0.002236</td>\n",
       "      <td>-0.000046</td>\n",
       "      <td>0.980715</td>\n",
       "    </tr>\n",
       "    <tr>\n",
       "      <th>55</th>\n",
       "      <td>g-560.h5</td>\n",
       "      <td>28.681592</td>\n",
       "      <td>4.627215</td>\n",
       "      <td>4.635659</td>\n",
       "      <td>37.235378</td>\n",
       "      <td>0.856393</td>\n",
       "      <td>-0.002236</td>\n",
       "      <td>-0.000046</td>\n",
       "      <td>0.980715</td>\n",
       "    </tr>\n",
       "    <tr>\n",
       "      <th>56</th>\n",
       "      <td>g-570.h5</td>\n",
       "      <td>28.681592</td>\n",
       "      <td>4.627215</td>\n",
       "      <td>4.635659</td>\n",
       "      <td>37.235378</td>\n",
       "      <td>0.856393</td>\n",
       "      <td>-0.002236</td>\n",
       "      <td>-0.000046</td>\n",
       "      <td>0.980715</td>\n",
       "    </tr>\n",
       "    <tr>\n",
       "      <th>57</th>\n",
       "      <td>g-580.h5</td>\n",
       "      <td>28.681592</td>\n",
       "      <td>4.627215</td>\n",
       "      <td>4.635659</td>\n",
       "      <td>37.235378</td>\n",
       "      <td>0.856393</td>\n",
       "      <td>-0.002236</td>\n",
       "      <td>-0.000046</td>\n",
       "      <td>0.980715</td>\n",
       "    </tr>\n",
       "    <tr>\n",
       "      <th>58</th>\n",
       "      <td>g-590.h5</td>\n",
       "      <td>28.681592</td>\n",
       "      <td>4.627215</td>\n",
       "      <td>4.635659</td>\n",
       "      <td>37.235378</td>\n",
       "      <td>0.856393</td>\n",
       "      <td>-0.002236</td>\n",
       "      <td>-0.000046</td>\n",
       "      <td>0.980715</td>\n",
       "    </tr>\n",
       "    <tr>\n",
       "      <th>59</th>\n",
       "      <td>g-600.h5</td>\n",
       "      <td>28.681592</td>\n",
       "      <td>4.627215</td>\n",
       "      <td>4.635659</td>\n",
       "      <td>37.235378</td>\n",
       "      <td>0.856393</td>\n",
       "      <td>-0.002236</td>\n",
       "      <td>-0.000046</td>\n",
       "      <td>0.980715</td>\n",
       "    </tr>\n",
       "    <tr>\n",
       "      <th>60</th>\n",
       "      <td>g-610.h5</td>\n",
       "      <td>28.681592</td>\n",
       "      <td>4.627215</td>\n",
       "      <td>4.635659</td>\n",
       "      <td>37.235378</td>\n",
       "      <td>0.856393</td>\n",
       "      <td>-0.002236</td>\n",
       "      <td>-0.000046</td>\n",
       "      <td>0.980715</td>\n",
       "    </tr>\n",
       "    <tr>\n",
       "      <th>61</th>\n",
       "      <td>g-620.h5</td>\n",
       "      <td>28.681592</td>\n",
       "      <td>4.627215</td>\n",
       "      <td>4.635659</td>\n",
       "      <td>37.235378</td>\n",
       "      <td>0.856393</td>\n",
       "      <td>-0.002236</td>\n",
       "      <td>-0.000046</td>\n",
       "      <td>0.980715</td>\n",
       "    </tr>\n",
       "    <tr>\n",
       "      <th>62</th>\n",
       "      <td>g-630.h5</td>\n",
       "      <td>28.681592</td>\n",
       "      <td>4.627215</td>\n",
       "      <td>4.635659</td>\n",
       "      <td>37.235378</td>\n",
       "      <td>0.856393</td>\n",
       "      <td>-0.002236</td>\n",
       "      <td>-0.000046</td>\n",
       "      <td>0.980715</td>\n",
       "    </tr>\n",
       "    <tr>\n",
       "      <th>63</th>\n",
       "      <td>g-640.h5</td>\n",
       "      <td>28.681592</td>\n",
       "      <td>4.627215</td>\n",
       "      <td>4.635659</td>\n",
       "      <td>37.235378</td>\n",
       "      <td>0.856393</td>\n",
       "      <td>-0.002236</td>\n",
       "      <td>-0.000046</td>\n",
       "      <td>0.980715</td>\n",
       "    </tr>\n",
       "    <tr>\n",
       "      <th>64</th>\n",
       "      <td>g-650.h5</td>\n",
       "      <td>28.681592</td>\n",
       "      <td>4.627215</td>\n",
       "      <td>4.635659</td>\n",
       "      <td>37.235378</td>\n",
       "      <td>0.856393</td>\n",
       "      <td>-0.002236</td>\n",
       "      <td>-0.000046</td>\n",
       "      <td>0.980715</td>\n",
       "    </tr>\n",
       "    <tr>\n",
       "      <th>65</th>\n",
       "      <td>g-660.h5</td>\n",
       "      <td>28.681592</td>\n",
       "      <td>4.627215</td>\n",
       "      <td>4.635659</td>\n",
       "      <td>37.235378</td>\n",
       "      <td>0.856393</td>\n",
       "      <td>-0.002236</td>\n",
       "      <td>-0.000046</td>\n",
       "      <td>0.980715</td>\n",
       "    </tr>\n",
       "    <tr>\n",
       "      <th>66</th>\n",
       "      <td>g-670.h5</td>\n",
       "      <td>28.681592</td>\n",
       "      <td>4.627215</td>\n",
       "      <td>4.635659</td>\n",
       "      <td>37.235378</td>\n",
       "      <td>0.856393</td>\n",
       "      <td>-0.002236</td>\n",
       "      <td>-0.000046</td>\n",
       "      <td>0.980715</td>\n",
       "    </tr>\n",
       "    <tr>\n",
       "      <th>67</th>\n",
       "      <td>g-680.h5</td>\n",
       "      <td>28.681592</td>\n",
       "      <td>4.627215</td>\n",
       "      <td>4.635659</td>\n",
       "      <td>37.235378</td>\n",
       "      <td>0.856393</td>\n",
       "      <td>-0.002236</td>\n",
       "      <td>-0.000046</td>\n",
       "      <td>0.980715</td>\n",
       "    </tr>\n",
       "    <tr>\n",
       "      <th>68</th>\n",
       "      <td>g-690.h5</td>\n",
       "      <td>28.681592</td>\n",
       "      <td>4.627215</td>\n",
       "      <td>4.635659</td>\n",
       "      <td>37.235378</td>\n",
       "      <td>0.856393</td>\n",
       "      <td>-0.002236</td>\n",
       "      <td>-0.000046</td>\n",
       "      <td>0.980715</td>\n",
       "    </tr>\n",
       "    <tr>\n",
       "      <th>69</th>\n",
       "      <td>g-700.h5</td>\n",
       "      <td>28.681592</td>\n",
       "      <td>4.627215</td>\n",
       "      <td>4.635659</td>\n",
       "      <td>37.235378</td>\n",
       "      <td>0.856393</td>\n",
       "      <td>-0.002236</td>\n",
       "      <td>-0.000046</td>\n",
       "      <td>0.980715</td>\n",
       "    </tr>\n",
       "    <tr>\n",
       "      <th>70</th>\n",
       "      <td>g-710.h5</td>\n",
       "      <td>28.681592</td>\n",
       "      <td>4.627215</td>\n",
       "      <td>4.635659</td>\n",
       "      <td>37.235378</td>\n",
       "      <td>0.856393</td>\n",
       "      <td>-0.002236</td>\n",
       "      <td>-0.000046</td>\n",
       "      <td>0.980715</td>\n",
       "    </tr>\n",
       "    <tr>\n",
       "      <th>71</th>\n",
       "      <td>g-720.h5</td>\n",
       "      <td>28.681592</td>\n",
       "      <td>4.627215</td>\n",
       "      <td>4.635659</td>\n",
       "      <td>37.235378</td>\n",
       "      <td>0.856393</td>\n",
       "      <td>-0.002236</td>\n",
       "      <td>-0.000046</td>\n",
       "      <td>0.980715</td>\n",
       "    </tr>\n",
       "    <tr>\n",
       "      <th>72</th>\n",
       "      <td>g-730.h5</td>\n",
       "      <td>28.681592</td>\n",
       "      <td>4.627215</td>\n",
       "      <td>4.635659</td>\n",
       "      <td>37.235378</td>\n",
       "      <td>0.856393</td>\n",
       "      <td>-0.002236</td>\n",
       "      <td>-0.000046</td>\n",
       "      <td>0.980715</td>\n",
       "    </tr>\n",
       "    <tr>\n",
       "      <th>73</th>\n",
       "      <td>g-740.h5</td>\n",
       "      <td>28.681592</td>\n",
       "      <td>4.627215</td>\n",
       "      <td>4.635659</td>\n",
       "      <td>37.235378</td>\n",
       "      <td>0.856393</td>\n",
       "      <td>-0.002236</td>\n",
       "      <td>-0.000046</td>\n",
       "      <td>0.980715</td>\n",
       "    </tr>\n",
       "    <tr>\n",
       "      <th>74</th>\n",
       "      <td>g-750.h5</td>\n",
       "      <td>28.681592</td>\n",
       "      <td>4.627215</td>\n",
       "      <td>4.635659</td>\n",
       "      <td>37.235378</td>\n",
       "      <td>0.856393</td>\n",
       "      <td>-0.002236</td>\n",
       "      <td>-0.000046</td>\n",
       "      <td>0.980715</td>\n",
       "    </tr>\n",
       "    <tr>\n",
       "      <th>75</th>\n",
       "      <td>g-760.h5</td>\n",
       "      <td>28.681592</td>\n",
       "      <td>4.627215</td>\n",
       "      <td>4.635659</td>\n",
       "      <td>37.235378</td>\n",
       "      <td>0.856393</td>\n",
       "      <td>-0.002236</td>\n",
       "      <td>-0.000046</td>\n",
       "      <td>0.980715</td>\n",
       "    </tr>\n",
       "    <tr>\n",
       "      <th>76</th>\n",
       "      <td>g-770.h5</td>\n",
       "      <td>28.681592</td>\n",
       "      <td>4.627215</td>\n",
       "      <td>4.635659</td>\n",
       "      <td>37.235378</td>\n",
       "      <td>0.856393</td>\n",
       "      <td>-0.002236</td>\n",
       "      <td>-0.000046</td>\n",
       "      <td>0.980715</td>\n",
       "    </tr>\n",
       "    <tr>\n",
       "      <th>77</th>\n",
       "      <td>g-780.h5</td>\n",
       "      <td>28.681592</td>\n",
       "      <td>4.627215</td>\n",
       "      <td>4.635659</td>\n",
       "      <td>37.235378</td>\n",
       "      <td>0.856393</td>\n",
       "      <td>-0.002236</td>\n",
       "      <td>-0.000046</td>\n",
       "      <td>0.980715</td>\n",
       "    </tr>\n",
       "    <tr>\n",
       "      <th>78</th>\n",
       "      <td>g-790.h5</td>\n",
       "      <td>28.681592</td>\n",
       "      <td>4.627215</td>\n",
       "      <td>4.635659</td>\n",
       "      <td>37.235378</td>\n",
       "      <td>0.856393</td>\n",
       "      <td>-0.002236</td>\n",
       "      <td>-0.000046</td>\n",
       "      <td>0.980715</td>\n",
       "    </tr>\n",
       "    <tr>\n",
       "      <th>79</th>\n",
       "      <td>g-800.h5</td>\n",
       "      <td>28.681592</td>\n",
       "      <td>4.627215</td>\n",
       "      <td>4.635659</td>\n",
       "      <td>37.235378</td>\n",
       "      <td>0.856393</td>\n",
       "      <td>-0.002236</td>\n",
       "      <td>-0.000046</td>\n",
       "      <td>0.980715</td>\n",
       "    </tr>\n",
       "    <tr>\n",
       "      <th>80</th>\n",
       "      <td>g-810.h5</td>\n",
       "      <td>28.681592</td>\n",
       "      <td>4.627215</td>\n",
       "      <td>4.635659</td>\n",
       "      <td>37.235378</td>\n",
       "      <td>0.856393</td>\n",
       "      <td>-0.002236</td>\n",
       "      <td>-0.000046</td>\n",
       "      <td>0.980715</td>\n",
       "    </tr>\n",
       "    <tr>\n",
       "      <th>81</th>\n",
       "      <td>g-820.h5</td>\n",
       "      <td>28.681592</td>\n",
       "      <td>4.627215</td>\n",
       "      <td>4.635659</td>\n",
       "      <td>37.235378</td>\n",
       "      <td>0.856393</td>\n",
       "      <td>-0.002236</td>\n",
       "      <td>-0.000046</td>\n",
       "      <td>0.980715</td>\n",
       "    </tr>\n",
       "    <tr>\n",
       "      <th>82</th>\n",
       "      <td>g-830.h5</td>\n",
       "      <td>28.681592</td>\n",
       "      <td>4.627215</td>\n",
       "      <td>4.635659</td>\n",
       "      <td>37.235378</td>\n",
       "      <td>0.856393</td>\n",
       "      <td>-0.002236</td>\n",
       "      <td>-0.000046</td>\n",
       "      <td>0.980715</td>\n",
       "    </tr>\n",
       "  </tbody>\n",
       "</table>\n",
       "<p>83 rows × 9 columns</p>\n",
       "</div>"
      ],
      "text/plain": [
       "       model  psnr_bic_hr   psnr_hr  psnr_hr_4    psnr_lr  ssim_bic_hr  \\\n",
       "0    g-10.h5    28.681592  4.627215   4.635659  37.235378     0.856393   \n",
       "1    g-20.h5    28.681592  4.627215   4.635659  37.235378     0.856393   \n",
       "2    g-30.h5    28.681592  4.627215   4.635659  37.235378     0.856393   \n",
       "3    g-40.h5    28.681592  4.627215   4.635659  37.235378     0.856393   \n",
       "4    g-50.h5    28.681592  4.627215   4.635659  37.235378     0.856393   \n",
       "5    g-60.h5    28.681592  4.627215   4.635659  37.235378     0.856393   \n",
       "6    g-70.h5    28.681592  4.627215   4.635659  37.235378     0.856393   \n",
       "7    g-80.h5    28.681592  4.627215   4.635659  37.235378     0.856393   \n",
       "8    g-90.h5    28.681592  4.627215   4.635659  37.235378     0.856393   \n",
       "9   g-100.h5    28.681592  4.627215   4.635659  37.235378     0.856393   \n",
       "10  g-110.h5    28.681592  4.627215   4.635659  37.235378     0.856393   \n",
       "11  g-120.h5    28.681592  4.627215   4.635659  37.235378     0.856393   \n",
       "12  g-130.h5    28.681592  4.627215   4.635659  37.235378     0.856393   \n",
       "13  g-140.h5    28.681592  4.627215   4.635659  37.235378     0.856393   \n",
       "14  g-150.h5    28.681592  4.627215   4.635659  37.235378     0.856393   \n",
       "15  g-160.h5    28.681592  4.627215   4.635659  37.235378     0.856393   \n",
       "16  g-170.h5    28.681592  4.627215   4.635659  37.235378     0.856393   \n",
       "17  g-180.h5    28.681592  4.627215   4.635659  37.235378     0.856393   \n",
       "18  g-190.h5    28.681592  4.627215   4.635659  37.235378     0.856393   \n",
       "19  g-200.h5    28.681592  4.627215   4.635659  37.235378     0.856393   \n",
       "20  g-210.h5    28.681592  4.627215   4.635659  37.235378     0.856393   \n",
       "21  g-220.h5    28.681592  4.627215   4.635659  37.235378     0.856393   \n",
       "22  g-230.h5    28.681592  4.627215   4.635659  37.235378     0.856393   \n",
       "23  g-240.h5    28.681592  4.627215   4.635659  37.235378     0.856393   \n",
       "24  g-250.h5    28.681592  4.627215   4.635659  37.235378     0.856393   \n",
       "25  g-260.h5    28.681592  4.627215   4.635659  37.235378     0.856393   \n",
       "26  g-270.h5    28.681592  4.627215   4.635659  37.235378     0.856393   \n",
       "27  g-280.h5    28.681592  4.627215   4.635659  37.235378     0.856393   \n",
       "28  g-290.h5    28.681592  4.627215   4.635659  37.235378     0.856393   \n",
       "29  g-300.h5    28.681592  4.627215   4.635659  37.235378     0.856393   \n",
       "..       ...          ...       ...        ...        ...          ...   \n",
       "53  g-540.h5    28.681592  4.627215   4.635659  37.235378     0.856393   \n",
       "54  g-550.h5    28.681592  4.627215   4.635659  37.235378     0.856393   \n",
       "55  g-560.h5    28.681592  4.627215   4.635659  37.235378     0.856393   \n",
       "56  g-570.h5    28.681592  4.627215   4.635659  37.235378     0.856393   \n",
       "57  g-580.h5    28.681592  4.627215   4.635659  37.235378     0.856393   \n",
       "58  g-590.h5    28.681592  4.627215   4.635659  37.235378     0.856393   \n",
       "59  g-600.h5    28.681592  4.627215   4.635659  37.235378     0.856393   \n",
       "60  g-610.h5    28.681592  4.627215   4.635659  37.235378     0.856393   \n",
       "61  g-620.h5    28.681592  4.627215   4.635659  37.235378     0.856393   \n",
       "62  g-630.h5    28.681592  4.627215   4.635659  37.235378     0.856393   \n",
       "63  g-640.h5    28.681592  4.627215   4.635659  37.235378     0.856393   \n",
       "64  g-650.h5    28.681592  4.627215   4.635659  37.235378     0.856393   \n",
       "65  g-660.h5    28.681592  4.627215   4.635659  37.235378     0.856393   \n",
       "66  g-670.h5    28.681592  4.627215   4.635659  37.235378     0.856393   \n",
       "67  g-680.h5    28.681592  4.627215   4.635659  37.235378     0.856393   \n",
       "68  g-690.h5    28.681592  4.627215   4.635659  37.235378     0.856393   \n",
       "69  g-700.h5    28.681592  4.627215   4.635659  37.235378     0.856393   \n",
       "70  g-710.h5    28.681592  4.627215   4.635659  37.235378     0.856393   \n",
       "71  g-720.h5    28.681592  4.627215   4.635659  37.235378     0.856393   \n",
       "72  g-730.h5    28.681592  4.627215   4.635659  37.235378     0.856393   \n",
       "73  g-740.h5    28.681592  4.627215   4.635659  37.235378     0.856393   \n",
       "74  g-750.h5    28.681592  4.627215   4.635659  37.235378     0.856393   \n",
       "75  g-760.h5    28.681592  4.627215   4.635659  37.235378     0.856393   \n",
       "76  g-770.h5    28.681592  4.627215   4.635659  37.235378     0.856393   \n",
       "77  g-780.h5    28.681592  4.627215   4.635659  37.235378     0.856393   \n",
       "78  g-790.h5    28.681592  4.627215   4.635659  37.235378     0.856393   \n",
       "79  g-800.h5    28.681592  4.627215   4.635659  37.235378     0.856393   \n",
       "80  g-810.h5    28.681592  4.627215   4.635659  37.235378     0.856393   \n",
       "81  g-820.h5    28.681592  4.627215   4.635659  37.235378     0.856393   \n",
       "82  g-830.h5    28.681592  4.627215   4.635659  37.235378     0.856393   \n",
       "\n",
       "     ssim_hr  ssim_hr_4   ssim_lr  \n",
       "0  -0.002236  -0.000046  0.980715  \n",
       "1  -0.002236  -0.000046  0.980715  \n",
       "2  -0.002236  -0.000046  0.980715  \n",
       "3  -0.002236  -0.000046  0.980715  \n",
       "4  -0.002236  -0.000046  0.980715  \n",
       "5  -0.002236  -0.000046  0.980715  \n",
       "6  -0.002236  -0.000046  0.980715  \n",
       "7  -0.002236  -0.000046  0.980715  \n",
       "8  -0.002236  -0.000046  0.980715  \n",
       "9  -0.002236  -0.000046  0.980715  \n",
       "10 -0.002236  -0.000046  0.980715  \n",
       "11 -0.002236  -0.000046  0.980715  \n",
       "12 -0.002236  -0.000046  0.980715  \n",
       "13 -0.002236  -0.000046  0.980715  \n",
       "14 -0.002236  -0.000046  0.980715  \n",
       "15 -0.002236  -0.000046  0.980715  \n",
       "16 -0.002236  -0.000046  0.980715  \n",
       "17 -0.002236  -0.000046  0.980715  \n",
       "18 -0.002236  -0.000046  0.980715  \n",
       "19 -0.002236  -0.000046  0.980715  \n",
       "20 -0.002236  -0.000046  0.980715  \n",
       "21 -0.002236  -0.000046  0.980715  \n",
       "22 -0.002236  -0.000046  0.980715  \n",
       "23 -0.002236  -0.000046  0.980715  \n",
       "24 -0.002236  -0.000046  0.980715  \n",
       "25 -0.002236  -0.000046  0.980715  \n",
       "26 -0.002236  -0.000046  0.980715  \n",
       "27 -0.002236  -0.000046  0.980715  \n",
       "28 -0.002236  -0.000046  0.980715  \n",
       "29 -0.002236  -0.000046  0.980715  \n",
       "..       ...        ...       ...  \n",
       "53 -0.002236  -0.000046  0.980715  \n",
       "54 -0.002236  -0.000046  0.980715  \n",
       "55 -0.002236  -0.000046  0.980715  \n",
       "56 -0.002236  -0.000046  0.980715  \n",
       "57 -0.002236  -0.000046  0.980715  \n",
       "58 -0.002236  -0.000046  0.980715  \n",
       "59 -0.002236  -0.000046  0.980715  \n",
       "60 -0.002236  -0.000046  0.980715  \n",
       "61 -0.002236  -0.000046  0.980715  \n",
       "62 -0.002236  -0.000046  0.980715  \n",
       "63 -0.002236  -0.000046  0.980715  \n",
       "64 -0.002236  -0.000046  0.980715  \n",
       "65 -0.002236  -0.000046  0.980715  \n",
       "66 -0.002236  -0.000046  0.980715  \n",
       "67 -0.002236  -0.000046  0.980715  \n",
       "68 -0.002236  -0.000046  0.980715  \n",
       "69 -0.002236  -0.000046  0.980715  \n",
       "70 -0.002236  -0.000046  0.980715  \n",
       "71 -0.002236  -0.000046  0.980715  \n",
       "72 -0.002236  -0.000046  0.980715  \n",
       "73 -0.002236  -0.000046  0.980715  \n",
       "74 -0.002236  -0.000046  0.980715  \n",
       "75 -0.002236  -0.000046  0.980715  \n",
       "76 -0.002236  -0.000046  0.980715  \n",
       "77 -0.002236  -0.000046  0.980715  \n",
       "78 -0.002236  -0.000046  0.980715  \n",
       "79 -0.002236  -0.000046  0.980715  \n",
       "80 -0.002236  -0.000046  0.980715  \n",
       "81 -0.002236  -0.000046  0.980715  \n",
       "82 -0.002236  -0.000046  0.980715  \n",
       "\n",
       "[83 rows x 9 columns]"
      ]
     },
     "execution_count": 34,
     "metadata": {},
     "output_type": "execute_result"
    }
   ],
   "source": [
    "pd.DataFrame(validate_ds_array)"
   ]
  },
  {
   "cell_type": "code",
   "execution_count": null,
   "metadata": {},
   "outputs": [],
   "source": []
  },
  {
   "cell_type": "code",
   "execution_count": null,
   "metadata": {
    "scrolled": true
   },
   "outputs": [],
   "source": [
    "createPyPlot(validate, resized = True)"
   ]
  },
  {
   "cell_type": "code",
   "execution_count": null,
   "metadata": {},
   "outputs": [],
   "source": [
    "createPyPlot(validate, resized = False)"
   ]
  }
 ],
 "metadata": {
  "kernelspec": {
   "display_name": "Python 3",
   "language": "python",
   "name": "python3"
  },
  "language_info": {
   "codemirror_mode": {
    "name": "ipython",
    "version": 3
   },
   "file_extension": ".py",
   "mimetype": "text/x-python",
   "name": "python",
   "nbconvert_exporter": "python",
   "pygments_lexer": "ipython3",
   "version": "3.6.8"
  }
 },
 "nbformat": 4,
 "nbformat_minor": 2
}
